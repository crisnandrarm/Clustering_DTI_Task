{
  "nbformat": 4,
  "nbformat_minor": 0,
  "metadata": {
    "colab": {
      "name": "Cluster Analysis_Task",
      "provenance": [],
      "collapsed_sections": [
        "6sPVYT0Q2Rds",
        "26zZJQcN2eBl",
        "FO2B5h0l2uxY",
        "JIiP2-ONAq2k",
        "tdAu3XzM_LTa",
        "MTuHScq7FOfx",
        "EAk7-o0YXf4x",
        "aFfbMv0aNdiP",
        "wE6rwqPfCqqP",
        "91Ff30XSNNR7",
        "P6mM7ZnSRzl-",
        "yKwkLrtIR-CZ",
        "zXMN_8rDAbWU",
        "KHqs1FUOAbWq",
        "1H2lV3AWAbXK",
        "q-h0dSiAWUpO",
        "-w3_TAqZWUpX",
        "vM-s9WrcWUp9",
        "oSPUP2YtWmxX",
        "0sr1YnzaXCQ5",
        "B-ywQ61xXCRY",
        "aMiSzoHnXPvH",
        "MrwmO0PpXPvL",
        "uAvdOL7NXPvj",
        "FBh7lEn3hdBL",
        "qbm-PImVfTMH"
      ],
      "authorship_tag": "ABX9TyPal7ATLB2vAJymtXc51bKr",
      "include_colab_link": true
    },
    "kernelspec": {
      "name": "python3",
      "display_name": "Python 3"
    }
  },
  "cells": [
    {
      "cell_type": "markdown",
      "metadata": {
        "id": "view-in-github",
        "colab_type": "text"
      },
      "source": [
        "<a href=\"https://colab.research.google.com/github/crisnandrarm/Clustering_DTI_Task/blob/main/Cluster_Analysis_Task.ipynb\" target=\"_parent\"><img src=\"https://colab.research.google.com/assets/colab-badge.svg\" alt=\"Open In Colab\"/></a>"
      ]
    },
    {
      "cell_type": "markdown",
      "metadata": {
        "id": "5euXBeWt1-sk"
      },
      "source": [
        "# **Customer Segmentation (Case Study: Mall Customer Dataset)**"
      ]
    },
    {
      "cell_type": "markdown",
      "metadata": {
        "id": "6sPVYT0Q2Rds"
      },
      "source": [
        "## **Dataset Description**"
      ]
    },
    {
      "cell_type": "markdown",
      "metadata": {
        "id": "Kx6kOUpS5rlB"
      },
      "source": [
        "\n",
        "Dataset ini merupakan data pelanggan mall diperoleh dari *Mall Customer Segmentation Data*. Data set cust Mall yang digunakan memiliki 5 atribut dan 200 objek data. Berikut adalah penjelasan informasi atribut:"
      ]
    },
    {
      "cell_type": "markdown",
      "metadata": {
        "id": "SgKZpij854CQ"
      },
      "source": [
        "1. **CustomerID** merupakan nomor ID yang dimiliki pelanggan\n",
        "2. **Gender** merupakan jenis kelamin pelanggan\n",
        "3. **Age** merupakan usia pelanggan\n",
        "4. **Anual Income (k$)** merupakan pendapatan pelanggan pertahun (dalam dollar)\n",
        "5. **Spending Score (1-100)** merupakan skor yang diberikan kepada pelanggan oleh otoritas mall berdasarkan pengeluaran pelanggan saat berbelanja dan perilaku pelanggan"
      ]
    },
    {
      "cell_type": "markdown",
      "metadata": {
        "id": "nUKf4PhP6LiZ"
      },
      "source": [
        "##### **Data Source:**"
      ]
    },
    {
      "cell_type": "markdown",
      "metadata": {
        "id": "fleQomqD6Pju"
      },
      "source": [
        "https://www.kaggle.com/vjchoudhary7/customer-segmentation-tutorial-in-**python**"
      ]
    },
    {
      "cell_type": "markdown",
      "metadata": {
        "id": "tSr3MX-16Z73"
      },
      "source": [
        "## **Analysis with Python Code**"
      ]
    },
    {
      "cell_type": "markdown",
      "metadata": {
        "id": "26zZJQcN2eBl"
      },
      "source": [
        "### **Import Library**\n"
      ]
    },
    {
      "cell_type": "code",
      "metadata": {
        "id": "bLe9FGOGz7lR"
      },
      "source": [
        "# Library for dataset\n",
        "import pandas as pd\n",
        "import os\n",
        "import shutil\n",
        "\n",
        "# Library for data visualization\n",
        "from matplotlib import pyplot as plt\n",
        "from matplotlib.pyplot import figure\n",
        "from scipy.cluster.hierarchy import dendrogram\n",
        "import plotly.express as px\n",
        "import seaborn as sns\n",
        "\n",
        "#Library for preprocessing data\n",
        "from sklearn import preprocessing\n",
        "from sklearn.preprocessing import LabelEncoder\n",
        "from sklearn.preprocessing import StandardScaler\n",
        "\n",
        "#Library for clusterization\n",
        "from sklearn.cluster import KMeans\n",
        "from scipy.cluster.hierarchy import fcluster\n",
        "from scipy.cluster import hierarchy \n",
        "\n",
        "#Library for Evaluation\n",
        "from sklearn import metrics\n"
      ],
      "execution_count": 1,
      "outputs": []
    },
    {
      "cell_type": "markdown",
      "metadata": {
        "id": "NOIs6NhL2gC8"
      },
      "source": [
        "### **Exploratory Data Analysis**"
      ]
    },
    {
      "cell_type": "markdown",
      "metadata": {
        "id": "FO2B5h0l2uxY"
      },
      "source": [
        "#### **Import data**"
      ]
    },
    {
      "cell_type": "code",
      "metadata": {
        "id": "b5_6p8AsosrQ"
      },
      "source": [
        "# # upload kaggle.json from your kaggle account\n",
        "# from google.colab import files\n",
        "# kaggle_json_upload = files.upload()\n",
        "\n",
        "# !mkdir /root/.kaggle/\n",
        "# shutil.copy('kaggle.json', '/root/.kaggle/kaggle.json')\n",
        "# os.chmod('/root/.kaggle/kaggle.json', 600)\n",
        "# import kaggle"
      ],
      "execution_count": 2,
      "outputs": []
    },
    {
      "cell_type": "code",
      "metadata": {
        "id": "kr8d4b2GpAEm"
      },
      "source": [
        "# !kaggle datasets download -d vjchoudhary7/customer-segmentation-tutorial-in-python"
      ],
      "execution_count": 3,
      "outputs": []
    },
    {
      "cell_type": "code",
      "metadata": {
        "id": "VH3RI0gNo4rb",
        "outputId": "ff676806-b4a6-499a-c492-f6ccb737a5c4",
        "colab": {
          "base_uri": "https://localhost:8080/"
        }
      },
      "source": [
        "!ls"
      ],
      "execution_count": 4,
      "outputs": [
        {
          "output_type": "stream",
          "text": [
            "customer-segmentation-tutorial-in-python.zip  kaggle.json  sample_data\n"
          ],
          "name": "stdout"
        }
      ]
    },
    {
      "cell_type": "code",
      "metadata": {
        "id": "vn3kOQQB2tX4",
        "outputId": "7cce1b22-984d-4846-e8ff-bc21b2eaef1e",
        "colab": {
          "base_uri": "https://localhost:8080/",
          "height": 0
        }
      },
      "source": [
        "cust_data = pd.read_csv('customer-segmentation-tutorial-in-python.zip',index_col='CustomerID')\n",
        "cust_data.head()"
      ],
      "execution_count": 5,
      "outputs": [
        {
          "output_type": "execute_result",
          "data": {
            "text/html": [
              "<div>\n",
              "<style scoped>\n",
              "    .dataframe tbody tr th:only-of-type {\n",
              "        vertical-align: middle;\n",
              "    }\n",
              "\n",
              "    .dataframe tbody tr th {\n",
              "        vertical-align: top;\n",
              "    }\n",
              "\n",
              "    .dataframe thead th {\n",
              "        text-align: right;\n",
              "    }\n",
              "</style>\n",
              "<table border=\"1\" class=\"dataframe\">\n",
              "  <thead>\n",
              "    <tr style=\"text-align: right;\">\n",
              "      <th></th>\n",
              "      <th>Gender</th>\n",
              "      <th>Age</th>\n",
              "      <th>Annual Income (k$)</th>\n",
              "      <th>Spending Score (1-100)</th>\n",
              "    </tr>\n",
              "    <tr>\n",
              "      <th>CustomerID</th>\n",
              "      <th></th>\n",
              "      <th></th>\n",
              "      <th></th>\n",
              "      <th></th>\n",
              "    </tr>\n",
              "  </thead>\n",
              "  <tbody>\n",
              "    <tr>\n",
              "      <th>1</th>\n",
              "      <td>Male</td>\n",
              "      <td>19</td>\n",
              "      <td>15</td>\n",
              "      <td>39</td>\n",
              "    </tr>\n",
              "    <tr>\n",
              "      <th>2</th>\n",
              "      <td>Male</td>\n",
              "      <td>21</td>\n",
              "      <td>15</td>\n",
              "      <td>81</td>\n",
              "    </tr>\n",
              "    <tr>\n",
              "      <th>3</th>\n",
              "      <td>Female</td>\n",
              "      <td>20</td>\n",
              "      <td>16</td>\n",
              "      <td>6</td>\n",
              "    </tr>\n",
              "    <tr>\n",
              "      <th>4</th>\n",
              "      <td>Female</td>\n",
              "      <td>23</td>\n",
              "      <td>16</td>\n",
              "      <td>77</td>\n",
              "    </tr>\n",
              "    <tr>\n",
              "      <th>5</th>\n",
              "      <td>Female</td>\n",
              "      <td>31</td>\n",
              "      <td>17</td>\n",
              "      <td>40</td>\n",
              "    </tr>\n",
              "  </tbody>\n",
              "</table>\n",
              "</div>"
            ],
            "text/plain": [
              "            Gender  Age  Annual Income (k$)  Spending Score (1-100)\n",
              "CustomerID                                                         \n",
              "1             Male   19                  15                      39\n",
              "2             Male   21                  15                      81\n",
              "3           Female   20                  16                       6\n",
              "4           Female   23                  16                      77\n",
              "5           Female   31                  17                      40"
            ]
          },
          "metadata": {
            "tags": []
          },
          "execution_count": 5
        }
      ]
    },
    {
      "cell_type": "code",
      "metadata": {
        "id": "vHP62BkiCa87"
      },
      "source": [
        "cust_data.rename(columns = {'Annual Income (k$)': 'Annual Income','Spending Score (1-100)': 'Spending Score'}, inplace = True)"
      ],
      "execution_count": 6,
      "outputs": []
    },
    {
      "cell_type": "markdown",
      "metadata": {
        "id": "JIiP2-ONAq2k"
      },
      "source": [
        "#### **Data Information**"
      ]
    },
    {
      "cell_type": "code",
      "metadata": {
        "id": "Fhs7j1IlAxRZ",
        "outputId": "32c5f322-7cd1-4816-8281-33038daaf200",
        "colab": {
          "base_uri": "https://localhost:8080/"
        }
      },
      "source": [
        "cust_data.info()"
      ],
      "execution_count": 7,
      "outputs": [
        {
          "output_type": "stream",
          "text": [
            "<class 'pandas.core.frame.DataFrame'>\n",
            "Int64Index: 200 entries, 1 to 200\n",
            "Data columns (total 4 columns):\n",
            " #   Column          Non-Null Count  Dtype \n",
            "---  ------          --------------  ----- \n",
            " 0   Gender          200 non-null    object\n",
            " 1   Age             200 non-null    int64 \n",
            " 2   Annual Income   200 non-null    int64 \n",
            " 3   Spending Score  200 non-null    int64 \n",
            "dtypes: int64(3), object(1)\n",
            "memory usage: 7.8+ KB\n"
          ],
          "name": "stdout"
        }
      ]
    },
    {
      "cell_type": "markdown",
      "metadata": {
        "id": "eEtKUZBiBSmC"
      },
      "source": [
        "Dari informasi diatas kita dapat mengetahui bahwa seluruh atribut dalam yang digunakan tidak memiliki missing value sehingga tidak perlu dilakukan penanganan terhadap missing value saat tahap preprocessing"
      ]
    },
    {
      "cell_type": "code",
      "metadata": {
        "id": "Pumer-1OA10k",
        "outputId": "9cca89cc-1328-40b5-afc5-af81a17cc324",
        "colab": {
          "base_uri": "https://localhost:8080/",
          "height": 0
        }
      },
      "source": [
        "cust_data.describe().transpose()"
      ],
      "execution_count": 8,
      "outputs": [
        {
          "output_type": "execute_result",
          "data": {
            "text/html": [
              "<div>\n",
              "<style scoped>\n",
              "    .dataframe tbody tr th:only-of-type {\n",
              "        vertical-align: middle;\n",
              "    }\n",
              "\n",
              "    .dataframe tbody tr th {\n",
              "        vertical-align: top;\n",
              "    }\n",
              "\n",
              "    .dataframe thead th {\n",
              "        text-align: right;\n",
              "    }\n",
              "</style>\n",
              "<table border=\"1\" class=\"dataframe\">\n",
              "  <thead>\n",
              "    <tr style=\"text-align: right;\">\n",
              "      <th></th>\n",
              "      <th>count</th>\n",
              "      <th>mean</th>\n",
              "      <th>std</th>\n",
              "      <th>min</th>\n",
              "      <th>25%</th>\n",
              "      <th>50%</th>\n",
              "      <th>75%</th>\n",
              "      <th>max</th>\n",
              "    </tr>\n",
              "  </thead>\n",
              "  <tbody>\n",
              "    <tr>\n",
              "      <th>Age</th>\n",
              "      <td>200.0</td>\n",
              "      <td>38.85</td>\n",
              "      <td>13.969007</td>\n",
              "      <td>18.0</td>\n",
              "      <td>28.75</td>\n",
              "      <td>36.0</td>\n",
              "      <td>49.0</td>\n",
              "      <td>70.0</td>\n",
              "    </tr>\n",
              "    <tr>\n",
              "      <th>Annual Income</th>\n",
              "      <td>200.0</td>\n",
              "      <td>60.56</td>\n",
              "      <td>26.264721</td>\n",
              "      <td>15.0</td>\n",
              "      <td>41.50</td>\n",
              "      <td>61.5</td>\n",
              "      <td>78.0</td>\n",
              "      <td>137.0</td>\n",
              "    </tr>\n",
              "    <tr>\n",
              "      <th>Spending Score</th>\n",
              "      <td>200.0</td>\n",
              "      <td>50.20</td>\n",
              "      <td>25.823522</td>\n",
              "      <td>1.0</td>\n",
              "      <td>34.75</td>\n",
              "      <td>50.0</td>\n",
              "      <td>73.0</td>\n",
              "      <td>99.0</td>\n",
              "    </tr>\n",
              "  </tbody>\n",
              "</table>\n",
              "</div>"
            ],
            "text/plain": [
              "                count   mean        std   min    25%   50%   75%    max\n",
              "Age             200.0  38.85  13.969007  18.0  28.75  36.0  49.0   70.0\n",
              "Annual Income   200.0  60.56  26.264721  15.0  41.50  61.5  78.0  137.0\n",
              "Spending Score  200.0  50.20  25.823522   1.0  34.75  50.0  73.0   99.0"
            ]
          },
          "metadata": {
            "tags": []
          },
          "execution_count": 8
        }
      ]
    },
    {
      "cell_type": "markdown",
      "metadata": {
        "id": "61Sn8-m-BgPB"
      },
      "source": [
        "Dari deskripsi tabel diatas kita dapat melihat bahwa setiap atribut numerik memiliki interval yang berbeda. Maka dari itu data harus dinormalisasi atau distandardisasi agar menghindari ketergantunagan pada satuan pengukuran dan proses pembelajaran tidak bias. Proses normalisasi akan dilakukan pada tahap preprocessing data"
      ]
    },
    {
      "cell_type": "code",
      "metadata": {
        "id": "UpDTJZwYEqxF",
        "outputId": "4a487160-2def-4ea6-9cda-a0860e1f5bf5",
        "colab": {
          "base_uri": "https://localhost:8080/",
          "height": 0
        }
      },
      "source": [
        "sns.pairplot(cust_data)"
      ],
      "execution_count": 9,
      "outputs": [
        {
          "output_type": "execute_result",
          "data": {
            "text/plain": [
              "<seaborn.axisgrid.PairGrid at 0x7f5626709588>"
            ]
          },
          "metadata": {
            "tags": []
          },
          "execution_count": 9
        },
        {
          "output_type": "display_data",
          "data": {
            "image/png": "[encoded data removed]",
            "text/plain": [
              "<Figure size 540x540 with 12 Axes>"
            ]
          },
          "metadata": {
            "tags": [],
            "needs_background": "light"
          }
        }
      ]
    },
    {
      "cell_type": "markdown",
      "metadata": {
        "id": "ukFDKxvyCn0X"
      },
      "source": [
        "Terdapat beberapa hal dapat kita perhatikan dari deskripsi tabel diatas antara lain:\n",
        "1. Usia minimum pelanggan adalah 18 tahun dan usia maksimal pelanggan 70. Dari histogram usia kita juga dapat mengetahui bahwa lebih banyak pelanggan dengan usia yang lebih muda\n",
        "\n",
        "2. Pendapatan tahunan (Annual Income) minimum dari pelanggan mall adalah 1500 dollar dan maksimumnya adalah 137000 dollar\n",
        "\n",
        "3. Minimum Spending Score adalah 1 dan maksimalnya adalah 99"
      ]
    },
    {
      "cell_type": "markdown",
      "metadata": {
        "id": "tdAu3XzM_LTa"
      },
      "source": [
        "#### **Data Visualization**\n"
      ]
    },
    {
      "cell_type": "code",
      "metadata": {
        "id": "ZhBqwD17qauI"
      },
      "source": [
        "# !pip install plotly"
      ],
      "execution_count": 10,
      "outputs": []
    },
    {
      "cell_type": "code",
      "metadata": {
        "id": "itgmBbRF1kUx",
        "outputId": "8abd8e58-83ca-4201-d326-c9c5583ee7a9",
        "colab": {
          "base_uri": "https://localhost:8080/",
          "height": 542
        }
      },
      "source": [
        "fig = px.scatter_3d(cust_data, x='Age', y='Annual Income', z='Spending Score',color='Gender', size_max=18, symbol='Gender', opacity=0.7)\n",
        "\n",
        "# tight layout\n",
        "fig.update_layout(margin=dict(l=0, r=0, b=0, t=0))"
      ],
      "execution_count": 11,
      "outputs": [
        {
          "output_type": "display_data",
          "data": {
            "text/html": [
              "<html>\n",
              "<head><meta charset=\"utf-8\" /></head>\n",
              "<body>\n",
              "    <div>\n",
              "            <script src=\"https://cdnjs.cloudflare.com/ajax/libs/mathjax/2.7.5/MathJax.js?config=TeX-AMS-MML_SVG\"></script><script type=\"text/javascript\">if (window.MathJax) {MathJax.Hub.Config({SVG: {font: \"STIX-Web\"}});}</script>\n",
              "                <script type=\"text/javascript\">window.PlotlyConfig = {MathJaxConfig: 'local'};</script>\n",
              "        <script src=\"https://cdn.plot.ly/plotly-latest.min.js\"></script>    \n",
              "            <div id=\"5401f8be-a9c8-4b4b-a35f-7a708d0055fb\" class=\"plotly-graph-div\" style=\"height:525px; width:100%;\"></div>\n",
              "            <script type=\"text/javascript\">\n",
              "                \n",
              "                    window.PLOTLYENV=window.PLOTLYENV || {};\n",
              "                    \n",
              "                if (document.getElementById(\"5401f8be-a9c8-4b4b-a35f-7a708d0055fb\")) {\n",
              "                    Plotly.newPlot(\n",
              "                        '5401f8be-a9c8-4b4b-a35f-7a708d0055fb',\n",
              "                        [{\"hoverlabel\": {\"namelength\": 0}, \"hovertemplate\": \"Gender=Male<br>Age=%{x}<br>Annual Income=%{y}<br>Spending Score=%{z}\", \"legendgroup\": \"Gender=Male\", \"marker\": {\"color\": \"#636efa\", \"opacity\": 0.7, \"symbol\": \"circle\"}, \"mode\": \"markers\", \"name\": \"Gender=Male\", \"scene\": \"scene\", \"showlegend\": true, \"type\": \"scatter3d\", \"x\": [19, 21, 64, 67, 37, 22, 20, 52, 35, 25, 31, 29, 35, 60, 53, 18, 24, 48, 33, 59, 47, 69, 53, 70, 19, 63, 18, 19, 70, 59, 26, 40, 57, 38, 67, 48, 18, 48, 24, 48, 20, 67, 26, 49, 54, 68, 66, 65, 19, 27, 39, 43, 40, 59, 38, 47, 39, 20, 32, 19, 32, 25, 28, 48, 34, 43, 39, 37, 34, 19, 50, 42, 32, 40, 28, 36, 36, 58, 27, 59, 35, 46, 30, 28, 33, 32, 32, 30], \"y\": [15, 15, 19, 19, 20, 20, 21, 23, 24, 24, 25, 28, 28, 30, 33, 33, 38, 39, 42, 43, 43, 44, 46, 46, 46, 48, 48, 48, 49, 54, 54, 54, 54, 54, 54, 54, 59, 60, 60, 61, 61, 62, 62, 62, 63, 63, 63, 63, 64, 67, 69, 71, 71, 71, 71, 71, 71, 73, 73, 74, 75, 77, 77, 77, 78, 78, 78, 78, 78, 81, 85, 86, 87, 87, 87, 87, 87, 88, 88, 93, 93, 98, 99, 101, 113, 126, 137, 137], \"z\": [39, 81, 3, 14, 13, 79, 66, 29, 35, 73, 73, 82, 61, 4, 4, 92, 92, 36, 60, 60, 41, 46, 46, 56, 55, 51, 59, 59, 55, 47, 54, 48, 51, 55, 41, 46, 41, 49, 52, 42, 49, 59, 55, 56, 46, 43, 48, 52, 46, 56, 91, 35, 95, 11, 75, 9, 75, 5, 73, 10, 93, 12, 97, 36, 90, 17, 88, 1, 1, 5, 26, 20, 63, 13, 75, 10, 92, 15, 69, 14, 90, 15, 97, 68, 8, 74, 18, 83]}, {\"hoverlabel\": {\"namelength\": 0}, \"hovertemplate\": \"Gender=Female<br>Age=%{x}<br>Annual Income=%{y}<br>Spending Score=%{z}\", \"legendgroup\": \"Gender=Female\", \"marker\": {\"color\": \"#EF553B\", \"opacity\": 0.7, \"symbol\": \"diamond\"}, \"mode\": \"markers\", \"name\": \"Gender=Female\", \"scene\": \"scene\", \"showlegend\": true, \"type\": \"scatter3d\", \"x\": [20, 23, 31, 22, 35, 23, 30, 35, 58, 24, 35, 35, 46, 54, 45, 40, 23, 21, 49, 21, 42, 30, 36, 20, 65, 31, 49, 24, 50, 27, 29, 31, 49, 31, 50, 51, 27, 67, 54, 43, 68, 32, 47, 60, 60, 45, 23, 49, 46, 21, 55, 22, 34, 50, 68, 40, 32, 47, 27, 23, 49, 21, 66, 19, 38, 18, 19, 63, 49, 51, 50, 38, 40, 23, 31, 25, 31, 29, 44, 35, 57, 28, 32, 32, 34, 44, 38, 47, 27, 30, 30, 56, 29, 31, 36, 33, 36, 52, 30, 37, 32, 29, 41, 54, 41, 36, 34, 32, 38, 47, 35, 45], \"y\": [16, 16, 17, 17, 18, 18, 19, 19, 20, 20, 21, 23, 25, 28, 28, 29, 29, 30, 33, 33, 34, 34, 37, 37, 38, 39, 39, 39, 40, 40, 40, 40, 42, 43, 43, 44, 46, 47, 47, 48, 48, 48, 49, 50, 50, 54, 54, 54, 54, 54, 57, 57, 58, 58, 59, 60, 60, 60, 60, 62, 62, 62, 63, 63, 64, 65, 65, 65, 65, 67, 67, 67, 69, 70, 70, 72, 72, 73, 73, 74, 75, 76, 76, 77, 78, 78, 78, 78, 78, 78, 78, 79, 79, 81, 85, 86, 87, 88, 88, 97, 97, 98, 99, 101, 103, 103, 103, 103, 113, 120, 120, 126], \"z\": [6, 77, 40, 76, 6, 94, 72, 99, 15, 77, 35, 98, 5, 14, 32, 31, 87, 73, 14, 81, 17, 73, 26, 75, 35, 61, 28, 65, 55, 47, 42, 42, 52, 54, 45, 50, 51, 52, 59, 50, 48, 47, 42, 49, 56, 53, 52, 42, 44, 57, 58, 55, 60, 46, 55, 40, 42, 47, 50, 41, 48, 42, 50, 54, 42, 48, 50, 43, 59, 43, 57, 40, 58, 29, 77, 34, 71, 88, 7, 72, 5, 40, 87, 74, 22, 20, 76, 16, 89, 78, 73, 35, 83, 93, 75, 95, 27, 13, 86, 32, 86, 88, 39, 24, 17, 85, 23, 69, 91, 16, 79, 28]}],\n",
              "                        {\"legend\": {\"tracegroupgap\": 0}, \"margin\": {\"b\": 0, \"l\": 0, \"r\": 0, \"t\": 0}, \"scene\": {\"domain\": {\"x\": [0.0, 1.0], \"y\": [0.0, 1.0]}, \"xaxis\": {\"title\": {\"text\": \"Age\"}}, \"yaxis\": {\"title\": {\"text\": \"Annual Income\"}}, \"zaxis\": {\"title\": {\"text\": \"Spending Score\"}}}, \"template\": {\"data\": {\"bar\": [{\"error_x\": {\"color\": \"#2a3f5f\"}, \"error_y\": {\"color\": \"#2a3f5f\"}, \"marker\": {\"line\": {\"color\": \"#E5ECF6\", \"width\": 0.5}}, \"type\": \"bar\"}], \"barpolar\": [{\"marker\": {\"line\": {\"color\": \"#E5ECF6\", \"width\": 0.5}}, \"type\": \"barpolar\"}], \"carpet\": [{\"aaxis\": {\"endlinecolor\": \"#2a3f5f\", \"gridcolor\": \"white\", \"linecolor\": \"white\", \"minorgridcolor\": \"white\", \"startlinecolor\": \"#2a3f5f\"}, \"baxis\": {\"endlinecolor\": \"#2a3f5f\", \"gridcolor\": \"white\", \"linecolor\": \"white\", \"minorgridcolor\": \"white\", \"startlinecolor\": \"#2a3f5f\"}, \"type\": \"carpet\"}], \"choropleth\": [{\"colorbar\": {\"outlinewidth\": 0, \"ticks\": \"\"}, \"type\": \"choropleth\"}], \"contour\": [{\"colorbar\": {\"outlinewidth\": 0, \"ticks\": \"\"}, \"colorscale\": [[0.0, \"#0d0887\"], [0.1111111111111111, \"#46039f\"], [0.2222222222222222, \"#7201a8\"], [0.3333333333333333, \"#9c179e\"], [0.4444444444444444, \"#bd3786\"], [0.5555555555555556, \"#d8576b\"], [0.6666666666666666, \"#ed7953\"], [0.7777777777777778, \"#fb9f3a\"], [0.8888888888888888, \"#fdca26\"], [1.0, \"#f0f921\"]], \"type\": \"contour\"}], \"contourcarpet\": [{\"colorbar\": {\"outlinewidth\": 0, \"ticks\": \"\"}, \"type\": \"contourcarpet\"}], \"heatmap\": [{\"colorbar\": {\"outlinewidth\": 0, \"ticks\": \"\"}, \"colorscale\": [[0.0, \"#0d0887\"], [0.1111111111111111, \"#46039f\"], [0.2222222222222222, \"#7201a8\"], [0.3333333333333333, \"#9c179e\"], [0.4444444444444444, \"#bd3786\"], [0.5555555555555556, \"#d8576b\"], [0.6666666666666666, \"#ed7953\"], [0.7777777777777778, \"#fb9f3a\"], [0.8888888888888888, \"#fdca26\"], [1.0, \"#f0f921\"]], \"type\": \"heatmap\"}], \"heatmapgl\": [{\"colorbar\": {\"outlinewidth\": 0, \"ticks\": \"\"}, \"colorscale\": [[0.0, \"#0d0887\"], [0.1111111111111111, \"#46039f\"], [0.2222222222222222, \"#7201a8\"], [0.3333333333333333, \"#9c179e\"], [0.4444444444444444, \"#bd3786\"], [0.5555555555555556, \"#d8576b\"], [0.6666666666666666, \"#ed7953\"], [0.7777777777777778, \"#fb9f3a\"], [0.8888888888888888, \"#fdca26\"], [1.0, \"#f0f921\"]], \"type\": \"heatmapgl\"}], \"histogram\": [{\"marker\": {\"colorbar\": {\"outlinewidth\": 0, \"ticks\": \"\"}}, \"type\": \"histogram\"}], \"histogram2d\": [{\"colorbar\": {\"outlinewidth\": 0, \"ticks\": \"\"}, \"colorscale\": [[0.0, \"#0d0887\"], [0.1111111111111111, \"#46039f\"], [0.2222222222222222, \"#7201a8\"], [0.3333333333333333, \"#9c179e\"], [0.4444444444444444, \"#bd3786\"], [0.5555555555555556, \"#d8576b\"], [0.6666666666666666, \"#ed7953\"], [0.7777777777777778, \"#fb9f3a\"], [0.8888888888888888, \"#fdca26\"], [1.0, \"#f0f921\"]], \"type\": \"histogram2d\"}], \"histogram2dcontour\": [{\"colorbar\": {\"outlinewidth\": 0, \"ticks\": \"\"}, \"colorscale\": [[0.0, \"#0d0887\"], [0.1111111111111111, \"#46039f\"], [0.2222222222222222, \"#7201a8\"], [0.3333333333333333, \"#9c179e\"], [0.4444444444444444, \"#bd3786\"], [0.5555555555555556, \"#d8576b\"], [0.6666666666666666, \"#ed7953\"], [0.7777777777777778, \"#fb9f3a\"], [0.8888888888888888, \"#fdca26\"], [1.0, \"#f0f921\"]], \"type\": \"histogram2dcontour\"}], \"mesh3d\": [{\"colorbar\": {\"outlinewidth\": 0, \"ticks\": \"\"}, \"type\": \"mesh3d\"}], \"parcoords\": [{\"line\": {\"colorbar\": {\"outlinewidth\": 0, \"ticks\": \"\"}}, \"type\": \"parcoords\"}], \"pie\": [{\"automargin\": true, \"type\": \"pie\"}], \"scatter\": [{\"marker\": {\"colorbar\": {\"outlinewidth\": 0, \"ticks\": \"\"}}, \"type\": \"scatter\"}], \"scatter3d\": [{\"line\": {\"colorbar\": {\"outlinewidth\": 0, \"ticks\": \"\"}}, \"marker\": {\"colorbar\": {\"outlinewidth\": 0, \"ticks\": \"\"}}, \"type\": \"scatter3d\"}], \"scattercarpet\": [{\"marker\": {\"colorbar\": {\"outlinewidth\": 0, \"ticks\": \"\"}}, \"type\": \"scattercarpet\"}], \"scattergeo\": [{\"marker\": {\"colorbar\": {\"outlinewidth\": 0, \"ticks\": \"\"}}, \"type\": \"scattergeo\"}], \"scattergl\": [{\"marker\": {\"colorbar\": {\"outlinewidth\": 0, \"ticks\": \"\"}}, \"type\": \"scattergl\"}], \"scattermapbox\": [{\"marker\": {\"colorbar\": {\"outlinewidth\": 0, \"ticks\": \"\"}}, \"type\": \"scattermapbox\"}], \"scatterpolar\": [{\"marker\": {\"colorbar\": {\"outlinewidth\": 0, \"ticks\": \"\"}}, \"type\": \"scatterpolar\"}], \"scatterpolargl\": [{\"marker\": {\"colorbar\": {\"outlinewidth\": 0, \"ticks\": \"\"}}, \"type\": \"scatterpolargl\"}], \"scatterternary\": [{\"marker\": {\"colorbar\": {\"outlinewidth\": 0, \"ticks\": \"\"}}, \"type\": \"scatterternary\"}], \"surface\": [{\"colorbar\": {\"outlinewidth\": 0, \"ticks\": \"\"}, \"colorscale\": [[0.0, \"#0d0887\"], [0.1111111111111111, \"#46039f\"], [0.2222222222222222, \"#7201a8\"], [0.3333333333333333, \"#9c179e\"], [0.4444444444444444, \"#bd3786\"], [0.5555555555555556, \"#d8576b\"], [0.6666666666666666, \"#ed7953\"], [0.7777777777777778, \"#fb9f3a\"], [0.8888888888888888, \"#fdca26\"], [1.0, \"#f0f921\"]], \"type\": \"surface\"}], \"table\": [{\"cells\": {\"fill\": {\"color\": \"#EBF0F8\"}, \"line\": {\"color\": \"white\"}}, \"header\": {\"fill\": {\"color\": \"#C8D4E3\"}, \"line\": {\"color\": \"white\"}}, \"type\": \"table\"}]}, \"layout\": {\"annotationdefaults\": {\"arrowcolor\": \"#2a3f5f\", \"arrowhead\": 0, \"arrowwidth\": 1}, \"coloraxis\": {\"colorbar\": {\"outlinewidth\": 0, \"ticks\": \"\"}}, \"colorscale\": {\"diverging\": [[0, \"#8e0152\"], [0.1, \"#c51b7d\"], [0.2, \"#de77ae\"], [0.3, \"#f1b6da\"], [0.4, \"#fde0ef\"], [0.5, \"#f7f7f7\"], [0.6, \"#e6f5d0\"], [0.7, \"#b8e186\"], [0.8, \"#7fbc41\"], [0.9, \"#4d9221\"], [1, \"#276419\"]], \"sequential\": [[0.0, \"#0d0887\"], [0.1111111111111111, \"#46039f\"], [0.2222222222222222, \"#7201a8\"], [0.3333333333333333, \"#9c179e\"], [0.4444444444444444, \"#bd3786\"], [0.5555555555555556, \"#d8576b\"], [0.6666666666666666, \"#ed7953\"], [0.7777777777777778, \"#fb9f3a\"], [0.8888888888888888, \"#fdca26\"], [1.0, \"#f0f921\"]], \"sequentialminus\": [[0.0, \"#0d0887\"], [0.1111111111111111, \"#46039f\"], [0.2222222222222222, \"#7201a8\"], [0.3333333333333333, \"#9c179e\"], [0.4444444444444444, \"#bd3786\"], [0.5555555555555556, \"#d8576b\"], [0.6666666666666666, \"#ed7953\"], [0.7777777777777778, \"#fb9f3a\"], [0.8888888888888888, \"#fdca26\"], [1.0, \"#f0f921\"]]}, \"colorway\": [\"#636efa\", \"#EF553B\", \"#00cc96\", \"#ab63fa\", \"#FFA15A\", \"#19d3f3\", \"#FF6692\", \"#B6E880\", \"#FF97FF\", \"#FECB52\"], \"font\": {\"color\": \"#2a3f5f\"}, \"geo\": {\"bgcolor\": \"white\", \"lakecolor\": \"white\", \"landcolor\": \"#E5ECF6\", \"showlakes\": true, \"showland\": true, \"subunitcolor\": \"white\"}, \"hoverlabel\": {\"align\": \"left\"}, \"hovermode\": \"closest\", \"mapbox\": {\"style\": \"light\"}, \"paper_bgcolor\": \"white\", \"plot_bgcolor\": \"#E5ECF6\", \"polar\": {\"angularaxis\": {\"gridcolor\": \"white\", \"linecolor\": \"white\", \"ticks\": \"\"}, \"bgcolor\": \"#E5ECF6\", \"radialaxis\": {\"gridcolor\": \"white\", \"linecolor\": \"white\", \"ticks\": \"\"}}, \"scene\": {\"xaxis\": {\"backgroundcolor\": \"#E5ECF6\", \"gridcolor\": \"white\", \"gridwidth\": 2, \"linecolor\": \"white\", \"showbackground\": true, \"ticks\": \"\", \"zerolinecolor\": \"white\"}, \"yaxis\": {\"backgroundcolor\": \"#E5ECF6\", \"gridcolor\": \"white\", \"gridwidth\": 2, \"linecolor\": \"white\", \"showbackground\": true, \"ticks\": \"\", \"zerolinecolor\": \"white\"}, \"zaxis\": {\"backgroundcolor\": \"#E5ECF6\", \"gridcolor\": \"white\", \"gridwidth\": 2, \"linecolor\": \"white\", \"showbackground\": true, \"ticks\": \"\", \"zerolinecolor\": \"white\"}}, \"shapedefaults\": {\"line\": {\"color\": \"#2a3f5f\"}}, \"ternary\": {\"aaxis\": {\"gridcolor\": \"white\", \"linecolor\": \"white\", \"ticks\": \"\"}, \"baxis\": {\"gridcolor\": \"white\", \"linecolor\": \"white\", \"ticks\": \"\"}, \"bgcolor\": \"#E5ECF6\", \"caxis\": {\"gridcolor\": \"white\", \"linecolor\": \"white\", \"ticks\": \"\"}}, \"title\": {\"x\": 0.05}, \"xaxis\": {\"automargin\": true, \"gridcolor\": \"white\", \"linecolor\": \"white\", \"ticks\": \"\", \"title\": {\"standoff\": 15}, \"zerolinecolor\": \"white\", \"zerolinewidth\": 2}, \"yaxis\": {\"automargin\": true, \"gridcolor\": \"white\", \"linecolor\": \"white\", \"ticks\": \"\", \"title\": {\"standoff\": 15}, \"zerolinecolor\": \"white\", \"zerolinewidth\": 2}}}},\n",
              "                        {\"responsive\": true}\n",
              "                    ).then(function(){\n",
              "                            \n",
              "var gd = document.getElementById('5401f8be-a9c8-4b4b-a35f-7a708d0055fb');\n",
              "var x = new MutationObserver(function (mutations, observer) {{\n",
              "        var display = window.getComputedStyle(gd).display;\n",
              "        if (!display || display === 'none') {{\n",
              "            console.log([gd, 'removed!']);\n",
              "            Plotly.purge(gd);\n",
              "            observer.disconnect();\n",
              "        }}\n",
              "}});\n",
              "\n",
              "// Listen for the removal of the full notebook cells\n",
              "var notebookContainer = gd.closest('#notebook-container');\n",
              "if (notebookContainer) {{\n",
              "    x.observe(notebookContainer, {childList: true});\n",
              "}}\n",
              "\n",
              "// Listen for the clearing of the current output cell\n",
              "var outputEl = gd.closest('.output');\n",
              "if (outputEl) {{\n",
              "    x.observe(outputEl, {childList: true});\n",
              "}}\n",
              "\n",
              "                        })\n",
              "                };\n",
              "                \n",
              "            </script>\n",
              "        </div>\n",
              "</body>\n",
              "</html>"
            ]
          },
          "metadata": {
            "tags": []
          }
        }
      ]
    },
    {
      "cell_type": "markdown",
      "metadata": {
        "id": "olvOrnDdJWRk"
      },
      "source": [
        "##### **Data Visualization for Gender Female**\n"
      ]
    },
    {
      "cell_type": "code",
      "metadata": {
        "id": "ahr32xSOJiTs",
        "outputId": "dd789719-0849-4f4c-df83-86df67d895da",
        "colab": {
          "base_uri": "https://localhost:8080/",
          "height": 542
        }
      },
      "source": [
        "fig = px.scatter_3d(cust_data.loc[cust_data['Gender'] == 'Female'], x='Age', y='Annual Income', z='Spending Score', size_max=18, opacity=0.7)\n",
        "\n",
        "# tight layout\n",
        "fig.update_layout(margin=dict(l=0, r=0, b=0, t=0))"
      ],
      "execution_count": 12,
      "outputs": [
        {
          "output_type": "display_data",
          "data": {
            "text/html": [
              "<html>\n",
              "<head><meta charset=\"utf-8\" /></head>\n",
              "<body>\n",
              "    <div>\n",
              "            <script src=\"https://cdnjs.cloudflare.com/ajax/libs/mathjax/2.7.5/MathJax.js?config=TeX-AMS-MML_SVG\"></script><script type=\"text/javascript\">if (window.MathJax) {MathJax.Hub.Config({SVG: {font: \"STIX-Web\"}});}</script>\n",
              "                <script type=\"text/javascript\">window.PlotlyConfig = {MathJaxConfig: 'local'};</script>\n",
              "        <script src=\"https://cdn.plot.ly/plotly-latest.min.js\"></script>    \n",
              "            <div id=\"68dfa4f8-362c-465d-b597-3e59aa0e0e9d\" class=\"plotly-graph-div\" style=\"height:525px; width:100%;\"></div>\n",
              "            <script type=\"text/javascript\">\n",
              "                \n",
              "                    window.PLOTLYENV=window.PLOTLYENV || {};\n",
              "                    \n",
              "                if (document.getElementById(\"68dfa4f8-362c-465d-b597-3e59aa0e0e9d\")) {\n",
              "                    Plotly.newPlot(\n",
              "                        '68dfa4f8-362c-465d-b597-3e59aa0e0e9d',\n",
              "                        [{\"hoverlabel\": {\"namelength\": 0}, \"hovertemplate\": \"Age=%{x}<br>Annual Income=%{y}<br>Spending Score=%{z}\", \"legendgroup\": \"\", \"marker\": {\"color\": \"#636efa\", \"opacity\": 0.7, \"symbol\": \"circle\"}, \"mode\": \"markers\", \"name\": \"\", \"scene\": \"scene\", \"showlegend\": false, \"type\": \"scatter3d\", \"x\": [20, 23, 31, 22, 35, 23, 30, 35, 58, 24, 35, 35, 46, 54, 45, 40, 23, 21, 49, 21, 42, 30, 36, 20, 65, 31, 49, 24, 50, 27, 29, 31, 49, 31, 50, 51, 27, 67, 54, 43, 68, 32, 47, 60, 60, 45, 23, 49, 46, 21, 55, 22, 34, 50, 68, 40, 32, 47, 27, 23, 49, 21, 66, 19, 38, 18, 19, 63, 49, 51, 50, 38, 40, 23, 31, 25, 31, 29, 44, 35, 57, 28, 32, 32, 34, 44, 38, 47, 27, 30, 30, 56, 29, 31, 36, 33, 36, 52, 30, 37, 32, 29, 41, 54, 41, 36, 34, 32, 38, 47, 35, 45], \"y\": [16, 16, 17, 17, 18, 18, 19, 19, 20, 20, 21, 23, 25, 28, 28, 29, 29, 30, 33, 33, 34, 34, 37, 37, 38, 39, 39, 39, 40, 40, 40, 40, 42, 43, 43, 44, 46, 47, 47, 48, 48, 48, 49, 50, 50, 54, 54, 54, 54, 54, 57, 57, 58, 58, 59, 60, 60, 60, 60, 62, 62, 62, 63, 63, 64, 65, 65, 65, 65, 67, 67, 67, 69, 70, 70, 72, 72, 73, 73, 74, 75, 76, 76, 77, 78, 78, 78, 78, 78, 78, 78, 79, 79, 81, 85, 86, 87, 88, 88, 97, 97, 98, 99, 101, 103, 103, 103, 103, 113, 120, 120, 126], \"z\": [6, 77, 40, 76, 6, 94, 72, 99, 15, 77, 35, 98, 5, 14, 32, 31, 87, 73, 14, 81, 17, 73, 26, 75, 35, 61, 28, 65, 55, 47, 42, 42, 52, 54, 45, 50, 51, 52, 59, 50, 48, 47, 42, 49, 56, 53, 52, 42, 44, 57, 58, 55, 60, 46, 55, 40, 42, 47, 50, 41, 48, 42, 50, 54, 42, 48, 50, 43, 59, 43, 57, 40, 58, 29, 77, 34, 71, 88, 7, 72, 5, 40, 87, 74, 22, 20, 76, 16, 89, 78, 73, 35, 83, 93, 75, 95, 27, 13, 86, 32, 86, 88, 39, 24, 17, 85, 23, 69, 91, 16, 79, 28]}],\n",
              "                        {\"legend\": {\"tracegroupgap\": 0}, \"margin\": {\"b\": 0, \"l\": 0, \"r\": 0, \"t\": 0}, \"scene\": {\"domain\": {\"x\": [0.0, 1.0], \"y\": [0.0, 1.0]}, \"xaxis\": {\"title\": {\"text\": \"Age\"}}, \"yaxis\": {\"title\": {\"text\": \"Annual Income\"}}, \"zaxis\": {\"title\": {\"text\": \"Spending Score\"}}}, \"template\": {\"data\": {\"bar\": [{\"error_x\": {\"color\": \"#2a3f5f\"}, \"error_y\": {\"color\": \"#2a3f5f\"}, \"marker\": {\"line\": {\"color\": \"#E5ECF6\", \"width\": 0.5}}, \"type\": \"bar\"}], \"barpolar\": [{\"marker\": {\"line\": {\"color\": \"#E5ECF6\", \"width\": 0.5}}, \"type\": \"barpolar\"}], \"carpet\": [{\"aaxis\": {\"endlinecolor\": \"#2a3f5f\", \"gridcolor\": \"white\", \"linecolor\": \"white\", \"minorgridcolor\": \"white\", \"startlinecolor\": \"#2a3f5f\"}, \"baxis\": {\"endlinecolor\": \"#2a3f5f\", \"gridcolor\": \"white\", \"linecolor\": \"white\", \"minorgridcolor\": \"white\", \"startlinecolor\": \"#2a3f5f\"}, \"type\": \"carpet\"}], \"choropleth\": [{\"colorbar\": {\"outlinewidth\": 0, \"ticks\": \"\"}, \"type\": \"choropleth\"}], \"contour\": [{\"colorbar\": {\"outlinewidth\": 0, \"ticks\": \"\"}, \"colorscale\": [[0.0, \"#0d0887\"], [0.1111111111111111, \"#46039f\"], [0.2222222222222222, \"#7201a8\"], [0.3333333333333333, \"#9c179e\"], [0.4444444444444444, \"#bd3786\"], [0.5555555555555556, \"#d8576b\"], [0.6666666666666666, \"#ed7953\"], [0.7777777777777778, \"#fb9f3a\"], [0.8888888888888888, \"#fdca26\"], [1.0, \"#f0f921\"]], \"type\": \"contour\"}], \"contourcarpet\": [{\"colorbar\": {\"outlinewidth\": 0, \"ticks\": \"\"}, \"type\": \"contourcarpet\"}], \"heatmap\": [{\"colorbar\": {\"outlinewidth\": 0, \"ticks\": \"\"}, \"colorscale\": [[0.0, \"#0d0887\"], [0.1111111111111111, \"#46039f\"], [0.2222222222222222, \"#7201a8\"], [0.3333333333333333, \"#9c179e\"], [0.4444444444444444, \"#bd3786\"], [0.5555555555555556, \"#d8576b\"], [0.6666666666666666, \"#ed7953\"], [0.7777777777777778, \"#fb9f3a\"], [0.8888888888888888, \"#fdca26\"], [1.0, \"#f0f921\"]], \"type\": \"heatmap\"}], \"heatmapgl\": [{\"colorbar\": {\"outlinewidth\": 0, \"ticks\": \"\"}, \"colorscale\": [[0.0, \"#0d0887\"], [0.1111111111111111, \"#46039f\"], [0.2222222222222222, \"#7201a8\"], [0.3333333333333333, \"#9c179e\"], [0.4444444444444444, \"#bd3786\"], [0.5555555555555556, \"#d8576b\"], [0.6666666666666666, \"#ed7953\"], [0.7777777777777778, \"#fb9f3a\"], [0.8888888888888888, \"#fdca26\"], [1.0, \"#f0f921\"]], \"type\": \"heatmapgl\"}], \"histogram\": [{\"marker\": {\"colorbar\": {\"outlinewidth\": 0, \"ticks\": \"\"}}, \"type\": \"histogram\"}], \"histogram2d\": [{\"colorbar\": {\"outlinewidth\": 0, \"ticks\": \"\"}, \"colorscale\": [[0.0, \"#0d0887\"], [0.1111111111111111, \"#46039f\"], [0.2222222222222222, \"#7201a8\"], [0.3333333333333333, \"#9c179e\"], [0.4444444444444444, \"#bd3786\"], [0.5555555555555556, \"#d8576b\"], [0.6666666666666666, \"#ed7953\"], [0.7777777777777778, \"#fb9f3a\"], [0.8888888888888888, \"#fdca26\"], [1.0, \"#f0f921\"]], \"type\": \"histogram2d\"}], \"histogram2dcontour\": [{\"colorbar\": {\"outlinewidth\": 0, \"ticks\": \"\"}, \"colorscale\": [[0.0, \"#0d0887\"], [0.1111111111111111, \"#46039f\"], [0.2222222222222222, \"#7201a8\"], [0.3333333333333333, \"#9c179e\"], [0.4444444444444444, \"#bd3786\"], [0.5555555555555556, \"#d8576b\"], [0.6666666666666666, \"#ed7953\"], [0.7777777777777778, \"#fb9f3a\"], [0.8888888888888888, \"#fdca26\"], [1.0, \"#f0f921\"]], \"type\": \"histogram2dcontour\"}], \"mesh3d\": [{\"colorbar\": {\"outlinewidth\": 0, \"ticks\": \"\"}, \"type\": \"mesh3d\"}], \"parcoords\": [{\"line\": {\"colorbar\": {\"outlinewidth\": 0, \"ticks\": \"\"}}, \"type\": \"parcoords\"}], \"pie\": [{\"automargin\": true, \"type\": \"pie\"}], \"scatter\": [{\"marker\": {\"colorbar\": {\"outlinewidth\": 0, \"ticks\": \"\"}}, \"type\": \"scatter\"}], \"scatter3d\": [{\"line\": {\"colorbar\": {\"outlinewidth\": 0, \"ticks\": \"\"}}, \"marker\": {\"colorbar\": {\"outlinewidth\": 0, \"ticks\": \"\"}}, \"type\": \"scatter3d\"}], \"scattercarpet\": [{\"marker\": {\"colorbar\": {\"outlinewidth\": 0, \"ticks\": \"\"}}, \"type\": \"scattercarpet\"}], \"scattergeo\": [{\"marker\": {\"colorbar\": {\"outlinewidth\": 0, \"ticks\": \"\"}}, \"type\": \"scattergeo\"}], \"scattergl\": [{\"marker\": {\"colorbar\": {\"outlinewidth\": 0, \"ticks\": \"\"}}, \"type\": \"scattergl\"}], \"scattermapbox\": [{\"marker\": {\"colorbar\": {\"outlinewidth\": 0, \"ticks\": \"\"}}, \"type\": \"scattermapbox\"}], \"scatterpolar\": [{\"marker\": {\"colorbar\": {\"outlinewidth\": 0, \"ticks\": \"\"}}, \"type\": \"scatterpolar\"}], \"scatterpolargl\": [{\"marker\": {\"colorbar\": {\"outlinewidth\": 0, \"ticks\": \"\"}}, \"type\": \"scatterpolargl\"}], \"scatterternary\": [{\"marker\": {\"colorbar\": {\"outlinewidth\": 0, \"ticks\": \"\"}}, \"type\": \"scatterternary\"}], \"surface\": [{\"colorbar\": {\"outlinewidth\": 0, \"ticks\": \"\"}, \"colorscale\": [[0.0, \"#0d0887\"], [0.1111111111111111, \"#46039f\"], [0.2222222222222222, \"#7201a8\"], [0.3333333333333333, \"#9c179e\"], [0.4444444444444444, \"#bd3786\"], [0.5555555555555556, \"#d8576b\"], [0.6666666666666666, \"#ed7953\"], [0.7777777777777778, \"#fb9f3a\"], [0.8888888888888888, \"#fdca26\"], [1.0, \"#f0f921\"]], \"type\": \"surface\"}], \"table\": [{\"cells\": {\"fill\": {\"color\": \"#EBF0F8\"}, \"line\": {\"color\": \"white\"}}, \"header\": {\"fill\": {\"color\": \"#C8D4E3\"}, \"line\": {\"color\": \"white\"}}, \"type\": \"table\"}]}, \"layout\": {\"annotationdefaults\": {\"arrowcolor\": \"#2a3f5f\", \"arrowhead\": 0, \"arrowwidth\": 1}, \"coloraxis\": {\"colorbar\": {\"outlinewidth\": 0, \"ticks\": \"\"}}, \"colorscale\": {\"diverging\": [[0, \"#8e0152\"], [0.1, \"#c51b7d\"], [0.2, \"#de77ae\"], [0.3, \"#f1b6da\"], [0.4, \"#fde0ef\"], [0.5, \"#f7f7f7\"], [0.6, \"#e6f5d0\"], [0.7, \"#b8e186\"], [0.8, \"#7fbc41\"], [0.9, \"#4d9221\"], [1, \"#276419\"]], \"sequential\": [[0.0, \"#0d0887\"], [0.1111111111111111, \"#46039f\"], [0.2222222222222222, \"#7201a8\"], [0.3333333333333333, \"#9c179e\"], [0.4444444444444444, \"#bd3786\"], [0.5555555555555556, \"#d8576b\"], [0.6666666666666666, \"#ed7953\"], [0.7777777777777778, \"#fb9f3a\"], [0.8888888888888888, \"#fdca26\"], [1.0, \"#f0f921\"]], \"sequentialminus\": [[0.0, \"#0d0887\"], [0.1111111111111111, \"#46039f\"], [0.2222222222222222, \"#7201a8\"], [0.3333333333333333, \"#9c179e\"], [0.4444444444444444, \"#bd3786\"], [0.5555555555555556, \"#d8576b\"], [0.6666666666666666, \"#ed7953\"], [0.7777777777777778, \"#fb9f3a\"], [0.8888888888888888, \"#fdca26\"], [1.0, \"#f0f921\"]]}, \"colorway\": [\"#636efa\", \"#EF553B\", \"#00cc96\", \"#ab63fa\", \"#FFA15A\", \"#19d3f3\", \"#FF6692\", \"#B6E880\", \"#FF97FF\", \"#FECB52\"], \"font\": {\"color\": \"#2a3f5f\"}, \"geo\": {\"bgcolor\": \"white\", \"lakecolor\": \"white\", \"landcolor\": \"#E5ECF6\", \"showlakes\": true, \"showland\": true, \"subunitcolor\": \"white\"}, \"hoverlabel\": {\"align\": \"left\"}, \"hovermode\": \"closest\", \"mapbox\": {\"style\": \"light\"}, \"paper_bgcolor\": \"white\", \"plot_bgcolor\": \"#E5ECF6\", \"polar\": {\"angularaxis\": {\"gridcolor\": \"white\", \"linecolor\": \"white\", \"ticks\": \"\"}, \"bgcolor\": \"#E5ECF6\", \"radialaxis\": {\"gridcolor\": \"white\", \"linecolor\": \"white\", \"ticks\": \"\"}}, \"scene\": {\"xaxis\": {\"backgroundcolor\": \"#E5ECF6\", \"gridcolor\": \"white\", \"gridwidth\": 2, \"linecolor\": \"white\", \"showbackground\": true, \"ticks\": \"\", \"zerolinecolor\": \"white\"}, \"yaxis\": {\"backgroundcolor\": \"#E5ECF6\", \"gridcolor\": \"white\", \"gridwidth\": 2, \"linecolor\": \"white\", \"showbackground\": true, \"ticks\": \"\", \"zerolinecolor\": \"white\"}, \"zaxis\": {\"backgroundcolor\": \"#E5ECF6\", \"gridcolor\": \"white\", \"gridwidth\": 2, \"linecolor\": \"white\", \"showbackground\": true, \"ticks\": \"\", \"zerolinecolor\": \"white\"}}, \"shapedefaults\": {\"line\": {\"color\": \"#2a3f5f\"}}, \"ternary\": {\"aaxis\": {\"gridcolor\": \"white\", \"linecolor\": \"white\", \"ticks\": \"\"}, \"baxis\": {\"gridcolor\": \"white\", \"linecolor\": \"white\", \"ticks\": \"\"}, \"bgcolor\": \"#E5ECF6\", \"caxis\": {\"gridcolor\": \"white\", \"linecolor\": \"white\", \"ticks\": \"\"}}, \"title\": {\"x\": 0.05}, \"xaxis\": {\"automargin\": true, \"gridcolor\": \"white\", \"linecolor\": \"white\", \"ticks\": \"\", \"title\": {\"standoff\": 15}, \"zerolinecolor\": \"white\", \"zerolinewidth\": 2}, \"yaxis\": {\"automargin\": true, \"gridcolor\": \"white\", \"linecolor\": \"white\", \"ticks\": \"\", \"title\": {\"standoff\": 15}, \"zerolinecolor\": \"white\", \"zerolinewidth\": 2}}}},\n",
              "                        {\"responsive\": true}\n",
              "                    ).then(function(){\n",
              "                            \n",
              "var gd = document.getElementById('68dfa4f8-362c-465d-b597-3e59aa0e0e9d');\n",
              "var x = new MutationObserver(function (mutations, observer) {{\n",
              "        var display = window.getComputedStyle(gd).display;\n",
              "        if (!display || display === 'none') {{\n",
              "            console.log([gd, 'removed!']);\n",
              "            Plotly.purge(gd);\n",
              "            observer.disconnect();\n",
              "        }}\n",
              "}});\n",
              "\n",
              "// Listen for the removal of the full notebook cells\n",
              "var notebookContainer = gd.closest('#notebook-container');\n",
              "if (notebookContainer) {{\n",
              "    x.observe(notebookContainer, {childList: true});\n",
              "}}\n",
              "\n",
              "// Listen for the clearing of the current output cell\n",
              "var outputEl = gd.closest('.output');\n",
              "if (outputEl) {{\n",
              "    x.observe(outputEl, {childList: true});\n",
              "}}\n",
              "\n",
              "                        })\n",
              "                };\n",
              "                \n",
              "            </script>\n",
              "        </div>\n",
              "</body>\n",
              "</html>"
            ]
          },
          "metadata": {
            "tags": []
          }
        }
      ]
    },
    {
      "cell_type": "markdown",
      "metadata": {
        "id": "ciL3mxpjJb6G"
      },
      "source": [
        "##### **Data Visualization for Gender Male**\n"
      ]
    },
    {
      "cell_type": "code",
      "metadata": {
        "id": "YWLudOPbKzNZ",
        "outputId": "7d3c4ad2-441c-49a8-f2e5-e3bebd3b3da5",
        "colab": {
          "base_uri": "https://localhost:8080/",
          "height": 542
        }
      },
      "source": [
        "fig = px.scatter_3d(cust_data.loc[cust_data['Gender'] == 'Male'], x='Age', y='Annual Income', z='Spending Score', size_max=18, opacity=0.7)\n",
        "\n",
        "# tight layout\n",
        "fig.update_layout(margin=dict(l=0, r=0, b=0, t=0))"
      ],
      "execution_count": 13,
      "outputs": [
        {
          "output_type": "display_data",
          "data": {
            "text/html": [
              "<html>\n",
              "<head><meta charset=\"utf-8\" /></head>\n",
              "<body>\n",
              "    <div>\n",
              "            <script src=\"https://cdnjs.cloudflare.com/ajax/libs/mathjax/2.7.5/MathJax.js?config=TeX-AMS-MML_SVG\"></script><script type=\"text/javascript\">if (window.MathJax) {MathJax.Hub.Config({SVG: {font: \"STIX-Web\"}});}</script>\n",
              "                <script type=\"text/javascript\">window.PlotlyConfig = {MathJaxConfig: 'local'};</script>\n",
              "        <script src=\"https://cdn.plot.ly/plotly-latest.min.js\"></script>    \n",
              "            <div id=\"95336214-ea4c-43ab-bfe3-b38ec6a5bfb4\" class=\"plotly-graph-div\" style=\"height:525px; width:100%;\"></div>\n",
              "            <script type=\"text/javascript\">\n",
              "                \n",
              "                    window.PLOTLYENV=window.PLOTLYENV || {};\n",
              "                    \n",
              "                if (document.getElementById(\"95336214-ea4c-43ab-bfe3-b38ec6a5bfb4\")) {\n",
              "                    Plotly.newPlot(\n",
              "                        '95336214-ea4c-43ab-bfe3-b38ec6a5bfb4',\n",
              "                        [{\"hoverlabel\": {\"namelength\": 0}, \"hovertemplate\": \"Age=%{x}<br>Annual Income=%{y}<br>Spending Score=%{z}\", \"legendgroup\": \"\", \"marker\": {\"color\": \"#636efa\", \"opacity\": 0.7, \"symbol\": \"circle\"}, \"mode\": \"markers\", \"name\": \"\", \"scene\": \"scene\", \"showlegend\": false, \"type\": \"scatter3d\", \"x\": [19, 21, 64, 67, 37, 22, 20, 52, 35, 25, 31, 29, 35, 60, 53, 18, 24, 48, 33, 59, 47, 69, 53, 70, 19, 63, 18, 19, 70, 59, 26, 40, 57, 38, 67, 48, 18, 48, 24, 48, 20, 67, 26, 49, 54, 68, 66, 65, 19, 27, 39, 43, 40, 59, 38, 47, 39, 20, 32, 19, 32, 25, 28, 48, 34, 43, 39, 37, 34, 19, 50, 42, 32, 40, 28, 36, 36, 58, 27, 59, 35, 46, 30, 28, 33, 32, 32, 30], \"y\": [15, 15, 19, 19, 20, 20, 21, 23, 24, 24, 25, 28, 28, 30, 33, 33, 38, 39, 42, 43, 43, 44, 46, 46, 46, 48, 48, 48, 49, 54, 54, 54, 54, 54, 54, 54, 59, 60, 60, 61, 61, 62, 62, 62, 63, 63, 63, 63, 64, 67, 69, 71, 71, 71, 71, 71, 71, 73, 73, 74, 75, 77, 77, 77, 78, 78, 78, 78, 78, 81, 85, 86, 87, 87, 87, 87, 87, 88, 88, 93, 93, 98, 99, 101, 113, 126, 137, 137], \"z\": [39, 81, 3, 14, 13, 79, 66, 29, 35, 73, 73, 82, 61, 4, 4, 92, 92, 36, 60, 60, 41, 46, 46, 56, 55, 51, 59, 59, 55, 47, 54, 48, 51, 55, 41, 46, 41, 49, 52, 42, 49, 59, 55, 56, 46, 43, 48, 52, 46, 56, 91, 35, 95, 11, 75, 9, 75, 5, 73, 10, 93, 12, 97, 36, 90, 17, 88, 1, 1, 5, 26, 20, 63, 13, 75, 10, 92, 15, 69, 14, 90, 15, 97, 68, 8, 74, 18, 83]}],\n",
              "                        {\"legend\": {\"tracegroupgap\": 0}, \"margin\": {\"b\": 0, \"l\": 0, \"r\": 0, \"t\": 0}, \"scene\": {\"domain\": {\"x\": [0.0, 1.0], \"y\": [0.0, 1.0]}, \"xaxis\": {\"title\": {\"text\": \"Age\"}}, \"yaxis\": {\"title\": {\"text\": \"Annual Income\"}}, \"zaxis\": {\"title\": {\"text\": \"Spending Score\"}}}, \"template\": {\"data\": {\"bar\": [{\"error_x\": {\"color\": \"#2a3f5f\"}, \"error_y\": {\"color\": \"#2a3f5f\"}, \"marker\": {\"line\": {\"color\": \"#E5ECF6\", \"width\": 0.5}}, \"type\": \"bar\"}], \"barpolar\": [{\"marker\": {\"line\": {\"color\": \"#E5ECF6\", \"width\": 0.5}}, \"type\": \"barpolar\"}], \"carpet\": [{\"aaxis\": {\"endlinecolor\": \"#2a3f5f\", \"gridcolor\": \"white\", \"linecolor\": \"white\", \"minorgridcolor\": \"white\", \"startlinecolor\": \"#2a3f5f\"}, \"baxis\": {\"endlinecolor\": \"#2a3f5f\", \"gridcolor\": \"white\", \"linecolor\": \"white\", \"minorgridcolor\": \"white\", \"startlinecolor\": \"#2a3f5f\"}, \"type\": \"carpet\"}], \"choropleth\": [{\"colorbar\": {\"outlinewidth\": 0, \"ticks\": \"\"}, \"type\": \"choropleth\"}], \"contour\": [{\"colorbar\": {\"outlinewidth\": 0, \"ticks\": \"\"}, \"colorscale\": [[0.0, \"#0d0887\"], [0.1111111111111111, \"#46039f\"], [0.2222222222222222, \"#7201a8\"], [0.3333333333333333, \"#9c179e\"], [0.4444444444444444, \"#bd3786\"], [0.5555555555555556, \"#d8576b\"], [0.6666666666666666, \"#ed7953\"], [0.7777777777777778, \"#fb9f3a\"], [0.8888888888888888, \"#fdca26\"], [1.0, \"#f0f921\"]], \"type\": \"contour\"}], \"contourcarpet\": [{\"colorbar\": {\"outlinewidth\": 0, \"ticks\": \"\"}, \"type\": \"contourcarpet\"}], \"heatmap\": [{\"colorbar\": {\"outlinewidth\": 0, \"ticks\": \"\"}, \"colorscale\": [[0.0, \"#0d0887\"], [0.1111111111111111, \"#46039f\"], [0.2222222222222222, \"#7201a8\"], [0.3333333333333333, \"#9c179e\"], [0.4444444444444444, \"#bd3786\"], [0.5555555555555556, \"#d8576b\"], [0.6666666666666666, \"#ed7953\"], [0.7777777777777778, \"#fb9f3a\"], [0.8888888888888888, \"#fdca26\"], [1.0, \"#f0f921\"]], \"type\": \"heatmap\"}], \"heatmapgl\": [{\"colorbar\": {\"outlinewidth\": 0, \"ticks\": \"\"}, \"colorscale\": [[0.0, \"#0d0887\"], [0.1111111111111111, \"#46039f\"], [0.2222222222222222, \"#7201a8\"], [0.3333333333333333, \"#9c179e\"], [0.4444444444444444, \"#bd3786\"], [0.5555555555555556, \"#d8576b\"], [0.6666666666666666, \"#ed7953\"], [0.7777777777777778, \"#fb9f3a\"], [0.8888888888888888, \"#fdca26\"], [1.0, \"#f0f921\"]], \"type\": \"heatmapgl\"}], \"histogram\": [{\"marker\": {\"colorbar\": {\"outlinewidth\": 0, \"ticks\": \"\"}}, \"type\": \"histogram\"}], \"histogram2d\": [{\"colorbar\": {\"outlinewidth\": 0, \"ticks\": \"\"}, \"colorscale\": [[0.0, \"#0d0887\"], [0.1111111111111111, \"#46039f\"], [0.2222222222222222, \"#7201a8\"], [0.3333333333333333, \"#9c179e\"], [0.4444444444444444, \"#bd3786\"], [0.5555555555555556, \"#d8576b\"], [0.6666666666666666, \"#ed7953\"], [0.7777777777777778, \"#fb9f3a\"], [0.8888888888888888, \"#fdca26\"], [1.0, \"#f0f921\"]], \"type\": \"histogram2d\"}], \"histogram2dcontour\": [{\"colorbar\": {\"outlinewidth\": 0, \"ticks\": \"\"}, \"colorscale\": [[0.0, \"#0d0887\"], [0.1111111111111111, \"#46039f\"], [0.2222222222222222, \"#7201a8\"], [0.3333333333333333, \"#9c179e\"], [0.4444444444444444, \"#bd3786\"], [0.5555555555555556, \"#d8576b\"], [0.6666666666666666, \"#ed7953\"], [0.7777777777777778, \"#fb9f3a\"], [0.8888888888888888, \"#fdca26\"], [1.0, \"#f0f921\"]], \"type\": \"histogram2dcontour\"}], \"mesh3d\": [{\"colorbar\": {\"outlinewidth\": 0, \"ticks\": \"\"}, \"type\": \"mesh3d\"}], \"parcoords\": [{\"line\": {\"colorbar\": {\"outlinewidth\": 0, \"ticks\": \"\"}}, \"type\": \"parcoords\"}], \"pie\": [{\"automargin\": true, \"type\": \"pie\"}], \"scatter\": [{\"marker\": {\"colorbar\": {\"outlinewidth\": 0, \"ticks\": \"\"}}, \"type\": \"scatter\"}], \"scatter3d\": [{\"line\": {\"colorbar\": {\"outlinewidth\": 0, \"ticks\": \"\"}}, \"marker\": {\"colorbar\": {\"outlinewidth\": 0, \"ticks\": \"\"}}, \"type\": \"scatter3d\"}], \"scattercarpet\": [{\"marker\": {\"colorbar\": {\"outlinewidth\": 0, \"ticks\": \"\"}}, \"type\": \"scattercarpet\"}], \"scattergeo\": [{\"marker\": {\"colorbar\": {\"outlinewidth\": 0, \"ticks\": \"\"}}, \"type\": \"scattergeo\"}], \"scattergl\": [{\"marker\": {\"colorbar\": {\"outlinewidth\": 0, \"ticks\": \"\"}}, \"type\": \"scattergl\"}], \"scattermapbox\": [{\"marker\": {\"colorbar\": {\"outlinewidth\": 0, \"ticks\": \"\"}}, \"type\": \"scattermapbox\"}], \"scatterpolar\": [{\"marker\": {\"colorbar\": {\"outlinewidth\": 0, \"ticks\": \"\"}}, \"type\": \"scatterpolar\"}], \"scatterpolargl\": [{\"marker\": {\"colorbar\": {\"outlinewidth\": 0, \"ticks\": \"\"}}, \"type\": \"scatterpolargl\"}], \"scatterternary\": [{\"marker\": {\"colorbar\": {\"outlinewidth\": 0, \"ticks\": \"\"}}, \"type\": \"scatterternary\"}], \"surface\": [{\"colorbar\": {\"outlinewidth\": 0, \"ticks\": \"\"}, \"colorscale\": [[0.0, \"#0d0887\"], [0.1111111111111111, \"#46039f\"], [0.2222222222222222, \"#7201a8\"], [0.3333333333333333, \"#9c179e\"], [0.4444444444444444, \"#bd3786\"], [0.5555555555555556, \"#d8576b\"], [0.6666666666666666, \"#ed7953\"], [0.7777777777777778, \"#fb9f3a\"], [0.8888888888888888, \"#fdca26\"], [1.0, \"#f0f921\"]], \"type\": \"surface\"}], \"table\": [{\"cells\": {\"fill\": {\"color\": \"#EBF0F8\"}, \"line\": {\"color\": \"white\"}}, \"header\": {\"fill\": {\"color\": \"#C8D4E3\"}, \"line\": {\"color\": \"white\"}}, \"type\": \"table\"}]}, \"layout\": {\"annotationdefaults\": {\"arrowcolor\": \"#2a3f5f\", \"arrowhead\": 0, \"arrowwidth\": 1}, \"coloraxis\": {\"colorbar\": {\"outlinewidth\": 0, \"ticks\": \"\"}}, \"colorscale\": {\"diverging\": [[0, \"#8e0152\"], [0.1, \"#c51b7d\"], [0.2, \"#de77ae\"], [0.3, \"#f1b6da\"], [0.4, \"#fde0ef\"], [0.5, \"#f7f7f7\"], [0.6, \"#e6f5d0\"], [0.7, \"#b8e186\"], [0.8, \"#7fbc41\"], [0.9, \"#4d9221\"], [1, \"#276419\"]], \"sequential\": [[0.0, \"#0d0887\"], [0.1111111111111111, \"#46039f\"], [0.2222222222222222, \"#7201a8\"], [0.3333333333333333, \"#9c179e\"], [0.4444444444444444, \"#bd3786\"], [0.5555555555555556, \"#d8576b\"], [0.6666666666666666, \"#ed7953\"], [0.7777777777777778, \"#fb9f3a\"], [0.8888888888888888, \"#fdca26\"], [1.0, \"#f0f921\"]], \"sequentialminus\": [[0.0, \"#0d0887\"], [0.1111111111111111, \"#46039f\"], [0.2222222222222222, \"#7201a8\"], [0.3333333333333333, \"#9c179e\"], [0.4444444444444444, \"#bd3786\"], [0.5555555555555556, \"#d8576b\"], [0.6666666666666666, \"#ed7953\"], [0.7777777777777778, \"#fb9f3a\"], [0.8888888888888888, \"#fdca26\"], [1.0, \"#f0f921\"]]}, \"colorway\": [\"#636efa\", \"#EF553B\", \"#00cc96\", \"#ab63fa\", \"#FFA15A\", \"#19d3f3\", \"#FF6692\", \"#B6E880\", \"#FF97FF\", \"#FECB52\"], \"font\": {\"color\": \"#2a3f5f\"}, \"geo\": {\"bgcolor\": \"white\", \"lakecolor\": \"white\", \"landcolor\": \"#E5ECF6\", \"showlakes\": true, \"showland\": true, \"subunitcolor\": \"white\"}, \"hoverlabel\": {\"align\": \"left\"}, \"hovermode\": \"closest\", \"mapbox\": {\"style\": \"light\"}, \"paper_bgcolor\": \"white\", \"plot_bgcolor\": \"#E5ECF6\", \"polar\": {\"angularaxis\": {\"gridcolor\": \"white\", \"linecolor\": \"white\", \"ticks\": \"\"}, \"bgcolor\": \"#E5ECF6\", \"radialaxis\": {\"gridcolor\": \"white\", \"linecolor\": \"white\", \"ticks\": \"\"}}, \"scene\": {\"xaxis\": {\"backgroundcolor\": \"#E5ECF6\", \"gridcolor\": \"white\", \"gridwidth\": 2, \"linecolor\": \"white\", \"showbackground\": true, \"ticks\": \"\", \"zerolinecolor\": \"white\"}, \"yaxis\": {\"backgroundcolor\": \"#E5ECF6\", \"gridcolor\": \"white\", \"gridwidth\": 2, \"linecolor\": \"white\", \"showbackground\": true, \"ticks\": \"\", \"zerolinecolor\": \"white\"}, \"zaxis\": {\"backgroundcolor\": \"#E5ECF6\", \"gridcolor\": \"white\", \"gridwidth\": 2, \"linecolor\": \"white\", \"showbackground\": true, \"ticks\": \"\", \"zerolinecolor\": \"white\"}}, \"shapedefaults\": {\"line\": {\"color\": \"#2a3f5f\"}}, \"ternary\": {\"aaxis\": {\"gridcolor\": \"white\", \"linecolor\": \"white\", \"ticks\": \"\"}, \"baxis\": {\"gridcolor\": \"white\", \"linecolor\": \"white\", \"ticks\": \"\"}, \"bgcolor\": \"#E5ECF6\", \"caxis\": {\"gridcolor\": \"white\", \"linecolor\": \"white\", \"ticks\": \"\"}}, \"title\": {\"x\": 0.05}, \"xaxis\": {\"automargin\": true, \"gridcolor\": \"white\", \"linecolor\": \"white\", \"ticks\": \"\", \"title\": {\"standoff\": 15}, \"zerolinecolor\": \"white\", \"zerolinewidth\": 2}, \"yaxis\": {\"automargin\": true, \"gridcolor\": \"white\", \"linecolor\": \"white\", \"ticks\": \"\", \"title\": {\"standoff\": 15}, \"zerolinecolor\": \"white\", \"zerolinewidth\": 2}}}},\n",
              "                        {\"responsive\": true}\n",
              "                    ).then(function(){\n",
              "                            \n",
              "var gd = document.getElementById('95336214-ea4c-43ab-bfe3-b38ec6a5bfb4');\n",
              "var x = new MutationObserver(function (mutations, observer) {{\n",
              "        var display = window.getComputedStyle(gd).display;\n",
              "        if (!display || display === 'none') {{\n",
              "            console.log([gd, 'removed!']);\n",
              "            Plotly.purge(gd);\n",
              "            observer.disconnect();\n",
              "        }}\n",
              "}});\n",
              "\n",
              "// Listen for the removal of the full notebook cells\n",
              "var notebookContainer = gd.closest('#notebook-container');\n",
              "if (notebookContainer) {{\n",
              "    x.observe(notebookContainer, {childList: true});\n",
              "}}\n",
              "\n",
              "// Listen for the clearing of the current output cell\n",
              "var outputEl = gd.closest('.output');\n",
              "if (outputEl) {{\n",
              "    x.observe(outputEl, {childList: true});\n",
              "}}\n",
              "\n",
              "                        })\n",
              "                };\n",
              "                \n",
              "            </script>\n",
              "        </div>\n",
              "</body>\n",
              "</html>"
            ]
          },
          "metadata": {
            "tags": []
          }
        }
      ]
    },
    {
      "cell_type": "markdown",
      "metadata": {
        "id": "3eeLCJtrywj8"
      },
      "source": [
        "Dari visualisasi data diatas kita dapat melihat bahwa atribut gender terdistribusi secara merata baik *Female* maupun *Male*."
      ]
    },
    {
      "cell_type": "markdown",
      "metadata": {
        "id": "MTuHScq7FOfx"
      },
      "source": [
        "#### **Checking Data Outliers**"
      ]
    },
    {
      "cell_type": "code",
      "metadata": {
        "id": "TcqRoC2280LE",
        "outputId": "b0b9315b-4b73-4116-f9b0-68ed58179a12",
        "colab": {
          "base_uri": "https://localhost:8080/",
          "height": 223
        }
      },
      "source": [
        "lb_make = LabelEncoder()\n",
        "cust_data_encode = cust_data.copy()\n",
        "for i in cust_data.columns:\n",
        "  if cust_data.dtypes[i] == \"O\":\n",
        "    cust_data_encode[i] = lb_make.fit_transform(cust_data[i])\n",
        "cust_data_encode.head()"
      ],
      "execution_count": 14,
      "outputs": [
        {
          "output_type": "execute_result",
          "data": {
            "text/html": [
              "<div>\n",
              "<style scoped>\n",
              "    .dataframe tbody tr th:only-of-type {\n",
              "        vertical-align: middle;\n",
              "    }\n",
              "\n",
              "    .dataframe tbody tr th {\n",
              "        vertical-align: top;\n",
              "    }\n",
              "\n",
              "    .dataframe thead th {\n",
              "        text-align: right;\n",
              "    }\n",
              "</style>\n",
              "<table border=\"1\" class=\"dataframe\">\n",
              "  <thead>\n",
              "    <tr style=\"text-align: right;\">\n",
              "      <th></th>\n",
              "      <th>Gender</th>\n",
              "      <th>Age</th>\n",
              "      <th>Annual Income</th>\n",
              "      <th>Spending Score</th>\n",
              "    </tr>\n",
              "    <tr>\n",
              "      <th>CustomerID</th>\n",
              "      <th></th>\n",
              "      <th></th>\n",
              "      <th></th>\n",
              "      <th></th>\n",
              "    </tr>\n",
              "  </thead>\n",
              "  <tbody>\n",
              "    <tr>\n",
              "      <th>1</th>\n",
              "      <td>1</td>\n",
              "      <td>19</td>\n",
              "      <td>15</td>\n",
              "      <td>39</td>\n",
              "    </tr>\n",
              "    <tr>\n",
              "      <th>2</th>\n",
              "      <td>1</td>\n",
              "      <td>21</td>\n",
              "      <td>15</td>\n",
              "      <td>81</td>\n",
              "    </tr>\n",
              "    <tr>\n",
              "      <th>3</th>\n",
              "      <td>0</td>\n",
              "      <td>20</td>\n",
              "      <td>16</td>\n",
              "      <td>6</td>\n",
              "    </tr>\n",
              "    <tr>\n",
              "      <th>4</th>\n",
              "      <td>0</td>\n",
              "      <td>23</td>\n",
              "      <td>16</td>\n",
              "      <td>77</td>\n",
              "    </tr>\n",
              "    <tr>\n",
              "      <th>5</th>\n",
              "      <td>0</td>\n",
              "      <td>31</td>\n",
              "      <td>17</td>\n",
              "      <td>40</td>\n",
              "    </tr>\n",
              "  </tbody>\n",
              "</table>\n",
              "</div>"
            ],
            "text/plain": [
              "            Gender  Age  Annual Income  Spending Score\n",
              "CustomerID                                            \n",
              "1                1   19             15              39\n",
              "2                1   21             15              81\n",
              "3                0   20             16               6\n",
              "4                0   23             16              77\n",
              "5                0   31             17              40"
            ]
          },
          "metadata": {
            "tags": []
          },
          "execution_count": 14
        }
      ]
    },
    {
      "cell_type": "code",
      "metadata": {
        "id": "oikb2t37DDa-",
        "outputId": "49d9e9b7-03e5-4562-bcb4-513eb0fdc50b",
        "colab": {
          "base_uri": "https://localhost:8080/",
          "height": 423
        }
      },
      "source": [
        "plt.figure(figsize=(10, 5))\n",
        "sns.boxplot(x='Age',y='Gender',data=cust_data, orient='h')\n",
        "age_cust_data = pd.DataFrame()\n",
        "age_cust_data['Male'] = (cust_data[cust_data['Gender'] == 'Male'][['Gender','Age']].describe())['Age']\n",
        "age_cust_data['Female'] = (cust_data[cust_data['Gender'] == 'Female'][['Gender','Age']].describe())['Age']\n",
        "age_cust_data.transpose()\n"
      ],
      "execution_count": 15,
      "outputs": [
        {
          "output_type": "execute_result",
          "data": {
            "text/html": [
              "<div>\n",
              "<style scoped>\n",
              "    .dataframe tbody tr th:only-of-type {\n",
              "        vertical-align: middle;\n",
              "    }\n",
              "\n",
              "    .dataframe tbody tr th {\n",
              "        vertical-align: top;\n",
              "    }\n",
              "\n",
              "    .dataframe thead th {\n",
              "        text-align: right;\n",
              "    }\n",
              "</style>\n",
              "<table border=\"1\" class=\"dataframe\">\n",
              "  <thead>\n",
              "    <tr style=\"text-align: right;\">\n",
              "      <th></th>\n",
              "      <th>count</th>\n",
              "      <th>mean</th>\n",
              "      <th>std</th>\n",
              "      <th>min</th>\n",
              "      <th>25%</th>\n",
              "      <th>50%</th>\n",
              "      <th>75%</th>\n",
              "      <th>max</th>\n",
              "    </tr>\n",
              "  </thead>\n",
              "  <tbody>\n",
              "    <tr>\n",
              "      <th>Male</th>\n",
              "      <td>88.0</td>\n",
              "      <td>39.806818</td>\n",
              "      <td>15.514812</td>\n",
              "      <td>18.0</td>\n",
              "      <td>27.75</td>\n",
              "      <td>37.0</td>\n",
              "      <td>50.5</td>\n",
              "      <td>70.0</td>\n",
              "    </tr>\n",
              "    <tr>\n",
              "      <th>Female</th>\n",
              "      <td>112.0</td>\n",
              "      <td>38.098214</td>\n",
              "      <td>12.644095</td>\n",
              "      <td>18.0</td>\n",
              "      <td>29.00</td>\n",
              "      <td>35.0</td>\n",
              "      <td>47.5</td>\n",
              "      <td>68.0</td>\n",
              "    </tr>\n",
              "  </tbody>\n",
              "</table>\n",
              "</div>"
            ],
            "text/plain": [
              "        count       mean        std   min    25%   50%   75%   max\n",
              "Male     88.0  39.806818  15.514812  18.0  27.75  37.0  50.5  70.0\n",
              "Female  112.0  38.098214  12.644095  18.0  29.00  35.0  47.5  68.0"
            ]
          },
          "metadata": {
            "tags": []
          },
          "execution_count": 15
        },
        {
          "output_type": "display_data",
          "data": {
            "image/png": "[encoded data removed]",
            "text/plain": [
              "<Figure size 720x360 with 1 Axes>"
            ]
          },
          "metadata": {
            "tags": [],
            "needs_background": "light"
          }
        }
      ]
    },
    {
      "cell_type": "code",
      "metadata": {
        "id": "nQ5KV7EsMjaI",
        "outputId": "8e42f861-0aff-4e40-cc15-453da5258f4e",
        "colab": {
          "base_uri": "https://localhost:8080/",
          "height": 423
        }
      },
      "source": [
        "plt.figure(figsize=(10, 5))\n",
        "sns.boxplot(x='Annual Income',y='Gender',data=cust_data, orient='h')\n",
        "age_cust_data = pd.DataFrame()\n",
        "age_cust_data['Male'] = (cust_data[cust_data['Gender'] == 'Male'][['Gender','Annual Income']].describe())['Annual Income']\n",
        "age_cust_data['Female'] = (cust_data[cust_data['Gender'] == 'Female'][['Gender','Annual Income']].describe())['Annual Income']\n",
        "age_cust_data.transpose()"
      ],
      "execution_count": 16,
      "outputs": [
        {
          "output_type": "execute_result",
          "data": {
            "text/html": [
              "<div>\n",
              "<style scoped>\n",
              "    .dataframe tbody tr th:only-of-type {\n",
              "        vertical-align: middle;\n",
              "    }\n",
              "\n",
              "    .dataframe tbody tr th {\n",
              "        vertical-align: top;\n",
              "    }\n",
              "\n",
              "    .dataframe thead th {\n",
              "        text-align: right;\n",
              "    }\n",
              "</style>\n",
              "<table border=\"1\" class=\"dataframe\">\n",
              "  <thead>\n",
              "    <tr style=\"text-align: right;\">\n",
              "      <th></th>\n",
              "      <th>count</th>\n",
              "      <th>mean</th>\n",
              "      <th>std</th>\n",
              "      <th>min</th>\n",
              "      <th>25%</th>\n",
              "      <th>50%</th>\n",
              "      <th>75%</th>\n",
              "      <th>max</th>\n",
              "    </tr>\n",
              "  </thead>\n",
              "  <tbody>\n",
              "    <tr>\n",
              "      <th>Male</th>\n",
              "      <td>88.0</td>\n",
              "      <td>62.227273</td>\n",
              "      <td>26.638373</td>\n",
              "      <td>15.0</td>\n",
              "      <td>45.50</td>\n",
              "      <td>62.5</td>\n",
              "      <td>78.00</td>\n",
              "      <td>137.0</td>\n",
              "    </tr>\n",
              "    <tr>\n",
              "      <th>Female</th>\n",
              "      <td>112.0</td>\n",
              "      <td>59.250000</td>\n",
              "      <td>26.011952</td>\n",
              "      <td>16.0</td>\n",
              "      <td>39.75</td>\n",
              "      <td>60.0</td>\n",
              "      <td>77.25</td>\n",
              "      <td>126.0</td>\n",
              "    </tr>\n",
              "  </tbody>\n",
              "</table>\n",
              "</div>"
            ],
            "text/plain": [
              "        count       mean        std   min    25%   50%    75%    max\n",
              "Male     88.0  62.227273  26.638373  15.0  45.50  62.5  78.00  137.0\n",
              "Female  112.0  59.250000  26.011952  16.0  39.75  60.0  77.25  126.0"
            ]
          },
          "metadata": {
            "tags": []
          },
          "execution_count": 16
        },
        {
          "output_type": "display_data",
          "data": {
            "image/png": "[encoded data removed]",
            "text/plain": [
              "<Figure size 720x360 with 1 Axes>"
            ]
          },
          "metadata": {
            "tags": [],
            "needs_background": "light"
          }
        }
      ]
    },
    {
      "cell_type": "code",
      "metadata": {
        "id": "Sa5qYbt3MxPu",
        "outputId": "ce79e1fe-866d-4e0a-8d03-7beec5285a1a",
        "colab": {
          "base_uri": "https://localhost:8080/",
          "height": 423
        }
      },
      "source": [
        "plt.figure(figsize=(10, 5))\n",
        "sns.boxplot(x='Spending Score',y='Gender',data=cust_data, orient='h')\n",
        "age_cust_data = pd.DataFrame()\n",
        "age_cust_data['Male'] = (cust_data[cust_data['Gender'] == 'Male'][['Gender','Spending Score']].describe())['Spending Score']\n",
        "age_cust_data['Female'] = (cust_data[cust_data['Gender'] == 'Female'][['Gender','Spending Score']].describe())['Spending Score']\n",
        "age_cust_data.transpose()"
      ],
      "execution_count": 17,
      "outputs": [
        {
          "output_type": "execute_result",
          "data": {
            "text/html": [
              "<div>\n",
              "<style scoped>\n",
              "    .dataframe tbody tr th:only-of-type {\n",
              "        vertical-align: middle;\n",
              "    }\n",
              "\n",
              "    .dataframe tbody tr th {\n",
              "        vertical-align: top;\n",
              "    }\n",
              "\n",
              "    .dataframe thead th {\n",
              "        text-align: right;\n",
              "    }\n",
              "</style>\n",
              "<table border=\"1\" class=\"dataframe\">\n",
              "  <thead>\n",
              "    <tr style=\"text-align: right;\">\n",
              "      <th></th>\n",
              "      <th>count</th>\n",
              "      <th>mean</th>\n",
              "      <th>std</th>\n",
              "      <th>min</th>\n",
              "      <th>25%</th>\n",
              "      <th>50%</th>\n",
              "      <th>75%</th>\n",
              "      <th>max</th>\n",
              "    </tr>\n",
              "  </thead>\n",
              "  <tbody>\n",
              "    <tr>\n",
              "      <th>Male</th>\n",
              "      <td>88.0</td>\n",
              "      <td>48.511364</td>\n",
              "      <td>27.89677</td>\n",
              "      <td>1.0</td>\n",
              "      <td>24.5</td>\n",
              "      <td>50.0</td>\n",
              "      <td>70.0</td>\n",
              "      <td>97.0</td>\n",
              "    </tr>\n",
              "    <tr>\n",
              "      <th>Female</th>\n",
              "      <td>112.0</td>\n",
              "      <td>51.526786</td>\n",
              "      <td>24.11495</td>\n",
              "      <td>5.0</td>\n",
              "      <td>35.0</td>\n",
              "      <td>50.0</td>\n",
              "      <td>73.0</td>\n",
              "      <td>99.0</td>\n",
              "    </tr>\n",
              "  </tbody>\n",
              "</table>\n",
              "</div>"
            ],
            "text/plain": [
              "        count       mean       std  min   25%   50%   75%   max\n",
              "Male     88.0  48.511364  27.89677  1.0  24.5  50.0  70.0  97.0\n",
              "Female  112.0  51.526786  24.11495  5.0  35.0  50.0  73.0  99.0"
            ]
          },
          "metadata": {
            "tags": []
          },
          "execution_count": 17
        },
        {
          "output_type": "display_data",
          "data": {
            "image/png": "[encoded data removed]",
            "text/plain": [
              "<Figure size 720x360 with 1 Axes>"
            ]
          },
          "metadata": {
            "tags": [],
            "needs_background": "light"
          }
        }
      ]
    },
    {
      "cell_type": "code",
      "metadata": {
        "id": "LF3oDVHtHoNJ",
        "outputId": "a14377eb-3c92-44cd-fc5c-addadb494cc9",
        "colab": {
          "base_uri": "https://localhost:8080/"
        }
      },
      "source": [
        "Q1 = cust_data_encode.quantile(0.25)\n",
        "Q3 = cust_data_encode.quantile(0.75)\n",
        "IQR = Q3 - Q1\n",
        "((cust_data_encode < (Q1 - 1.5 * IQR)) | (cust_data_encode > (Q3 + 1.5 * IQR))).sum()"
      ],
      "execution_count": 18,
      "outputs": [
        {
          "output_type": "execute_result",
          "data": {
            "text/plain": [
              "Gender            0\n",
              "Age               0\n",
              "Annual Income     2\n",
              "Spending Score    0\n",
              "dtype: int64"
            ]
          },
          "metadata": {
            "tags": []
          },
          "execution_count": 18
        }
      ]
    },
    {
      "cell_type": "markdown",
      "metadata": {
        "id": "mffmsBuRUvTU"
      },
      "source": [
        "Dari boxplot diatas kita dapat mengetahui terdapat beberapa atribut yang memiliki outlier. Terdapat 2 object yang dikategorikan sebagai outlier pada attribute `Annual Income` di `Gender` Male. Dari Boxplot diatas juga terdapat beberapa hal yang dapat diperhatikan seperti:\n",
        "\n",
        "1. Rata-rata spending score untuk pelanggan laki-laki adalah 48.5 sedangkan untuk pelanggan perempuan adalah 51.52 yang artinya wanita cenderung lebih banyak mengeluarkan uang untuk berbelanja\n",
        "\n",
        "2. Rata-rata pendapatan pertahun untuk pelanggan laki-laki adalah 62.227 sedangkan untuk pelanggan perempuan adalah 69.250 pertahun. Hal ini menandakan bahwa terdapat kemungkinan bahwa terdapat korelasi positif antara Annual Income dengan Spending Score"
      ]
    },
    {
      "cell_type": "markdown",
      "metadata": {
        "id": "EAk7-o0YXf4x"
      },
      "source": [
        "#### **Attribute Correlation**"
      ]
    },
    {
      "cell_type": "code",
      "metadata": {
        "id": "bluCioKOwpeC",
        "outputId": "9f9fa4ce-c2a5-4a10-beac-ad289067efa1",
        "colab": {
          "base_uri": "https://localhost:8080/",
          "height": 0
        }
      },
      "source": [
        "# heatmap columns correlation\n",
        "fig, ax = plt.subplots(figsize=(15,15)) \n",
        "sns.heatmap(cust_data_encode.corr(), annot=True,cmap=\"YlGnBu\" )"
      ],
      "execution_count": 19,
      "outputs": [
        {
          "output_type": "execute_result",
          "data": {
            "text/plain": [
              "<matplotlib.axes._subplots.AxesSubplot at 0x7f561f4051d0>"
            ]
          },
          "metadata": {
            "tags": []
          },
          "execution_count": 19
        },
        {
          "output_type": "display_data",
          "data": {
            "image/png": "[encoded data removed]",
            "text/plain": [
              "<Figure size 1080x1080 with 2 Axes>"
            ]
          },
          "metadata": {
            "tags": [],
            "needs_background": "light"
          }
        }
      ]
    },
    {
      "cell_type": "markdown",
      "metadata": {
        "id": "krRNHjamZt56"
      },
      "source": [
        "Dari heatmap diatas, tidak terdapat attribut yang memiliki strong correlation, maka dari itu seluruh atribut nantinya akan digunakan pada proses klasterisasi"
      ]
    },
    {
      "cell_type": "markdown",
      "metadata": {
        "id": "aFfbMv0aNdiP"
      },
      "source": [
        "### **Preprocessing**"
      ]
    },
    {
      "cell_type": "markdown",
      "metadata": {
        "id": "wE6rwqPfCqqP"
      },
      "source": [
        "\n",
        "#### **Data Normalization**"
      ]
    },
    {
      "cell_type": "code",
      "metadata": {
        "id": "omURgFSMOFA4"
      },
      "source": [
        "clust_data = cust_data_encode.drop(columns='Gender')\n",
        "x = clust_data.values\n",
        "# x"
      ],
      "execution_count": 20,
      "outputs": []
    },
    {
      "cell_type": "code",
      "metadata": {
        "id": "cNbmiHGsSLFT",
        "outputId": "a8912bfe-a739-4b9e-94b4-aefae97bd981",
        "colab": {
          "base_uri": "https://localhost:8080/",
          "height": 0
        }
      },
      "source": [
        "zscaler = preprocessing.StandardScaler()\n",
        "x_scaled = zscaler.fit_transform(x)\n",
        "clust_data = pd.DataFrame(x_scaled,columns=clust_data.columns)\n",
        "clust_data.head()"
      ],
      "execution_count": 21,
      "outputs": [
        {
          "output_type": "execute_result",
          "data": {
            "text/html": [
              "<div>\n",
              "<style scoped>\n",
              "    .dataframe tbody tr th:only-of-type {\n",
              "        vertical-align: middle;\n",
              "    }\n",
              "\n",
              "    .dataframe tbody tr th {\n",
              "        vertical-align: top;\n",
              "    }\n",
              "\n",
              "    .dataframe thead th {\n",
              "        text-align: right;\n",
              "    }\n",
              "</style>\n",
              "<table border=\"1\" class=\"dataframe\">\n",
              "  <thead>\n",
              "    <tr style=\"text-align: right;\">\n",
              "      <th></th>\n",
              "      <th>Age</th>\n",
              "      <th>Annual Income</th>\n",
              "      <th>Spending Score</th>\n",
              "    </tr>\n",
              "  </thead>\n",
              "  <tbody>\n",
              "    <tr>\n",
              "      <th>0</th>\n",
              "      <td>-1.424569</td>\n",
              "      <td>-1.738999</td>\n",
              "      <td>-0.434801</td>\n",
              "    </tr>\n",
              "    <tr>\n",
              "      <th>1</th>\n",
              "      <td>-1.281035</td>\n",
              "      <td>-1.738999</td>\n",
              "      <td>1.195704</td>\n",
              "    </tr>\n",
              "    <tr>\n",
              "      <th>2</th>\n",
              "      <td>-1.352802</td>\n",
              "      <td>-1.700830</td>\n",
              "      <td>-1.715913</td>\n",
              "    </tr>\n",
              "    <tr>\n",
              "      <th>3</th>\n",
              "      <td>-1.137502</td>\n",
              "      <td>-1.700830</td>\n",
              "      <td>1.040418</td>\n",
              "    </tr>\n",
              "    <tr>\n",
              "      <th>4</th>\n",
              "      <td>-0.563369</td>\n",
              "      <td>-1.662660</td>\n",
              "      <td>-0.395980</td>\n",
              "    </tr>\n",
              "  </tbody>\n",
              "</table>\n",
              "</div>"
            ],
            "text/plain": [
              "        Age  Annual Income  Spending Score\n",
              "0 -1.424569      -1.738999       -0.434801\n",
              "1 -1.281035      -1.738999        1.195704\n",
              "2 -1.352802      -1.700830       -1.715913\n",
              "3 -1.137502      -1.700830        1.040418\n",
              "4 -0.563369      -1.662660       -0.395980"
            ]
          },
          "metadata": {
            "tags": []
          },
          "execution_count": 21
        }
      ]
    },
    {
      "cell_type": "code",
      "metadata": {
        "id": "jv87EsGdSAiM",
        "outputId": "b5ea26c9-1e16-4ceb-d0c9-366194c872f9",
        "colab": {
          "base_uri": "https://localhost:8080/",
          "height": 0
        }
      },
      "source": [
        "clust_data['Gender'] = cust_data_encode['Gender'].values\n",
        "clust_data"
      ],
      "execution_count": 22,
      "outputs": [
        {
          "output_type": "execute_result",
          "data": {
            "text/html": [
              "<div>\n",
              "<style scoped>\n",
              "    .dataframe tbody tr th:only-of-type {\n",
              "        vertical-align: middle;\n",
              "    }\n",
              "\n",
              "    .dataframe tbody tr th {\n",
              "        vertical-align: top;\n",
              "    }\n",
              "\n",
              "    .dataframe thead th {\n",
              "        text-align: right;\n",
              "    }\n",
              "</style>\n",
              "<table border=\"1\" class=\"dataframe\">\n",
              "  <thead>\n",
              "    <tr style=\"text-align: right;\">\n",
              "      <th></th>\n",
              "      <th>Age</th>\n",
              "      <th>Annual Income</th>\n",
              "      <th>Spending Score</th>\n",
              "      <th>Gender</th>\n",
              "    </tr>\n",
              "  </thead>\n",
              "  <tbody>\n",
              "    <tr>\n",
              "      <th>0</th>\n",
              "      <td>-1.424569</td>\n",
              "      <td>-1.738999</td>\n",
              "      <td>-0.434801</td>\n",
              "      <td>1</td>\n",
              "    </tr>\n",
              "    <tr>\n",
              "      <th>1</th>\n",
              "      <td>-1.281035</td>\n",
              "      <td>-1.738999</td>\n",
              "      <td>1.195704</td>\n",
              "      <td>1</td>\n",
              "    </tr>\n",
              "    <tr>\n",
              "      <th>2</th>\n",
              "      <td>-1.352802</td>\n",
              "      <td>-1.700830</td>\n",
              "      <td>-1.715913</td>\n",
              "      <td>0</td>\n",
              "    </tr>\n",
              "    <tr>\n",
              "      <th>3</th>\n",
              "      <td>-1.137502</td>\n",
              "      <td>-1.700830</td>\n",
              "      <td>1.040418</td>\n",
              "      <td>0</td>\n",
              "    </tr>\n",
              "    <tr>\n",
              "      <th>4</th>\n",
              "      <td>-0.563369</td>\n",
              "      <td>-1.662660</td>\n",
              "      <td>-0.395980</td>\n",
              "      <td>0</td>\n",
              "    </tr>\n",
              "    <tr>\n",
              "      <th>...</th>\n",
              "      <td>...</td>\n",
              "      <td>...</td>\n",
              "      <td>...</td>\n",
              "      <td>...</td>\n",
              "    </tr>\n",
              "    <tr>\n",
              "      <th>195</th>\n",
              "      <td>-0.276302</td>\n",
              "      <td>2.268791</td>\n",
              "      <td>1.118061</td>\n",
              "      <td>0</td>\n",
              "    </tr>\n",
              "    <tr>\n",
              "      <th>196</th>\n",
              "      <td>0.441365</td>\n",
              "      <td>2.497807</td>\n",
              "      <td>-0.861839</td>\n",
              "      <td>0</td>\n",
              "    </tr>\n",
              "    <tr>\n",
              "      <th>197</th>\n",
              "      <td>-0.491602</td>\n",
              "      <td>2.497807</td>\n",
              "      <td>0.923953</td>\n",
              "      <td>1</td>\n",
              "    </tr>\n",
              "    <tr>\n",
              "      <th>198</th>\n",
              "      <td>-0.491602</td>\n",
              "      <td>2.917671</td>\n",
              "      <td>-1.250054</td>\n",
              "      <td>1</td>\n",
              "    </tr>\n",
              "    <tr>\n",
              "      <th>199</th>\n",
              "      <td>-0.635135</td>\n",
              "      <td>2.917671</td>\n",
              "      <td>1.273347</td>\n",
              "      <td>1</td>\n",
              "    </tr>\n",
              "  </tbody>\n",
              "</table>\n",
              "<p>200 rows × 4 columns</p>\n",
              "</div>"
            ],
            "text/plain": [
              "          Age  Annual Income  Spending Score  Gender\n",
              "0   -1.424569      -1.738999       -0.434801       1\n",
              "1   -1.281035      -1.738999        1.195704       1\n",
              "2   -1.352802      -1.700830       -1.715913       0\n",
              "3   -1.137502      -1.700830        1.040418       0\n",
              "4   -0.563369      -1.662660       -0.395980       0\n",
              "..        ...            ...             ...     ...\n",
              "195 -0.276302       2.268791        1.118061       0\n",
              "196  0.441365       2.497807       -0.861839       0\n",
              "197 -0.491602       2.497807        0.923953       1\n",
              "198 -0.491602       2.917671       -1.250054       1\n",
              "199 -0.635135       2.917671        1.273347       1\n",
              "\n",
              "[200 rows x 4 columns]"
            ]
          },
          "metadata": {
            "tags": []
          },
          "execution_count": 22
        }
      ]
    },
    {
      "cell_type": "code",
      "metadata": {
        "id": "cHyVSW2g45Ah",
        "outputId": "b5d5e38e-613c-452b-b6f8-fbb6092c7bb7",
        "colab": {
          "base_uri": "https://localhost:8080/",
          "height": 0
        }
      },
      "source": [
        "fig = px.scatter_3d(clust_data, x='Age', y='Annual Income', z='Spending Score', color='Gender', symbol='Gender',size_max=18, opacity=0.7)\n",
        "\n",
        "# tight layout\n",
        "fig.update_layout(margin=dict(l=0, r=0, b=0, t=0))"
      ],
      "execution_count": 23,
      "outputs": [
        {
          "output_type": "display_data",
          "data": {
            "text/html": [
              "<html>\n",
              "<head><meta charset=\"utf-8\" /></head>\n",
              "<body>\n",
              "    <div>\n",
              "            <script src=\"https://cdnjs.cloudflare.com/ajax/libs/mathjax/2.7.5/MathJax.js?config=TeX-AMS-MML_SVG\"></script><script type=\"text/javascript\">if (window.MathJax) {MathJax.Hub.Config({SVG: {font: \"STIX-Web\"}});}</script>\n",
              "                <script type=\"text/javascript\">window.PlotlyConfig = {MathJaxConfig: 'local'};</script>\n",
              "        <script src=\"https://cdn.plot.ly/plotly-latest.min.js\"></script>    \n",
              "            <div id=\"d5dbe3ef-cb87-4d10-b2ea-5147a2f344a1\" class=\"plotly-graph-div\" style=\"height:525px; width:100%;\"></div>\n",
              "            <script type=\"text/javascript\">\n",
              "                \n",
              "                    window.PLOTLYENV=window.PLOTLYENV || {};\n",
              "                    \n",
              "                if (document.getElementById(\"d5dbe3ef-cb87-4d10-b2ea-5147a2f344a1\")) {\n",
              "                    Plotly.newPlot(\n",
              "                        'd5dbe3ef-cb87-4d10-b2ea-5147a2f344a1',\n",
              "                        [{\"hoverlabel\": {\"namelength\": 0}, \"hovertemplate\": \"Gender=%{marker.color}<br>Age=%{x}<br>Annual Income=%{y}<br>Spending Score=%{z}\", \"legendgroup\": \"Gender=1\", \"marker\": {\"color\": [1, 1, 1, 1, 1, 1, 1, 1, 1, 1, 1, 1, 1, 1, 1, 1, 1, 1, 1, 1, 1, 1, 1, 1, 1, 1, 1, 1, 1, 1, 1, 1, 1, 1, 1, 1, 1, 1, 1, 1, 1, 1, 1, 1, 1, 1, 1, 1, 1, 1, 1, 1, 1, 1, 1, 1, 1, 1, 1, 1, 1, 1, 1, 1, 1, 1, 1, 1, 1, 1, 1, 1, 1, 1, 1, 1, 1, 1, 1, 1, 1, 1, 1, 1, 1, 1, 1, 1], \"coloraxis\": \"coloraxis\", \"opacity\": 0.7, \"symbol\": \"circle\"}, \"mode\": \"markers\", \"name\": \"Gender=1\", \"scene\": \"scene\", \"showlegend\": true, \"type\": \"scatter3d\", \"x\": [-1.4245687900521393, -1.2810354107017978, 1.804932245330544, 2.0202323143560563, -0.13276837589906598, -1.209268721026627, -1.3528021003769686, 0.9437319692284951, -0.2763017552494075, -0.9939686520011148, -0.5633685139500905, -0.706901893300432, -0.2763017552494075, 1.517865486629861, 1.0154986589036659, -1.49633547972731, -1.0657353416762856, 0.6566652105278122, -0.41983513459974897, 1.4460987969546903, 0.5848985208526415, 2.163765693706398, 1.0154986589036659, 2.2355323833815683, -1.4245687900521393, 1.7331655556553733, -1.49633547972731, -1.4245687900521393, 2.2355323833815683, 1.4460987969546903, -0.9222019623259441, 0.08253169312644625, 1.3025654176043489, -0.061001686223895235, 2.0202323143560563, 0.6566652105278122, -1.49633547972731, 0.6566652105278122, -1.0657353416762856, 0.6566652105278122, -1.3528021003769686, 2.0202323143560563, -0.9222019623259441, 0.728431900202983, 1.0872653485788366, 2.091999004031227, 1.9484656246808856, 1.8766989350057148, -1.4245687900521393, -0.8504352726507735, 0.010765003451275509, 0.2978317621519585, 0.08253169312644625, 1.4460987969546903, -0.061001686223895235, 0.5848985208526415, 0.010765003451275509, -1.3528021003769686, -0.49160182427491966, -1.4245687900521393, -0.49160182427491966, -0.9939686520011148, -0.7786685829756027, 0.6566652105278122, -0.3480684449245782, 0.2978317621519585, 0.010765003451275509, -0.13276837589906598, -0.3480684449245782, -1.4245687900521393, 0.8001985898781537, 0.22606507247678773, -0.49160182427491966, 0.08253169312644625, -0.7786685829756027, -0.20453506557423673, -0.20453506557423673, 1.3743321072795196, -0.8504352726507735, 1.4460987969546903, -0.2763017552494075, 0.5131318311774707, -0.6351352036252612, -0.7786685829756027, -0.41983513459974897, -0.49160182427491966, -0.49160182427491966, -0.6351352036252612], \"y\": [-1.7389991930659485, -1.7389991930659485, -1.5863214763788591, -1.5863214763788591, -1.5481520472070869, -1.5481520472070869, -1.5099826180353144, -1.4336437596917697, -1.3954743305199975, -1.3954743305199975, -1.357304901348225, -1.2427966138329078, -1.2427966138329078, -1.1664577554893631, -1.0519494679740462, -1.0519494679740462, -0.8611023221151844, -0.8229328929434121, -0.7084246054280949, -0.6702551762563226, -0.6702551762563226, -0.6320857470845502, -0.5557468887410055, -0.5557468887410055, -0.5557468887410055, -0.4794080303974609, -0.4794080303974609, -0.4794080303974609, -0.44123860122568853, -0.2503914553668267, -0.2503914553668267, -0.2503914553668267, -0.2503914553668267, -0.2503914553668267, -0.2503914553668267, -0.2503914553668267, -0.05954430950796496, -0.021374880336192604, -0.021374880336192604, 0.01679454883557975, 0.01679454883557975, 0.0549639780073521, 0.0549639780073521, 0.0549639780073521, 0.09313340717912445, 0.09313340717912445, 0.09313340717912445, 0.09313340717912445, 0.13130283635089682, 0.24581112386621387, 0.3221499822097586, 0.3984888405533033, 0.3984888405533033, 0.3984888405533033, 0.3984888405533033, 0.3984888405533033, 0.3984888405533033, 0.474827698896848, 0.474827698896848, 0.5129971280686204, 0.5511665572403928, 0.6275054155839375, 0.6275054155839375, 0.6275054155839375, 0.6656748447557098, 0.6656748447557098, 0.6656748447557098, 0.6656748447557098, 0.6656748447557098, 0.7801831322710269, 0.9328608489581163, 0.9710302781298886, 1.009199707301661, 1.009199707301661, 1.009199707301661, 1.009199707301661, 1.009199707301661, 1.0473691364734332, 1.0473691364734332, 1.238216282332295, 1.238216282332295, 1.429063428191157, 1.4672328573629292, 1.543571715706474, 2.0016048657677423, 2.4978074450007828, 2.9176711658902788, 2.9176711658902788], \"z\": [-0.43480147996914814, 1.195704069915157, -1.832377665584267, -1.405340497757425, -1.444162058468956, 1.118060948492095, 0.6133806592421909, -0.823017087084459, -0.5900877228152724, 0.8851315842229084, 0.8851315842229084, 1.234525630626688, 0.4192728556845355, -1.7935561048727358, -1.7935561048727358, 1.622741237741999, 1.622741237741999, -0.5512661621037414, 0.38045129497300445, 0.38045129497300445, -0.357158358546086, -0.16305055498843063, -0.16305055498843063, 0.22516505212688012, 0.18634349141534906, 0.03105724856922475, 0.34162973426147336, 0.34162973426147336, 0.18634349141534906, -0.12422899427689955, 0.14752193070381797, -0.08540743356536848, 0.03105724856922475, 0.18634349141534906, -0.357158358546086, -0.16305055498843063, -0.357158358546086, -0.046585872853837404, 0.06987880928075582, -0.31833679783455493, -0.046585872853837404, 0.34162973426147336, 0.18634349141534906, 0.22516505212688012, -0.16305055498843063, -0.27951523712302384, -0.08540743356536848, 0.06987880928075582, -0.16305055498843063, 0.22516505212688012, 1.5839196770304678, -0.5900877228152724, 1.7392059198765921, -1.5218051798920182, 0.9627747056459706, -1.5994483013150804, 0.9627747056459706, -1.7547345441612048, 0.8851315842229084, -1.5606267406035494, 1.66156279845353, -1.4829836191804873, 1.8168490412996543, -0.5512661621037414, 1.5450981163189368, -1.288875815622832, 1.4674549948958746, -1.9100207870073291, -1.9100207870073291, -1.7547345441612048, -0.9394817692190521, -1.1724111334882386, 0.49691597710759766, -1.444162058468956, 0.9627747056459706, -1.5606267406035494, 1.622741237741999, -1.3665189370458939, 0.7298453413767841, -1.405340497757425, 1.5450981163189368, -1.3665189370458939, 1.8168490412996543, 0.691023780665253, -1.6382698620266116, 0.9239531449344395, -1.2500542549113007, 1.2733471913382193]}, {\"hoverlabel\": {\"namelength\": 0}, \"hovertemplate\": \"Gender=%{marker.color}<br>Age=%{x}<br>Annual Income=%{y}<br>Spending Score=%{z}\", \"legendgroup\": \"Gender=0\", \"marker\": {\"color\": [0, 0, 0, 0, 0, 0, 0, 0, 0, 0, 0, 0, 0, 0, 0, 0, 0, 0, 0, 0, 0, 0, 0, 0, 0, 0, 0, 0, 0, 0, 0, 0, 0, 0, 0, 0, 0, 0, 0, 0, 0, 0, 0, 0, 0, 0, 0, 0, 0, 0, 0, 0, 0, 0, 0, 0, 0, 0, 0, 0, 0, 0, 0, 0, 0, 0, 0, 0, 0, 0, 0, 0, 0, 0, 0, 0, 0, 0, 0, 0, 0, 0, 0, 0, 0, 0, 0, 0, 0, 0, 0, 0, 0, 0, 0, 0, 0, 0, 0, 0, 0, 0, 0, 0, 0, 0, 0, 0, 0, 0, 0, 0], \"coloraxis\": \"coloraxis\", \"opacity\": 0.7, \"symbol\": \"diamond\"}, \"mode\": \"markers\", \"name\": \"Gender=0\", \"scene\": \"scene\", \"showlegend\": true, \"type\": \"scatter3d\", \"x\": [-1.3528021003769686, -1.1375020313514563, -0.5633685139500905, -1.209268721026627, -0.2763017552494075, -1.1375020313514563, -0.6351352036252612, -0.2763017552494075, 1.3743321072795196, -1.0657353416762856, -0.2763017552494075, -0.2763017552494075, 0.5131318311774707, 1.0872653485788366, 0.44136514150229994, 0.08253169312644625, -1.1375020313514563, -1.2810354107017978, 0.728431900202983, -1.2810354107017978, 0.22606507247678773, -0.6351352036252612, -0.20453506557423673, -1.3528021003769686, 1.8766989350057148, -0.5633685139500905, 0.728431900202983, -1.0657353416762856, 0.8001985898781537, -0.8504352726507735, -0.706901893300432, -0.5633685139500905, 0.728431900202983, -0.5633685139500905, 0.8001985898781537, 0.8719652795533244, -0.8504352726507735, 2.0202323143560563, 1.0872653485788366, 0.2978317621519585, 2.091999004031227, -0.49160182427491966, 0.5848985208526415, 1.517865486629861, 1.517865486629861, 0.44136514150229994, -1.1375020313514563, 0.728431900202983, 0.5131318311774707, -1.2810354107017978, 1.1590320382540074, -1.209268721026627, -0.3480684449245782, 0.8001985898781537, 2.091999004031227, 0.08253169312644625, -0.49160182427491966, 0.5848985208526415, -0.8504352726507735, -1.1375020313514563, 0.728431900202983, -1.2810354107017978, 1.9484656246808856, -1.4245687900521393, -0.061001686223895235, -1.49633547972731, -1.4245687900521393, 1.7331655556553733, 0.728431900202983, 0.8719652795533244, 0.8001985898781537, -0.061001686223895235, 0.08253169312644625, -1.1375020313514563, -0.5633685139500905, -0.9939686520011148, -0.5633685139500905, -0.706901893300432, 0.36959845182712925, -0.2763017552494075, 1.3025654176043489, -0.7786685829756027, -0.49160182427491966, -0.49160182427491966, -0.3480684449245782, 0.36959845182712925, -0.061001686223895235, 0.5848985208526415, -0.8504352726507735, -0.6351352036252612, -0.6351352036252612, 1.230798727929178, -0.706901893300432, -0.5633685139500905, -0.20453506557423673, -0.41983513459974897, -0.20453506557423673, 0.9437319692284951, -0.6351352036252612, -0.13276837589906598, -0.49160182427491966, -0.706901893300432, 0.154298382801617, 1.0872653485788366, 0.154298382801617, -0.20453506557423673, -0.3480684449245782, -0.49160182427491966, -0.061001686223895235, 0.5848985208526415, -0.2763017552494075, 0.44136514150229994], \"y\": [-1.7008297638941763, -1.7008297638941763, -1.6626603347224038, -1.6626603347224038, -1.6244909055506316, -1.6244909055506316, -1.5863214763788591, -1.5863214763788591, -1.5481520472070869, -1.5481520472070869, -1.5099826180353144, -1.4336437596917697, -1.357304901348225, -1.2427966138329078, -1.2427966138329078, -1.2046271846611356, -1.2046271846611356, -1.1664577554893631, -1.0519494679740462, -1.0519494679740462, -1.0137800388022737, -1.0137800388022737, -0.8992717512869568, -0.8992717512869568, -0.8611023221151844, -0.8229328929434121, -0.8229328929434121, -0.8229328929434121, -0.7847634637716397, -0.7847634637716397, -0.7847634637716397, -0.7847634637716397, -0.7084246054280949, -0.6702551762563226, -0.6702551762563226, -0.6320857470845502, -0.5557468887410055, -0.5175774595692332, -0.5175774595692332, -0.4794080303974609, -0.4794080303974609, -0.4794080303974609, -0.44123860122568853, -0.4030691720539161, -0.4030691720539161, -0.2503914553668267, -0.2503914553668267, -0.2503914553668267, -0.2503914553668267, -0.2503914553668267, -0.13588316785150967, -0.13588316785150967, -0.09771373867973732, -0.09771373867973732, -0.05954430950796496, -0.021374880336192604, -0.021374880336192604, -0.021374880336192604, -0.021374880336192604, 0.0549639780073521, 0.0549639780073521, 0.0549639780073521, 0.09313340717912445, 0.09313340717912445, 0.13130283635089682, 0.16947226552266917, 0.16947226552266917, 0.16947226552266917, 0.16947226552266917, 0.24581112386621387, 0.24581112386621387, 0.24581112386621387, 0.3221499822097586, 0.36031941138153095, 0.36031941138153095, 0.43665826972507565, 0.43665826972507565, 0.474827698896848, 0.474827698896848, 0.5129971280686204, 0.5511665572403928, 0.5893359864121651, 0.5893359864121651, 0.6275054155839375, 0.6656748447557098, 0.6656748447557098, 0.6656748447557098, 0.6656748447557098, 0.6656748447557098, 0.6656748447557098, 0.6656748447557098, 0.7038442739274822, 0.7038442739274822, 0.7801831322710269, 0.9328608489581163, 0.9710302781298886, 1.009199707301661, 1.0473691364734332, 1.0473691364734332, 1.3908939990193845, 1.3908939990193845, 1.429063428191157, 1.4672328573629292, 1.543571715706474, 1.6199105740500186, 1.6199105740500186, 1.6199105740500186, 1.6199105740500186, 2.0016048657677423, 2.2687908699701484, 2.2687908699701484, 2.4978074450007828], \"z\": [-1.7159129834496736, 1.0404178270690327, -0.3959799192576171, 1.0015962663575015, -1.7159129834496736, 1.700384359165061, 0.8463100235113773, 1.8944921627227165, -1.3665189370458939, 1.0404178270690327, -0.5900877228152724, 1.8556706020111853, -1.7547345441612048, -1.405340497757425, -0.7065524049498657, -0.7453739656613968, 1.4286334341843434, 0.8851315842229084, -1.405340497757425, 1.195704069915157, -1.288875815622832, 0.8851315842229084, -0.9394817692190521, 0.9627747056459706, -0.5900877228152724, 0.4192728556845355, -0.86183864779599, 0.5745590985306598, 0.18634349141534906, -0.12422899427689955, -0.31833679783455493, -0.31833679783455493, 0.06987880928075582, 0.14752193070381797, -0.20187211569996172, -0.007764312142306325, 0.03105724856922475, 0.06987880928075582, 0.34162973426147336, -0.007764312142306325, -0.08540743356536848, -0.12422899427689955, -0.31833679783455493, -0.046585872853837404, 0.22516505212688012, 0.1087003699922869, 0.06987880928075582, -0.31833679783455493, -0.24069367641149278, 0.2639866128384112, 0.30280817354994227, 0.18634349141534906, 0.38045129497300445, -0.16305055498843063, 0.18634349141534906, -0.3959799192576171, -0.31833679783455493, -0.12422899427689955, -0.007764312142306325, -0.357158358546086, -0.08540743356536848, -0.31833679783455493, -0.007764312142306325, 0.14752193070381797, -0.31833679783455493, -0.08540743356536848, -0.007764312142306325, -0.27951523712302384, 0.34162973426147336, -0.27951523712302384, 0.2639866128384112, -0.3959799192576171, 0.30280817354994227, -0.823017087084459, 1.0404178270690327, -0.6289092835268035, 0.8074884627998463, 1.4674549948958746, -1.6770914227381426, 0.8463100235113773, -1.7547345441612048, -0.3959799192576171, 1.4286334341843434, 0.9239531449344395, -1.0947680120651764, -1.1724111334882386, 1.0015962663575015, -1.327697376334363, 1.5062765556074056, 1.0792393877805637, 0.8851315842229084, -0.5900877228152724, 1.2733471913382193, 1.66156279845353, 0.9627747056459706, 1.7392059198765921, -0.900660208507521, -1.444162058468956, 1.3898118734728124, -0.7065524049498657, 1.3898118734728124, 1.4674549948958746, -0.43480147996914814, -1.0171248906421142, -1.288875815622832, 1.3509903127612812, -1.0559464513536454, 0.7298453413767841, 1.5839196770304678, -1.327697376334363, 1.118060948492095, -0.86183864779599]}],\n",
              "                        {\"coloraxis\": {\"colorbar\": {\"title\": {\"text\": \"Gender\"}}, \"colorscale\": [[0.0, \"#0d0887\"], [0.1111111111111111, \"#46039f\"], [0.2222222222222222, \"#7201a8\"], [0.3333333333333333, \"#9c179e\"], [0.4444444444444444, \"#bd3786\"], [0.5555555555555556, \"#d8576b\"], [0.6666666666666666, \"#ed7953\"], [0.7777777777777778, \"#fb9f3a\"], [0.8888888888888888, \"#fdca26\"], [1.0, \"#f0f921\"]]}, \"legend\": {\"tracegroupgap\": 0}, \"margin\": {\"b\": 0, \"l\": 0, \"r\": 0, \"t\": 0}, \"scene\": {\"domain\": {\"x\": [0.0, 1.0], \"y\": [0.0, 1.0]}, \"xaxis\": {\"title\": {\"text\": \"Age\"}}, \"yaxis\": {\"title\": {\"text\": \"Annual Income\"}}, \"zaxis\": {\"title\": {\"text\": \"Spending Score\"}}}, \"template\": {\"data\": {\"bar\": [{\"error_x\": {\"color\": \"#2a3f5f\"}, \"error_y\": {\"color\": \"#2a3f5f\"}, \"marker\": {\"line\": {\"color\": \"#E5ECF6\", \"width\": 0.5}}, \"type\": \"bar\"}], \"barpolar\": [{\"marker\": {\"line\": {\"color\": \"#E5ECF6\", \"width\": 0.5}}, \"type\": \"barpolar\"}], \"carpet\": [{\"aaxis\": {\"endlinecolor\": \"#2a3f5f\", \"gridcolor\": \"white\", \"linecolor\": \"white\", \"minorgridcolor\": \"white\", \"startlinecolor\": \"#2a3f5f\"}, \"baxis\": {\"endlinecolor\": \"#2a3f5f\", \"gridcolor\": \"white\", \"linecolor\": \"white\", \"minorgridcolor\": \"white\", \"startlinecolor\": \"#2a3f5f\"}, \"type\": \"carpet\"}], \"choropleth\": [{\"colorbar\": {\"outlinewidth\": 0, \"ticks\": \"\"}, \"type\": \"choropleth\"}], \"contour\": [{\"colorbar\": {\"outlinewidth\": 0, \"ticks\": \"\"}, \"colorscale\": [[0.0, \"#0d0887\"], [0.1111111111111111, \"#46039f\"], [0.2222222222222222, \"#7201a8\"], [0.3333333333333333, \"#9c179e\"], [0.4444444444444444, \"#bd3786\"], [0.5555555555555556, \"#d8576b\"], [0.6666666666666666, \"#ed7953\"], [0.7777777777777778, \"#fb9f3a\"], [0.8888888888888888, \"#fdca26\"], [1.0, \"#f0f921\"]], \"type\": \"contour\"}], \"contourcarpet\": [{\"colorbar\": {\"outlinewidth\": 0, \"ticks\": \"\"}, \"type\": \"contourcarpet\"}], \"heatmap\": [{\"colorbar\": {\"outlinewidth\": 0, \"ticks\": \"\"}, \"colorscale\": [[0.0, \"#0d0887\"], [0.1111111111111111, \"#46039f\"], [0.2222222222222222, \"#7201a8\"], [0.3333333333333333, \"#9c179e\"], [0.4444444444444444, \"#bd3786\"], [0.5555555555555556, \"#d8576b\"], [0.6666666666666666, \"#ed7953\"], [0.7777777777777778, \"#fb9f3a\"], [0.8888888888888888, \"#fdca26\"], [1.0, \"#f0f921\"]], \"type\": \"heatmap\"}], \"heatmapgl\": [{\"colorbar\": {\"outlinewidth\": 0, \"ticks\": \"\"}, \"colorscale\": [[0.0, \"#0d0887\"], [0.1111111111111111, \"#46039f\"], [0.2222222222222222, \"#7201a8\"], [0.3333333333333333, \"#9c179e\"], [0.4444444444444444, \"#bd3786\"], [0.5555555555555556, \"#d8576b\"], [0.6666666666666666, \"#ed7953\"], [0.7777777777777778, \"#fb9f3a\"], [0.8888888888888888, \"#fdca26\"], [1.0, \"#f0f921\"]], \"type\": \"heatmapgl\"}], \"histogram\": [{\"marker\": {\"colorbar\": {\"outlinewidth\": 0, \"ticks\": \"\"}}, \"type\": \"histogram\"}], \"histogram2d\": [{\"colorbar\": {\"outlinewidth\": 0, \"ticks\": \"\"}, \"colorscale\": [[0.0, \"#0d0887\"], [0.1111111111111111, \"#46039f\"], [0.2222222222222222, \"#7201a8\"], [0.3333333333333333, \"#9c179e\"], [0.4444444444444444, \"#bd3786\"], [0.5555555555555556, \"#d8576b\"], [0.6666666666666666, \"#ed7953\"], [0.7777777777777778, \"#fb9f3a\"], [0.8888888888888888, \"#fdca26\"], [1.0, \"#f0f921\"]], \"type\": \"histogram2d\"}], \"histogram2dcontour\": [{\"colorbar\": {\"outlinewidth\": 0, \"ticks\": \"\"}, \"colorscale\": [[0.0, \"#0d0887\"], [0.1111111111111111, \"#46039f\"], [0.2222222222222222, \"#7201a8\"], [0.3333333333333333, \"#9c179e\"], [0.4444444444444444, \"#bd3786\"], [0.5555555555555556, \"#d8576b\"], [0.6666666666666666, \"#ed7953\"], [0.7777777777777778, \"#fb9f3a\"], [0.8888888888888888, \"#fdca26\"], [1.0, \"#f0f921\"]], \"type\": \"histogram2dcontour\"}], \"mesh3d\": [{\"colorbar\": {\"outlinewidth\": 0, \"ticks\": \"\"}, \"type\": \"mesh3d\"}], \"parcoords\": [{\"line\": {\"colorbar\": {\"outlinewidth\": 0, \"ticks\": \"\"}}, \"type\": \"parcoords\"}], \"pie\": [{\"automargin\": true, \"type\": \"pie\"}], \"scatter\": [{\"marker\": {\"colorbar\": {\"outlinewidth\": 0, \"ticks\": \"\"}}, \"type\": \"scatter\"}], \"scatter3d\": [{\"line\": {\"colorbar\": {\"outlinewidth\": 0, \"ticks\": \"\"}}, \"marker\": {\"colorbar\": {\"outlinewidth\": 0, \"ticks\": \"\"}}, \"type\": \"scatter3d\"}], \"scattercarpet\": [{\"marker\": {\"colorbar\": {\"outlinewidth\": 0, \"ticks\": \"\"}}, \"type\": \"scattercarpet\"}], \"scattergeo\": [{\"marker\": {\"colorbar\": {\"outlinewidth\": 0, \"ticks\": \"\"}}, \"type\": \"scattergeo\"}], \"scattergl\": [{\"marker\": {\"colorbar\": {\"outlinewidth\": 0, \"ticks\": \"\"}}, \"type\": \"scattergl\"}], \"scattermapbox\": [{\"marker\": {\"colorbar\": {\"outlinewidth\": 0, \"ticks\": \"\"}}, \"type\": \"scattermapbox\"}], \"scatterpolar\": [{\"marker\": {\"colorbar\": {\"outlinewidth\": 0, \"ticks\": \"\"}}, \"type\": \"scatterpolar\"}], \"scatterpolargl\": [{\"marker\": {\"colorbar\": {\"outlinewidth\": 0, \"ticks\": \"\"}}, \"type\": \"scatterpolargl\"}], \"scatterternary\": [{\"marker\": {\"colorbar\": {\"outlinewidth\": 0, \"ticks\": \"\"}}, \"type\": \"scatterternary\"}], \"surface\": [{\"colorbar\": {\"outlinewidth\": 0, \"ticks\": \"\"}, \"colorscale\": [[0.0, \"#0d0887\"], [0.1111111111111111, \"#46039f\"], [0.2222222222222222, \"#7201a8\"], [0.3333333333333333, \"#9c179e\"], [0.4444444444444444, \"#bd3786\"], [0.5555555555555556, \"#d8576b\"], [0.6666666666666666, \"#ed7953\"], [0.7777777777777778, \"#fb9f3a\"], [0.8888888888888888, \"#fdca26\"], [1.0, \"#f0f921\"]], \"type\": \"surface\"}], \"table\": [{\"cells\": {\"fill\": {\"color\": \"#EBF0F8\"}, \"line\": {\"color\": \"white\"}}, \"header\": {\"fill\": {\"color\": \"#C8D4E3\"}, \"line\": {\"color\": \"white\"}}, \"type\": \"table\"}]}, \"layout\": {\"annotationdefaults\": {\"arrowcolor\": \"#2a3f5f\", \"arrowhead\": 0, \"arrowwidth\": 1}, \"coloraxis\": {\"colorbar\": {\"outlinewidth\": 0, \"ticks\": \"\"}}, \"colorscale\": {\"diverging\": [[0, \"#8e0152\"], [0.1, \"#c51b7d\"], [0.2, \"#de77ae\"], [0.3, \"#f1b6da\"], [0.4, \"#fde0ef\"], [0.5, \"#f7f7f7\"], [0.6, \"#e6f5d0\"], [0.7, \"#b8e186\"], [0.8, \"#7fbc41\"], [0.9, \"#4d9221\"], [1, \"#276419\"]], \"sequential\": [[0.0, \"#0d0887\"], [0.1111111111111111, \"#46039f\"], [0.2222222222222222, \"#7201a8\"], [0.3333333333333333, \"#9c179e\"], [0.4444444444444444, \"#bd3786\"], [0.5555555555555556, \"#d8576b\"], [0.6666666666666666, \"#ed7953\"], [0.7777777777777778, \"#fb9f3a\"], [0.8888888888888888, \"#fdca26\"], [1.0, \"#f0f921\"]], \"sequentialminus\": [[0.0, \"#0d0887\"], [0.1111111111111111, \"#46039f\"], [0.2222222222222222, \"#7201a8\"], [0.3333333333333333, \"#9c179e\"], [0.4444444444444444, \"#bd3786\"], [0.5555555555555556, \"#d8576b\"], [0.6666666666666666, \"#ed7953\"], [0.7777777777777778, \"#fb9f3a\"], [0.8888888888888888, \"#fdca26\"], [1.0, \"#f0f921\"]]}, \"colorway\": [\"#636efa\", \"#EF553B\", \"#00cc96\", \"#ab63fa\", \"#FFA15A\", \"#19d3f3\", \"#FF6692\", \"#B6E880\", \"#FF97FF\", \"#FECB52\"], \"font\": {\"color\": \"#2a3f5f\"}, \"geo\": {\"bgcolor\": \"white\", \"lakecolor\": \"white\", \"landcolor\": \"#E5ECF6\", \"showlakes\": true, \"showland\": true, \"subunitcolor\": \"white\"}, \"hoverlabel\": {\"align\": \"left\"}, \"hovermode\": \"closest\", \"mapbox\": {\"style\": \"light\"}, \"paper_bgcolor\": \"white\", \"plot_bgcolor\": \"#E5ECF6\", \"polar\": {\"angularaxis\": {\"gridcolor\": \"white\", \"linecolor\": \"white\", \"ticks\": \"\"}, \"bgcolor\": \"#E5ECF6\", \"radialaxis\": {\"gridcolor\": \"white\", \"linecolor\": \"white\", \"ticks\": \"\"}}, \"scene\": {\"xaxis\": {\"backgroundcolor\": \"#E5ECF6\", \"gridcolor\": \"white\", \"gridwidth\": 2, \"linecolor\": \"white\", \"showbackground\": true, \"ticks\": \"\", \"zerolinecolor\": \"white\"}, \"yaxis\": {\"backgroundcolor\": \"#E5ECF6\", \"gridcolor\": \"white\", \"gridwidth\": 2, \"linecolor\": \"white\", \"showbackground\": true, \"ticks\": \"\", \"zerolinecolor\": \"white\"}, \"zaxis\": {\"backgroundcolor\": \"#E5ECF6\", \"gridcolor\": \"white\", \"gridwidth\": 2, \"linecolor\": \"white\", \"showbackground\": true, \"ticks\": \"\", \"zerolinecolor\": \"white\"}}, \"shapedefaults\": {\"line\": {\"color\": \"#2a3f5f\"}}, \"ternary\": {\"aaxis\": {\"gridcolor\": \"white\", \"linecolor\": \"white\", \"ticks\": \"\"}, \"baxis\": {\"gridcolor\": \"white\", \"linecolor\": \"white\", \"ticks\": \"\"}, \"bgcolor\": \"#E5ECF6\", \"caxis\": {\"gridcolor\": \"white\", \"linecolor\": \"white\", \"ticks\": \"\"}}, \"title\": {\"x\": 0.05}, \"xaxis\": {\"automargin\": true, \"gridcolor\": \"white\", \"linecolor\": \"white\", \"ticks\": \"\", \"title\": {\"standoff\": 15}, \"zerolinecolor\": \"white\", \"zerolinewidth\": 2}, \"yaxis\": {\"automargin\": true, \"gridcolor\": \"white\", \"linecolor\": \"white\", \"ticks\": \"\", \"title\": {\"standoff\": 15}, \"zerolinecolor\": \"white\", \"zerolinewidth\": 2}}}},\n",
              "                        {\"responsive\": true}\n",
              "                    ).then(function(){\n",
              "                            \n",
              "var gd = document.getElementById('d5dbe3ef-cb87-4d10-b2ea-5147a2f344a1');\n",
              "var x = new MutationObserver(function (mutations, observer) {{\n",
              "        var display = window.getComputedStyle(gd).display;\n",
              "        if (!display || display === 'none') {{\n",
              "            console.log([gd, 'removed!']);\n",
              "            Plotly.purge(gd);\n",
              "            observer.disconnect();\n",
              "        }}\n",
              "}});\n",
              "\n",
              "// Listen for the removal of the full notebook cells\n",
              "var notebookContainer = gd.closest('#notebook-container');\n",
              "if (notebookContainer) {{\n",
              "    x.observe(notebookContainer, {childList: true});\n",
              "}}\n",
              "\n",
              "// Listen for the clearing of the current output cell\n",
              "var outputEl = gd.closest('.output');\n",
              "if (outputEl) {{\n",
              "    x.observe(outputEl, {childList: true});\n",
              "}}\n",
              "\n",
              "                        })\n",
              "                };\n",
              "                \n",
              "            </script>\n",
              "        </div>\n",
              "</body>\n",
              "</html>"
            ]
          },
          "metadata": {
            "tags": []
          }
        }
      ]
    },
    {
      "cell_type": "markdown",
      "metadata": {
        "id": "91Ff30XSNNR7"
      },
      "source": [
        "### **K-Means Clustering**\n"
      ]
    },
    {
      "cell_type": "markdown",
      "metadata": {
        "id": "P6mM7ZnSRzl-"
      },
      "source": [
        "#### **Search for the Optimum Number of Clusters (k)**"
      ]
    },
    {
      "cell_type": "code",
      "metadata": {
        "id": "SpLnD52xUy3-",
        "outputId": "f77678b5-d32e-407e-bc5f-a106c9eb10c3",
        "colab": {
          "base_uri": "https://localhost:8080/",
          "height": 0
        }
      },
      "source": [
        "from sklearn.cluster import KMeans\n",
        "inertia_list = []\n",
        "for i in range(1,11):\n",
        "    \n",
        "    kmeans = KMeans(n_clusters = i)\n",
        "    kmeans.fit(clust_data)\n",
        "    inertia_list.append(kmeans.inertia_)\n",
        "plt.figure(figsize = (8,8))\n",
        "plt.plot(range(1,11), inertia_list, color = 'blue', linestyle = 'dashed', marker ='o', markerfacecolor = 'red',\n",
        "         markersize = 10)\n",
        "plt.title('Inertia vs K Value')\n",
        "plt.xticks(range(1,11, 1))\n",
        "plt.xlabel('K')\n",
        "plt.ylabel('Inertia')"
      ],
      "execution_count": 24,
      "outputs": [
        {
          "output_type": "execute_result",
          "data": {
            "text/plain": [
              "Text(0, 0.5, 'Inertia')"
            ]
          },
          "metadata": {
            "tags": []
          },
          "execution_count": 24
        },
        {
          "output_type": "display_data",
          "data": {
            "image/png": "[encoded data removed]",
            "text/plain": [
              "<Figure size 576x576 with 1 Axes>"
            ]
          },
          "metadata": {
            "tags": [],
            "needs_background": "light"
          }
        }
      ]
    },
    {
      "cell_type": "code",
      "metadata": {
        "id": "h5OxgKpZ6WZa",
        "outputId": "4da5ea64-bb02-467a-ef48-4f46ccd1eda0",
        "colab": {
          "base_uri": "https://localhost:8080/",
          "height": 0
        }
      },
      "source": [
        "# Silhoutte Method\n",
        "silsc = []\n",
        "max_sc_kmeans=-999\n",
        "for n_cluster in range(2, 11):\n",
        "    kmeans = KMeans(n_clusters=n_cluster).fit(clust_data)\n",
        "    label = kmeans.labels_\n",
        "    sc_score = metrics.silhouette_score(clust_data, label, metric='euclidean')\n",
        "    ch_score = metrics.calinski_harabasz_score(clust_data, label)\n",
        "    db_score = metrics.davies_bouldin_score(clust_data, label)\n",
        "    print(\"For n_clusters = \", n_cluster, \", The average silhouette_score is:\", sc_score)\n",
        "    if sc_score>= max_sc_kmeans:\n",
        "          max_sc_kmeans = sc_score\n",
        "          max_ch_kmeans = ch_score\n",
        "          max_db_kmeans = db_score\n",
        "          max_k_kmeans = n_cluster\n",
        "    silsc.append(sc_score)\n",
        "\n",
        "# Visualize\n",
        "plt.figure(figsize = (8,8))\n",
        "plt.plot(range(2,11),silsc,'o:')\n",
        "plt.title(\"Silhouette Coefficient in every K\")\n",
        "plt.xlabel(\"Number of Clusters\")\n",
        "plt.ylabel(\"Silhouette Coefficients Skenario 1\")\n",
        "plt.show()"
      ],
      "execution_count": 25,
      "outputs": [
        {
          "output_type": "stream",
          "text": [
            "For n_clusters =  2 , The average silhouette_score is: 0.3031976564160757\n",
            "For n_clusters =  3 , The average silhouette_score is: 0.3142800845203407\n",
            "For n_clusters =  4 , The average silhouette_score is: 0.3502702043465398\n",
            "For n_clusters =  5 , The average silhouette_score is: 0.34977050035201074\n",
            "For n_clusters =  6 , The average silhouette_score is: 0.356485834425401\n",
            "For n_clusters =  7 , The average silhouette_score is: 0.33788007912405765\n",
            "For n_clusters =  8 , The average silhouette_score is: 0.33585047460578055\n",
            "For n_clusters =  9 , The average silhouette_score is: 0.331000653271137\n",
            "For n_clusters =  10 , The average silhouette_score is: 0.3116004895189333\n"
          ],
          "name": "stdout"
        },
        {
          "output_type": "display_data",
          "data": {
            "image/png": "[encoded data removed]",
            "text/plain": [
              "<Figure size 576x576 with 1 Axes>"
            ]
          },
          "metadata": {
            "tags": [],
            "needs_background": "light"
          }
        }
      ]
    },
    {
      "cell_type": "markdown",
      "metadata": {
        "id": "5OePhC7WT-EB"
      },
      "source": [
        "Dari grafik elbow method, grafik mulai melandai setelah titik 6 dan pada grafik silhouette coefficient (SC) nilai SC tertinggi diperoleh pada titik 6. Oleh karena itu k yang digunakan pada algoritma K-means adalah k=6"
      ]
    },
    {
      "cell_type": "markdown",
      "metadata": {
        "id": "yKwkLrtIR-CZ"
      },
      "source": [
        "#### **Modeling K-Means**"
      ]
    },
    {
      "cell_type": "code",
      "metadata": {
        "id": "bKlp7gNzPO6F",
        "outputId": "9222d4ea-bffb-4768-8964-53383fb15c1f",
        "colab": {
          "base_uri": "https://localhost:8080/",
          "height": 0
        }
      },
      "source": [
        "# Apply the K-Means Model to the Data\n",
        "kmeans = KMeans(n_clusters=max_k_kmeans, init='k-means++', max_iter=10, n_init=10, random_state=0)\n",
        "cluster = kmeans.fit_predict(clust_data)\n",
        "clust_data[\"label\"] = kmeans.labels_\n",
        "clust_data.head()"
      ],
      "execution_count": 26,
      "outputs": [
        {
          "output_type": "execute_result",
          "data": {
            "text/html": [
              "<div>\n",
              "<style scoped>\n",
              "    .dataframe tbody tr th:only-of-type {\n",
              "        vertical-align: middle;\n",
              "    }\n",
              "\n",
              "    .dataframe tbody tr th {\n",
              "        vertical-align: top;\n",
              "    }\n",
              "\n",
              "    .dataframe thead th {\n",
              "        text-align: right;\n",
              "    }\n",
              "</style>\n",
              "<table border=\"1\" class=\"dataframe\">\n",
              "  <thead>\n",
              "    <tr style=\"text-align: right;\">\n",
              "      <th></th>\n",
              "      <th>Age</th>\n",
              "      <th>Annual Income</th>\n",
              "      <th>Spending Score</th>\n",
              "      <th>Gender</th>\n",
              "      <th>label</th>\n",
              "    </tr>\n",
              "  </thead>\n",
              "  <tbody>\n",
              "    <tr>\n",
              "      <th>0</th>\n",
              "      <td>-1.424569</td>\n",
              "      <td>-1.738999</td>\n",
              "      <td>-0.434801</td>\n",
              "      <td>1</td>\n",
              "      <td>3</td>\n",
              "    </tr>\n",
              "    <tr>\n",
              "      <th>1</th>\n",
              "      <td>-1.281035</td>\n",
              "      <td>-1.738999</td>\n",
              "      <td>1.195704</td>\n",
              "      <td>1</td>\n",
              "      <td>3</td>\n",
              "    </tr>\n",
              "    <tr>\n",
              "      <th>2</th>\n",
              "      <td>-1.352802</td>\n",
              "      <td>-1.700830</td>\n",
              "      <td>-1.715913</td>\n",
              "      <td>0</td>\n",
              "      <td>4</td>\n",
              "    </tr>\n",
              "    <tr>\n",
              "      <th>3</th>\n",
              "      <td>-1.137502</td>\n",
              "      <td>-1.700830</td>\n",
              "      <td>1.040418</td>\n",
              "      <td>0</td>\n",
              "      <td>3</td>\n",
              "    </tr>\n",
              "    <tr>\n",
              "      <th>4</th>\n",
              "      <td>-0.563369</td>\n",
              "      <td>-1.662660</td>\n",
              "      <td>-0.395980</td>\n",
              "      <td>0</td>\n",
              "      <td>4</td>\n",
              "    </tr>\n",
              "  </tbody>\n",
              "</table>\n",
              "</div>"
            ],
            "text/plain": [
              "        Age  Annual Income  Spending Score  Gender  label\n",
              "0 -1.424569      -1.738999       -0.434801       1      3\n",
              "1 -1.281035      -1.738999        1.195704       1      3\n",
              "2 -1.352802      -1.700830       -1.715913       0      4\n",
              "3 -1.137502      -1.700830        1.040418       0      3\n",
              "4 -0.563369      -1.662660       -0.395980       0      4"
            ]
          },
          "metadata": {
            "tags": []
          },
          "execution_count": 26
        }
      ]
    },
    {
      "cell_type": "code",
      "metadata": {
        "id": "PtVubdM87eUH",
        "outputId": "e063df5b-63a9-4e67-a6c2-bd945e7c99bf",
        "colab": {
          "base_uri": "https://localhost:8080/",
          "height": 0
        }
      },
      "source": [
        "# Visualising Clusters for k=6\n",
        "fig = px.scatter_3d(clust_data, x='Age', y='Annual Income', z='Spending Score',color='label', symbol='Gender',size_max=18, opacity=0.7)\n",
        "\n",
        "# tight layout\n",
        "fig.update_layout(margin=dict(l=0, r=0, b=0, t=0))"
      ],
      "execution_count": 27,
      "outputs": [
        {
          "output_type": "display_data",
          "data": {
            "text/html": [
              "<html>\n",
              "<head><meta charset=\"utf-8\" /></head>\n",
              "<body>\n",
              "    <div>\n",
              "            <script src=\"https://cdnjs.cloudflare.com/ajax/libs/mathjax/2.7.5/MathJax.js?config=TeX-AMS-MML_SVG\"></script><script type=\"text/javascript\">if (window.MathJax) {MathJax.Hub.Config({SVG: {font: \"STIX-Web\"}});}</script>\n",
              "                <script type=\"text/javascript\">window.PlotlyConfig = {MathJaxConfig: 'local'};</script>\n",
              "        <script src=\"https://cdn.plot.ly/plotly-latest.min.js\"></script>    \n",
              "            <div id=\"73d39642-55b8-4d36-b7da-84d03b94ed05\" class=\"plotly-graph-div\" style=\"height:525px; width:100%;\"></div>\n",
              "            <script type=\"text/javascript\">\n",
              "                \n",
              "                    window.PLOTLYENV=window.PLOTLYENV || {};\n",
              "                    \n",
              "                if (document.getElementById(\"73d39642-55b8-4d36-b7da-84d03b94ed05\")) {\n",
              "                    Plotly.newPlot(\n",
              "                        '73d39642-55b8-4d36-b7da-84d03b94ed05',\n",
              "                        [{\"hoverlabel\": {\"namelength\": 0}, \"hovertemplate\": \"Gender=1<br>Age=%{x}<br>Annual Income=%{y}<br>Spending Score=%{z}<br>label=%{marker.color}\", \"legendgroup\": \"Gender=1\", \"marker\": {\"color\": [3, 3, 4, 4, 4, 3, 3, 4, 4, 3, 3, 3, 3, 4, 4, 3, 3, 4, 5, 0, 0, 0, 0, 0, 5, 0, 5, 5, 0, 0, 5, 5, 0, 5, 0, 0, 5, 0, 5, 0, 5, 0, 5, 0, 0, 0, 0, 0, 5, 5, 1, 2, 1, 2, 1, 2, 1, 2, 1, 2, 1, 2, 1, 2, 1, 2, 1, 2, 2, 2, 2, 2, 1, 2, 1, 2, 1, 2, 1, 2, 1, 2, 1, 1, 2, 1, 2, 1], \"coloraxis\": \"coloraxis\", \"opacity\": 0.7, \"symbol\": \"circle\"}, \"mode\": \"markers\", \"name\": \"Gender=1\", \"scene\": \"scene\", \"showlegend\": true, \"type\": \"scatter3d\", \"x\": [-1.4245687900521393, -1.2810354107017978, 1.804932245330544, 2.0202323143560563, -0.13276837589906598, -1.209268721026627, -1.3528021003769686, 0.9437319692284951, -0.2763017552494075, -0.9939686520011148, -0.5633685139500905, -0.706901893300432, -0.2763017552494075, 1.517865486629861, 1.0154986589036659, -1.49633547972731, -1.0657353416762856, 0.6566652105278122, -0.41983513459974897, 1.4460987969546903, 0.5848985208526415, 2.163765693706398, 1.0154986589036659, 2.2355323833815683, -1.4245687900521393, 1.7331655556553733, -1.49633547972731, -1.4245687900521393, 2.2355323833815683, 1.4460987969546903, -0.9222019623259441, 0.08253169312644625, 1.3025654176043489, -0.061001686223895235, 2.0202323143560563, 0.6566652105278122, -1.49633547972731, 0.6566652105278122, -1.0657353416762856, 0.6566652105278122, -1.3528021003769686, 2.0202323143560563, -0.9222019623259441, 0.728431900202983, 1.0872653485788366, 2.091999004031227, 1.9484656246808856, 1.8766989350057148, -1.4245687900521393, -0.8504352726507735, 0.010765003451275509, 0.2978317621519585, 0.08253169312644625, 1.4460987969546903, -0.061001686223895235, 0.5848985208526415, 0.010765003451275509, -1.3528021003769686, -0.49160182427491966, -1.4245687900521393, -0.49160182427491966, -0.9939686520011148, -0.7786685829756027, 0.6566652105278122, -0.3480684449245782, 0.2978317621519585, 0.010765003451275509, -0.13276837589906598, -0.3480684449245782, -1.4245687900521393, 0.8001985898781537, 0.22606507247678773, -0.49160182427491966, 0.08253169312644625, -0.7786685829756027, -0.20453506557423673, -0.20453506557423673, 1.3743321072795196, -0.8504352726507735, 1.4460987969546903, -0.2763017552494075, 0.5131318311774707, -0.6351352036252612, -0.7786685829756027, -0.41983513459974897, -0.49160182427491966, -0.49160182427491966, -0.6351352036252612], \"y\": [-1.7389991930659485, -1.7389991930659485, -1.5863214763788591, -1.5863214763788591, -1.5481520472070869, -1.5481520472070869, -1.5099826180353144, -1.4336437596917697, -1.3954743305199975, -1.3954743305199975, -1.357304901348225, -1.2427966138329078, -1.2427966138329078, -1.1664577554893631, -1.0519494679740462, -1.0519494679740462, -0.8611023221151844, -0.8229328929434121, -0.7084246054280949, -0.6702551762563226, -0.6702551762563226, -0.6320857470845502, -0.5557468887410055, -0.5557468887410055, -0.5557468887410055, -0.4794080303974609, -0.4794080303974609, -0.4794080303974609, -0.44123860122568853, -0.2503914553668267, -0.2503914553668267, -0.2503914553668267, -0.2503914553668267, -0.2503914553668267, -0.2503914553668267, -0.2503914553668267, -0.05954430950796496, -0.021374880336192604, -0.021374880336192604, 0.01679454883557975, 0.01679454883557975, 0.0549639780073521, 0.0549639780073521, 0.0549639780073521, 0.09313340717912445, 0.09313340717912445, 0.09313340717912445, 0.09313340717912445, 0.13130283635089682, 0.24581112386621387, 0.3221499822097586, 0.3984888405533033, 0.3984888405533033, 0.3984888405533033, 0.3984888405533033, 0.3984888405533033, 0.3984888405533033, 0.474827698896848, 0.474827698896848, 0.5129971280686204, 0.5511665572403928, 0.6275054155839375, 0.6275054155839375, 0.6275054155839375, 0.6656748447557098, 0.6656748447557098, 0.6656748447557098, 0.6656748447557098, 0.6656748447557098, 0.7801831322710269, 0.9328608489581163, 0.9710302781298886, 1.009199707301661, 1.009199707301661, 1.009199707301661, 1.009199707301661, 1.009199707301661, 1.0473691364734332, 1.0473691364734332, 1.238216282332295, 1.238216282332295, 1.429063428191157, 1.4672328573629292, 1.543571715706474, 2.0016048657677423, 2.4978074450007828, 2.9176711658902788, 2.9176711658902788], \"z\": [-0.43480147996914814, 1.195704069915157, -1.832377665584267, -1.405340497757425, -1.444162058468956, 1.118060948492095, 0.6133806592421909, -0.823017087084459, -0.5900877228152724, 0.8851315842229084, 0.8851315842229084, 1.234525630626688, 0.4192728556845355, -1.7935561048727358, -1.7935561048727358, 1.622741237741999, 1.622741237741999, -0.5512661621037414, 0.38045129497300445, 0.38045129497300445, -0.357158358546086, -0.16305055498843063, -0.16305055498843063, 0.22516505212688012, 0.18634349141534906, 0.03105724856922475, 0.34162973426147336, 0.34162973426147336, 0.18634349141534906, -0.12422899427689955, 0.14752193070381797, -0.08540743356536848, 0.03105724856922475, 0.18634349141534906, -0.357158358546086, -0.16305055498843063, -0.357158358546086, -0.046585872853837404, 0.06987880928075582, -0.31833679783455493, -0.046585872853837404, 0.34162973426147336, 0.18634349141534906, 0.22516505212688012, -0.16305055498843063, -0.27951523712302384, -0.08540743356536848, 0.06987880928075582, -0.16305055498843063, 0.22516505212688012, 1.5839196770304678, -0.5900877228152724, 1.7392059198765921, -1.5218051798920182, 0.9627747056459706, -1.5994483013150804, 0.9627747056459706, -1.7547345441612048, 0.8851315842229084, -1.5606267406035494, 1.66156279845353, -1.4829836191804873, 1.8168490412996543, -0.5512661621037414, 1.5450981163189368, -1.288875815622832, 1.4674549948958746, -1.9100207870073291, -1.9100207870073291, -1.7547345441612048, -0.9394817692190521, -1.1724111334882386, 0.49691597710759766, -1.444162058468956, 0.9627747056459706, -1.5606267406035494, 1.622741237741999, -1.3665189370458939, 0.7298453413767841, -1.405340497757425, 1.5450981163189368, -1.3665189370458939, 1.8168490412996543, 0.691023780665253, -1.6382698620266116, 0.9239531449344395, -1.2500542549113007, 1.2733471913382193]}, {\"hoverlabel\": {\"namelength\": 0}, \"hovertemplate\": \"Gender=0<br>Age=%{x}<br>Annual Income=%{y}<br>Spending Score=%{z}<br>label=%{marker.color}\", \"legendgroup\": \"Gender=0\", \"marker\": {\"color\": [4, 3, 4, 3, 4, 3, 3, 3, 4, 3, 4, 3, 4, 4, 4, 4, 3, 3, 4, 3, 4, 3, 4, 3, 0, 5, 4, 3, 0, 5, 5, 5, 0, 5, 0, 0, 5, 0, 0, 0, 0, 5, 0, 0, 0, 0, 5, 0, 0, 5, 0, 5, 5, 0, 0, 5, 5, 0, 5, 5, 0, 5, 0, 5, 5, 5, 5, 0, 0, 0, 0, 5, 5, 5, 1, 5, 1, 1, 2, 1, 2, 5, 1, 1, 2, 2, 1, 2, 1, 1, 1, 0, 1, 1, 1, 1, 2, 2, 1, 2, 1, 1, 2, 2, 2, 1, 2, 1, 1, 2, 1, 2], \"coloraxis\": \"coloraxis\", \"opacity\": 0.7, \"symbol\": \"diamond\"}, \"mode\": \"markers\", \"name\": \"Gender=0\", \"scene\": \"scene\", \"showlegend\": true, \"type\": \"scatter3d\", \"x\": [-1.3528021003769686, -1.1375020313514563, -0.5633685139500905, -1.209268721026627, -0.2763017552494075, -1.1375020313514563, -0.6351352036252612, -0.2763017552494075, 1.3743321072795196, -1.0657353416762856, -0.2763017552494075, -0.2763017552494075, 0.5131318311774707, 1.0872653485788366, 0.44136514150229994, 0.08253169312644625, -1.1375020313514563, -1.2810354107017978, 0.728431900202983, -1.2810354107017978, 0.22606507247678773, -0.6351352036252612, -0.20453506557423673, -1.3528021003769686, 1.8766989350057148, -0.5633685139500905, 0.728431900202983, -1.0657353416762856, 0.8001985898781537, -0.8504352726507735, -0.706901893300432, -0.5633685139500905, 0.728431900202983, -0.5633685139500905, 0.8001985898781537, 0.8719652795533244, -0.8504352726507735, 2.0202323143560563, 1.0872653485788366, 0.2978317621519585, 2.091999004031227, -0.49160182427491966, 0.5848985208526415, 1.517865486629861, 1.517865486629861, 0.44136514150229994, -1.1375020313514563, 0.728431900202983, 0.5131318311774707, -1.2810354107017978, 1.1590320382540074, -1.209268721026627, -0.3480684449245782, 0.8001985898781537, 2.091999004031227, 0.08253169312644625, -0.49160182427491966, 0.5848985208526415, -0.8504352726507735, -1.1375020313514563, 0.728431900202983, -1.2810354107017978, 1.9484656246808856, -1.4245687900521393, -0.061001686223895235, -1.49633547972731, -1.4245687900521393, 1.7331655556553733, 0.728431900202983, 0.8719652795533244, 0.8001985898781537, -0.061001686223895235, 0.08253169312644625, -1.1375020313514563, -0.5633685139500905, -0.9939686520011148, -0.5633685139500905, -0.706901893300432, 0.36959845182712925, -0.2763017552494075, 1.3025654176043489, -0.7786685829756027, -0.49160182427491966, -0.49160182427491966, -0.3480684449245782, 0.36959845182712925, -0.061001686223895235, 0.5848985208526415, -0.8504352726507735, -0.6351352036252612, -0.6351352036252612, 1.230798727929178, -0.706901893300432, -0.5633685139500905, -0.20453506557423673, -0.41983513459974897, -0.20453506557423673, 0.9437319692284951, -0.6351352036252612, -0.13276837589906598, -0.49160182427491966, -0.706901893300432, 0.154298382801617, 1.0872653485788366, 0.154298382801617, -0.20453506557423673, -0.3480684449245782, -0.49160182427491966, -0.061001686223895235, 0.5848985208526415, -0.2763017552494075, 0.44136514150229994], \"y\": [-1.7008297638941763, -1.7008297638941763, -1.6626603347224038, -1.6626603347224038, -1.6244909055506316, -1.6244909055506316, -1.5863214763788591, -1.5863214763788591, -1.5481520472070869, -1.5481520472070869, -1.5099826180353144, -1.4336437596917697, -1.357304901348225, -1.2427966138329078, -1.2427966138329078, -1.2046271846611356, -1.2046271846611356, -1.1664577554893631, -1.0519494679740462, -1.0519494679740462, -1.0137800388022737, -1.0137800388022737, -0.8992717512869568, -0.8992717512869568, -0.8611023221151844, -0.8229328929434121, -0.8229328929434121, -0.8229328929434121, -0.7847634637716397, -0.7847634637716397, -0.7847634637716397, -0.7847634637716397, -0.7084246054280949, -0.6702551762563226, -0.6702551762563226, -0.6320857470845502, -0.5557468887410055, -0.5175774595692332, -0.5175774595692332, -0.4794080303974609, -0.4794080303974609, -0.4794080303974609, -0.44123860122568853, -0.4030691720539161, -0.4030691720539161, -0.2503914553668267, -0.2503914553668267, -0.2503914553668267, -0.2503914553668267, -0.2503914553668267, -0.13588316785150967, -0.13588316785150967, -0.09771373867973732, -0.09771373867973732, -0.05954430950796496, -0.021374880336192604, -0.021374880336192604, -0.021374880336192604, -0.021374880336192604, 0.0549639780073521, 0.0549639780073521, 0.0549639780073521, 0.09313340717912445, 0.09313340717912445, 0.13130283635089682, 0.16947226552266917, 0.16947226552266917, 0.16947226552266917, 0.16947226552266917, 0.24581112386621387, 0.24581112386621387, 0.24581112386621387, 0.3221499822097586, 0.36031941138153095, 0.36031941138153095, 0.43665826972507565, 0.43665826972507565, 0.474827698896848, 0.474827698896848, 0.5129971280686204, 0.5511665572403928, 0.5893359864121651, 0.5893359864121651, 0.6275054155839375, 0.6656748447557098, 0.6656748447557098, 0.6656748447557098, 0.6656748447557098, 0.6656748447557098, 0.6656748447557098, 0.6656748447557098, 0.7038442739274822, 0.7038442739274822, 0.7801831322710269, 0.9328608489581163, 0.9710302781298886, 1.009199707301661, 1.0473691364734332, 1.0473691364734332, 1.3908939990193845, 1.3908939990193845, 1.429063428191157, 1.4672328573629292, 1.543571715706474, 1.6199105740500186, 1.6199105740500186, 1.6199105740500186, 1.6199105740500186, 2.0016048657677423, 2.2687908699701484, 2.2687908699701484, 2.4978074450007828], \"z\": [-1.7159129834496736, 1.0404178270690327, -0.3959799192576171, 1.0015962663575015, -1.7159129834496736, 1.700384359165061, 0.8463100235113773, 1.8944921627227165, -1.3665189370458939, 1.0404178270690327, -0.5900877228152724, 1.8556706020111853, -1.7547345441612048, -1.405340497757425, -0.7065524049498657, -0.7453739656613968, 1.4286334341843434, 0.8851315842229084, -1.405340497757425, 1.195704069915157, -1.288875815622832, 0.8851315842229084, -0.9394817692190521, 0.9627747056459706, -0.5900877228152724, 0.4192728556845355, -0.86183864779599, 0.5745590985306598, 0.18634349141534906, -0.12422899427689955, -0.31833679783455493, -0.31833679783455493, 0.06987880928075582, 0.14752193070381797, -0.20187211569996172, -0.007764312142306325, 0.03105724856922475, 0.06987880928075582, 0.34162973426147336, -0.007764312142306325, -0.08540743356536848, -0.12422899427689955, -0.31833679783455493, -0.046585872853837404, 0.22516505212688012, 0.1087003699922869, 0.06987880928075582, -0.31833679783455493, -0.24069367641149278, 0.2639866128384112, 0.30280817354994227, 0.18634349141534906, 0.38045129497300445, -0.16305055498843063, 0.18634349141534906, -0.3959799192576171, -0.31833679783455493, -0.12422899427689955, -0.007764312142306325, -0.357158358546086, -0.08540743356536848, -0.31833679783455493, -0.007764312142306325, 0.14752193070381797, -0.31833679783455493, -0.08540743356536848, -0.007764312142306325, -0.27951523712302384, 0.34162973426147336, -0.27951523712302384, 0.2639866128384112, -0.3959799192576171, 0.30280817354994227, -0.823017087084459, 1.0404178270690327, -0.6289092835268035, 0.8074884627998463, 1.4674549948958746, -1.6770914227381426, 0.8463100235113773, -1.7547345441612048, -0.3959799192576171, 1.4286334341843434, 0.9239531449344395, -1.0947680120651764, -1.1724111334882386, 1.0015962663575015, -1.327697376334363, 1.5062765556074056, 1.0792393877805637, 0.8851315842229084, -0.5900877228152724, 1.2733471913382193, 1.66156279845353, 0.9627747056459706, 1.7392059198765921, -0.900660208507521, -1.444162058468956, 1.3898118734728124, -0.7065524049498657, 1.3898118734728124, 1.4674549948958746, -0.43480147996914814, -1.0171248906421142, -1.288875815622832, 1.3509903127612812, -1.0559464513536454, 0.7298453413767841, 1.5839196770304678, -1.327697376334363, 1.118060948492095, -0.86183864779599]}],\n",
              "                        {\"coloraxis\": {\"colorbar\": {\"title\": {\"text\": \"label\"}}, \"colorscale\": [[0.0, \"#0d0887\"], [0.1111111111111111, \"#46039f\"], [0.2222222222222222, \"#7201a8\"], [0.3333333333333333, \"#9c179e\"], [0.4444444444444444, \"#bd3786\"], [0.5555555555555556, \"#d8576b\"], [0.6666666666666666, \"#ed7953\"], [0.7777777777777778, \"#fb9f3a\"], [0.8888888888888888, \"#fdca26\"], [1.0, \"#f0f921\"]]}, \"legend\": {\"tracegroupgap\": 0}, \"margin\": {\"b\": 0, \"l\": 0, \"r\": 0, \"t\": 0}, \"scene\": {\"domain\": {\"x\": [0.0, 1.0], \"y\": [0.0, 1.0]}, \"xaxis\": {\"title\": {\"text\": \"Age\"}}, \"yaxis\": {\"title\": {\"text\": \"Annual Income\"}}, \"zaxis\": {\"title\": {\"text\": \"Spending Score\"}}}, \"template\": {\"data\": {\"bar\": [{\"error_x\": {\"color\": \"#2a3f5f\"}, \"error_y\": {\"color\": \"#2a3f5f\"}, \"marker\": {\"line\": {\"color\": \"#E5ECF6\", \"width\": 0.5}}, \"type\": \"bar\"}], \"barpolar\": [{\"marker\": {\"line\": {\"color\": \"#E5ECF6\", \"width\": 0.5}}, \"type\": \"barpolar\"}], \"carpet\": [{\"aaxis\": {\"endlinecolor\": \"#2a3f5f\", \"gridcolor\": \"white\", \"linecolor\": \"white\", \"minorgridcolor\": \"white\", \"startlinecolor\": \"#2a3f5f\"}, \"baxis\": {\"endlinecolor\": \"#2a3f5f\", \"gridcolor\": \"white\", \"linecolor\": \"white\", \"minorgridcolor\": \"white\", \"startlinecolor\": \"#2a3f5f\"}, \"type\": \"carpet\"}], \"choropleth\": [{\"colorbar\": {\"outlinewidth\": 0, \"ticks\": \"\"}, \"type\": \"choropleth\"}], \"contour\": [{\"colorbar\": {\"outlinewidth\": 0, \"ticks\": \"\"}, \"colorscale\": [[0.0, \"#0d0887\"], [0.1111111111111111, \"#46039f\"], [0.2222222222222222, \"#7201a8\"], [0.3333333333333333, \"#9c179e\"], [0.4444444444444444, \"#bd3786\"], [0.5555555555555556, \"#d8576b\"], [0.6666666666666666, \"#ed7953\"], [0.7777777777777778, \"#fb9f3a\"], [0.8888888888888888, \"#fdca26\"], [1.0, \"#f0f921\"]], \"type\": \"contour\"}], \"contourcarpet\": [{\"colorbar\": {\"outlinewidth\": 0, \"ticks\": \"\"}, \"type\": \"contourcarpet\"}], \"heatmap\": [{\"colorbar\": {\"outlinewidth\": 0, \"ticks\": \"\"}, \"colorscale\": [[0.0, \"#0d0887\"], [0.1111111111111111, \"#46039f\"], [0.2222222222222222, \"#7201a8\"], [0.3333333333333333, \"#9c179e\"], [0.4444444444444444, \"#bd3786\"], [0.5555555555555556, \"#d8576b\"], [0.6666666666666666, \"#ed7953\"], [0.7777777777777778, \"#fb9f3a\"], [0.8888888888888888, \"#fdca26\"], [1.0, \"#f0f921\"]], \"type\": \"heatmap\"}], \"heatmapgl\": [{\"colorbar\": {\"outlinewidth\": 0, \"ticks\": \"\"}, \"colorscale\": [[0.0, \"#0d0887\"], [0.1111111111111111, \"#46039f\"], [0.2222222222222222, \"#7201a8\"], [0.3333333333333333, \"#9c179e\"], [0.4444444444444444, \"#bd3786\"], [0.5555555555555556, \"#d8576b\"], [0.6666666666666666, \"#ed7953\"], [0.7777777777777778, \"#fb9f3a\"], [0.8888888888888888, \"#fdca26\"], [1.0, \"#f0f921\"]], \"type\": \"heatmapgl\"}], \"histogram\": [{\"marker\": {\"colorbar\": {\"outlinewidth\": 0, \"ticks\": \"\"}}, \"type\": \"histogram\"}], \"histogram2d\": [{\"colorbar\": {\"outlinewidth\": 0, \"ticks\": \"\"}, \"colorscale\": [[0.0, \"#0d0887\"], [0.1111111111111111, \"#46039f\"], [0.2222222222222222, \"#7201a8\"], [0.3333333333333333, \"#9c179e\"], [0.4444444444444444, \"#bd3786\"], [0.5555555555555556, \"#d8576b\"], [0.6666666666666666, \"#ed7953\"], [0.7777777777777778, \"#fb9f3a\"], [0.8888888888888888, \"#fdca26\"], [1.0, \"#f0f921\"]], \"type\": \"histogram2d\"}], \"histogram2dcontour\": [{\"colorbar\": {\"outlinewidth\": 0, \"ticks\": \"\"}, \"colorscale\": [[0.0, \"#0d0887\"], [0.1111111111111111, \"#46039f\"], [0.2222222222222222, \"#7201a8\"], [0.3333333333333333, \"#9c179e\"], [0.4444444444444444, \"#bd3786\"], [0.5555555555555556, \"#d8576b\"], [0.6666666666666666, \"#ed7953\"], [0.7777777777777778, \"#fb9f3a\"], [0.8888888888888888, \"#fdca26\"], [1.0, \"#f0f921\"]], \"type\": \"histogram2dcontour\"}], \"mesh3d\": [{\"colorbar\": {\"outlinewidth\": 0, \"ticks\": \"\"}, \"type\": \"mesh3d\"}], \"parcoords\": [{\"line\": {\"colorbar\": {\"outlinewidth\": 0, \"ticks\": \"\"}}, \"type\": \"parcoords\"}], \"pie\": [{\"automargin\": true, \"type\": \"pie\"}], \"scatter\": [{\"marker\": {\"colorbar\": {\"outlinewidth\": 0, \"ticks\": \"\"}}, \"type\": \"scatter\"}], \"scatter3d\": [{\"line\": {\"colorbar\": {\"outlinewidth\": 0, \"ticks\": \"\"}}, \"marker\": {\"colorbar\": {\"outlinewidth\": 0, \"ticks\": \"\"}}, \"type\": \"scatter3d\"}], \"scattercarpet\": [{\"marker\": {\"colorbar\": {\"outlinewidth\": 0, \"ticks\": \"\"}}, \"type\": \"scattercarpet\"}], \"scattergeo\": [{\"marker\": {\"colorbar\": {\"outlinewidth\": 0, \"ticks\": \"\"}}, \"type\": \"scattergeo\"}], \"scattergl\": [{\"marker\": {\"colorbar\": {\"outlinewidth\": 0, \"ticks\": \"\"}}, \"type\": \"scattergl\"}], \"scattermapbox\": [{\"marker\": {\"colorbar\": {\"outlinewidth\": 0, \"ticks\": \"\"}}, \"type\": \"scattermapbox\"}], \"scatterpolar\": [{\"marker\": {\"colorbar\": {\"outlinewidth\": 0, \"ticks\": \"\"}}, \"type\": \"scatterpolar\"}], \"scatterpolargl\": [{\"marker\": {\"colorbar\": {\"outlinewidth\": 0, \"ticks\": \"\"}}, \"type\": \"scatterpolargl\"}], \"scatterternary\": [{\"marker\": {\"colorbar\": {\"outlinewidth\": 0, \"ticks\": \"\"}}, \"type\": \"scatterternary\"}], \"surface\": [{\"colorbar\": {\"outlinewidth\": 0, \"ticks\": \"\"}, \"colorscale\": [[0.0, \"#0d0887\"], [0.1111111111111111, \"#46039f\"], [0.2222222222222222, \"#7201a8\"], [0.3333333333333333, \"#9c179e\"], [0.4444444444444444, \"#bd3786\"], [0.5555555555555556, \"#d8576b\"], [0.6666666666666666, \"#ed7953\"], [0.7777777777777778, \"#fb9f3a\"], [0.8888888888888888, \"#fdca26\"], [1.0, \"#f0f921\"]], \"type\": \"surface\"}], \"table\": [{\"cells\": {\"fill\": {\"color\": \"#EBF0F8\"}, \"line\": {\"color\": \"white\"}}, \"header\": {\"fill\": {\"color\": \"#C8D4E3\"}, \"line\": {\"color\": \"white\"}}, \"type\": \"table\"}]}, \"layout\": {\"annotationdefaults\": {\"arrowcolor\": \"#2a3f5f\", \"arrowhead\": 0, \"arrowwidth\": 1}, \"coloraxis\": {\"colorbar\": {\"outlinewidth\": 0, \"ticks\": \"\"}}, \"colorscale\": {\"diverging\": [[0, \"#8e0152\"], [0.1, \"#c51b7d\"], [0.2, \"#de77ae\"], [0.3, \"#f1b6da\"], [0.4, \"#fde0ef\"], [0.5, \"#f7f7f7\"], [0.6, \"#e6f5d0\"], [0.7, \"#b8e186\"], [0.8, \"#7fbc41\"], [0.9, \"#4d9221\"], [1, \"#276419\"]], \"sequential\": [[0.0, \"#0d0887\"], [0.1111111111111111, \"#46039f\"], [0.2222222222222222, \"#7201a8\"], [0.3333333333333333, \"#9c179e\"], [0.4444444444444444, \"#bd3786\"], [0.5555555555555556, \"#d8576b\"], [0.6666666666666666, \"#ed7953\"], [0.7777777777777778, \"#fb9f3a\"], [0.8888888888888888, \"#fdca26\"], [1.0, \"#f0f921\"]], \"sequentialminus\": [[0.0, \"#0d0887\"], [0.1111111111111111, \"#46039f\"], [0.2222222222222222, \"#7201a8\"], [0.3333333333333333, \"#9c179e\"], [0.4444444444444444, \"#bd3786\"], [0.5555555555555556, \"#d8576b\"], [0.6666666666666666, \"#ed7953\"], [0.7777777777777778, \"#fb9f3a\"], [0.8888888888888888, \"#fdca26\"], [1.0, \"#f0f921\"]]}, \"colorway\": [\"#636efa\", \"#EF553B\", \"#00cc96\", \"#ab63fa\", \"#FFA15A\", \"#19d3f3\", \"#FF6692\", \"#B6E880\", \"#FF97FF\", \"#FECB52\"], \"font\": {\"color\": \"#2a3f5f\"}, \"geo\": {\"bgcolor\": \"white\", \"lakecolor\": \"white\", \"landcolor\": \"#E5ECF6\", \"showlakes\": true, \"showland\": true, \"subunitcolor\": \"white\"}, \"hoverlabel\": {\"align\": \"left\"}, \"hovermode\": \"closest\", \"mapbox\": {\"style\": \"light\"}, \"paper_bgcolor\": \"white\", \"plot_bgcolor\": \"#E5ECF6\", \"polar\": {\"angularaxis\": {\"gridcolor\": \"white\", \"linecolor\": \"white\", \"ticks\": \"\"}, \"bgcolor\": \"#E5ECF6\", \"radialaxis\": {\"gridcolor\": \"white\", \"linecolor\": \"white\", \"ticks\": \"\"}}, \"scene\": {\"xaxis\": {\"backgroundcolor\": \"#E5ECF6\", \"gridcolor\": \"white\", \"gridwidth\": 2, \"linecolor\": \"white\", \"showbackground\": true, \"ticks\": \"\", \"zerolinecolor\": \"white\"}, \"yaxis\": {\"backgroundcolor\": \"#E5ECF6\", \"gridcolor\": \"white\", \"gridwidth\": 2, \"linecolor\": \"white\", \"showbackground\": true, \"ticks\": \"\", \"zerolinecolor\": \"white\"}, \"zaxis\": {\"backgroundcolor\": \"#E5ECF6\", \"gridcolor\": \"white\", \"gridwidth\": 2, \"linecolor\": \"white\", \"showbackground\": true, \"ticks\": \"\", \"zerolinecolor\": \"white\"}}, \"shapedefaults\": {\"line\": {\"color\": \"#2a3f5f\"}}, \"ternary\": {\"aaxis\": {\"gridcolor\": \"white\", \"linecolor\": \"white\", \"ticks\": \"\"}, \"baxis\": {\"gridcolor\": \"white\", \"linecolor\": \"white\", \"ticks\": \"\"}, \"bgcolor\": \"#E5ECF6\", \"caxis\": {\"gridcolor\": \"white\", \"linecolor\": \"white\", \"ticks\": \"\"}}, \"title\": {\"x\": 0.05}, \"xaxis\": {\"automargin\": true, \"gridcolor\": \"white\", \"linecolor\": \"white\", \"ticks\": \"\", \"title\": {\"standoff\": 15}, \"zerolinecolor\": \"white\", \"zerolinewidth\": 2}, \"yaxis\": {\"automargin\": true, \"gridcolor\": \"white\", \"linecolor\": \"white\", \"ticks\": \"\", \"title\": {\"standoff\": 15}, \"zerolinecolor\": \"white\", \"zerolinewidth\": 2}}}},\n",
              "                        {\"responsive\": true}\n",
              "                    ).then(function(){\n",
              "                            \n",
              "var gd = document.getElementById('73d39642-55b8-4d36-b7da-84d03b94ed05');\n",
              "var x = new MutationObserver(function (mutations, observer) {{\n",
              "        var display = window.getComputedStyle(gd).display;\n",
              "        if (!display || display === 'none') {{\n",
              "            console.log([gd, 'removed!']);\n",
              "            Plotly.purge(gd);\n",
              "            observer.disconnect();\n",
              "        }}\n",
              "}});\n",
              "\n",
              "// Listen for the removal of the full notebook cells\n",
              "var notebookContainer = gd.closest('#notebook-container');\n",
              "if (notebookContainer) {{\n",
              "    x.observe(notebookContainer, {childList: true});\n",
              "}}\n",
              "\n",
              "// Listen for the clearing of the current output cell\n",
              "var outputEl = gd.closest('.output');\n",
              "if (outputEl) {{\n",
              "    x.observe(outputEl, {childList: true});\n",
              "}}\n",
              "\n",
              "                        })\n",
              "                };\n",
              "                \n",
              "            </script>\n",
              "        </div>\n",
              "</body>\n",
              "</html>"
            ]
          },
          "metadata": {
            "tags": []
          }
        }
      ]
    },
    {
      "cell_type": "markdown",
      "metadata": {
        "id": "zXMN_8rDAbWU"
      },
      "source": [
        "### **Agglomeration Clustering (AGNES)**\n"
      ]
    },
    {
      "cell_type": "markdown",
      "metadata": {
        "id": "1770FwuuWNjw"
      },
      "source": [
        "#### **Ward Method**"
      ]
    },
    {
      "cell_type": "markdown",
      "metadata": {
        "id": "KHqs1FUOAbWq"
      },
      "source": [
        "##### **Visualization by Dendrogram**\n"
      ]
    },
    {
      "cell_type": "code",
      "metadata": {
        "id": "t_kF36YxCMzM"
      },
      "source": [
        "link = 'ward'\n",
        "clust_data = clust_data.drop(columns='label')\n",
        "Z = hierarchy.linkage(clust_data, link)"
      ],
      "execution_count": 28,
      "outputs": []
    },
    {
      "cell_type": "code",
      "metadata": {
        "id": "j-rTbaMxAbWu",
        "outputId": "2f729253-9d33-41cf-aa05-3895aa51ba69",
        "colab": {
          "base_uri": "https://localhost:8080/",
          "height": 0
        }
      },
      "source": [
        "figure(num=None, figsize=(15,10), facecolor='w', edgecolor='k')\n",
        "plt.title('Hierarchical Clustering Dendrogram')\n",
        "\n",
        "# plot the top 8 levels of the dendrogram\n",
        "dendrogram(Z, truncate_mode='lastp',p=8, orientation=\"right\")\n",
        "plt.ylabel(\"Number of points in node (or index of point if no parenthesis)\")\n",
        "plt.xlabel(\"Distance\")\n",
        "plt.show()"
      ],
      "execution_count": 29,
      "outputs": [
        {
          "output_type": "display_data",
          "data": {
            "image/png": "[encoded data removed]",
            "text/plain": [
              "<Figure size 1080x720 with 1 Axes>"
            ]
          },
          "metadata": {
            "tags": []
          }
        }
      ]
    },
    {
      "cell_type": "code",
      "metadata": {
        "id": "Jb-bj_8pB_kM",
        "outputId": "c16d89a0-0468-42e3-b73f-13078671f66c",
        "colab": {
          "base_uri": "https://localhost:8080/"
        }
      },
      "source": [
        "max_sc_ward=-999\n",
        "for n_cluster in range(2,11):\n",
        "    label= fcluster(Z, n_cluster, criterion='maxclust')\n",
        "    sc_score = metrics.silhouette_score(clust_data, label, metric='euclidean')\n",
        "    ch_score = metrics.calinski_harabasz_score(clust_data, label)\n",
        "    db_score = metrics.davies_bouldin_score(clust_data, label)\n",
        "    print(\"For n_clusters = \", n_cluster, \", The average silhouette_score is:\", sc_score)\n",
        "    if sc_score>= max_sc_ward:\n",
        "          max_sc_ward = sc_score\n",
        "          max_ch_ward = ch_score\n",
        "          max_db_ward = db_score\n",
        "          max_k_ward = n_cluster\n",
        "\n",
        "print('So k with highest SC is: ',max_k_ward)"
      ],
      "execution_count": 30,
      "outputs": [
        {
          "output_type": "stream",
          "text": [
            "For n_clusters =  2 , The average silhouette_score is: 0.2923040670626512\n",
            "For n_clusters =  3 , The average silhouette_score is: 0.30972453727559257\n",
            "For n_clusters =  4 , The average silhouette_score is: 0.3299052543211478\n",
            "For n_clusters =  5 , The average silhouette_score is: 0.3477559149875169\n",
            "For n_clusters =  6 , The average silhouette_score is: 0.3504439354681972\n",
            "For n_clusters =  7 , The average silhouette_score is: 0.31540515140480885\n",
            "For n_clusters =  8 , The average silhouette_score is: 0.3251665677691028\n",
            "For n_clusters =  9 , The average silhouette_score is: 0.3232594519434537\n",
            "For n_clusters =  10 , The average silhouette_score is: 0.3246005763651097\n",
            "So k with highest SC is:  6\n"
          ],
          "name": "stdout"
        }
      ]
    },
    {
      "cell_type": "markdown",
      "metadata": {
        "id": "1H2lV3AWAbXK"
      },
      "source": [
        "##### **Modeling AGNES**"
      ]
    },
    {
      "cell_type": "code",
      "metadata": {
        "id": "8m2E4L4GAbXA",
        "outputId": "aa8ffbea-e10d-4c90-99d4-74f1f3e9d30a",
        "colab": {
          "base_uri": "https://localhost:8080/",
          "height": 0
        }
      },
      "source": [
        "# Apply the Hierarchical Clustering Model to the Dataset\n",
        "cluster_labels= fcluster(Z, max_k_ward, criterion='maxclust')\n",
        "clust_data[\"label\"] = cluster_labels\n",
        "clust_data.head()"
      ],
      "execution_count": 31,
      "outputs": [
        {
          "output_type": "execute_result",
          "data": {
            "text/html": [
              "<div>\n",
              "<style scoped>\n",
              "    .dataframe tbody tr th:only-of-type {\n",
              "        vertical-align: middle;\n",
              "    }\n",
              "\n",
              "    .dataframe tbody tr th {\n",
              "        vertical-align: top;\n",
              "    }\n",
              "\n",
              "    .dataframe thead th {\n",
              "        text-align: right;\n",
              "    }\n",
              "</style>\n",
              "<table border=\"1\" class=\"dataframe\">\n",
              "  <thead>\n",
              "    <tr style=\"text-align: right;\">\n",
              "      <th></th>\n",
              "      <th>Age</th>\n",
              "      <th>Annual Income</th>\n",
              "      <th>Spending Score</th>\n",
              "      <th>Gender</th>\n",
              "      <th>label</th>\n",
              "    </tr>\n",
              "  </thead>\n",
              "  <tbody>\n",
              "    <tr>\n",
              "      <th>0</th>\n",
              "      <td>-1.424569</td>\n",
              "      <td>-1.738999</td>\n",
              "      <td>-0.434801</td>\n",
              "      <td>1</td>\n",
              "      <td>5</td>\n",
              "    </tr>\n",
              "    <tr>\n",
              "      <th>1</th>\n",
              "      <td>-1.281035</td>\n",
              "      <td>-1.738999</td>\n",
              "      <td>1.195704</td>\n",
              "      <td>1</td>\n",
              "      <td>2</td>\n",
              "    </tr>\n",
              "    <tr>\n",
              "      <th>2</th>\n",
              "      <td>-1.352802</td>\n",
              "      <td>-1.700830</td>\n",
              "      <td>-1.715913</td>\n",
              "      <td>0</td>\n",
              "      <td>5</td>\n",
              "    </tr>\n",
              "    <tr>\n",
              "      <th>3</th>\n",
              "      <td>-1.137502</td>\n",
              "      <td>-1.700830</td>\n",
              "      <td>1.040418</td>\n",
              "      <td>0</td>\n",
              "      <td>2</td>\n",
              "    </tr>\n",
              "    <tr>\n",
              "      <th>4</th>\n",
              "      <td>-0.563369</td>\n",
              "      <td>-1.662660</td>\n",
              "      <td>-0.395980</td>\n",
              "      <td>0</td>\n",
              "      <td>5</td>\n",
              "    </tr>\n",
              "  </tbody>\n",
              "</table>\n",
              "</div>"
            ],
            "text/plain": [
              "        Age  Annual Income  Spending Score  Gender  label\n",
              "0 -1.424569      -1.738999       -0.434801       1      5\n",
              "1 -1.281035      -1.738999        1.195704       1      2\n",
              "2 -1.352802      -1.700830       -1.715913       0      5\n",
              "3 -1.137502      -1.700830        1.040418       0      2\n",
              "4 -0.563369      -1.662660       -0.395980       0      5"
            ]
          },
          "metadata": {
            "tags": []
          },
          "execution_count": 31
        }
      ]
    },
    {
      "cell_type": "code",
      "metadata": {
        "id": "9KTyJy0pAbXW",
        "outputId": "0f8a5d59-7305-4c80-c60f-7acc4080a204",
        "colab": {
          "base_uri": "https://localhost:8080/",
          "height": 0
        }
      },
      "source": [
        "# Visualising Clusters for k=6\n",
        "fig = px.scatter_3d(clust_data, x='Age', y='Annual Income', z='Spending Score',color='label',symbol='Gender', size_max=18, opacity=0.7)\n",
        "\n",
        "# tight layout\n",
        "fig.update_layout(margin=dict(l=0, r=0, b=0, t=0))"
      ],
      "execution_count": 32,
      "outputs": [
        {
          "output_type": "display_data",
          "data": {
            "text/html": [
              "<html>\n",
              "<head><meta charset=\"utf-8\" /></head>\n",
              "<body>\n",
              "    <div>\n",
              "            <script src=\"https://cdnjs.cloudflare.com/ajax/libs/mathjax/2.7.5/MathJax.js?config=TeX-AMS-MML_SVG\"></script><script type=\"text/javascript\">if (window.MathJax) {MathJax.Hub.Config({SVG: {font: \"STIX-Web\"}});}</script>\n",
              "                <script type=\"text/javascript\">window.PlotlyConfig = {MathJaxConfig: 'local'};</script>\n",
              "        <script src=\"https://cdn.plot.ly/plotly-latest.min.js\"></script>    \n",
              "            <div id=\"8d3e16fb-8394-4990-8d8e-6ae7b53d50bf\" class=\"plotly-graph-div\" style=\"height:525px; width:100%;\"></div>\n",
              "            <script type=\"text/javascript\">\n",
              "                \n",
              "                    window.PLOTLYENV=window.PLOTLYENV || {};\n",
              "                    \n",
              "                if (document.getElementById(\"8d3e16fb-8394-4990-8d8e-6ae7b53d50bf\")) {\n",
              "                    Plotly.newPlot(\n",
              "                        '8d3e16fb-8394-4990-8d8e-6ae7b53d50bf',\n",
              "                        [{\"hoverlabel\": {\"namelength\": 0}, \"hovertemplate\": \"Gender=1<br>Age=%{x}<br>Annual Income=%{y}<br>Spending Score=%{z}<br>label=%{marker.color}\", \"legendgroup\": \"Gender=1\", \"marker\": {\"color\": [5, 2, 5, 5, 5, 2, 2, 6, 5, 2, 2, 2, 2, 5, 5, 2, 2, 6, 2, 6, 6, 6, 6, 6, 3, 6, 3, 3, 6, 6, 3, 6, 6, 6, 6, 6, 3, 6, 3, 6, 3, 6, 3, 6, 6, 6, 6, 6, 3, 3, 1, 6, 1, 4, 1, 4, 1, 4, 1, 4, 1, 4, 1, 6, 1, 4, 1, 4, 4, 4, 4, 4, 1, 4, 1, 4, 1, 4, 1, 4, 1, 4, 1, 1, 4, 1, 4, 1], \"coloraxis\": \"coloraxis\", \"opacity\": 0.7, \"symbol\": \"circle\"}, \"mode\": \"markers\", \"name\": \"Gender=1\", \"scene\": \"scene\", \"showlegend\": true, \"type\": \"scatter3d\", \"x\": [-1.4245687900521393, -1.2810354107017978, 1.804932245330544, 2.0202323143560563, -0.13276837589906598, -1.209268721026627, -1.3528021003769686, 0.9437319692284951, -0.2763017552494075, -0.9939686520011148, -0.5633685139500905, -0.706901893300432, -0.2763017552494075, 1.517865486629861, 1.0154986589036659, -1.49633547972731, -1.0657353416762856, 0.6566652105278122, -0.41983513459974897, 1.4460987969546903, 0.5848985208526415, 2.163765693706398, 1.0154986589036659, 2.2355323833815683, -1.4245687900521393, 1.7331655556553733, -1.49633547972731, -1.4245687900521393, 2.2355323833815683, 1.4460987969546903, -0.9222019623259441, 0.08253169312644625, 1.3025654176043489, -0.061001686223895235, 2.0202323143560563, 0.6566652105278122, -1.49633547972731, 0.6566652105278122, -1.0657353416762856, 0.6566652105278122, -1.3528021003769686, 2.0202323143560563, -0.9222019623259441, 0.728431900202983, 1.0872653485788366, 2.091999004031227, 1.9484656246808856, 1.8766989350057148, -1.4245687900521393, -0.8504352726507735, 0.010765003451275509, 0.2978317621519585, 0.08253169312644625, 1.4460987969546903, -0.061001686223895235, 0.5848985208526415, 0.010765003451275509, -1.3528021003769686, -0.49160182427491966, -1.4245687900521393, -0.49160182427491966, -0.9939686520011148, -0.7786685829756027, 0.6566652105278122, -0.3480684449245782, 0.2978317621519585, 0.010765003451275509, -0.13276837589906598, -0.3480684449245782, -1.4245687900521393, 0.8001985898781537, 0.22606507247678773, -0.49160182427491966, 0.08253169312644625, -0.7786685829756027, -0.20453506557423673, -0.20453506557423673, 1.3743321072795196, -0.8504352726507735, 1.4460987969546903, -0.2763017552494075, 0.5131318311774707, -0.6351352036252612, -0.7786685829756027, -0.41983513459974897, -0.49160182427491966, -0.49160182427491966, -0.6351352036252612], \"y\": [-1.7389991930659485, -1.7389991930659485, -1.5863214763788591, -1.5863214763788591, -1.5481520472070869, -1.5481520472070869, -1.5099826180353144, -1.4336437596917697, -1.3954743305199975, -1.3954743305199975, -1.357304901348225, -1.2427966138329078, -1.2427966138329078, -1.1664577554893631, -1.0519494679740462, -1.0519494679740462, -0.8611023221151844, -0.8229328929434121, -0.7084246054280949, -0.6702551762563226, -0.6702551762563226, -0.6320857470845502, -0.5557468887410055, -0.5557468887410055, -0.5557468887410055, -0.4794080303974609, -0.4794080303974609, -0.4794080303974609, -0.44123860122568853, -0.2503914553668267, -0.2503914553668267, -0.2503914553668267, -0.2503914553668267, -0.2503914553668267, -0.2503914553668267, -0.2503914553668267, -0.05954430950796496, -0.021374880336192604, -0.021374880336192604, 0.01679454883557975, 0.01679454883557975, 0.0549639780073521, 0.0549639780073521, 0.0549639780073521, 0.09313340717912445, 0.09313340717912445, 0.09313340717912445, 0.09313340717912445, 0.13130283635089682, 0.24581112386621387, 0.3221499822097586, 0.3984888405533033, 0.3984888405533033, 0.3984888405533033, 0.3984888405533033, 0.3984888405533033, 0.3984888405533033, 0.474827698896848, 0.474827698896848, 0.5129971280686204, 0.5511665572403928, 0.6275054155839375, 0.6275054155839375, 0.6275054155839375, 0.6656748447557098, 0.6656748447557098, 0.6656748447557098, 0.6656748447557098, 0.6656748447557098, 0.7801831322710269, 0.9328608489581163, 0.9710302781298886, 1.009199707301661, 1.009199707301661, 1.009199707301661, 1.009199707301661, 1.009199707301661, 1.0473691364734332, 1.0473691364734332, 1.238216282332295, 1.238216282332295, 1.429063428191157, 1.4672328573629292, 1.543571715706474, 2.0016048657677423, 2.4978074450007828, 2.9176711658902788, 2.9176711658902788], \"z\": [-0.43480147996914814, 1.195704069915157, -1.832377665584267, -1.405340497757425, -1.444162058468956, 1.118060948492095, 0.6133806592421909, -0.823017087084459, -0.5900877228152724, 0.8851315842229084, 0.8851315842229084, 1.234525630626688, 0.4192728556845355, -1.7935561048727358, -1.7935561048727358, 1.622741237741999, 1.622741237741999, -0.5512661621037414, 0.38045129497300445, 0.38045129497300445, -0.357158358546086, -0.16305055498843063, -0.16305055498843063, 0.22516505212688012, 0.18634349141534906, 0.03105724856922475, 0.34162973426147336, 0.34162973426147336, 0.18634349141534906, -0.12422899427689955, 0.14752193070381797, -0.08540743356536848, 0.03105724856922475, 0.18634349141534906, -0.357158358546086, -0.16305055498843063, -0.357158358546086, -0.046585872853837404, 0.06987880928075582, -0.31833679783455493, -0.046585872853837404, 0.34162973426147336, 0.18634349141534906, 0.22516505212688012, -0.16305055498843063, -0.27951523712302384, -0.08540743356536848, 0.06987880928075582, -0.16305055498843063, 0.22516505212688012, 1.5839196770304678, -0.5900877228152724, 1.7392059198765921, -1.5218051798920182, 0.9627747056459706, -1.5994483013150804, 0.9627747056459706, -1.7547345441612048, 0.8851315842229084, -1.5606267406035494, 1.66156279845353, -1.4829836191804873, 1.8168490412996543, -0.5512661621037414, 1.5450981163189368, -1.288875815622832, 1.4674549948958746, -1.9100207870073291, -1.9100207870073291, -1.7547345441612048, -0.9394817692190521, -1.1724111334882386, 0.49691597710759766, -1.444162058468956, 0.9627747056459706, -1.5606267406035494, 1.622741237741999, -1.3665189370458939, 0.7298453413767841, -1.405340497757425, 1.5450981163189368, -1.3665189370458939, 1.8168490412996543, 0.691023780665253, -1.6382698620266116, 0.9239531449344395, -1.2500542549113007, 1.2733471913382193]}, {\"hoverlabel\": {\"namelength\": 0}, \"hovertemplate\": \"Gender=0<br>Age=%{x}<br>Annual Income=%{y}<br>Spending Score=%{z}<br>label=%{marker.color}\", \"legendgroup\": \"Gender=0\", \"marker\": {\"color\": [5, 2, 5, 2, 5, 2, 2, 2, 5, 2, 5, 2, 5, 5, 5, 5, 2, 2, 5, 2, 5, 2, 5, 2, 6, 3, 5, 2, 6, 3, 3, 3, 6, 3, 6, 6, 3, 6, 6, 6, 6, 3, 6, 6, 6, 6, 3, 6, 6, 3, 6, 3, 3, 6, 6, 3, 3, 6, 3, 3, 6, 3, 6, 3, 3, 3, 3, 6, 6, 6, 6, 3, 3, 3, 1, 3, 1, 1, 4, 1, 4, 3, 1, 1, 4, 4, 1, 4, 1, 1, 1, 4, 1, 1, 1, 1, 4, 4, 1, 4, 1, 1, 4, 4, 4, 1, 4, 1, 1, 4, 1, 4], \"coloraxis\": \"coloraxis\", \"opacity\": 0.7, \"symbol\": \"diamond\"}, \"mode\": \"markers\", \"name\": \"Gender=0\", \"scene\": \"scene\", \"showlegend\": true, \"type\": \"scatter3d\", \"x\": [-1.3528021003769686, -1.1375020313514563, -0.5633685139500905, -1.209268721026627, -0.2763017552494075, -1.1375020313514563, -0.6351352036252612, -0.2763017552494075, 1.3743321072795196, -1.0657353416762856, -0.2763017552494075, -0.2763017552494075, 0.5131318311774707, 1.0872653485788366, 0.44136514150229994, 0.08253169312644625, -1.1375020313514563, -1.2810354107017978, 0.728431900202983, -1.2810354107017978, 0.22606507247678773, -0.6351352036252612, -0.20453506557423673, -1.3528021003769686, 1.8766989350057148, -0.5633685139500905, 0.728431900202983, -1.0657353416762856, 0.8001985898781537, -0.8504352726507735, -0.706901893300432, -0.5633685139500905, 0.728431900202983, -0.5633685139500905, 0.8001985898781537, 0.8719652795533244, -0.8504352726507735, 2.0202323143560563, 1.0872653485788366, 0.2978317621519585, 2.091999004031227, -0.49160182427491966, 0.5848985208526415, 1.517865486629861, 1.517865486629861, 0.44136514150229994, -1.1375020313514563, 0.728431900202983, 0.5131318311774707, -1.2810354107017978, 1.1590320382540074, -1.209268721026627, -0.3480684449245782, 0.8001985898781537, 2.091999004031227, 0.08253169312644625, -0.49160182427491966, 0.5848985208526415, -0.8504352726507735, -1.1375020313514563, 0.728431900202983, -1.2810354107017978, 1.9484656246808856, -1.4245687900521393, -0.061001686223895235, -1.49633547972731, -1.4245687900521393, 1.7331655556553733, 0.728431900202983, 0.8719652795533244, 0.8001985898781537, -0.061001686223895235, 0.08253169312644625, -1.1375020313514563, -0.5633685139500905, -0.9939686520011148, -0.5633685139500905, -0.706901893300432, 0.36959845182712925, -0.2763017552494075, 1.3025654176043489, -0.7786685829756027, -0.49160182427491966, -0.49160182427491966, -0.3480684449245782, 0.36959845182712925, -0.061001686223895235, 0.5848985208526415, -0.8504352726507735, -0.6351352036252612, -0.6351352036252612, 1.230798727929178, -0.706901893300432, -0.5633685139500905, -0.20453506557423673, -0.41983513459974897, -0.20453506557423673, 0.9437319692284951, -0.6351352036252612, -0.13276837589906598, -0.49160182427491966, -0.706901893300432, 0.154298382801617, 1.0872653485788366, 0.154298382801617, -0.20453506557423673, -0.3480684449245782, -0.49160182427491966, -0.061001686223895235, 0.5848985208526415, -0.2763017552494075, 0.44136514150229994], \"y\": [-1.7008297638941763, -1.7008297638941763, -1.6626603347224038, -1.6626603347224038, -1.6244909055506316, -1.6244909055506316, -1.5863214763788591, -1.5863214763788591, -1.5481520472070869, -1.5481520472070869, -1.5099826180353144, -1.4336437596917697, -1.357304901348225, -1.2427966138329078, -1.2427966138329078, -1.2046271846611356, -1.2046271846611356, -1.1664577554893631, -1.0519494679740462, -1.0519494679740462, -1.0137800388022737, -1.0137800388022737, -0.8992717512869568, -0.8992717512869568, -0.8611023221151844, -0.8229328929434121, -0.8229328929434121, -0.8229328929434121, -0.7847634637716397, -0.7847634637716397, -0.7847634637716397, -0.7847634637716397, -0.7084246054280949, -0.6702551762563226, -0.6702551762563226, -0.6320857470845502, -0.5557468887410055, -0.5175774595692332, -0.5175774595692332, -0.4794080303974609, -0.4794080303974609, -0.4794080303974609, -0.44123860122568853, -0.4030691720539161, -0.4030691720539161, -0.2503914553668267, -0.2503914553668267, -0.2503914553668267, -0.2503914553668267, -0.2503914553668267, -0.13588316785150967, -0.13588316785150967, -0.09771373867973732, -0.09771373867973732, -0.05954430950796496, -0.021374880336192604, -0.021374880336192604, -0.021374880336192604, -0.021374880336192604, 0.0549639780073521, 0.0549639780073521, 0.0549639780073521, 0.09313340717912445, 0.09313340717912445, 0.13130283635089682, 0.16947226552266917, 0.16947226552266917, 0.16947226552266917, 0.16947226552266917, 0.24581112386621387, 0.24581112386621387, 0.24581112386621387, 0.3221499822097586, 0.36031941138153095, 0.36031941138153095, 0.43665826972507565, 0.43665826972507565, 0.474827698896848, 0.474827698896848, 0.5129971280686204, 0.5511665572403928, 0.5893359864121651, 0.5893359864121651, 0.6275054155839375, 0.6656748447557098, 0.6656748447557098, 0.6656748447557098, 0.6656748447557098, 0.6656748447557098, 0.6656748447557098, 0.6656748447557098, 0.7038442739274822, 0.7038442739274822, 0.7801831322710269, 0.9328608489581163, 0.9710302781298886, 1.009199707301661, 1.0473691364734332, 1.0473691364734332, 1.3908939990193845, 1.3908939990193845, 1.429063428191157, 1.4672328573629292, 1.543571715706474, 1.6199105740500186, 1.6199105740500186, 1.6199105740500186, 1.6199105740500186, 2.0016048657677423, 2.2687908699701484, 2.2687908699701484, 2.4978074450007828], \"z\": [-1.7159129834496736, 1.0404178270690327, -0.3959799192576171, 1.0015962663575015, -1.7159129834496736, 1.700384359165061, 0.8463100235113773, 1.8944921627227165, -1.3665189370458939, 1.0404178270690327, -0.5900877228152724, 1.8556706020111853, -1.7547345441612048, -1.405340497757425, -0.7065524049498657, -0.7453739656613968, 1.4286334341843434, 0.8851315842229084, -1.405340497757425, 1.195704069915157, -1.288875815622832, 0.8851315842229084, -0.9394817692190521, 0.9627747056459706, -0.5900877228152724, 0.4192728556845355, -0.86183864779599, 0.5745590985306598, 0.18634349141534906, -0.12422899427689955, -0.31833679783455493, -0.31833679783455493, 0.06987880928075582, 0.14752193070381797, -0.20187211569996172, -0.007764312142306325, 0.03105724856922475, 0.06987880928075582, 0.34162973426147336, -0.007764312142306325, -0.08540743356536848, -0.12422899427689955, -0.31833679783455493, -0.046585872853837404, 0.22516505212688012, 0.1087003699922869, 0.06987880928075582, -0.31833679783455493, -0.24069367641149278, 0.2639866128384112, 0.30280817354994227, 0.18634349141534906, 0.38045129497300445, -0.16305055498843063, 0.18634349141534906, -0.3959799192576171, -0.31833679783455493, -0.12422899427689955, -0.007764312142306325, -0.357158358546086, -0.08540743356536848, -0.31833679783455493, -0.007764312142306325, 0.14752193070381797, -0.31833679783455493, -0.08540743356536848, -0.007764312142306325, -0.27951523712302384, 0.34162973426147336, -0.27951523712302384, 0.2639866128384112, -0.3959799192576171, 0.30280817354994227, -0.823017087084459, 1.0404178270690327, -0.6289092835268035, 0.8074884627998463, 1.4674549948958746, -1.6770914227381426, 0.8463100235113773, -1.7547345441612048, -0.3959799192576171, 1.4286334341843434, 0.9239531449344395, -1.0947680120651764, -1.1724111334882386, 1.0015962663575015, -1.327697376334363, 1.5062765556074056, 1.0792393877805637, 0.8851315842229084, -0.5900877228152724, 1.2733471913382193, 1.66156279845353, 0.9627747056459706, 1.7392059198765921, -0.900660208507521, -1.444162058468956, 1.3898118734728124, -0.7065524049498657, 1.3898118734728124, 1.4674549948958746, -0.43480147996914814, -1.0171248906421142, -1.288875815622832, 1.3509903127612812, -1.0559464513536454, 0.7298453413767841, 1.5839196770304678, -1.327697376334363, 1.118060948492095, -0.86183864779599]}],\n",
              "                        {\"coloraxis\": {\"colorbar\": {\"title\": {\"text\": \"label\"}}, \"colorscale\": [[0.0, \"#0d0887\"], [0.1111111111111111, \"#46039f\"], [0.2222222222222222, \"#7201a8\"], [0.3333333333333333, \"#9c179e\"], [0.4444444444444444, \"#bd3786\"], [0.5555555555555556, \"#d8576b\"], [0.6666666666666666, \"#ed7953\"], [0.7777777777777778, \"#fb9f3a\"], [0.8888888888888888, \"#fdca26\"], [1.0, \"#f0f921\"]]}, \"legend\": {\"tracegroupgap\": 0}, \"margin\": {\"b\": 0, \"l\": 0, \"r\": 0, \"t\": 0}, \"scene\": {\"domain\": {\"x\": [0.0, 1.0], \"y\": [0.0, 1.0]}, \"xaxis\": {\"title\": {\"text\": \"Age\"}}, \"yaxis\": {\"title\": {\"text\": \"Annual Income\"}}, \"zaxis\": {\"title\": {\"text\": \"Spending Score\"}}}, \"template\": {\"data\": {\"bar\": [{\"error_x\": {\"color\": \"#2a3f5f\"}, \"error_y\": {\"color\": \"#2a3f5f\"}, \"marker\": {\"line\": {\"color\": \"#E5ECF6\", \"width\": 0.5}}, \"type\": \"bar\"}], \"barpolar\": [{\"marker\": {\"line\": {\"color\": \"#E5ECF6\", \"width\": 0.5}}, \"type\": \"barpolar\"}], \"carpet\": [{\"aaxis\": {\"endlinecolor\": \"#2a3f5f\", \"gridcolor\": \"white\", \"linecolor\": \"white\", \"minorgridcolor\": \"white\", \"startlinecolor\": \"#2a3f5f\"}, \"baxis\": {\"endlinecolor\": \"#2a3f5f\", \"gridcolor\": \"white\", \"linecolor\": \"white\", \"minorgridcolor\": \"white\", \"startlinecolor\": \"#2a3f5f\"}, \"type\": \"carpet\"}], \"choropleth\": [{\"colorbar\": {\"outlinewidth\": 0, \"ticks\": \"\"}, \"type\": \"choropleth\"}], \"contour\": [{\"colorbar\": {\"outlinewidth\": 0, \"ticks\": \"\"}, \"colorscale\": [[0.0, \"#0d0887\"], [0.1111111111111111, \"#46039f\"], [0.2222222222222222, \"#7201a8\"], [0.3333333333333333, \"#9c179e\"], [0.4444444444444444, \"#bd3786\"], [0.5555555555555556, \"#d8576b\"], [0.6666666666666666, \"#ed7953\"], [0.7777777777777778, \"#fb9f3a\"], [0.8888888888888888, \"#fdca26\"], [1.0, \"#f0f921\"]], \"type\": \"contour\"}], \"contourcarpet\": [{\"colorbar\": {\"outlinewidth\": 0, \"ticks\": \"\"}, \"type\": \"contourcarpet\"}], \"heatmap\": [{\"colorbar\": {\"outlinewidth\": 0, \"ticks\": \"\"}, \"colorscale\": [[0.0, \"#0d0887\"], [0.1111111111111111, \"#46039f\"], [0.2222222222222222, \"#7201a8\"], [0.3333333333333333, \"#9c179e\"], [0.4444444444444444, \"#bd3786\"], [0.5555555555555556, \"#d8576b\"], [0.6666666666666666, \"#ed7953\"], [0.7777777777777778, \"#fb9f3a\"], [0.8888888888888888, \"#fdca26\"], [1.0, \"#f0f921\"]], \"type\": \"heatmap\"}], \"heatmapgl\": [{\"colorbar\": {\"outlinewidth\": 0, \"ticks\": \"\"}, \"colorscale\": [[0.0, \"#0d0887\"], [0.1111111111111111, \"#46039f\"], [0.2222222222222222, \"#7201a8\"], [0.3333333333333333, \"#9c179e\"], [0.4444444444444444, \"#bd3786\"], [0.5555555555555556, \"#d8576b\"], [0.6666666666666666, \"#ed7953\"], [0.7777777777777778, \"#fb9f3a\"], [0.8888888888888888, \"#fdca26\"], [1.0, \"#f0f921\"]], \"type\": \"heatmapgl\"}], \"histogram\": [{\"marker\": {\"colorbar\": {\"outlinewidth\": 0, \"ticks\": \"\"}}, \"type\": \"histogram\"}], \"histogram2d\": [{\"colorbar\": {\"outlinewidth\": 0, \"ticks\": \"\"}, \"colorscale\": [[0.0, \"#0d0887\"], [0.1111111111111111, \"#46039f\"], [0.2222222222222222, \"#7201a8\"], [0.3333333333333333, \"#9c179e\"], [0.4444444444444444, \"#bd3786\"], [0.5555555555555556, \"#d8576b\"], [0.6666666666666666, \"#ed7953\"], [0.7777777777777778, \"#fb9f3a\"], [0.8888888888888888, \"#fdca26\"], [1.0, \"#f0f921\"]], \"type\": \"histogram2d\"}], \"histogram2dcontour\": [{\"colorbar\": {\"outlinewidth\": 0, \"ticks\": \"\"}, \"colorscale\": [[0.0, \"#0d0887\"], [0.1111111111111111, \"#46039f\"], [0.2222222222222222, \"#7201a8\"], [0.3333333333333333, \"#9c179e\"], [0.4444444444444444, \"#bd3786\"], [0.5555555555555556, \"#d8576b\"], [0.6666666666666666, \"#ed7953\"], [0.7777777777777778, \"#fb9f3a\"], [0.8888888888888888, \"#fdca26\"], [1.0, \"#f0f921\"]], \"type\": \"histogram2dcontour\"}], \"mesh3d\": [{\"colorbar\": {\"outlinewidth\": 0, \"ticks\": \"\"}, \"type\": \"mesh3d\"}], \"parcoords\": [{\"line\": {\"colorbar\": {\"outlinewidth\": 0, \"ticks\": \"\"}}, \"type\": \"parcoords\"}], \"pie\": [{\"automargin\": true, \"type\": \"pie\"}], \"scatter\": [{\"marker\": {\"colorbar\": {\"outlinewidth\": 0, \"ticks\": \"\"}}, \"type\": \"scatter\"}], \"scatter3d\": [{\"line\": {\"colorbar\": {\"outlinewidth\": 0, \"ticks\": \"\"}}, \"marker\": {\"colorbar\": {\"outlinewidth\": 0, \"ticks\": \"\"}}, \"type\": \"scatter3d\"}], \"scattercarpet\": [{\"marker\": {\"colorbar\": {\"outlinewidth\": 0, \"ticks\": \"\"}}, \"type\": \"scattercarpet\"}], \"scattergeo\": [{\"marker\": {\"colorbar\": {\"outlinewidth\": 0, \"ticks\": \"\"}}, \"type\": \"scattergeo\"}], \"scattergl\": [{\"marker\": {\"colorbar\": {\"outlinewidth\": 0, \"ticks\": \"\"}}, \"type\": \"scattergl\"}], \"scattermapbox\": [{\"marker\": {\"colorbar\": {\"outlinewidth\": 0, \"ticks\": \"\"}}, \"type\": \"scattermapbox\"}], \"scatterpolar\": [{\"marker\": {\"colorbar\": {\"outlinewidth\": 0, \"ticks\": \"\"}}, \"type\": \"scatterpolar\"}], \"scatterpolargl\": [{\"marker\": {\"colorbar\": {\"outlinewidth\": 0, \"ticks\": \"\"}}, \"type\": \"scatterpolargl\"}], \"scatterternary\": [{\"marker\": {\"colorbar\": {\"outlinewidth\": 0, \"ticks\": \"\"}}, \"type\": \"scatterternary\"}], \"surface\": [{\"colorbar\": {\"outlinewidth\": 0, \"ticks\": \"\"}, \"colorscale\": [[0.0, \"#0d0887\"], [0.1111111111111111, \"#46039f\"], [0.2222222222222222, \"#7201a8\"], [0.3333333333333333, \"#9c179e\"], [0.4444444444444444, \"#bd3786\"], [0.5555555555555556, \"#d8576b\"], [0.6666666666666666, \"#ed7953\"], [0.7777777777777778, \"#fb9f3a\"], [0.8888888888888888, \"#fdca26\"], [1.0, \"#f0f921\"]], \"type\": \"surface\"}], \"table\": [{\"cells\": {\"fill\": {\"color\": \"#EBF0F8\"}, \"line\": {\"color\": \"white\"}}, \"header\": {\"fill\": {\"color\": \"#C8D4E3\"}, \"line\": {\"color\": \"white\"}}, \"type\": \"table\"}]}, \"layout\": {\"annotationdefaults\": {\"arrowcolor\": \"#2a3f5f\", \"arrowhead\": 0, \"arrowwidth\": 1}, \"coloraxis\": {\"colorbar\": {\"outlinewidth\": 0, \"ticks\": \"\"}}, \"colorscale\": {\"diverging\": [[0, \"#8e0152\"], [0.1, \"#c51b7d\"], [0.2, \"#de77ae\"], [0.3, \"#f1b6da\"], [0.4, \"#fde0ef\"], [0.5, \"#f7f7f7\"], [0.6, \"#e6f5d0\"], [0.7, \"#b8e186\"], [0.8, \"#7fbc41\"], [0.9, \"#4d9221\"], [1, \"#276419\"]], \"sequential\": [[0.0, \"#0d0887\"], [0.1111111111111111, \"#46039f\"], [0.2222222222222222, \"#7201a8\"], [0.3333333333333333, \"#9c179e\"], [0.4444444444444444, \"#bd3786\"], [0.5555555555555556, \"#d8576b\"], [0.6666666666666666, \"#ed7953\"], [0.7777777777777778, \"#fb9f3a\"], [0.8888888888888888, \"#fdca26\"], [1.0, \"#f0f921\"]], \"sequentialminus\": [[0.0, \"#0d0887\"], [0.1111111111111111, \"#46039f\"], [0.2222222222222222, \"#7201a8\"], [0.3333333333333333, \"#9c179e\"], [0.4444444444444444, \"#bd3786\"], [0.5555555555555556, \"#d8576b\"], [0.6666666666666666, \"#ed7953\"], [0.7777777777777778, \"#fb9f3a\"], [0.8888888888888888, \"#fdca26\"], [1.0, \"#f0f921\"]]}, \"colorway\": [\"#636efa\", \"#EF553B\", \"#00cc96\", \"#ab63fa\", \"#FFA15A\", \"#19d3f3\", \"#FF6692\", \"#B6E880\", \"#FF97FF\", \"#FECB52\"], \"font\": {\"color\": \"#2a3f5f\"}, \"geo\": {\"bgcolor\": \"white\", \"lakecolor\": \"white\", \"landcolor\": \"#E5ECF6\", \"showlakes\": true, \"showland\": true, \"subunitcolor\": \"white\"}, \"hoverlabel\": {\"align\": \"left\"}, \"hovermode\": \"closest\", \"mapbox\": {\"style\": \"light\"}, \"paper_bgcolor\": \"white\", \"plot_bgcolor\": \"#E5ECF6\", \"polar\": {\"angularaxis\": {\"gridcolor\": \"white\", \"linecolor\": \"white\", \"ticks\": \"\"}, \"bgcolor\": \"#E5ECF6\", \"radialaxis\": {\"gridcolor\": \"white\", \"linecolor\": \"white\", \"ticks\": \"\"}}, \"scene\": {\"xaxis\": {\"backgroundcolor\": \"#E5ECF6\", \"gridcolor\": \"white\", \"gridwidth\": 2, \"linecolor\": \"white\", \"showbackground\": true, \"ticks\": \"\", \"zerolinecolor\": \"white\"}, \"yaxis\": {\"backgroundcolor\": \"#E5ECF6\", \"gridcolor\": \"white\", \"gridwidth\": 2, \"linecolor\": \"white\", \"showbackground\": true, \"ticks\": \"\", \"zerolinecolor\": \"white\"}, \"zaxis\": {\"backgroundcolor\": \"#E5ECF6\", \"gridcolor\": \"white\", \"gridwidth\": 2, \"linecolor\": \"white\", \"showbackground\": true, \"ticks\": \"\", \"zerolinecolor\": \"white\"}}, \"shapedefaults\": {\"line\": {\"color\": \"#2a3f5f\"}}, \"ternary\": {\"aaxis\": {\"gridcolor\": \"white\", \"linecolor\": \"white\", \"ticks\": \"\"}, \"baxis\": {\"gridcolor\": \"white\", \"linecolor\": \"white\", \"ticks\": \"\"}, \"bgcolor\": \"#E5ECF6\", \"caxis\": {\"gridcolor\": \"white\", \"linecolor\": \"white\", \"ticks\": \"\"}}, \"title\": {\"x\": 0.05}, \"xaxis\": {\"automargin\": true, \"gridcolor\": \"white\", \"linecolor\": \"white\", \"ticks\": \"\", \"title\": {\"standoff\": 15}, \"zerolinecolor\": \"white\", \"zerolinewidth\": 2}, \"yaxis\": {\"automargin\": true, \"gridcolor\": \"white\", \"linecolor\": \"white\", \"ticks\": \"\", \"title\": {\"standoff\": 15}, \"zerolinecolor\": \"white\", \"zerolinewidth\": 2}}}},\n",
              "                        {\"responsive\": true}\n",
              "                    ).then(function(){\n",
              "                            \n",
              "var gd = document.getElementById('8d3e16fb-8394-4990-8d8e-6ae7b53d50bf');\n",
              "var x = new MutationObserver(function (mutations, observer) {{\n",
              "        var display = window.getComputedStyle(gd).display;\n",
              "        if (!display || display === 'none') {{\n",
              "            console.log([gd, 'removed!']);\n",
              "            Plotly.purge(gd);\n",
              "            observer.disconnect();\n",
              "        }}\n",
              "}});\n",
              "\n",
              "// Listen for the removal of the full notebook cells\n",
              "var notebookContainer = gd.closest('#notebook-container');\n",
              "if (notebookContainer) {{\n",
              "    x.observe(notebookContainer, {childList: true});\n",
              "}}\n",
              "\n",
              "// Listen for the clearing of the current output cell\n",
              "var outputEl = gd.closest('.output');\n",
              "if (outputEl) {{\n",
              "    x.observe(outputEl, {childList: true});\n",
              "}}\n",
              "\n",
              "                        })\n",
              "                };\n",
              "                \n",
              "            </script>\n",
              "        </div>\n",
              "</body>\n",
              "</html>"
            ]
          },
          "metadata": {
            "tags": []
          }
        }
      ]
    },
    {
      "cell_type": "markdown",
      "metadata": {
        "id": "q-h0dSiAWUpO"
      },
      "source": [
        "#### **Single Method**"
      ]
    },
    {
      "cell_type": "markdown",
      "metadata": {
        "id": "-w3_TAqZWUpX"
      },
      "source": [
        "##### **Visualization by Dendrogram**\n"
      ]
    },
    {
      "cell_type": "code",
      "metadata": {
        "id": "lIXNaks8WUpa"
      },
      "source": [
        "link = 'single'\n",
        "clust_data = clust_data.drop(columns='label')\n",
        "Z = hierarchy.linkage(clust_data, link)"
      ],
      "execution_count": 33,
      "outputs": []
    },
    {
      "cell_type": "code",
      "metadata": {
        "id": "NyMv7p1YWUpu",
        "outputId": "2843cbe2-2063-4253-b1c5-51448a192d76",
        "colab": {
          "base_uri": "https://localhost:8080/",
          "height": 0
        }
      },
      "source": [
        "figure(num=None, figsize=(15,10), facecolor='w', edgecolor='k')\n",
        "plt.title('Hierarchical Clustering Dendrogram')\n",
        "\n",
        "# plot the top 8 levels of the dendrogram\n",
        "dendrogram(Z, truncate_mode='lastp',p=8, orientation=\"right\")\n",
        "plt.ylabel(\"Number of points in node (or index of point if no parenthesis)\")\n",
        "plt.xlabel(\"Distance\")\n",
        "plt.show()\n",
        "\n",
        "print(dendrogram)"
      ],
      "execution_count": 34,
      "outputs": [
        {
          "output_type": "display_data",
          "data": {
            "image/png": "[encoded data removed]",
            "text/plain": [
              "<Figure size 1080x720 with 1 Axes>"
            ]
          },
          "metadata": {
            "tags": []
          }
        },
        {
          "output_type": "stream",
          "text": [
            "<function dendrogram at 0x7f563341d6a8>\n"
          ],
          "name": "stdout"
        }
      ]
    },
    {
      "cell_type": "code",
      "metadata": {
        "id": "Oep7fvgTWUp3",
        "outputId": "eff91779-0633-4145-bcb0-cd78f63e13a4",
        "colab": {
          "base_uri": "https://localhost:8080/"
        }
      },
      "source": [
        "max_sc_single=-999\n",
        "for n_cluster in range(2,11):\n",
        "    label= fcluster(Z, n_cluster, criterion='maxclust')\n",
        "    sc_score = metrics.silhouette_score(clust_data, label, metric='euclidean')\n",
        "    ch_score = metrics.calinski_harabasz_score(clust_data, label)\n",
        "    db_score = metrics.davies_bouldin_score(clust_data, label)\n",
        "    print(\"For n_clusters = \", n_cluster, \", The average silhouette_score is:\", sc_score)\n",
        "    if sc_score>= max_sc_single:\n",
        "          max_sc_single = sc_score\n",
        "          max_ch_single = ch_score\n",
        "          max_db_single = db_score\n",
        "          max_k_single = n_cluster\n",
        "\n",
        "print('So k with highest SC is: ',max_k_single)"
      ],
      "execution_count": 35,
      "outputs": [
        {
          "output_type": "stream",
          "text": [
            "For n_clusters =  2 , The average silhouette_score is: 0.23042519588412858\n",
            "For n_clusters =  3 , The average silhouette_score is: 0.11180917042975475\n",
            "For n_clusters =  4 , The average silhouette_score is: 0.03718689467429146\n",
            "For n_clusters =  5 , The average silhouette_score is: -0.04459524320471739\n",
            "For n_clusters =  6 , The average silhouette_score is: -0.07055257740831478\n",
            "For n_clusters =  7 , The average silhouette_score is: -0.09326014860280175\n",
            "For n_clusters =  8 , The average silhouette_score is: -0.06119821728994733\n",
            "For n_clusters =  9 , The average silhouette_score is: -0.08663367262936837\n",
            "For n_clusters =  10 , The average silhouette_score is: -0.09756815988513626\n",
            "So k with highest SC is:  2\n"
          ],
          "name": "stdout"
        }
      ]
    },
    {
      "cell_type": "markdown",
      "metadata": {
        "id": "vM-s9WrcWUp9"
      },
      "source": [
        "##### **Modeling AGNES**"
      ]
    },
    {
      "cell_type": "code",
      "metadata": {
        "id": "8jYYDLxuWUp-",
        "outputId": "18da390a-4c2a-4a94-91f1-47c17bc8a3bf",
        "colab": {
          "base_uri": "https://localhost:8080/",
          "height": 0
        }
      },
      "source": [
        "# Apply the Hierarchical Clustering Model to the Dataset\n",
        "cluster_labels= fcluster(Z, max_k_single, criterion='maxclust')\n",
        "clust_data[\"label\"] = cluster_labels\n",
        "clust_data.head()"
      ],
      "execution_count": 36,
      "outputs": [
        {
          "output_type": "execute_result",
          "data": {
            "text/html": [
              "<div>\n",
              "<style scoped>\n",
              "    .dataframe tbody tr th:only-of-type {\n",
              "        vertical-align: middle;\n",
              "    }\n",
              "\n",
              "    .dataframe tbody tr th {\n",
              "        vertical-align: top;\n",
              "    }\n",
              "\n",
              "    .dataframe thead th {\n",
              "        text-align: right;\n",
              "    }\n",
              "</style>\n",
              "<table border=\"1\" class=\"dataframe\">\n",
              "  <thead>\n",
              "    <tr style=\"text-align: right;\">\n",
              "      <th></th>\n",
              "      <th>Age</th>\n",
              "      <th>Annual Income</th>\n",
              "      <th>Spending Score</th>\n",
              "      <th>Gender</th>\n",
              "      <th>label</th>\n",
              "    </tr>\n",
              "  </thead>\n",
              "  <tbody>\n",
              "    <tr>\n",
              "      <th>0</th>\n",
              "      <td>-1.424569</td>\n",
              "      <td>-1.738999</td>\n",
              "      <td>-0.434801</td>\n",
              "      <td>1</td>\n",
              "      <td>1</td>\n",
              "    </tr>\n",
              "    <tr>\n",
              "      <th>1</th>\n",
              "      <td>-1.281035</td>\n",
              "      <td>-1.738999</td>\n",
              "      <td>1.195704</td>\n",
              "      <td>1</td>\n",
              "      <td>1</td>\n",
              "    </tr>\n",
              "    <tr>\n",
              "      <th>2</th>\n",
              "      <td>-1.352802</td>\n",
              "      <td>-1.700830</td>\n",
              "      <td>-1.715913</td>\n",
              "      <td>0</td>\n",
              "      <td>2</td>\n",
              "    </tr>\n",
              "    <tr>\n",
              "      <th>3</th>\n",
              "      <td>-1.137502</td>\n",
              "      <td>-1.700830</td>\n",
              "      <td>1.040418</td>\n",
              "      <td>0</td>\n",
              "      <td>1</td>\n",
              "    </tr>\n",
              "    <tr>\n",
              "      <th>4</th>\n",
              "      <td>-0.563369</td>\n",
              "      <td>-1.662660</td>\n",
              "      <td>-0.395980</td>\n",
              "      <td>0</td>\n",
              "      <td>1</td>\n",
              "    </tr>\n",
              "  </tbody>\n",
              "</table>\n",
              "</div>"
            ],
            "text/plain": [
              "        Age  Annual Income  Spending Score  Gender  label\n",
              "0 -1.424569      -1.738999       -0.434801       1      1\n",
              "1 -1.281035      -1.738999        1.195704       1      1\n",
              "2 -1.352802      -1.700830       -1.715913       0      2\n",
              "3 -1.137502      -1.700830        1.040418       0      1\n",
              "4 -0.563369      -1.662660       -0.395980       0      1"
            ]
          },
          "metadata": {
            "tags": []
          },
          "execution_count": 36
        }
      ]
    },
    {
      "cell_type": "code",
      "metadata": {
        "id": "rfkRu4BTWUqG",
        "outputId": "919fa771-4467-4e0d-f90f-31e60d1afd8d",
        "colab": {
          "base_uri": "https://localhost:8080/",
          "height": 0
        }
      },
      "source": [
        "# Visualising Clusters\n",
        "fig = px.scatter_3d(clust_data, x='Age', y='Annual Income', z='Spending Score',color='label',symbol='Gender', size_max=18, opacity=0.7)\n",
        "\n",
        "# tight layout\n",
        "fig.update_layout(margin=dict(l=0, r=0, b=0, t=0))"
      ],
      "execution_count": 37,
      "outputs": [
        {
          "output_type": "display_data",
          "data": {
            "text/html": [
              "<html>\n",
              "<head><meta charset=\"utf-8\" /></head>\n",
              "<body>\n",
              "    <div>\n",
              "            <script src=\"https://cdnjs.cloudflare.com/ajax/libs/mathjax/2.7.5/MathJax.js?config=TeX-AMS-MML_SVG\"></script><script type=\"text/javascript\">if (window.MathJax) {MathJax.Hub.Config({SVG: {font: \"STIX-Web\"}});}</script>\n",
              "                <script type=\"text/javascript\">window.PlotlyConfig = {MathJaxConfig: 'local'};</script>\n",
              "        <script src=\"https://cdn.plot.ly/plotly-latest.min.js\"></script>    \n",
              "            <div id=\"ec1c74f4-ccc3-4fc9-b018-3105d770693f\" class=\"plotly-graph-div\" style=\"height:525px; width:100%;\"></div>\n",
              "            <script type=\"text/javascript\">\n",
              "                \n",
              "                    window.PLOTLYENV=window.PLOTLYENV || {};\n",
              "                    \n",
              "                if (document.getElementById(\"ec1c74f4-ccc3-4fc9-b018-3105d770693f\")) {\n",
              "                    Plotly.newPlot(\n",
              "                        'ec1c74f4-ccc3-4fc9-b018-3105d770693f',\n",
              "                        [{\"hoverlabel\": {\"namelength\": 0}, \"hovertemplate\": \"Gender=1<br>Age=%{x}<br>Annual Income=%{y}<br>Spending Score=%{z}<br>label=%{marker.color}\", \"legendgroup\": \"Gender=1\", \"marker\": {\"color\": [1, 1, 1, 1, 1, 1, 1, 1, 1, 1, 1, 1, 1, 1, 1, 1, 1, 1, 1, 1, 1, 1, 1, 1, 1, 1, 1, 1, 1, 1, 1, 1, 1, 1, 1, 1, 1, 1, 1, 1, 1, 1, 1, 1, 1, 1, 1, 1, 1, 1, 1, 1, 1, 1, 1, 1, 1, 1, 1, 1, 1, 1, 1, 1, 1, 1, 1, 1, 1, 1, 1, 1, 1, 1, 1, 1, 1, 1, 1, 1, 1, 1, 1, 1, 1, 1, 1, 1], \"coloraxis\": \"coloraxis\", \"opacity\": 0.7, \"symbol\": \"circle\"}, \"mode\": \"markers\", \"name\": \"Gender=1\", \"scene\": \"scene\", \"showlegend\": true, \"type\": \"scatter3d\", \"x\": [-1.4245687900521393, -1.2810354107017978, 1.804932245330544, 2.0202323143560563, -0.13276837589906598, -1.209268721026627, -1.3528021003769686, 0.9437319692284951, -0.2763017552494075, -0.9939686520011148, -0.5633685139500905, -0.706901893300432, -0.2763017552494075, 1.517865486629861, 1.0154986589036659, -1.49633547972731, -1.0657353416762856, 0.6566652105278122, -0.41983513459974897, 1.4460987969546903, 0.5848985208526415, 2.163765693706398, 1.0154986589036659, 2.2355323833815683, -1.4245687900521393, 1.7331655556553733, -1.49633547972731, -1.4245687900521393, 2.2355323833815683, 1.4460987969546903, -0.9222019623259441, 0.08253169312644625, 1.3025654176043489, -0.061001686223895235, 2.0202323143560563, 0.6566652105278122, -1.49633547972731, 0.6566652105278122, -1.0657353416762856, 0.6566652105278122, -1.3528021003769686, 2.0202323143560563, -0.9222019623259441, 0.728431900202983, 1.0872653485788366, 2.091999004031227, 1.9484656246808856, 1.8766989350057148, -1.4245687900521393, -0.8504352726507735, 0.010765003451275509, 0.2978317621519585, 0.08253169312644625, 1.4460987969546903, -0.061001686223895235, 0.5848985208526415, 0.010765003451275509, -1.3528021003769686, -0.49160182427491966, -1.4245687900521393, -0.49160182427491966, -0.9939686520011148, -0.7786685829756027, 0.6566652105278122, -0.3480684449245782, 0.2978317621519585, 0.010765003451275509, -0.13276837589906598, -0.3480684449245782, -1.4245687900521393, 0.8001985898781537, 0.22606507247678773, -0.49160182427491966, 0.08253169312644625, -0.7786685829756027, -0.20453506557423673, -0.20453506557423673, 1.3743321072795196, -0.8504352726507735, 1.4460987969546903, -0.2763017552494075, 0.5131318311774707, -0.6351352036252612, -0.7786685829756027, -0.41983513459974897, -0.49160182427491966, -0.49160182427491966, -0.6351352036252612], \"y\": [-1.7389991930659485, -1.7389991930659485, -1.5863214763788591, -1.5863214763788591, -1.5481520472070869, -1.5481520472070869, -1.5099826180353144, -1.4336437596917697, -1.3954743305199975, -1.3954743305199975, -1.357304901348225, -1.2427966138329078, -1.2427966138329078, -1.1664577554893631, -1.0519494679740462, -1.0519494679740462, -0.8611023221151844, -0.8229328929434121, -0.7084246054280949, -0.6702551762563226, -0.6702551762563226, -0.6320857470845502, -0.5557468887410055, -0.5557468887410055, -0.5557468887410055, -0.4794080303974609, -0.4794080303974609, -0.4794080303974609, -0.44123860122568853, -0.2503914553668267, -0.2503914553668267, -0.2503914553668267, -0.2503914553668267, -0.2503914553668267, -0.2503914553668267, -0.2503914553668267, -0.05954430950796496, -0.021374880336192604, -0.021374880336192604, 0.01679454883557975, 0.01679454883557975, 0.0549639780073521, 0.0549639780073521, 0.0549639780073521, 0.09313340717912445, 0.09313340717912445, 0.09313340717912445, 0.09313340717912445, 0.13130283635089682, 0.24581112386621387, 0.3221499822097586, 0.3984888405533033, 0.3984888405533033, 0.3984888405533033, 0.3984888405533033, 0.3984888405533033, 0.3984888405533033, 0.474827698896848, 0.474827698896848, 0.5129971280686204, 0.5511665572403928, 0.6275054155839375, 0.6275054155839375, 0.6275054155839375, 0.6656748447557098, 0.6656748447557098, 0.6656748447557098, 0.6656748447557098, 0.6656748447557098, 0.7801831322710269, 0.9328608489581163, 0.9710302781298886, 1.009199707301661, 1.009199707301661, 1.009199707301661, 1.009199707301661, 1.009199707301661, 1.0473691364734332, 1.0473691364734332, 1.238216282332295, 1.238216282332295, 1.429063428191157, 1.4672328573629292, 1.543571715706474, 2.0016048657677423, 2.4978074450007828, 2.9176711658902788, 2.9176711658902788], \"z\": [-0.43480147996914814, 1.195704069915157, -1.832377665584267, -1.405340497757425, -1.444162058468956, 1.118060948492095, 0.6133806592421909, -0.823017087084459, -0.5900877228152724, 0.8851315842229084, 0.8851315842229084, 1.234525630626688, 0.4192728556845355, -1.7935561048727358, -1.7935561048727358, 1.622741237741999, 1.622741237741999, -0.5512661621037414, 0.38045129497300445, 0.38045129497300445, -0.357158358546086, -0.16305055498843063, -0.16305055498843063, 0.22516505212688012, 0.18634349141534906, 0.03105724856922475, 0.34162973426147336, 0.34162973426147336, 0.18634349141534906, -0.12422899427689955, 0.14752193070381797, -0.08540743356536848, 0.03105724856922475, 0.18634349141534906, -0.357158358546086, -0.16305055498843063, -0.357158358546086, -0.046585872853837404, 0.06987880928075582, -0.31833679783455493, -0.046585872853837404, 0.34162973426147336, 0.18634349141534906, 0.22516505212688012, -0.16305055498843063, -0.27951523712302384, -0.08540743356536848, 0.06987880928075582, -0.16305055498843063, 0.22516505212688012, 1.5839196770304678, -0.5900877228152724, 1.7392059198765921, -1.5218051798920182, 0.9627747056459706, -1.5994483013150804, 0.9627747056459706, -1.7547345441612048, 0.8851315842229084, -1.5606267406035494, 1.66156279845353, -1.4829836191804873, 1.8168490412996543, -0.5512661621037414, 1.5450981163189368, -1.288875815622832, 1.4674549948958746, -1.9100207870073291, -1.9100207870073291, -1.7547345441612048, -0.9394817692190521, -1.1724111334882386, 0.49691597710759766, -1.444162058468956, 0.9627747056459706, -1.5606267406035494, 1.622741237741999, -1.3665189370458939, 0.7298453413767841, -1.405340497757425, 1.5450981163189368, -1.3665189370458939, 1.8168490412996543, 0.691023780665253, -1.6382698620266116, 0.9239531449344395, -1.2500542549113007, 1.2733471913382193]}, {\"hoverlabel\": {\"namelength\": 0}, \"hovertemplate\": \"Gender=0<br>Age=%{x}<br>Annual Income=%{y}<br>Spending Score=%{z}<br>label=%{marker.color}\", \"legendgroup\": \"Gender=0\", \"marker\": {\"color\": [2, 1, 1, 1, 1, 1, 1, 1, 1, 1, 1, 1, 1, 1, 1, 1, 1, 1, 1, 1, 1, 1, 1, 1, 1, 1, 1, 1, 1, 1, 1, 1, 1, 1, 1, 1, 1, 1, 1, 1, 1, 1, 1, 1, 1, 1, 1, 1, 1, 1, 1, 1, 1, 1, 1, 1, 1, 1, 1, 1, 1, 1, 1, 1, 1, 1, 1, 1, 1, 1, 1, 1, 1, 1, 1, 1, 1, 1, 1, 1, 1, 1, 1, 1, 1, 1, 1, 1, 1, 1, 1, 1, 1, 1, 1, 1, 1, 1, 1, 1, 1, 1, 1, 1, 1, 1, 1, 1, 1, 1, 1, 1], \"coloraxis\": \"coloraxis\", \"opacity\": 0.7, \"symbol\": \"diamond\"}, \"mode\": \"markers\", \"name\": \"Gender=0\", \"scene\": \"scene\", \"showlegend\": true, \"type\": \"scatter3d\", \"x\": [-1.3528021003769686, -1.1375020313514563, -0.5633685139500905, -1.209268721026627, -0.2763017552494075, -1.1375020313514563, -0.6351352036252612, -0.2763017552494075, 1.3743321072795196, -1.0657353416762856, -0.2763017552494075, -0.2763017552494075, 0.5131318311774707, 1.0872653485788366, 0.44136514150229994, 0.08253169312644625, -1.1375020313514563, -1.2810354107017978, 0.728431900202983, -1.2810354107017978, 0.22606507247678773, -0.6351352036252612, -0.20453506557423673, -1.3528021003769686, 1.8766989350057148, -0.5633685139500905, 0.728431900202983, -1.0657353416762856, 0.8001985898781537, -0.8504352726507735, -0.706901893300432, -0.5633685139500905, 0.728431900202983, -0.5633685139500905, 0.8001985898781537, 0.8719652795533244, -0.8504352726507735, 2.0202323143560563, 1.0872653485788366, 0.2978317621519585, 2.091999004031227, -0.49160182427491966, 0.5848985208526415, 1.517865486629861, 1.517865486629861, 0.44136514150229994, -1.1375020313514563, 0.728431900202983, 0.5131318311774707, -1.2810354107017978, 1.1590320382540074, -1.209268721026627, -0.3480684449245782, 0.8001985898781537, 2.091999004031227, 0.08253169312644625, -0.49160182427491966, 0.5848985208526415, -0.8504352726507735, -1.1375020313514563, 0.728431900202983, -1.2810354107017978, 1.9484656246808856, -1.4245687900521393, -0.061001686223895235, -1.49633547972731, -1.4245687900521393, 1.7331655556553733, 0.728431900202983, 0.8719652795533244, 0.8001985898781537, -0.061001686223895235, 0.08253169312644625, -1.1375020313514563, -0.5633685139500905, -0.9939686520011148, -0.5633685139500905, -0.706901893300432, 0.36959845182712925, -0.2763017552494075, 1.3025654176043489, -0.7786685829756027, -0.49160182427491966, -0.49160182427491966, -0.3480684449245782, 0.36959845182712925, -0.061001686223895235, 0.5848985208526415, -0.8504352726507735, -0.6351352036252612, -0.6351352036252612, 1.230798727929178, -0.706901893300432, -0.5633685139500905, -0.20453506557423673, -0.41983513459974897, -0.20453506557423673, 0.9437319692284951, -0.6351352036252612, -0.13276837589906598, -0.49160182427491966, -0.706901893300432, 0.154298382801617, 1.0872653485788366, 0.154298382801617, -0.20453506557423673, -0.3480684449245782, -0.49160182427491966, -0.061001686223895235, 0.5848985208526415, -0.2763017552494075, 0.44136514150229994], \"y\": [-1.7008297638941763, -1.7008297638941763, -1.6626603347224038, -1.6626603347224038, -1.6244909055506316, -1.6244909055506316, -1.5863214763788591, -1.5863214763788591, -1.5481520472070869, -1.5481520472070869, -1.5099826180353144, -1.4336437596917697, -1.357304901348225, -1.2427966138329078, -1.2427966138329078, -1.2046271846611356, -1.2046271846611356, -1.1664577554893631, -1.0519494679740462, -1.0519494679740462, -1.0137800388022737, -1.0137800388022737, -0.8992717512869568, -0.8992717512869568, -0.8611023221151844, -0.8229328929434121, -0.8229328929434121, -0.8229328929434121, -0.7847634637716397, -0.7847634637716397, -0.7847634637716397, -0.7847634637716397, -0.7084246054280949, -0.6702551762563226, -0.6702551762563226, -0.6320857470845502, -0.5557468887410055, -0.5175774595692332, -0.5175774595692332, -0.4794080303974609, -0.4794080303974609, -0.4794080303974609, -0.44123860122568853, -0.4030691720539161, -0.4030691720539161, -0.2503914553668267, -0.2503914553668267, -0.2503914553668267, -0.2503914553668267, -0.2503914553668267, -0.13588316785150967, -0.13588316785150967, -0.09771373867973732, -0.09771373867973732, -0.05954430950796496, -0.021374880336192604, -0.021374880336192604, -0.021374880336192604, -0.021374880336192604, 0.0549639780073521, 0.0549639780073521, 0.0549639780073521, 0.09313340717912445, 0.09313340717912445, 0.13130283635089682, 0.16947226552266917, 0.16947226552266917, 0.16947226552266917, 0.16947226552266917, 0.24581112386621387, 0.24581112386621387, 0.24581112386621387, 0.3221499822097586, 0.36031941138153095, 0.36031941138153095, 0.43665826972507565, 0.43665826972507565, 0.474827698896848, 0.474827698896848, 0.5129971280686204, 0.5511665572403928, 0.5893359864121651, 0.5893359864121651, 0.6275054155839375, 0.6656748447557098, 0.6656748447557098, 0.6656748447557098, 0.6656748447557098, 0.6656748447557098, 0.6656748447557098, 0.6656748447557098, 0.7038442739274822, 0.7038442739274822, 0.7801831322710269, 0.9328608489581163, 0.9710302781298886, 1.009199707301661, 1.0473691364734332, 1.0473691364734332, 1.3908939990193845, 1.3908939990193845, 1.429063428191157, 1.4672328573629292, 1.543571715706474, 1.6199105740500186, 1.6199105740500186, 1.6199105740500186, 1.6199105740500186, 2.0016048657677423, 2.2687908699701484, 2.2687908699701484, 2.4978074450007828], \"z\": [-1.7159129834496736, 1.0404178270690327, -0.3959799192576171, 1.0015962663575015, -1.7159129834496736, 1.700384359165061, 0.8463100235113773, 1.8944921627227165, -1.3665189370458939, 1.0404178270690327, -0.5900877228152724, 1.8556706020111853, -1.7547345441612048, -1.405340497757425, -0.7065524049498657, -0.7453739656613968, 1.4286334341843434, 0.8851315842229084, -1.405340497757425, 1.195704069915157, -1.288875815622832, 0.8851315842229084, -0.9394817692190521, 0.9627747056459706, -0.5900877228152724, 0.4192728556845355, -0.86183864779599, 0.5745590985306598, 0.18634349141534906, -0.12422899427689955, -0.31833679783455493, -0.31833679783455493, 0.06987880928075582, 0.14752193070381797, -0.20187211569996172, -0.007764312142306325, 0.03105724856922475, 0.06987880928075582, 0.34162973426147336, -0.007764312142306325, -0.08540743356536848, -0.12422899427689955, -0.31833679783455493, -0.046585872853837404, 0.22516505212688012, 0.1087003699922869, 0.06987880928075582, -0.31833679783455493, -0.24069367641149278, 0.2639866128384112, 0.30280817354994227, 0.18634349141534906, 0.38045129497300445, -0.16305055498843063, 0.18634349141534906, -0.3959799192576171, -0.31833679783455493, -0.12422899427689955, -0.007764312142306325, -0.357158358546086, -0.08540743356536848, -0.31833679783455493, -0.007764312142306325, 0.14752193070381797, -0.31833679783455493, -0.08540743356536848, -0.007764312142306325, -0.27951523712302384, 0.34162973426147336, -0.27951523712302384, 0.2639866128384112, -0.3959799192576171, 0.30280817354994227, -0.823017087084459, 1.0404178270690327, -0.6289092835268035, 0.8074884627998463, 1.4674549948958746, -1.6770914227381426, 0.8463100235113773, -1.7547345441612048, -0.3959799192576171, 1.4286334341843434, 0.9239531449344395, -1.0947680120651764, -1.1724111334882386, 1.0015962663575015, -1.327697376334363, 1.5062765556074056, 1.0792393877805637, 0.8851315842229084, -0.5900877228152724, 1.2733471913382193, 1.66156279845353, 0.9627747056459706, 1.7392059198765921, -0.900660208507521, -1.444162058468956, 1.3898118734728124, -0.7065524049498657, 1.3898118734728124, 1.4674549948958746, -0.43480147996914814, -1.0171248906421142, -1.288875815622832, 1.3509903127612812, -1.0559464513536454, 0.7298453413767841, 1.5839196770304678, -1.327697376334363, 1.118060948492095, -0.86183864779599]}],\n",
              "                        {\"coloraxis\": {\"colorbar\": {\"title\": {\"text\": \"label\"}}, \"colorscale\": [[0.0, \"#0d0887\"], [0.1111111111111111, \"#46039f\"], [0.2222222222222222, \"#7201a8\"], [0.3333333333333333, \"#9c179e\"], [0.4444444444444444, \"#bd3786\"], [0.5555555555555556, \"#d8576b\"], [0.6666666666666666, \"#ed7953\"], [0.7777777777777778, \"#fb9f3a\"], [0.8888888888888888, \"#fdca26\"], [1.0, \"#f0f921\"]]}, \"legend\": {\"tracegroupgap\": 0}, \"margin\": {\"b\": 0, \"l\": 0, \"r\": 0, \"t\": 0}, \"scene\": {\"domain\": {\"x\": [0.0, 1.0], \"y\": [0.0, 1.0]}, \"xaxis\": {\"title\": {\"text\": \"Age\"}}, \"yaxis\": {\"title\": {\"text\": \"Annual Income\"}}, \"zaxis\": {\"title\": {\"text\": \"Spending Score\"}}}, \"template\": {\"data\": {\"bar\": [{\"error_x\": {\"color\": \"#2a3f5f\"}, \"error_y\": {\"color\": \"#2a3f5f\"}, \"marker\": {\"line\": {\"color\": \"#E5ECF6\", \"width\": 0.5}}, \"type\": \"bar\"}], \"barpolar\": [{\"marker\": {\"line\": {\"color\": \"#E5ECF6\", \"width\": 0.5}}, \"type\": \"barpolar\"}], \"carpet\": [{\"aaxis\": {\"endlinecolor\": \"#2a3f5f\", \"gridcolor\": \"white\", \"linecolor\": \"white\", \"minorgridcolor\": \"white\", \"startlinecolor\": \"#2a3f5f\"}, \"baxis\": {\"endlinecolor\": \"#2a3f5f\", \"gridcolor\": \"white\", \"linecolor\": \"white\", \"minorgridcolor\": \"white\", \"startlinecolor\": \"#2a3f5f\"}, \"type\": \"carpet\"}], \"choropleth\": [{\"colorbar\": {\"outlinewidth\": 0, \"ticks\": \"\"}, \"type\": \"choropleth\"}], \"contour\": [{\"colorbar\": {\"outlinewidth\": 0, \"ticks\": \"\"}, \"colorscale\": [[0.0, \"#0d0887\"], [0.1111111111111111, \"#46039f\"], [0.2222222222222222, \"#7201a8\"], [0.3333333333333333, \"#9c179e\"], [0.4444444444444444, \"#bd3786\"], [0.5555555555555556, \"#d8576b\"], [0.6666666666666666, \"#ed7953\"], [0.7777777777777778, \"#fb9f3a\"], [0.8888888888888888, \"#fdca26\"], [1.0, \"#f0f921\"]], \"type\": \"contour\"}], \"contourcarpet\": [{\"colorbar\": {\"outlinewidth\": 0, \"ticks\": \"\"}, \"type\": \"contourcarpet\"}], \"heatmap\": [{\"colorbar\": {\"outlinewidth\": 0, \"ticks\": \"\"}, \"colorscale\": [[0.0, \"#0d0887\"], [0.1111111111111111, \"#46039f\"], [0.2222222222222222, \"#7201a8\"], [0.3333333333333333, \"#9c179e\"], [0.4444444444444444, \"#bd3786\"], [0.5555555555555556, \"#d8576b\"], [0.6666666666666666, \"#ed7953\"], [0.7777777777777778, \"#fb9f3a\"], [0.8888888888888888, \"#fdca26\"], [1.0, \"#f0f921\"]], \"type\": \"heatmap\"}], \"heatmapgl\": [{\"colorbar\": {\"outlinewidth\": 0, \"ticks\": \"\"}, \"colorscale\": [[0.0, \"#0d0887\"], [0.1111111111111111, \"#46039f\"], [0.2222222222222222, \"#7201a8\"], [0.3333333333333333, \"#9c179e\"], [0.4444444444444444, \"#bd3786\"], [0.5555555555555556, \"#d8576b\"], [0.6666666666666666, \"#ed7953\"], [0.7777777777777778, \"#fb9f3a\"], [0.8888888888888888, \"#fdca26\"], [1.0, \"#f0f921\"]], \"type\": \"heatmapgl\"}], \"histogram\": [{\"marker\": {\"colorbar\": {\"outlinewidth\": 0, \"ticks\": \"\"}}, \"type\": \"histogram\"}], \"histogram2d\": [{\"colorbar\": {\"outlinewidth\": 0, \"ticks\": \"\"}, \"colorscale\": [[0.0, \"#0d0887\"], [0.1111111111111111, \"#46039f\"], [0.2222222222222222, \"#7201a8\"], [0.3333333333333333, \"#9c179e\"], [0.4444444444444444, \"#bd3786\"], [0.5555555555555556, \"#d8576b\"], [0.6666666666666666, \"#ed7953\"], [0.7777777777777778, \"#fb9f3a\"], [0.8888888888888888, \"#fdca26\"], [1.0, \"#f0f921\"]], \"type\": \"histogram2d\"}], \"histogram2dcontour\": [{\"colorbar\": {\"outlinewidth\": 0, \"ticks\": \"\"}, \"colorscale\": [[0.0, \"#0d0887\"], [0.1111111111111111, \"#46039f\"], [0.2222222222222222, \"#7201a8\"], [0.3333333333333333, \"#9c179e\"], [0.4444444444444444, \"#bd3786\"], [0.5555555555555556, \"#d8576b\"], [0.6666666666666666, \"#ed7953\"], [0.7777777777777778, \"#fb9f3a\"], [0.8888888888888888, \"#fdca26\"], [1.0, \"#f0f921\"]], \"type\": \"histogram2dcontour\"}], \"mesh3d\": [{\"colorbar\": {\"outlinewidth\": 0, \"ticks\": \"\"}, \"type\": \"mesh3d\"}], \"parcoords\": [{\"line\": {\"colorbar\": {\"outlinewidth\": 0, \"ticks\": \"\"}}, \"type\": \"parcoords\"}], \"pie\": [{\"automargin\": true, \"type\": \"pie\"}], \"scatter\": [{\"marker\": {\"colorbar\": {\"outlinewidth\": 0, \"ticks\": \"\"}}, \"type\": \"scatter\"}], \"scatter3d\": [{\"line\": {\"colorbar\": {\"outlinewidth\": 0, \"ticks\": \"\"}}, \"marker\": {\"colorbar\": {\"outlinewidth\": 0, \"ticks\": \"\"}}, \"type\": \"scatter3d\"}], \"scattercarpet\": [{\"marker\": {\"colorbar\": {\"outlinewidth\": 0, \"ticks\": \"\"}}, \"type\": \"scattercarpet\"}], \"scattergeo\": [{\"marker\": {\"colorbar\": {\"outlinewidth\": 0, \"ticks\": \"\"}}, \"type\": \"scattergeo\"}], \"scattergl\": [{\"marker\": {\"colorbar\": {\"outlinewidth\": 0, \"ticks\": \"\"}}, \"type\": \"scattergl\"}], \"scattermapbox\": [{\"marker\": {\"colorbar\": {\"outlinewidth\": 0, \"ticks\": \"\"}}, \"type\": \"scattermapbox\"}], \"scatterpolar\": [{\"marker\": {\"colorbar\": {\"outlinewidth\": 0, \"ticks\": \"\"}}, \"type\": \"scatterpolar\"}], \"scatterpolargl\": [{\"marker\": {\"colorbar\": {\"outlinewidth\": 0, \"ticks\": \"\"}}, \"type\": \"scatterpolargl\"}], \"scatterternary\": [{\"marker\": {\"colorbar\": {\"outlinewidth\": 0, \"ticks\": \"\"}}, \"type\": \"scatterternary\"}], \"surface\": [{\"colorbar\": {\"outlinewidth\": 0, \"ticks\": \"\"}, \"colorscale\": [[0.0, \"#0d0887\"], [0.1111111111111111, \"#46039f\"], [0.2222222222222222, \"#7201a8\"], [0.3333333333333333, \"#9c179e\"], [0.4444444444444444, \"#bd3786\"], [0.5555555555555556, \"#d8576b\"], [0.6666666666666666, \"#ed7953\"], [0.7777777777777778, \"#fb9f3a\"], [0.8888888888888888, \"#fdca26\"], [1.0, \"#f0f921\"]], \"type\": \"surface\"}], \"table\": [{\"cells\": {\"fill\": {\"color\": \"#EBF0F8\"}, \"line\": {\"color\": \"white\"}}, \"header\": {\"fill\": {\"color\": \"#C8D4E3\"}, \"line\": {\"color\": \"white\"}}, \"type\": \"table\"}]}, \"layout\": {\"annotationdefaults\": {\"arrowcolor\": \"#2a3f5f\", \"arrowhead\": 0, \"arrowwidth\": 1}, \"coloraxis\": {\"colorbar\": {\"outlinewidth\": 0, \"ticks\": \"\"}}, \"colorscale\": {\"diverging\": [[0, \"#8e0152\"], [0.1, \"#c51b7d\"], [0.2, \"#de77ae\"], [0.3, \"#f1b6da\"], [0.4, \"#fde0ef\"], [0.5, \"#f7f7f7\"], [0.6, \"#e6f5d0\"], [0.7, \"#b8e186\"], [0.8, \"#7fbc41\"], [0.9, \"#4d9221\"], [1, \"#276419\"]], \"sequential\": [[0.0, \"#0d0887\"], [0.1111111111111111, \"#46039f\"], [0.2222222222222222, \"#7201a8\"], [0.3333333333333333, \"#9c179e\"], [0.4444444444444444, \"#bd3786\"], [0.5555555555555556, \"#d8576b\"], [0.6666666666666666, \"#ed7953\"], [0.7777777777777778, \"#fb9f3a\"], [0.8888888888888888, \"#fdca26\"], [1.0, \"#f0f921\"]], \"sequentialminus\": [[0.0, \"#0d0887\"], [0.1111111111111111, \"#46039f\"], [0.2222222222222222, \"#7201a8\"], [0.3333333333333333, \"#9c179e\"], [0.4444444444444444, \"#bd3786\"], [0.5555555555555556, \"#d8576b\"], [0.6666666666666666, \"#ed7953\"], [0.7777777777777778, \"#fb9f3a\"], [0.8888888888888888, \"#fdca26\"], [1.0, \"#f0f921\"]]}, \"colorway\": [\"#636efa\", \"#EF553B\", \"#00cc96\", \"#ab63fa\", \"#FFA15A\", \"#19d3f3\", \"#FF6692\", \"#B6E880\", \"#FF97FF\", \"#FECB52\"], \"font\": {\"color\": \"#2a3f5f\"}, \"geo\": {\"bgcolor\": \"white\", \"lakecolor\": \"white\", \"landcolor\": \"#E5ECF6\", \"showlakes\": true, \"showland\": true, \"subunitcolor\": \"white\"}, \"hoverlabel\": {\"align\": \"left\"}, \"hovermode\": \"closest\", \"mapbox\": {\"style\": \"light\"}, \"paper_bgcolor\": \"white\", \"plot_bgcolor\": \"#E5ECF6\", \"polar\": {\"angularaxis\": {\"gridcolor\": \"white\", \"linecolor\": \"white\", \"ticks\": \"\"}, \"bgcolor\": \"#E5ECF6\", \"radialaxis\": {\"gridcolor\": \"white\", \"linecolor\": \"white\", \"ticks\": \"\"}}, \"scene\": {\"xaxis\": {\"backgroundcolor\": \"#E5ECF6\", \"gridcolor\": \"white\", \"gridwidth\": 2, \"linecolor\": \"white\", \"showbackground\": true, \"ticks\": \"\", \"zerolinecolor\": \"white\"}, \"yaxis\": {\"backgroundcolor\": \"#E5ECF6\", \"gridcolor\": \"white\", \"gridwidth\": 2, \"linecolor\": \"white\", \"showbackground\": true, \"ticks\": \"\", \"zerolinecolor\": \"white\"}, \"zaxis\": {\"backgroundcolor\": \"#E5ECF6\", \"gridcolor\": \"white\", \"gridwidth\": 2, \"linecolor\": \"white\", \"showbackground\": true, \"ticks\": \"\", \"zerolinecolor\": \"white\"}}, \"shapedefaults\": {\"line\": {\"color\": \"#2a3f5f\"}}, \"ternary\": {\"aaxis\": {\"gridcolor\": \"white\", \"linecolor\": \"white\", \"ticks\": \"\"}, \"baxis\": {\"gridcolor\": \"white\", \"linecolor\": \"white\", \"ticks\": \"\"}, \"bgcolor\": \"#E5ECF6\", \"caxis\": {\"gridcolor\": \"white\", \"linecolor\": \"white\", \"ticks\": \"\"}}, \"title\": {\"x\": 0.05}, \"xaxis\": {\"automargin\": true, \"gridcolor\": \"white\", \"linecolor\": \"white\", \"ticks\": \"\", \"title\": {\"standoff\": 15}, \"zerolinecolor\": \"white\", \"zerolinewidth\": 2}, \"yaxis\": {\"automargin\": true, \"gridcolor\": \"white\", \"linecolor\": \"white\", \"ticks\": \"\", \"title\": {\"standoff\": 15}, \"zerolinecolor\": \"white\", \"zerolinewidth\": 2}}}},\n",
              "                        {\"responsive\": true}\n",
              "                    ).then(function(){\n",
              "                            \n",
              "var gd = document.getElementById('ec1c74f4-ccc3-4fc9-b018-3105d770693f');\n",
              "var x = new MutationObserver(function (mutations, observer) {{\n",
              "        var display = window.getComputedStyle(gd).display;\n",
              "        if (!display || display === 'none') {{\n",
              "            console.log([gd, 'removed!']);\n",
              "            Plotly.purge(gd);\n",
              "            observer.disconnect();\n",
              "        }}\n",
              "}});\n",
              "\n",
              "// Listen for the removal of the full notebook cells\n",
              "var notebookContainer = gd.closest('#notebook-container');\n",
              "if (notebookContainer) {{\n",
              "    x.observe(notebookContainer, {childList: true});\n",
              "}}\n",
              "\n",
              "// Listen for the clearing of the current output cell\n",
              "var outputEl = gd.closest('.output');\n",
              "if (outputEl) {{\n",
              "    x.observe(outputEl, {childList: true});\n",
              "}}\n",
              "\n",
              "                        })\n",
              "                };\n",
              "                \n",
              "            </script>\n",
              "        </div>\n",
              "</body>\n",
              "</html>"
            ]
          },
          "metadata": {
            "tags": []
          }
        }
      ]
    },
    {
      "cell_type": "markdown",
      "metadata": {
        "id": "oSPUP2YtWmxX"
      },
      "source": [
        "#### **Complete Method**"
      ]
    },
    {
      "cell_type": "markdown",
      "metadata": {
        "id": "1eOE36lGWmxa"
      },
      "source": [
        "##### **Visualization by Dendrogram**\n"
      ]
    },
    {
      "cell_type": "code",
      "metadata": {
        "id": "Ku6OjOtLWmxb"
      },
      "source": [
        "link = 'complete'\n",
        "clust_data = clust_data.drop(columns='label')\n",
        "Z = hierarchy.linkage(clust_data, link)"
      ],
      "execution_count": 38,
      "outputs": []
    },
    {
      "cell_type": "code",
      "metadata": {
        "id": "KtKOeWJkWmxk",
        "outputId": "7d22729a-d407-4812-9226-dbce679e353a",
        "colab": {
          "base_uri": "https://localhost:8080/",
          "height": 0
        }
      },
      "source": [
        "figure(num=None, figsize=(15,10), facecolor='w', edgecolor='k')\n",
        "plt.title('Hierarchical Clustering Dendrogram')\n",
        "\n",
        "# plot the top 8 levels of the dendrogram\n",
        "dendrogram(Z, truncate_mode='lastp',p=8, orientation=\"right\",labels=clust_data.index)\n",
        "plt.ylabel(\"Number of points in node (or index of point if no parenthesis)\")\n",
        "plt.xlabel(\"Distance\")\n",
        "plt.show()"
      ],
      "execution_count": 39,
      "outputs": [
        {
          "output_type": "display_data",
          "data": {
            "image/png": "[encoded data removed]",
            "text/plain": [
              "<Figure size 1080x720 with 1 Axes>"
            ]
          },
          "metadata": {
            "tags": []
          }
        }
      ]
    },
    {
      "cell_type": "code",
      "metadata": {
        "id": "XpbXs_IHWmxp",
        "outputId": "917a9a35-284b-4605-9f7c-354514856c30",
        "colab": {
          "base_uri": "https://localhost:8080/"
        }
      },
      "source": [
        "max_sc_complete=-999\n",
        "for n_cluster in range(2,11):\n",
        "    label= fcluster(Z, n_cluster, criterion='maxclust')\n",
        "    sc_score = metrics.silhouette_score(clust_data, label, metric='euclidean')\n",
        "    ch_score = metrics.calinski_harabasz_score(clust_data, label)\n",
        "    db_score = metrics.davies_bouldin_score(clust_data, label)\n",
        "    print(\"For n_clusters = \", n_cluster, \", The average silhouette_score is:\", sc_score)\n",
        "    if sc_score>= max_sc_complete:\n",
        "          max_sc_complete = sc_score\n",
        "          max_ch_complete = ch_score\n",
        "          max_db_complete = db_score\n",
        "          max_k_complete = n_cluster\n",
        "\n",
        "print('So k with highest SC, CH and DB score is: ',max_k_complete)"
      ],
      "execution_count": 40,
      "outputs": [
        {
          "output_type": "stream",
          "text": [
            "For n_clusters =  2 , The average silhouette_score is: 0.20507935432314284\n",
            "For n_clusters =  3 , The average silhouette_score is: 0.19461994066369875\n",
            "For n_clusters =  4 , The average silhouette_score is: 0.241642272927867\n",
            "For n_clusters =  5 , The average silhouette_score is: 0.3404764937897312\n",
            "For n_clusters =  6 , The average silhouette_score is: 0.33892565082159215\n",
            "For n_clusters =  7 , The average silhouette_score is: 0.31109980258465664\n",
            "For n_clusters =  8 , The average silhouette_score is: 0.3019605722884507\n",
            "For n_clusters =  9 , The average silhouette_score is: 0.2974714880777752\n",
            "For n_clusters =  10 , The average silhouette_score is: 0.2973696033879066\n",
            "So k with highest SC, CH and DB score is:  5\n"
          ],
          "name": "stdout"
        }
      ]
    },
    {
      "cell_type": "markdown",
      "metadata": {
        "id": "haBfMJf_Wmxw"
      },
      "source": [
        "##### **Modeling AGNES**"
      ]
    },
    {
      "cell_type": "code",
      "metadata": {
        "id": "Tgi8OB6eWmxx",
        "outputId": "8c993a05-9d79-47c5-abde-42ab1d62ece8",
        "colab": {
          "base_uri": "https://localhost:8080/",
          "height": 0
        }
      },
      "source": [
        "# Apply the Hierarchical Clustering Model to the Dataset\n",
        "cluster_labels= fcluster(Z, max_k_complete, criterion='maxclust')\n",
        "clust_data[\"label\"] = cluster_labels\n",
        "clust_data.head()"
      ],
      "execution_count": 41,
      "outputs": [
        {
          "output_type": "execute_result",
          "data": {
            "text/html": [
              "<div>\n",
              "<style scoped>\n",
              "    .dataframe tbody tr th:only-of-type {\n",
              "        vertical-align: middle;\n",
              "    }\n",
              "\n",
              "    .dataframe tbody tr th {\n",
              "        vertical-align: top;\n",
              "    }\n",
              "\n",
              "    .dataframe thead th {\n",
              "        text-align: right;\n",
              "    }\n",
              "</style>\n",
              "<table border=\"1\" class=\"dataframe\">\n",
              "  <thead>\n",
              "    <tr style=\"text-align: right;\">\n",
              "      <th></th>\n",
              "      <th>Age</th>\n",
              "      <th>Annual Income</th>\n",
              "      <th>Spending Score</th>\n",
              "      <th>Gender</th>\n",
              "      <th>label</th>\n",
              "    </tr>\n",
              "  </thead>\n",
              "  <tbody>\n",
              "    <tr>\n",
              "      <th>0</th>\n",
              "      <td>-1.424569</td>\n",
              "      <td>-1.738999</td>\n",
              "      <td>-0.434801</td>\n",
              "      <td>1</td>\n",
              "      <td>4</td>\n",
              "    </tr>\n",
              "    <tr>\n",
              "      <th>1</th>\n",
              "      <td>-1.281035</td>\n",
              "      <td>-1.738999</td>\n",
              "      <td>1.195704</td>\n",
              "      <td>1</td>\n",
              "      <td>3</td>\n",
              "    </tr>\n",
              "    <tr>\n",
              "      <th>2</th>\n",
              "      <td>-1.352802</td>\n",
              "      <td>-1.700830</td>\n",
              "      <td>-1.715913</td>\n",
              "      <td>0</td>\n",
              "      <td>4</td>\n",
              "    </tr>\n",
              "    <tr>\n",
              "      <th>3</th>\n",
              "      <td>-1.137502</td>\n",
              "      <td>-1.700830</td>\n",
              "      <td>1.040418</td>\n",
              "      <td>0</td>\n",
              "      <td>3</td>\n",
              "    </tr>\n",
              "    <tr>\n",
              "      <th>4</th>\n",
              "      <td>-0.563369</td>\n",
              "      <td>-1.662660</td>\n",
              "      <td>-0.395980</td>\n",
              "      <td>0</td>\n",
              "      <td>4</td>\n",
              "    </tr>\n",
              "  </tbody>\n",
              "</table>\n",
              "</div>"
            ],
            "text/plain": [
              "        Age  Annual Income  Spending Score  Gender  label\n",
              "0 -1.424569      -1.738999       -0.434801       1      4\n",
              "1 -1.281035      -1.738999        1.195704       1      3\n",
              "2 -1.352802      -1.700830       -1.715913       0      4\n",
              "3 -1.137502      -1.700830        1.040418       0      3\n",
              "4 -0.563369      -1.662660       -0.395980       0      4"
            ]
          },
          "metadata": {
            "tags": []
          },
          "execution_count": 41
        }
      ]
    },
    {
      "cell_type": "code",
      "metadata": {
        "id": "3VoDyzadWmx1",
        "outputId": "3877e54d-398c-41e1-eb77-bed09cbbd789",
        "colab": {
          "base_uri": "https://localhost:8080/",
          "height": 0
        }
      },
      "source": [
        "# Visualising Clusters for k=7\n",
        "fig = px.scatter_3d(clust_data, x='Age', y='Annual Income', z='Spending Score',color='label',symbol='Gender', size_max=18, opacity=0.7)\n",
        "\n",
        "# tight layout\n",
        "fig.update_layout(margin=dict(l=0, r=0, b=0, t=0))"
      ],
      "execution_count": 42,
      "outputs": [
        {
          "output_type": "display_data",
          "data": {
            "text/html": [
              "<html>\n",
              "<head><meta charset=\"utf-8\" /></head>\n",
              "<body>\n",
              "    <div>\n",
              "            <script src=\"https://cdnjs.cloudflare.com/ajax/libs/mathjax/2.7.5/MathJax.js?config=TeX-AMS-MML_SVG\"></script><script type=\"text/javascript\">if (window.MathJax) {MathJax.Hub.Config({SVG: {font: \"STIX-Web\"}});}</script>\n",
              "                <script type=\"text/javascript\">window.PlotlyConfig = {MathJaxConfig: 'local'};</script>\n",
              "        <script src=\"https://cdn.plot.ly/plotly-latest.min.js\"></script>    \n",
              "            <div id=\"542d92c6-e5d5-4068-afc9-d2513913b058\" class=\"plotly-graph-div\" style=\"height:525px; width:100%;\"></div>\n",
              "            <script type=\"text/javascript\">\n",
              "                \n",
              "                    window.PLOTLYENV=window.PLOTLYENV || {};\n",
              "                    \n",
              "                if (document.getElementById(\"542d92c6-e5d5-4068-afc9-d2513913b058\")) {\n",
              "                    Plotly.newPlot(\n",
              "                        '542d92c6-e5d5-4068-afc9-d2513913b058',\n",
              "                        [{\"hoverlabel\": {\"namelength\": 0}, \"hovertemplate\": \"Gender=1<br>Age=%{x}<br>Annual Income=%{y}<br>Spending Score=%{z}<br>label=%{marker.color}\", \"legendgroup\": \"Gender=1\", \"marker\": {\"color\": [4, 3, 5, 5, 5, 3, 3, 5, 5, 3, 3, 3, 4, 5, 5, 3, 3, 5, 4, 5, 5, 5, 5, 5, 4, 5, 4, 4, 5, 5, 4, 4, 5, 4, 5, 5, 4, 5, 4, 5, 4, 5, 4, 5, 5, 5, 5, 5, 4, 4, 1, 5, 1, 2, 1, 2, 1, 4, 1, 4, 1, 4, 1, 5, 1, 2, 1, 2, 2, 4, 2, 2, 1, 2, 1, 2, 1, 2, 1, 2, 1, 2, 1, 1, 2, 1, 2, 1], \"coloraxis\": \"coloraxis\", \"opacity\": 0.7, \"symbol\": \"circle\"}, \"mode\": \"markers\", \"name\": \"Gender=1\", \"scene\": \"scene\", \"showlegend\": true, \"type\": \"scatter3d\", \"x\": [-1.4245687900521393, -1.2810354107017978, 1.804932245330544, 2.0202323143560563, -0.13276837589906598, -1.209268721026627, -1.3528021003769686, 0.9437319692284951, -0.2763017552494075, -0.9939686520011148, -0.5633685139500905, -0.706901893300432, -0.2763017552494075, 1.517865486629861, 1.0154986589036659, -1.49633547972731, -1.0657353416762856, 0.6566652105278122, -0.41983513459974897, 1.4460987969546903, 0.5848985208526415, 2.163765693706398, 1.0154986589036659, 2.2355323833815683, -1.4245687900521393, 1.7331655556553733, -1.49633547972731, -1.4245687900521393, 2.2355323833815683, 1.4460987969546903, -0.9222019623259441, 0.08253169312644625, 1.3025654176043489, -0.061001686223895235, 2.0202323143560563, 0.6566652105278122, -1.49633547972731, 0.6566652105278122, -1.0657353416762856, 0.6566652105278122, -1.3528021003769686, 2.0202323143560563, -0.9222019623259441, 0.728431900202983, 1.0872653485788366, 2.091999004031227, 1.9484656246808856, 1.8766989350057148, -1.4245687900521393, -0.8504352726507735, 0.010765003451275509, 0.2978317621519585, 0.08253169312644625, 1.4460987969546903, -0.061001686223895235, 0.5848985208526415, 0.010765003451275509, -1.3528021003769686, -0.49160182427491966, -1.4245687900521393, -0.49160182427491966, -0.9939686520011148, -0.7786685829756027, 0.6566652105278122, -0.3480684449245782, 0.2978317621519585, 0.010765003451275509, -0.13276837589906598, -0.3480684449245782, -1.4245687900521393, 0.8001985898781537, 0.22606507247678773, -0.49160182427491966, 0.08253169312644625, -0.7786685829756027, -0.20453506557423673, -0.20453506557423673, 1.3743321072795196, -0.8504352726507735, 1.4460987969546903, -0.2763017552494075, 0.5131318311774707, -0.6351352036252612, -0.7786685829756027, -0.41983513459974897, -0.49160182427491966, -0.49160182427491966, -0.6351352036252612], \"y\": [-1.7389991930659485, -1.7389991930659485, -1.5863214763788591, -1.5863214763788591, -1.5481520472070869, -1.5481520472070869, -1.5099826180353144, -1.4336437596917697, -1.3954743305199975, -1.3954743305199975, -1.357304901348225, -1.2427966138329078, -1.2427966138329078, -1.1664577554893631, -1.0519494679740462, -1.0519494679740462, -0.8611023221151844, -0.8229328929434121, -0.7084246054280949, -0.6702551762563226, -0.6702551762563226, -0.6320857470845502, -0.5557468887410055, -0.5557468887410055, -0.5557468887410055, -0.4794080303974609, -0.4794080303974609, -0.4794080303974609, -0.44123860122568853, -0.2503914553668267, -0.2503914553668267, -0.2503914553668267, -0.2503914553668267, -0.2503914553668267, -0.2503914553668267, -0.2503914553668267, -0.05954430950796496, -0.021374880336192604, -0.021374880336192604, 0.01679454883557975, 0.01679454883557975, 0.0549639780073521, 0.0549639780073521, 0.0549639780073521, 0.09313340717912445, 0.09313340717912445, 0.09313340717912445, 0.09313340717912445, 0.13130283635089682, 0.24581112386621387, 0.3221499822097586, 0.3984888405533033, 0.3984888405533033, 0.3984888405533033, 0.3984888405533033, 0.3984888405533033, 0.3984888405533033, 0.474827698896848, 0.474827698896848, 0.5129971280686204, 0.5511665572403928, 0.6275054155839375, 0.6275054155839375, 0.6275054155839375, 0.6656748447557098, 0.6656748447557098, 0.6656748447557098, 0.6656748447557098, 0.6656748447557098, 0.7801831322710269, 0.9328608489581163, 0.9710302781298886, 1.009199707301661, 1.009199707301661, 1.009199707301661, 1.009199707301661, 1.009199707301661, 1.0473691364734332, 1.0473691364734332, 1.238216282332295, 1.238216282332295, 1.429063428191157, 1.4672328573629292, 1.543571715706474, 2.0016048657677423, 2.4978074450007828, 2.9176711658902788, 2.9176711658902788], \"z\": [-0.43480147996914814, 1.195704069915157, -1.832377665584267, -1.405340497757425, -1.444162058468956, 1.118060948492095, 0.6133806592421909, -0.823017087084459, -0.5900877228152724, 0.8851315842229084, 0.8851315842229084, 1.234525630626688, 0.4192728556845355, -1.7935561048727358, -1.7935561048727358, 1.622741237741999, 1.622741237741999, -0.5512661621037414, 0.38045129497300445, 0.38045129497300445, -0.357158358546086, -0.16305055498843063, -0.16305055498843063, 0.22516505212688012, 0.18634349141534906, 0.03105724856922475, 0.34162973426147336, 0.34162973426147336, 0.18634349141534906, -0.12422899427689955, 0.14752193070381797, -0.08540743356536848, 0.03105724856922475, 0.18634349141534906, -0.357158358546086, -0.16305055498843063, -0.357158358546086, -0.046585872853837404, 0.06987880928075582, -0.31833679783455493, -0.046585872853837404, 0.34162973426147336, 0.18634349141534906, 0.22516505212688012, -0.16305055498843063, -0.27951523712302384, -0.08540743356536848, 0.06987880928075582, -0.16305055498843063, 0.22516505212688012, 1.5839196770304678, -0.5900877228152724, 1.7392059198765921, -1.5218051798920182, 0.9627747056459706, -1.5994483013150804, 0.9627747056459706, -1.7547345441612048, 0.8851315842229084, -1.5606267406035494, 1.66156279845353, -1.4829836191804873, 1.8168490412996543, -0.5512661621037414, 1.5450981163189368, -1.288875815622832, 1.4674549948958746, -1.9100207870073291, -1.9100207870073291, -1.7547345441612048, -0.9394817692190521, -1.1724111334882386, 0.49691597710759766, -1.444162058468956, 0.9627747056459706, -1.5606267406035494, 1.622741237741999, -1.3665189370458939, 0.7298453413767841, -1.405340497757425, 1.5450981163189368, -1.3665189370458939, 1.8168490412996543, 0.691023780665253, -1.6382698620266116, 0.9239531449344395, -1.2500542549113007, 1.2733471913382193]}, {\"hoverlabel\": {\"namelength\": 0}, \"hovertemplate\": \"Gender=0<br>Age=%{x}<br>Annual Income=%{y}<br>Spending Score=%{z}<br>label=%{marker.color}\", \"legendgroup\": \"Gender=0\", \"marker\": {\"color\": [4, 3, 4, 3, 4, 3, 3, 3, 5, 3, 4, 3, 5, 5, 5, 5, 3, 3, 5, 3, 5, 3, 5, 3, 5, 4, 5, 3, 5, 4, 4, 4, 5, 4, 5, 5, 4, 5, 5, 5, 5, 4, 5, 5, 5, 5, 4, 5, 5, 4, 5, 4, 4, 5, 5, 4, 4, 5, 4, 4, 5, 4, 5, 4, 4, 4, 4, 5, 5, 5, 5, 4, 4, 4, 1, 4, 1, 1, 2, 1, 2, 4, 1, 1, 2, 2, 1, 2, 1, 1, 1, 5, 1, 1, 1, 1, 2, 2, 1, 2, 1, 1, 2, 2, 2, 1, 2, 1, 1, 2, 1, 2], \"coloraxis\": \"coloraxis\", \"opacity\": 0.7, \"symbol\": \"diamond\"}, \"mode\": \"markers\", \"name\": \"Gender=0\", \"scene\": \"scene\", \"showlegend\": true, \"type\": \"scatter3d\", \"x\": [-1.3528021003769686, -1.1375020313514563, -0.5633685139500905, -1.209268721026627, -0.2763017552494075, -1.1375020313514563, -0.6351352036252612, -0.2763017552494075, 1.3743321072795196, -1.0657353416762856, -0.2763017552494075, -0.2763017552494075, 0.5131318311774707, 1.0872653485788366, 0.44136514150229994, 0.08253169312644625, -1.1375020313514563, -1.2810354107017978, 0.728431900202983, -1.2810354107017978, 0.22606507247678773, -0.6351352036252612, -0.20453506557423673, -1.3528021003769686, 1.8766989350057148, -0.5633685139500905, 0.728431900202983, -1.0657353416762856, 0.8001985898781537, -0.8504352726507735, -0.706901893300432, -0.5633685139500905, 0.728431900202983, -0.5633685139500905, 0.8001985898781537, 0.8719652795533244, -0.8504352726507735, 2.0202323143560563, 1.0872653485788366, 0.2978317621519585, 2.091999004031227, -0.49160182427491966, 0.5848985208526415, 1.517865486629861, 1.517865486629861, 0.44136514150229994, -1.1375020313514563, 0.728431900202983, 0.5131318311774707, -1.2810354107017978, 1.1590320382540074, -1.209268721026627, -0.3480684449245782, 0.8001985898781537, 2.091999004031227, 0.08253169312644625, -0.49160182427491966, 0.5848985208526415, -0.8504352726507735, -1.1375020313514563, 0.728431900202983, -1.2810354107017978, 1.9484656246808856, -1.4245687900521393, -0.061001686223895235, -1.49633547972731, -1.4245687900521393, 1.7331655556553733, 0.728431900202983, 0.8719652795533244, 0.8001985898781537, -0.061001686223895235, 0.08253169312644625, -1.1375020313514563, -0.5633685139500905, -0.9939686520011148, -0.5633685139500905, -0.706901893300432, 0.36959845182712925, -0.2763017552494075, 1.3025654176043489, -0.7786685829756027, -0.49160182427491966, -0.49160182427491966, -0.3480684449245782, 0.36959845182712925, -0.061001686223895235, 0.5848985208526415, -0.8504352726507735, -0.6351352036252612, -0.6351352036252612, 1.230798727929178, -0.706901893300432, -0.5633685139500905, -0.20453506557423673, -0.41983513459974897, -0.20453506557423673, 0.9437319692284951, -0.6351352036252612, -0.13276837589906598, -0.49160182427491966, -0.706901893300432, 0.154298382801617, 1.0872653485788366, 0.154298382801617, -0.20453506557423673, -0.3480684449245782, -0.49160182427491966, -0.061001686223895235, 0.5848985208526415, -0.2763017552494075, 0.44136514150229994], \"y\": [-1.7008297638941763, -1.7008297638941763, -1.6626603347224038, -1.6626603347224038, -1.6244909055506316, -1.6244909055506316, -1.5863214763788591, -1.5863214763788591, -1.5481520472070869, -1.5481520472070869, -1.5099826180353144, -1.4336437596917697, -1.357304901348225, -1.2427966138329078, -1.2427966138329078, -1.2046271846611356, -1.2046271846611356, -1.1664577554893631, -1.0519494679740462, -1.0519494679740462, -1.0137800388022737, -1.0137800388022737, -0.8992717512869568, -0.8992717512869568, -0.8611023221151844, -0.8229328929434121, -0.8229328929434121, -0.8229328929434121, -0.7847634637716397, -0.7847634637716397, -0.7847634637716397, -0.7847634637716397, -0.7084246054280949, -0.6702551762563226, -0.6702551762563226, -0.6320857470845502, -0.5557468887410055, -0.5175774595692332, -0.5175774595692332, -0.4794080303974609, -0.4794080303974609, -0.4794080303974609, -0.44123860122568853, -0.4030691720539161, -0.4030691720539161, -0.2503914553668267, -0.2503914553668267, -0.2503914553668267, -0.2503914553668267, -0.2503914553668267, -0.13588316785150967, -0.13588316785150967, -0.09771373867973732, -0.09771373867973732, -0.05954430950796496, -0.021374880336192604, -0.021374880336192604, -0.021374880336192604, -0.021374880336192604, 0.0549639780073521, 0.0549639780073521, 0.0549639780073521, 0.09313340717912445, 0.09313340717912445, 0.13130283635089682, 0.16947226552266917, 0.16947226552266917, 0.16947226552266917, 0.16947226552266917, 0.24581112386621387, 0.24581112386621387, 0.24581112386621387, 0.3221499822097586, 0.36031941138153095, 0.36031941138153095, 0.43665826972507565, 0.43665826972507565, 0.474827698896848, 0.474827698896848, 0.5129971280686204, 0.5511665572403928, 0.5893359864121651, 0.5893359864121651, 0.6275054155839375, 0.6656748447557098, 0.6656748447557098, 0.6656748447557098, 0.6656748447557098, 0.6656748447557098, 0.6656748447557098, 0.6656748447557098, 0.7038442739274822, 0.7038442739274822, 0.7801831322710269, 0.9328608489581163, 0.9710302781298886, 1.009199707301661, 1.0473691364734332, 1.0473691364734332, 1.3908939990193845, 1.3908939990193845, 1.429063428191157, 1.4672328573629292, 1.543571715706474, 1.6199105740500186, 1.6199105740500186, 1.6199105740500186, 1.6199105740500186, 2.0016048657677423, 2.2687908699701484, 2.2687908699701484, 2.4978074450007828], \"z\": [-1.7159129834496736, 1.0404178270690327, -0.3959799192576171, 1.0015962663575015, -1.7159129834496736, 1.700384359165061, 0.8463100235113773, 1.8944921627227165, -1.3665189370458939, 1.0404178270690327, -0.5900877228152724, 1.8556706020111853, -1.7547345441612048, -1.405340497757425, -0.7065524049498657, -0.7453739656613968, 1.4286334341843434, 0.8851315842229084, -1.405340497757425, 1.195704069915157, -1.288875815622832, 0.8851315842229084, -0.9394817692190521, 0.9627747056459706, -0.5900877228152724, 0.4192728556845355, -0.86183864779599, 0.5745590985306598, 0.18634349141534906, -0.12422899427689955, -0.31833679783455493, -0.31833679783455493, 0.06987880928075582, 0.14752193070381797, -0.20187211569996172, -0.007764312142306325, 0.03105724856922475, 0.06987880928075582, 0.34162973426147336, -0.007764312142306325, -0.08540743356536848, -0.12422899427689955, -0.31833679783455493, -0.046585872853837404, 0.22516505212688012, 0.1087003699922869, 0.06987880928075582, -0.31833679783455493, -0.24069367641149278, 0.2639866128384112, 0.30280817354994227, 0.18634349141534906, 0.38045129497300445, -0.16305055498843063, 0.18634349141534906, -0.3959799192576171, -0.31833679783455493, -0.12422899427689955, -0.007764312142306325, -0.357158358546086, -0.08540743356536848, -0.31833679783455493, -0.007764312142306325, 0.14752193070381797, -0.31833679783455493, -0.08540743356536848, -0.007764312142306325, -0.27951523712302384, 0.34162973426147336, -0.27951523712302384, 0.2639866128384112, -0.3959799192576171, 0.30280817354994227, -0.823017087084459, 1.0404178270690327, -0.6289092835268035, 0.8074884627998463, 1.4674549948958746, -1.6770914227381426, 0.8463100235113773, -1.7547345441612048, -0.3959799192576171, 1.4286334341843434, 0.9239531449344395, -1.0947680120651764, -1.1724111334882386, 1.0015962663575015, -1.327697376334363, 1.5062765556074056, 1.0792393877805637, 0.8851315842229084, -0.5900877228152724, 1.2733471913382193, 1.66156279845353, 0.9627747056459706, 1.7392059198765921, -0.900660208507521, -1.444162058468956, 1.3898118734728124, -0.7065524049498657, 1.3898118734728124, 1.4674549948958746, -0.43480147996914814, -1.0171248906421142, -1.288875815622832, 1.3509903127612812, -1.0559464513536454, 0.7298453413767841, 1.5839196770304678, -1.327697376334363, 1.118060948492095, -0.86183864779599]}],\n",
              "                        {\"coloraxis\": {\"colorbar\": {\"title\": {\"text\": \"label\"}}, \"colorscale\": [[0.0, \"#0d0887\"], [0.1111111111111111, \"#46039f\"], [0.2222222222222222, \"#7201a8\"], [0.3333333333333333, \"#9c179e\"], [0.4444444444444444, \"#bd3786\"], [0.5555555555555556, \"#d8576b\"], [0.6666666666666666, \"#ed7953\"], [0.7777777777777778, \"#fb9f3a\"], [0.8888888888888888, \"#fdca26\"], [1.0, \"#f0f921\"]]}, \"legend\": {\"tracegroupgap\": 0}, \"margin\": {\"b\": 0, \"l\": 0, \"r\": 0, \"t\": 0}, \"scene\": {\"domain\": {\"x\": [0.0, 1.0], \"y\": [0.0, 1.0]}, \"xaxis\": {\"title\": {\"text\": \"Age\"}}, \"yaxis\": {\"title\": {\"text\": \"Annual Income\"}}, \"zaxis\": {\"title\": {\"text\": \"Spending Score\"}}}, \"template\": {\"data\": {\"bar\": [{\"error_x\": {\"color\": \"#2a3f5f\"}, \"error_y\": {\"color\": \"#2a3f5f\"}, \"marker\": {\"line\": {\"color\": \"#E5ECF6\", \"width\": 0.5}}, \"type\": \"bar\"}], \"barpolar\": [{\"marker\": {\"line\": {\"color\": \"#E5ECF6\", \"width\": 0.5}}, \"type\": \"barpolar\"}], \"carpet\": [{\"aaxis\": {\"endlinecolor\": \"#2a3f5f\", \"gridcolor\": \"white\", \"linecolor\": \"white\", \"minorgridcolor\": \"white\", \"startlinecolor\": \"#2a3f5f\"}, \"baxis\": {\"endlinecolor\": \"#2a3f5f\", \"gridcolor\": \"white\", \"linecolor\": \"white\", \"minorgridcolor\": \"white\", \"startlinecolor\": \"#2a3f5f\"}, \"type\": \"carpet\"}], \"choropleth\": [{\"colorbar\": {\"outlinewidth\": 0, \"ticks\": \"\"}, \"type\": \"choropleth\"}], \"contour\": [{\"colorbar\": {\"outlinewidth\": 0, \"ticks\": \"\"}, \"colorscale\": [[0.0, \"#0d0887\"], [0.1111111111111111, \"#46039f\"], [0.2222222222222222, \"#7201a8\"], [0.3333333333333333, \"#9c179e\"], [0.4444444444444444, \"#bd3786\"], [0.5555555555555556, \"#d8576b\"], [0.6666666666666666, \"#ed7953\"], [0.7777777777777778, \"#fb9f3a\"], [0.8888888888888888, \"#fdca26\"], [1.0, \"#f0f921\"]], \"type\": \"contour\"}], \"contourcarpet\": [{\"colorbar\": {\"outlinewidth\": 0, \"ticks\": \"\"}, \"type\": \"contourcarpet\"}], \"heatmap\": [{\"colorbar\": {\"outlinewidth\": 0, \"ticks\": \"\"}, \"colorscale\": [[0.0, \"#0d0887\"], [0.1111111111111111, \"#46039f\"], [0.2222222222222222, \"#7201a8\"], [0.3333333333333333, \"#9c179e\"], [0.4444444444444444, \"#bd3786\"], [0.5555555555555556, \"#d8576b\"], [0.6666666666666666, \"#ed7953\"], [0.7777777777777778, \"#fb9f3a\"], [0.8888888888888888, \"#fdca26\"], [1.0, \"#f0f921\"]], \"type\": \"heatmap\"}], \"heatmapgl\": [{\"colorbar\": {\"outlinewidth\": 0, \"ticks\": \"\"}, \"colorscale\": [[0.0, \"#0d0887\"], [0.1111111111111111, \"#46039f\"], [0.2222222222222222, \"#7201a8\"], [0.3333333333333333, \"#9c179e\"], [0.4444444444444444, \"#bd3786\"], [0.5555555555555556, \"#d8576b\"], [0.6666666666666666, \"#ed7953\"], [0.7777777777777778, \"#fb9f3a\"], [0.8888888888888888, \"#fdca26\"], [1.0, \"#f0f921\"]], \"type\": \"heatmapgl\"}], \"histogram\": [{\"marker\": {\"colorbar\": {\"outlinewidth\": 0, \"ticks\": \"\"}}, \"type\": \"histogram\"}], \"histogram2d\": [{\"colorbar\": {\"outlinewidth\": 0, \"ticks\": \"\"}, \"colorscale\": [[0.0, \"#0d0887\"], [0.1111111111111111, \"#46039f\"], [0.2222222222222222, \"#7201a8\"], [0.3333333333333333, \"#9c179e\"], [0.4444444444444444, \"#bd3786\"], [0.5555555555555556, \"#d8576b\"], [0.6666666666666666, \"#ed7953\"], [0.7777777777777778, \"#fb9f3a\"], [0.8888888888888888, \"#fdca26\"], [1.0, \"#f0f921\"]], \"type\": \"histogram2d\"}], \"histogram2dcontour\": [{\"colorbar\": {\"outlinewidth\": 0, \"ticks\": \"\"}, \"colorscale\": [[0.0, \"#0d0887\"], [0.1111111111111111, \"#46039f\"], [0.2222222222222222, \"#7201a8\"], [0.3333333333333333, \"#9c179e\"], [0.4444444444444444, \"#bd3786\"], [0.5555555555555556, \"#d8576b\"], [0.6666666666666666, \"#ed7953\"], [0.7777777777777778, \"#fb9f3a\"], [0.8888888888888888, \"#fdca26\"], [1.0, \"#f0f921\"]], \"type\": \"histogram2dcontour\"}], \"mesh3d\": [{\"colorbar\": {\"outlinewidth\": 0, \"ticks\": \"\"}, \"type\": \"mesh3d\"}], \"parcoords\": [{\"line\": {\"colorbar\": {\"outlinewidth\": 0, \"ticks\": \"\"}}, \"type\": \"parcoords\"}], \"pie\": [{\"automargin\": true, \"type\": \"pie\"}], \"scatter\": [{\"marker\": {\"colorbar\": {\"outlinewidth\": 0, \"ticks\": \"\"}}, \"type\": \"scatter\"}], \"scatter3d\": [{\"line\": {\"colorbar\": {\"outlinewidth\": 0, \"ticks\": \"\"}}, \"marker\": {\"colorbar\": {\"outlinewidth\": 0, \"ticks\": \"\"}}, \"type\": \"scatter3d\"}], \"scattercarpet\": [{\"marker\": {\"colorbar\": {\"outlinewidth\": 0, \"ticks\": \"\"}}, \"type\": \"scattercarpet\"}], \"scattergeo\": [{\"marker\": {\"colorbar\": {\"outlinewidth\": 0, \"ticks\": \"\"}}, \"type\": \"scattergeo\"}], \"scattergl\": [{\"marker\": {\"colorbar\": {\"outlinewidth\": 0, \"ticks\": \"\"}}, \"type\": \"scattergl\"}], \"scattermapbox\": [{\"marker\": {\"colorbar\": {\"outlinewidth\": 0, \"ticks\": \"\"}}, \"type\": \"scattermapbox\"}], \"scatterpolar\": [{\"marker\": {\"colorbar\": {\"outlinewidth\": 0, \"ticks\": \"\"}}, \"type\": \"scatterpolar\"}], \"scatterpolargl\": [{\"marker\": {\"colorbar\": {\"outlinewidth\": 0, \"ticks\": \"\"}}, \"type\": \"scatterpolargl\"}], \"scatterternary\": [{\"marker\": {\"colorbar\": {\"outlinewidth\": 0, \"ticks\": \"\"}}, \"type\": \"scatterternary\"}], \"surface\": [{\"colorbar\": {\"outlinewidth\": 0, \"ticks\": \"\"}, \"colorscale\": [[0.0, \"#0d0887\"], [0.1111111111111111, \"#46039f\"], [0.2222222222222222, \"#7201a8\"], [0.3333333333333333, \"#9c179e\"], [0.4444444444444444, \"#bd3786\"], [0.5555555555555556, \"#d8576b\"], [0.6666666666666666, \"#ed7953\"], [0.7777777777777778, \"#fb9f3a\"], [0.8888888888888888, \"#fdca26\"], [1.0, \"#f0f921\"]], \"type\": \"surface\"}], \"table\": [{\"cells\": {\"fill\": {\"color\": \"#EBF0F8\"}, \"line\": {\"color\": \"white\"}}, \"header\": {\"fill\": {\"color\": \"#C8D4E3\"}, \"line\": {\"color\": \"white\"}}, \"type\": \"table\"}]}, \"layout\": {\"annotationdefaults\": {\"arrowcolor\": \"#2a3f5f\", \"arrowhead\": 0, \"arrowwidth\": 1}, \"coloraxis\": {\"colorbar\": {\"outlinewidth\": 0, \"ticks\": \"\"}}, \"colorscale\": {\"diverging\": [[0, \"#8e0152\"], [0.1, \"#c51b7d\"], [0.2, \"#de77ae\"], [0.3, \"#f1b6da\"], [0.4, \"#fde0ef\"], [0.5, \"#f7f7f7\"], [0.6, \"#e6f5d0\"], [0.7, \"#b8e186\"], [0.8, \"#7fbc41\"], [0.9, \"#4d9221\"], [1, \"#276419\"]], \"sequential\": [[0.0, \"#0d0887\"], [0.1111111111111111, \"#46039f\"], [0.2222222222222222, \"#7201a8\"], [0.3333333333333333, \"#9c179e\"], [0.4444444444444444, \"#bd3786\"], [0.5555555555555556, \"#d8576b\"], [0.6666666666666666, \"#ed7953\"], [0.7777777777777778, \"#fb9f3a\"], [0.8888888888888888, \"#fdca26\"], [1.0, \"#f0f921\"]], \"sequentialminus\": [[0.0, \"#0d0887\"], [0.1111111111111111, \"#46039f\"], [0.2222222222222222, \"#7201a8\"], [0.3333333333333333, \"#9c179e\"], [0.4444444444444444, \"#bd3786\"], [0.5555555555555556, \"#d8576b\"], [0.6666666666666666, \"#ed7953\"], [0.7777777777777778, \"#fb9f3a\"], [0.8888888888888888, \"#fdca26\"], [1.0, \"#f0f921\"]]}, \"colorway\": [\"#636efa\", \"#EF553B\", \"#00cc96\", \"#ab63fa\", \"#FFA15A\", \"#19d3f3\", \"#FF6692\", \"#B6E880\", \"#FF97FF\", \"#FECB52\"], \"font\": {\"color\": \"#2a3f5f\"}, \"geo\": {\"bgcolor\": \"white\", \"lakecolor\": \"white\", \"landcolor\": \"#E5ECF6\", \"showlakes\": true, \"showland\": true, \"subunitcolor\": \"white\"}, \"hoverlabel\": {\"align\": \"left\"}, \"hovermode\": \"closest\", \"mapbox\": {\"style\": \"light\"}, \"paper_bgcolor\": \"white\", \"plot_bgcolor\": \"#E5ECF6\", \"polar\": {\"angularaxis\": {\"gridcolor\": \"white\", \"linecolor\": \"white\", \"ticks\": \"\"}, \"bgcolor\": \"#E5ECF6\", \"radialaxis\": {\"gridcolor\": \"white\", \"linecolor\": \"white\", \"ticks\": \"\"}}, \"scene\": {\"xaxis\": {\"backgroundcolor\": \"#E5ECF6\", \"gridcolor\": \"white\", \"gridwidth\": 2, \"linecolor\": \"white\", \"showbackground\": true, \"ticks\": \"\", \"zerolinecolor\": \"white\"}, \"yaxis\": {\"backgroundcolor\": \"#E5ECF6\", \"gridcolor\": \"white\", \"gridwidth\": 2, \"linecolor\": \"white\", \"showbackground\": true, \"ticks\": \"\", \"zerolinecolor\": \"white\"}, \"zaxis\": {\"backgroundcolor\": \"#E5ECF6\", \"gridcolor\": \"white\", \"gridwidth\": 2, \"linecolor\": \"white\", \"showbackground\": true, \"ticks\": \"\", \"zerolinecolor\": \"white\"}}, \"shapedefaults\": {\"line\": {\"color\": \"#2a3f5f\"}}, \"ternary\": {\"aaxis\": {\"gridcolor\": \"white\", \"linecolor\": \"white\", \"ticks\": \"\"}, \"baxis\": {\"gridcolor\": \"white\", \"linecolor\": \"white\", \"ticks\": \"\"}, \"bgcolor\": \"#E5ECF6\", \"caxis\": {\"gridcolor\": \"white\", \"linecolor\": \"white\", \"ticks\": \"\"}}, \"title\": {\"x\": 0.05}, \"xaxis\": {\"automargin\": true, \"gridcolor\": \"white\", \"linecolor\": \"white\", \"ticks\": \"\", \"title\": {\"standoff\": 15}, \"zerolinecolor\": \"white\", \"zerolinewidth\": 2}, \"yaxis\": {\"automargin\": true, \"gridcolor\": \"white\", \"linecolor\": \"white\", \"ticks\": \"\", \"title\": {\"standoff\": 15}, \"zerolinecolor\": \"white\", \"zerolinewidth\": 2}}}},\n",
              "                        {\"responsive\": true}\n",
              "                    ).then(function(){\n",
              "                            \n",
              "var gd = document.getElementById('542d92c6-e5d5-4068-afc9-d2513913b058');\n",
              "var x = new MutationObserver(function (mutations, observer) {{\n",
              "        var display = window.getComputedStyle(gd).display;\n",
              "        if (!display || display === 'none') {{\n",
              "            console.log([gd, 'removed!']);\n",
              "            Plotly.purge(gd);\n",
              "            observer.disconnect();\n",
              "        }}\n",
              "}});\n",
              "\n",
              "// Listen for the removal of the full notebook cells\n",
              "var notebookContainer = gd.closest('#notebook-container');\n",
              "if (notebookContainer) {{\n",
              "    x.observe(notebookContainer, {childList: true});\n",
              "}}\n",
              "\n",
              "// Listen for the clearing of the current output cell\n",
              "var outputEl = gd.closest('.output');\n",
              "if (outputEl) {{\n",
              "    x.observe(outputEl, {childList: true});\n",
              "}}\n",
              "\n",
              "                        })\n",
              "                };\n",
              "                \n",
              "            </script>\n",
              "        </div>\n",
              "</body>\n",
              "</html>"
            ]
          },
          "metadata": {
            "tags": []
          }
        }
      ]
    },
    {
      "cell_type": "markdown",
      "metadata": {
        "id": "0sr1YnzaXCQ5"
      },
      "source": [
        "#### **Centroid Method**"
      ]
    },
    {
      "cell_type": "markdown",
      "metadata": {
        "id": "2BFm2rUmXCQ9"
      },
      "source": [
        "##### **Visualization by Dendrogram**\n"
      ]
    },
    {
      "cell_type": "code",
      "metadata": {
        "id": "0Ej7elYAXCQ_"
      },
      "source": [
        "link = 'centroid'\n",
        "clust_data = clust_data.drop(columns='label')\n",
        "Z = hierarchy.linkage(clust_data, link)"
      ],
      "execution_count": 43,
      "outputs": []
    },
    {
      "cell_type": "code",
      "metadata": {
        "id": "csfQxIA7XCRL",
        "outputId": "c6b6dc4e-a9ed-4a36-a36c-9fb200f09272",
        "colab": {
          "base_uri": "https://localhost:8080/",
          "height": 0
        }
      },
      "source": [
        "figure(num=None, figsize=(15,10), facecolor='w', edgecolor='k')\n",
        "plt.title('Hierarchical Clustering Dendrogram')\n",
        "\n",
        "# plot the top 8 levels of the dendrogram\n",
        "dendrogram(Z, truncate_mode='lastp',p=8, orientation=\"right\",labels=clust_data.index)\n",
        "plt.ylabel(\"Number of points in node (or index of point if no parenthesis)\")\n",
        "plt.xlabel(\"Distance\")\n",
        "plt.show()"
      ],
      "execution_count": 44,
      "outputs": [
        {
          "output_type": "display_data",
          "data": {
            "image/png": "[encoded data removed]",
            "text/plain": [
              "<Figure size 1080x720 with 1 Axes>"
            ]
          },
          "metadata": {
            "tags": []
          }
        }
      ]
    },
    {
      "cell_type": "code",
      "metadata": {
        "id": "dMC6xxnDXCRT",
        "outputId": "f5a04109-b43e-4dd1-8198-f6c493775d31",
        "colab": {
          "base_uri": "https://localhost:8080/"
        }
      },
      "source": [
        "max_sc_centroid=-999\n",
        "for n_cluster in range(2,11):\n",
        "    label= fcluster(Z, n_cluster, criterion='maxclust')\n",
        "    sc_score = metrics.silhouette_score(clust_data, label, metric='euclidean')\n",
        "    ch_score = metrics.calinski_harabasz_score(clust_data, label)\n",
        "    db_score = metrics.davies_bouldin_score(clust_data, label)\n",
        "    print(\"For n_clusters = \", n_cluster, \", The average silhouette_score is:\", sc_score)\n",
        "    if sc_score>= max_sc_centroid:\n",
        "          max_sc_centroid = sc_score\n",
        "          max_ch_centroid = ch_score\n",
        "          max_db_centroid = db_score\n",
        "          max_k_centroid = n_cluster\n",
        "\n",
        "print('So k with highest SC, CH and DB score is: ',max_k_centroid)"
      ],
      "execution_count": 45,
      "outputs": [
        {
          "output_type": "stream",
          "text": [
            "For n_clusters =  2 , The average silhouette_score is: 0.272601303994981\n",
            "For n_clusters =  3 , The average silhouette_score is: 0.2445508631051296\n",
            "For n_clusters =  4 , The average silhouette_score is: 0.27282623293287567\n",
            "For n_clusters =  5 , The average silhouette_score is: 0.23629350299835736\n",
            "For n_clusters =  6 , The average silhouette_score is: 0.2952137192022824\n",
            "For n_clusters =  7 , The average silhouette_score is: 0.3173736118482244\n",
            "For n_clusters =  8 , The average silhouette_score is: 0.3173736118482244\n",
            "For n_clusters =  9 , The average silhouette_score is: 0.3233780244557681\n",
            "For n_clusters =  10 , The average silhouette_score is: 0.31985008627243544\n",
            "So k with highest SC, CH and DB score is:  9\n"
          ],
          "name": "stdout"
        }
      ]
    },
    {
      "cell_type": "markdown",
      "metadata": {
        "id": "B-ywQ61xXCRY"
      },
      "source": [
        "##### **Modeling AGNES**"
      ]
    },
    {
      "cell_type": "code",
      "metadata": {
        "id": "x86_fHgJXCRZ",
        "outputId": "a98ac79c-9535-4196-ae26-4204e07979e9",
        "colab": {
          "base_uri": "https://localhost:8080/",
          "height": 0
        }
      },
      "source": [
        "# Apply the Hierarchical Clustering Model to the Dataset\n",
        "cluster_labels= fcluster(Z, max_k_centroid, criterion='maxclust')\n",
        "clust_data[\"label\"] = cluster_labels\n",
        "clust_data.head()"
      ],
      "execution_count": 46,
      "outputs": [
        {
          "output_type": "execute_result",
          "data": {
            "text/html": [
              "<div>\n",
              "<style scoped>\n",
              "    .dataframe tbody tr th:only-of-type {\n",
              "        vertical-align: middle;\n",
              "    }\n",
              "\n",
              "    .dataframe tbody tr th {\n",
              "        vertical-align: top;\n",
              "    }\n",
              "\n",
              "    .dataframe thead th {\n",
              "        text-align: right;\n",
              "    }\n",
              "</style>\n",
              "<table border=\"1\" class=\"dataframe\">\n",
              "  <thead>\n",
              "    <tr style=\"text-align: right;\">\n",
              "      <th></th>\n",
              "      <th>Age</th>\n",
              "      <th>Annual Income</th>\n",
              "      <th>Spending Score</th>\n",
              "      <th>Gender</th>\n",
              "      <th>label</th>\n",
              "    </tr>\n",
              "  </thead>\n",
              "  <tbody>\n",
              "    <tr>\n",
              "      <th>0</th>\n",
              "      <td>-1.424569</td>\n",
              "      <td>-1.738999</td>\n",
              "      <td>-0.434801</td>\n",
              "      <td>1</td>\n",
              "      <td>5</td>\n",
              "    </tr>\n",
              "    <tr>\n",
              "      <th>1</th>\n",
              "      <td>-1.281035</td>\n",
              "      <td>-1.738999</td>\n",
              "      <td>1.195704</td>\n",
              "      <td>1</td>\n",
              "      <td>4</td>\n",
              "    </tr>\n",
              "    <tr>\n",
              "      <th>2</th>\n",
              "      <td>-1.352802</td>\n",
              "      <td>-1.700830</td>\n",
              "      <td>-1.715913</td>\n",
              "      <td>0</td>\n",
              "      <td>7</td>\n",
              "    </tr>\n",
              "    <tr>\n",
              "      <th>3</th>\n",
              "      <td>-1.137502</td>\n",
              "      <td>-1.700830</td>\n",
              "      <td>1.040418</td>\n",
              "      <td>0</td>\n",
              "      <td>4</td>\n",
              "    </tr>\n",
              "    <tr>\n",
              "      <th>4</th>\n",
              "      <td>-0.563369</td>\n",
              "      <td>-1.662660</td>\n",
              "      <td>-0.395980</td>\n",
              "      <td>0</td>\n",
              "      <td>7</td>\n",
              "    </tr>\n",
              "  </tbody>\n",
              "</table>\n",
              "</div>"
            ],
            "text/plain": [
              "        Age  Annual Income  Spending Score  Gender  label\n",
              "0 -1.424569      -1.738999       -0.434801       1      5\n",
              "1 -1.281035      -1.738999        1.195704       1      4\n",
              "2 -1.352802      -1.700830       -1.715913       0      7\n",
              "3 -1.137502      -1.700830        1.040418       0      4\n",
              "4 -0.563369      -1.662660       -0.395980       0      7"
            ]
          },
          "metadata": {
            "tags": []
          },
          "execution_count": 46
        }
      ]
    },
    {
      "cell_type": "code",
      "metadata": {
        "id": "IBFa7NZHXCRd",
        "outputId": "859ac8e8-d88a-40fa-cd03-c3dd097e4bec",
        "colab": {
          "base_uri": "https://localhost:8080/",
          "height": 0
        }
      },
      "source": [
        "# Visualising Clusters for k=6\n",
        "fig = px.scatter_3d(clust_data, x='Age', y='Annual Income', z='Spending Score',color='label',symbol='Gender', size_max=18, opacity=0.7)\n",
        "\n",
        "# tight layout\n",
        "fig.update_layout(margin=dict(l=0, r=0, b=0, t=0))"
      ],
      "execution_count": 47,
      "outputs": [
        {
          "output_type": "display_data",
          "data": {
            "text/html": [
              "<html>\n",
              "<head><meta charset=\"utf-8\" /></head>\n",
              "<body>\n",
              "    <div>\n",
              "            <script src=\"https://cdnjs.cloudflare.com/ajax/libs/mathjax/2.7.5/MathJax.js?config=TeX-AMS-MML_SVG\"></script><script type=\"text/javascript\">if (window.MathJax) {MathJax.Hub.Config({SVG: {font: \"STIX-Web\"}});}</script>\n",
              "                <script type=\"text/javascript\">window.PlotlyConfig = {MathJaxConfig: 'local'};</script>\n",
              "        <script src=\"https://cdn.plot.ly/plotly-latest.min.js\"></script>    \n",
              "            <div id=\"1b67852d-afa3-494a-b718-c19d3a87e26f\" class=\"plotly-graph-div\" style=\"height:525px; width:100%;\"></div>\n",
              "            <script type=\"text/javascript\">\n",
              "                \n",
              "                    window.PLOTLYENV=window.PLOTLYENV || {};\n",
              "                    \n",
              "                if (document.getElementById(\"1b67852d-afa3-494a-b718-c19d3a87e26f\")) {\n",
              "                    Plotly.newPlot(\n",
              "                        '1b67852d-afa3-494a-b718-c19d3a87e26f',\n",
              "                        [{\"hoverlabel\": {\"namelength\": 0}, \"hovertemplate\": \"Gender=1<br>Age=%{x}<br>Annual Income=%{y}<br>Spending Score=%{z}<br>label=%{marker.color}\", \"legendgroup\": \"Gender=1\", \"marker\": {\"color\": [5, 4, 7, 7, 7, 4, 4, 7, 7, 4, 4, 4, 4, 7, 7, 4, 4, 6, 4, 6, 6, 6, 6, 6, 3, 6, 3, 3, 6, 6, 3, 6, 6, 6, 6, 6, 3, 6, 3, 6, 3, 6, 3, 6, 6, 6, 6, 6, 3, 3, 2, 9, 2, 9, 2, 9, 2, 8, 2, 8, 2, 8, 2, 9, 2, 9, 2, 9, 9, 8, 9, 9, 2, 9, 2, 9, 2, 9, 2, 9, 2, 9, 2, 2, 9, 1, 9, 1], \"coloraxis\": \"coloraxis\", \"opacity\": 0.7, \"symbol\": \"circle\"}, \"mode\": \"markers\", \"name\": \"Gender=1\", \"scene\": \"scene\", \"showlegend\": true, \"type\": \"scatter3d\", \"x\": [-1.4245687900521393, -1.2810354107017978, 1.804932245330544, 2.0202323143560563, -0.13276837589906598, -1.209268721026627, -1.3528021003769686, 0.9437319692284951, -0.2763017552494075, -0.9939686520011148, -0.5633685139500905, -0.706901893300432, -0.2763017552494075, 1.517865486629861, 1.0154986589036659, -1.49633547972731, -1.0657353416762856, 0.6566652105278122, -0.41983513459974897, 1.4460987969546903, 0.5848985208526415, 2.163765693706398, 1.0154986589036659, 2.2355323833815683, -1.4245687900521393, 1.7331655556553733, -1.49633547972731, -1.4245687900521393, 2.2355323833815683, 1.4460987969546903, -0.9222019623259441, 0.08253169312644625, 1.3025654176043489, -0.061001686223895235, 2.0202323143560563, 0.6566652105278122, -1.49633547972731, 0.6566652105278122, -1.0657353416762856, 0.6566652105278122, -1.3528021003769686, 2.0202323143560563, -0.9222019623259441, 0.728431900202983, 1.0872653485788366, 2.091999004031227, 1.9484656246808856, 1.8766989350057148, -1.4245687900521393, -0.8504352726507735, 0.010765003451275509, 0.2978317621519585, 0.08253169312644625, 1.4460987969546903, -0.061001686223895235, 0.5848985208526415, 0.010765003451275509, -1.3528021003769686, -0.49160182427491966, -1.4245687900521393, -0.49160182427491966, -0.9939686520011148, -0.7786685829756027, 0.6566652105278122, -0.3480684449245782, 0.2978317621519585, 0.010765003451275509, -0.13276837589906598, -0.3480684449245782, -1.4245687900521393, 0.8001985898781537, 0.22606507247678773, -0.49160182427491966, 0.08253169312644625, -0.7786685829756027, -0.20453506557423673, -0.20453506557423673, 1.3743321072795196, -0.8504352726507735, 1.4460987969546903, -0.2763017552494075, 0.5131318311774707, -0.6351352036252612, -0.7786685829756027, -0.41983513459974897, -0.49160182427491966, -0.49160182427491966, -0.6351352036252612], \"y\": [-1.7389991930659485, -1.7389991930659485, -1.5863214763788591, -1.5863214763788591, -1.5481520472070869, -1.5481520472070869, -1.5099826180353144, -1.4336437596917697, -1.3954743305199975, -1.3954743305199975, -1.357304901348225, -1.2427966138329078, -1.2427966138329078, -1.1664577554893631, -1.0519494679740462, -1.0519494679740462, -0.8611023221151844, -0.8229328929434121, -0.7084246054280949, -0.6702551762563226, -0.6702551762563226, -0.6320857470845502, -0.5557468887410055, -0.5557468887410055, -0.5557468887410055, -0.4794080303974609, -0.4794080303974609, -0.4794080303974609, -0.44123860122568853, -0.2503914553668267, -0.2503914553668267, -0.2503914553668267, -0.2503914553668267, -0.2503914553668267, -0.2503914553668267, -0.2503914553668267, -0.05954430950796496, -0.021374880336192604, -0.021374880336192604, 0.01679454883557975, 0.01679454883557975, 0.0549639780073521, 0.0549639780073521, 0.0549639780073521, 0.09313340717912445, 0.09313340717912445, 0.09313340717912445, 0.09313340717912445, 0.13130283635089682, 0.24581112386621387, 0.3221499822097586, 0.3984888405533033, 0.3984888405533033, 0.3984888405533033, 0.3984888405533033, 0.3984888405533033, 0.3984888405533033, 0.474827698896848, 0.474827698896848, 0.5129971280686204, 0.5511665572403928, 0.6275054155839375, 0.6275054155839375, 0.6275054155839375, 0.6656748447557098, 0.6656748447557098, 0.6656748447557098, 0.6656748447557098, 0.6656748447557098, 0.7801831322710269, 0.9328608489581163, 0.9710302781298886, 1.009199707301661, 1.009199707301661, 1.009199707301661, 1.009199707301661, 1.009199707301661, 1.0473691364734332, 1.0473691364734332, 1.238216282332295, 1.238216282332295, 1.429063428191157, 1.4672328573629292, 1.543571715706474, 2.0016048657677423, 2.4978074450007828, 2.9176711658902788, 2.9176711658902788], \"z\": [-0.43480147996914814, 1.195704069915157, -1.832377665584267, -1.405340497757425, -1.444162058468956, 1.118060948492095, 0.6133806592421909, -0.823017087084459, -0.5900877228152724, 0.8851315842229084, 0.8851315842229084, 1.234525630626688, 0.4192728556845355, -1.7935561048727358, -1.7935561048727358, 1.622741237741999, 1.622741237741999, -0.5512661621037414, 0.38045129497300445, 0.38045129497300445, -0.357158358546086, -0.16305055498843063, -0.16305055498843063, 0.22516505212688012, 0.18634349141534906, 0.03105724856922475, 0.34162973426147336, 0.34162973426147336, 0.18634349141534906, -0.12422899427689955, 0.14752193070381797, -0.08540743356536848, 0.03105724856922475, 0.18634349141534906, -0.357158358546086, -0.16305055498843063, -0.357158358546086, -0.046585872853837404, 0.06987880928075582, -0.31833679783455493, -0.046585872853837404, 0.34162973426147336, 0.18634349141534906, 0.22516505212688012, -0.16305055498843063, -0.27951523712302384, -0.08540743356536848, 0.06987880928075582, -0.16305055498843063, 0.22516505212688012, 1.5839196770304678, -0.5900877228152724, 1.7392059198765921, -1.5218051798920182, 0.9627747056459706, -1.5994483013150804, 0.9627747056459706, -1.7547345441612048, 0.8851315842229084, -1.5606267406035494, 1.66156279845353, -1.4829836191804873, 1.8168490412996543, -0.5512661621037414, 1.5450981163189368, -1.288875815622832, 1.4674549948958746, -1.9100207870073291, -1.9100207870073291, -1.7547345441612048, -0.9394817692190521, -1.1724111334882386, 0.49691597710759766, -1.444162058468956, 0.9627747056459706, -1.5606267406035494, 1.622741237741999, -1.3665189370458939, 0.7298453413767841, -1.405340497757425, 1.5450981163189368, -1.3665189370458939, 1.8168490412996543, 0.691023780665253, -1.6382698620266116, 0.9239531449344395, -1.2500542549113007, 1.2733471913382193]}, {\"hoverlabel\": {\"namelength\": 0}, \"hovertemplate\": \"Gender=0<br>Age=%{x}<br>Annual Income=%{y}<br>Spending Score=%{z}<br>label=%{marker.color}\", \"legendgroup\": \"Gender=0\", \"marker\": {\"color\": [7, 4, 7, 4, 7, 4, 4, 4, 7, 4, 7, 4, 7, 7, 7, 7, 4, 4, 7, 4, 7, 4, 7, 4, 6, 3, 7, 4, 6, 3, 3, 3, 6, 3, 6, 6, 3, 6, 6, 6, 6, 3, 6, 6, 6, 6, 3, 6, 6, 3, 6, 3, 3, 6, 6, 3, 3, 6, 3, 3, 6, 3, 6, 3, 3, 3, 3, 6, 6, 6, 6, 3, 3, 3, 2, 3, 2, 2, 9, 2, 9, 3, 2, 2, 9, 9, 2, 9, 2, 2, 2, 9, 2, 2, 2, 2, 9, 9, 2, 9, 2, 2, 9, 9, 9, 2, 9, 2, 2, 9, 2, 9], \"coloraxis\": \"coloraxis\", \"opacity\": 0.7, \"symbol\": \"diamond\"}, \"mode\": \"markers\", \"name\": \"Gender=0\", \"scene\": \"scene\", \"showlegend\": true, \"type\": \"scatter3d\", \"x\": [-1.3528021003769686, -1.1375020313514563, -0.5633685139500905, -1.209268721026627, -0.2763017552494075, -1.1375020313514563, -0.6351352036252612, -0.2763017552494075, 1.3743321072795196, -1.0657353416762856, -0.2763017552494075, -0.2763017552494075, 0.5131318311774707, 1.0872653485788366, 0.44136514150229994, 0.08253169312644625, -1.1375020313514563, -1.2810354107017978, 0.728431900202983, -1.2810354107017978, 0.22606507247678773, -0.6351352036252612, -0.20453506557423673, -1.3528021003769686, 1.8766989350057148, -0.5633685139500905, 0.728431900202983, -1.0657353416762856, 0.8001985898781537, -0.8504352726507735, -0.706901893300432, -0.5633685139500905, 0.728431900202983, -0.5633685139500905, 0.8001985898781537, 0.8719652795533244, -0.8504352726507735, 2.0202323143560563, 1.0872653485788366, 0.2978317621519585, 2.091999004031227, -0.49160182427491966, 0.5848985208526415, 1.517865486629861, 1.517865486629861, 0.44136514150229994, -1.1375020313514563, 0.728431900202983, 0.5131318311774707, -1.2810354107017978, 1.1590320382540074, -1.209268721026627, -0.3480684449245782, 0.8001985898781537, 2.091999004031227, 0.08253169312644625, -0.49160182427491966, 0.5848985208526415, -0.8504352726507735, -1.1375020313514563, 0.728431900202983, -1.2810354107017978, 1.9484656246808856, -1.4245687900521393, -0.061001686223895235, -1.49633547972731, -1.4245687900521393, 1.7331655556553733, 0.728431900202983, 0.8719652795533244, 0.8001985898781537, -0.061001686223895235, 0.08253169312644625, -1.1375020313514563, -0.5633685139500905, -0.9939686520011148, -0.5633685139500905, -0.706901893300432, 0.36959845182712925, -0.2763017552494075, 1.3025654176043489, -0.7786685829756027, -0.49160182427491966, -0.49160182427491966, -0.3480684449245782, 0.36959845182712925, -0.061001686223895235, 0.5848985208526415, -0.8504352726507735, -0.6351352036252612, -0.6351352036252612, 1.230798727929178, -0.706901893300432, -0.5633685139500905, -0.20453506557423673, -0.41983513459974897, -0.20453506557423673, 0.9437319692284951, -0.6351352036252612, -0.13276837589906598, -0.49160182427491966, -0.706901893300432, 0.154298382801617, 1.0872653485788366, 0.154298382801617, -0.20453506557423673, -0.3480684449245782, -0.49160182427491966, -0.061001686223895235, 0.5848985208526415, -0.2763017552494075, 0.44136514150229994], \"y\": [-1.7008297638941763, -1.7008297638941763, -1.6626603347224038, -1.6626603347224038, -1.6244909055506316, -1.6244909055506316, -1.5863214763788591, -1.5863214763788591, -1.5481520472070869, -1.5481520472070869, -1.5099826180353144, -1.4336437596917697, -1.357304901348225, -1.2427966138329078, -1.2427966138329078, -1.2046271846611356, -1.2046271846611356, -1.1664577554893631, -1.0519494679740462, -1.0519494679740462, -1.0137800388022737, -1.0137800388022737, -0.8992717512869568, -0.8992717512869568, -0.8611023221151844, -0.8229328929434121, -0.8229328929434121, -0.8229328929434121, -0.7847634637716397, -0.7847634637716397, -0.7847634637716397, -0.7847634637716397, -0.7084246054280949, -0.6702551762563226, -0.6702551762563226, -0.6320857470845502, -0.5557468887410055, -0.5175774595692332, -0.5175774595692332, -0.4794080303974609, -0.4794080303974609, -0.4794080303974609, -0.44123860122568853, -0.4030691720539161, -0.4030691720539161, -0.2503914553668267, -0.2503914553668267, -0.2503914553668267, -0.2503914553668267, -0.2503914553668267, -0.13588316785150967, -0.13588316785150967, -0.09771373867973732, -0.09771373867973732, -0.05954430950796496, -0.021374880336192604, -0.021374880336192604, -0.021374880336192604, -0.021374880336192604, 0.0549639780073521, 0.0549639780073521, 0.0549639780073521, 0.09313340717912445, 0.09313340717912445, 0.13130283635089682, 0.16947226552266917, 0.16947226552266917, 0.16947226552266917, 0.16947226552266917, 0.24581112386621387, 0.24581112386621387, 0.24581112386621387, 0.3221499822097586, 0.36031941138153095, 0.36031941138153095, 0.43665826972507565, 0.43665826972507565, 0.474827698896848, 0.474827698896848, 0.5129971280686204, 0.5511665572403928, 0.5893359864121651, 0.5893359864121651, 0.6275054155839375, 0.6656748447557098, 0.6656748447557098, 0.6656748447557098, 0.6656748447557098, 0.6656748447557098, 0.6656748447557098, 0.6656748447557098, 0.7038442739274822, 0.7038442739274822, 0.7801831322710269, 0.9328608489581163, 0.9710302781298886, 1.009199707301661, 1.0473691364734332, 1.0473691364734332, 1.3908939990193845, 1.3908939990193845, 1.429063428191157, 1.4672328573629292, 1.543571715706474, 1.6199105740500186, 1.6199105740500186, 1.6199105740500186, 1.6199105740500186, 2.0016048657677423, 2.2687908699701484, 2.2687908699701484, 2.4978074450007828], \"z\": [-1.7159129834496736, 1.0404178270690327, -0.3959799192576171, 1.0015962663575015, -1.7159129834496736, 1.700384359165061, 0.8463100235113773, 1.8944921627227165, -1.3665189370458939, 1.0404178270690327, -0.5900877228152724, 1.8556706020111853, -1.7547345441612048, -1.405340497757425, -0.7065524049498657, -0.7453739656613968, 1.4286334341843434, 0.8851315842229084, -1.405340497757425, 1.195704069915157, -1.288875815622832, 0.8851315842229084, -0.9394817692190521, 0.9627747056459706, -0.5900877228152724, 0.4192728556845355, -0.86183864779599, 0.5745590985306598, 0.18634349141534906, -0.12422899427689955, -0.31833679783455493, -0.31833679783455493, 0.06987880928075582, 0.14752193070381797, -0.20187211569996172, -0.007764312142306325, 0.03105724856922475, 0.06987880928075582, 0.34162973426147336, -0.007764312142306325, -0.08540743356536848, -0.12422899427689955, -0.31833679783455493, -0.046585872853837404, 0.22516505212688012, 0.1087003699922869, 0.06987880928075582, -0.31833679783455493, -0.24069367641149278, 0.2639866128384112, 0.30280817354994227, 0.18634349141534906, 0.38045129497300445, -0.16305055498843063, 0.18634349141534906, -0.3959799192576171, -0.31833679783455493, -0.12422899427689955, -0.007764312142306325, -0.357158358546086, -0.08540743356536848, -0.31833679783455493, -0.007764312142306325, 0.14752193070381797, -0.31833679783455493, -0.08540743356536848, -0.007764312142306325, -0.27951523712302384, 0.34162973426147336, -0.27951523712302384, 0.2639866128384112, -0.3959799192576171, 0.30280817354994227, -0.823017087084459, 1.0404178270690327, -0.6289092835268035, 0.8074884627998463, 1.4674549948958746, -1.6770914227381426, 0.8463100235113773, -1.7547345441612048, -0.3959799192576171, 1.4286334341843434, 0.9239531449344395, -1.0947680120651764, -1.1724111334882386, 1.0015962663575015, -1.327697376334363, 1.5062765556074056, 1.0792393877805637, 0.8851315842229084, -0.5900877228152724, 1.2733471913382193, 1.66156279845353, 0.9627747056459706, 1.7392059198765921, -0.900660208507521, -1.444162058468956, 1.3898118734728124, -0.7065524049498657, 1.3898118734728124, 1.4674549948958746, -0.43480147996914814, -1.0171248906421142, -1.288875815622832, 1.3509903127612812, -1.0559464513536454, 0.7298453413767841, 1.5839196770304678, -1.327697376334363, 1.118060948492095, -0.86183864779599]}],\n",
              "                        {\"coloraxis\": {\"colorbar\": {\"title\": {\"text\": \"label\"}}, \"colorscale\": [[0.0, \"#0d0887\"], [0.1111111111111111, \"#46039f\"], [0.2222222222222222, \"#7201a8\"], [0.3333333333333333, \"#9c179e\"], [0.4444444444444444, \"#bd3786\"], [0.5555555555555556, \"#d8576b\"], [0.6666666666666666, \"#ed7953\"], [0.7777777777777778, \"#fb9f3a\"], [0.8888888888888888, \"#fdca26\"], [1.0, \"#f0f921\"]]}, \"legend\": {\"tracegroupgap\": 0}, \"margin\": {\"b\": 0, \"l\": 0, \"r\": 0, \"t\": 0}, \"scene\": {\"domain\": {\"x\": [0.0, 1.0], \"y\": [0.0, 1.0]}, \"xaxis\": {\"title\": {\"text\": \"Age\"}}, \"yaxis\": {\"title\": {\"text\": \"Annual Income\"}}, \"zaxis\": {\"title\": {\"text\": \"Spending Score\"}}}, \"template\": {\"data\": {\"bar\": [{\"error_x\": {\"color\": \"#2a3f5f\"}, \"error_y\": {\"color\": \"#2a3f5f\"}, \"marker\": {\"line\": {\"color\": \"#E5ECF6\", \"width\": 0.5}}, \"type\": \"bar\"}], \"barpolar\": [{\"marker\": {\"line\": {\"color\": \"#E5ECF6\", \"width\": 0.5}}, \"type\": \"barpolar\"}], \"carpet\": [{\"aaxis\": {\"endlinecolor\": \"#2a3f5f\", \"gridcolor\": \"white\", \"linecolor\": \"white\", \"minorgridcolor\": \"white\", \"startlinecolor\": \"#2a3f5f\"}, \"baxis\": {\"endlinecolor\": \"#2a3f5f\", \"gridcolor\": \"white\", \"linecolor\": \"white\", \"minorgridcolor\": \"white\", \"startlinecolor\": \"#2a3f5f\"}, \"type\": \"carpet\"}], \"choropleth\": [{\"colorbar\": {\"outlinewidth\": 0, \"ticks\": \"\"}, \"type\": \"choropleth\"}], \"contour\": [{\"colorbar\": {\"outlinewidth\": 0, \"ticks\": \"\"}, \"colorscale\": [[0.0, \"#0d0887\"], [0.1111111111111111, \"#46039f\"], [0.2222222222222222, \"#7201a8\"], [0.3333333333333333, \"#9c179e\"], [0.4444444444444444, \"#bd3786\"], [0.5555555555555556, \"#d8576b\"], [0.6666666666666666, \"#ed7953\"], [0.7777777777777778, \"#fb9f3a\"], [0.8888888888888888, \"#fdca26\"], [1.0, \"#f0f921\"]], \"type\": \"contour\"}], \"contourcarpet\": [{\"colorbar\": {\"outlinewidth\": 0, \"ticks\": \"\"}, \"type\": \"contourcarpet\"}], \"heatmap\": [{\"colorbar\": {\"outlinewidth\": 0, \"ticks\": \"\"}, \"colorscale\": [[0.0, \"#0d0887\"], [0.1111111111111111, \"#46039f\"], [0.2222222222222222, \"#7201a8\"], [0.3333333333333333, \"#9c179e\"], [0.4444444444444444, \"#bd3786\"], [0.5555555555555556, \"#d8576b\"], [0.6666666666666666, \"#ed7953\"], [0.7777777777777778, \"#fb9f3a\"], [0.8888888888888888, \"#fdca26\"], [1.0, \"#f0f921\"]], \"type\": \"heatmap\"}], \"heatmapgl\": [{\"colorbar\": {\"outlinewidth\": 0, \"ticks\": \"\"}, \"colorscale\": [[0.0, \"#0d0887\"], [0.1111111111111111, \"#46039f\"], [0.2222222222222222, \"#7201a8\"], [0.3333333333333333, \"#9c179e\"], [0.4444444444444444, \"#bd3786\"], [0.5555555555555556, \"#d8576b\"], [0.6666666666666666, \"#ed7953\"], [0.7777777777777778, \"#fb9f3a\"], [0.8888888888888888, \"#fdca26\"], [1.0, \"#f0f921\"]], \"type\": \"heatmapgl\"}], \"histogram\": [{\"marker\": {\"colorbar\": {\"outlinewidth\": 0, \"ticks\": \"\"}}, \"type\": \"histogram\"}], \"histogram2d\": [{\"colorbar\": {\"outlinewidth\": 0, \"ticks\": \"\"}, \"colorscale\": [[0.0, \"#0d0887\"], [0.1111111111111111, \"#46039f\"], [0.2222222222222222, \"#7201a8\"], [0.3333333333333333, \"#9c179e\"], [0.4444444444444444, \"#bd3786\"], [0.5555555555555556, \"#d8576b\"], [0.6666666666666666, \"#ed7953\"], [0.7777777777777778, \"#fb9f3a\"], [0.8888888888888888, \"#fdca26\"], [1.0, \"#f0f921\"]], \"type\": \"histogram2d\"}], \"histogram2dcontour\": [{\"colorbar\": {\"outlinewidth\": 0, \"ticks\": \"\"}, \"colorscale\": [[0.0, \"#0d0887\"], [0.1111111111111111, \"#46039f\"], [0.2222222222222222, \"#7201a8\"], [0.3333333333333333, \"#9c179e\"], [0.4444444444444444, \"#bd3786\"], [0.5555555555555556, \"#d8576b\"], [0.6666666666666666, \"#ed7953\"], [0.7777777777777778, \"#fb9f3a\"], [0.8888888888888888, \"#fdca26\"], [1.0, \"#f0f921\"]], \"type\": \"histogram2dcontour\"}], \"mesh3d\": [{\"colorbar\": {\"outlinewidth\": 0, \"ticks\": \"\"}, \"type\": \"mesh3d\"}], \"parcoords\": [{\"line\": {\"colorbar\": {\"outlinewidth\": 0, \"ticks\": \"\"}}, \"type\": \"parcoords\"}], \"pie\": [{\"automargin\": true, \"type\": \"pie\"}], \"scatter\": [{\"marker\": {\"colorbar\": {\"outlinewidth\": 0, \"ticks\": \"\"}}, \"type\": \"scatter\"}], \"scatter3d\": [{\"line\": {\"colorbar\": {\"outlinewidth\": 0, \"ticks\": \"\"}}, \"marker\": {\"colorbar\": {\"outlinewidth\": 0, \"ticks\": \"\"}}, \"type\": \"scatter3d\"}], \"scattercarpet\": [{\"marker\": {\"colorbar\": {\"outlinewidth\": 0, \"ticks\": \"\"}}, \"type\": \"scattercarpet\"}], \"scattergeo\": [{\"marker\": {\"colorbar\": {\"outlinewidth\": 0, \"ticks\": \"\"}}, \"type\": \"scattergeo\"}], \"scattergl\": [{\"marker\": {\"colorbar\": {\"outlinewidth\": 0, \"ticks\": \"\"}}, \"type\": \"scattergl\"}], \"scattermapbox\": [{\"marker\": {\"colorbar\": {\"outlinewidth\": 0, \"ticks\": \"\"}}, \"type\": \"scattermapbox\"}], \"scatterpolar\": [{\"marker\": {\"colorbar\": {\"outlinewidth\": 0, \"ticks\": \"\"}}, \"type\": \"scatterpolar\"}], \"scatterpolargl\": [{\"marker\": {\"colorbar\": {\"outlinewidth\": 0, \"ticks\": \"\"}}, \"type\": \"scatterpolargl\"}], \"scatterternary\": [{\"marker\": {\"colorbar\": {\"outlinewidth\": 0, \"ticks\": \"\"}}, \"type\": \"scatterternary\"}], \"surface\": [{\"colorbar\": {\"outlinewidth\": 0, \"ticks\": \"\"}, \"colorscale\": [[0.0, \"#0d0887\"], [0.1111111111111111, \"#46039f\"], [0.2222222222222222, \"#7201a8\"], [0.3333333333333333, \"#9c179e\"], [0.4444444444444444, \"#bd3786\"], [0.5555555555555556, \"#d8576b\"], [0.6666666666666666, \"#ed7953\"], [0.7777777777777778, \"#fb9f3a\"], [0.8888888888888888, \"#fdca26\"], [1.0, \"#f0f921\"]], \"type\": \"surface\"}], \"table\": [{\"cells\": {\"fill\": {\"color\": \"#EBF0F8\"}, \"line\": {\"color\": \"white\"}}, \"header\": {\"fill\": {\"color\": \"#C8D4E3\"}, \"line\": {\"color\": \"white\"}}, \"type\": \"table\"}]}, \"layout\": {\"annotationdefaults\": {\"arrowcolor\": \"#2a3f5f\", \"arrowhead\": 0, \"arrowwidth\": 1}, \"coloraxis\": {\"colorbar\": {\"outlinewidth\": 0, \"ticks\": \"\"}}, \"colorscale\": {\"diverging\": [[0, \"#8e0152\"], [0.1, \"#c51b7d\"], [0.2, \"#de77ae\"], [0.3, \"#f1b6da\"], [0.4, \"#fde0ef\"], [0.5, \"#f7f7f7\"], [0.6, \"#e6f5d0\"], [0.7, \"#b8e186\"], [0.8, \"#7fbc41\"], [0.9, \"#4d9221\"], [1, \"#276419\"]], \"sequential\": [[0.0, \"#0d0887\"], [0.1111111111111111, \"#46039f\"], [0.2222222222222222, \"#7201a8\"], [0.3333333333333333, \"#9c179e\"], [0.4444444444444444, \"#bd3786\"], [0.5555555555555556, \"#d8576b\"], [0.6666666666666666, \"#ed7953\"], [0.7777777777777778, \"#fb9f3a\"], [0.8888888888888888, \"#fdca26\"], [1.0, \"#f0f921\"]], \"sequentialminus\": [[0.0, \"#0d0887\"], [0.1111111111111111, \"#46039f\"], [0.2222222222222222, \"#7201a8\"], [0.3333333333333333, \"#9c179e\"], [0.4444444444444444, \"#bd3786\"], [0.5555555555555556, \"#d8576b\"], [0.6666666666666666, \"#ed7953\"], [0.7777777777777778, \"#fb9f3a\"], [0.8888888888888888, \"#fdca26\"], [1.0, \"#f0f921\"]]}, \"colorway\": [\"#636efa\", \"#EF553B\", \"#00cc96\", \"#ab63fa\", \"#FFA15A\", \"#19d3f3\", \"#FF6692\", \"#B6E880\", \"#FF97FF\", \"#FECB52\"], \"font\": {\"color\": \"#2a3f5f\"}, \"geo\": {\"bgcolor\": \"white\", \"lakecolor\": \"white\", \"landcolor\": \"#E5ECF6\", \"showlakes\": true, \"showland\": true, \"subunitcolor\": \"white\"}, \"hoverlabel\": {\"align\": \"left\"}, \"hovermode\": \"closest\", \"mapbox\": {\"style\": \"light\"}, \"paper_bgcolor\": \"white\", \"plot_bgcolor\": \"#E5ECF6\", \"polar\": {\"angularaxis\": {\"gridcolor\": \"white\", \"linecolor\": \"white\", \"ticks\": \"\"}, \"bgcolor\": \"#E5ECF6\", \"radialaxis\": {\"gridcolor\": \"white\", \"linecolor\": \"white\", \"ticks\": \"\"}}, \"scene\": {\"xaxis\": {\"backgroundcolor\": \"#E5ECF6\", \"gridcolor\": \"white\", \"gridwidth\": 2, \"linecolor\": \"white\", \"showbackground\": true, \"ticks\": \"\", \"zerolinecolor\": \"white\"}, \"yaxis\": {\"backgroundcolor\": \"#E5ECF6\", \"gridcolor\": \"white\", \"gridwidth\": 2, \"linecolor\": \"white\", \"showbackground\": true, \"ticks\": \"\", \"zerolinecolor\": \"white\"}, \"zaxis\": {\"backgroundcolor\": \"#E5ECF6\", \"gridcolor\": \"white\", \"gridwidth\": 2, \"linecolor\": \"white\", \"showbackground\": true, \"ticks\": \"\", \"zerolinecolor\": \"white\"}}, \"shapedefaults\": {\"line\": {\"color\": \"#2a3f5f\"}}, \"ternary\": {\"aaxis\": {\"gridcolor\": \"white\", \"linecolor\": \"white\", \"ticks\": \"\"}, \"baxis\": {\"gridcolor\": \"white\", \"linecolor\": \"white\", \"ticks\": \"\"}, \"bgcolor\": \"#E5ECF6\", \"caxis\": {\"gridcolor\": \"white\", \"linecolor\": \"white\", \"ticks\": \"\"}}, \"title\": {\"x\": 0.05}, \"xaxis\": {\"automargin\": true, \"gridcolor\": \"white\", \"linecolor\": \"white\", \"ticks\": \"\", \"title\": {\"standoff\": 15}, \"zerolinecolor\": \"white\", \"zerolinewidth\": 2}, \"yaxis\": {\"automargin\": true, \"gridcolor\": \"white\", \"linecolor\": \"white\", \"ticks\": \"\", \"title\": {\"standoff\": 15}, \"zerolinecolor\": \"white\", \"zerolinewidth\": 2}}}},\n",
              "                        {\"responsive\": true}\n",
              "                    ).then(function(){\n",
              "                            \n",
              "var gd = document.getElementById('1b67852d-afa3-494a-b718-c19d3a87e26f');\n",
              "var x = new MutationObserver(function (mutations, observer) {{\n",
              "        var display = window.getComputedStyle(gd).display;\n",
              "        if (!display || display === 'none') {{\n",
              "            console.log([gd, 'removed!']);\n",
              "            Plotly.purge(gd);\n",
              "            observer.disconnect();\n",
              "        }}\n",
              "}});\n",
              "\n",
              "// Listen for the removal of the full notebook cells\n",
              "var notebookContainer = gd.closest('#notebook-container');\n",
              "if (notebookContainer) {{\n",
              "    x.observe(notebookContainer, {childList: true});\n",
              "}}\n",
              "\n",
              "// Listen for the clearing of the current output cell\n",
              "var outputEl = gd.closest('.output');\n",
              "if (outputEl) {{\n",
              "    x.observe(outputEl, {childList: true});\n",
              "}}\n",
              "\n",
              "                        })\n",
              "                };\n",
              "                \n",
              "            </script>\n",
              "        </div>\n",
              "</body>\n",
              "</html>"
            ]
          },
          "metadata": {
            "tags": []
          }
        }
      ]
    },
    {
      "cell_type": "markdown",
      "metadata": {
        "id": "aMiSzoHnXPvH"
      },
      "source": [
        "#### **Average Method**"
      ]
    },
    {
      "cell_type": "markdown",
      "metadata": {
        "id": "MrwmO0PpXPvL"
      },
      "source": [
        "##### **Visualization by Dendrogram**\n"
      ]
    },
    {
      "cell_type": "code",
      "metadata": {
        "id": "YVuuOE8PXPvM"
      },
      "source": [
        "link = 'average'\n",
        "clust_data = clust_data.drop(columns='label')\n",
        "Z = hierarchy.linkage(clust_data, link)"
      ],
      "execution_count": 48,
      "outputs": []
    },
    {
      "cell_type": "code",
      "metadata": {
        "id": "sPlI6mWUXPvT",
        "outputId": "b082f57f-acb0-4163-c498-dbbf2515347e",
        "colab": {
          "base_uri": "https://localhost:8080/",
          "height": 0
        }
      },
      "source": [
        "figure(num=None, figsize=(15,10), facecolor='w', edgecolor='k')\n",
        "plt.title('Hierarchical Clustering Dendrogram')\n",
        "\n",
        "# plot the top 8 levels of the dendrogram\n",
        "dendrogram(Z, truncate_mode='lastp',p=8, orientation=\"right\",labels=clust_data.index)\n",
        "plt.ylabel(\"Number of points in node (or index of point if no parenthesis)\")\n",
        "plt.xlabel(\"Distance\")\n",
        "plt.show()"
      ],
      "execution_count": 49,
      "outputs": [
        {
          "output_type": "display_data",
          "data": {
            "image/png": "[encoded data removed]",
            "text/plain": [
              "<Figure size 1080x720 with 1 Axes>"
            ]
          },
          "metadata": {
            "tags": []
          }
        }
      ]
    },
    {
      "cell_type": "code",
      "metadata": {
        "id": "IwzLTMVQXPva",
        "outputId": "89d89139-5501-42ec-e77f-82b53c179102",
        "colab": {
          "base_uri": "https://localhost:8080/"
        }
      },
      "source": [
        "max_sc_average=-999\n",
        "for n_cluster in range(2,11):\n",
        "    label= fcluster(Z, n_cluster, criterion='maxclust')\n",
        "    sc_score = metrics.silhouette_score(clust_data, label, metric='euclidean')\n",
        "    ch_score = metrics.calinski_harabasz_score(clust_data, label)\n",
        "    db_score = metrics.davies_bouldin_score(clust_data, label)\n",
        "    print(\"For n_clusters = \", n_cluster, \", The average silhouette_score is:\", sc_score)\n",
        "    if sc_score>= max_sc_average:\n",
        "          max_sc_average = sc_score\n",
        "          max_ch_average = ch_score\n",
        "          max_db_average = db_score\n",
        "          max_k_average = n_cluster\n",
        "\n",
        "print('So k with highest SC, CH and DB score is: ',max_k_average)"
      ],
      "execution_count": 50,
      "outputs": [
        {
          "output_type": "stream",
          "text": [
            "For n_clusters =  2 , The average silhouette_score is: 0.2935468930616447\n",
            "For n_clusters =  3 , The average silhouette_score is: 0.3022521726480174\n",
            "For n_clusters =  4 , The average silhouette_score is: 0.3326718554376819\n",
            "For n_clusters =  5 , The average silhouette_score is: 0.35123598270150214\n",
            "For n_clusters =  6 , The average silhouette_score is: 0.33333991452459744\n",
            "For n_clusters =  7 , The average silhouette_score is: 0.31537202202291614\n",
            "For n_clusters =  8 , The average silhouette_score is: 0.31264492859957327\n",
            "For n_clusters =  9 , The average silhouette_score is: 0.3016357099035446\n",
            "For n_clusters =  10 , The average silhouette_score is: 0.31947146894705164\n",
            "So k with highest SC, CH and DB score is:  5\n"
          ],
          "name": "stdout"
        }
      ]
    },
    {
      "cell_type": "markdown",
      "metadata": {
        "id": "uAvdOL7NXPvj"
      },
      "source": [
        "##### **Modeling AGNES**"
      ]
    },
    {
      "cell_type": "code",
      "metadata": {
        "id": "Mz6G9i5kXPvl",
        "outputId": "80920ea8-10fa-4554-9135-3dfa28944dbb",
        "colab": {
          "base_uri": "https://localhost:8080/",
          "height": 0
        }
      },
      "source": [
        "# Apply the Hierarchical Clustering Model to the Dataset\n",
        "cluster_labels= fcluster(Z, max_k_average, criterion='maxclust')\n",
        "clust_data[\"label\"] = cluster_labels\n",
        "clust_data.head()"
      ],
      "execution_count": 51,
      "outputs": [
        {
          "output_type": "execute_result",
          "data": {
            "text/html": [
              "<div>\n",
              "<style scoped>\n",
              "    .dataframe tbody tr th:only-of-type {\n",
              "        vertical-align: middle;\n",
              "    }\n",
              "\n",
              "    .dataframe tbody tr th {\n",
              "        vertical-align: top;\n",
              "    }\n",
              "\n",
              "    .dataframe thead th {\n",
              "        text-align: right;\n",
              "    }\n",
              "</style>\n",
              "<table border=\"1\" class=\"dataframe\">\n",
              "  <thead>\n",
              "    <tr style=\"text-align: right;\">\n",
              "      <th></th>\n",
              "      <th>Age</th>\n",
              "      <th>Annual Income</th>\n",
              "      <th>Spending Score</th>\n",
              "      <th>Gender</th>\n",
              "      <th>label</th>\n",
              "    </tr>\n",
              "  </thead>\n",
              "  <tbody>\n",
              "    <tr>\n",
              "      <th>0</th>\n",
              "      <td>-1.424569</td>\n",
              "      <td>-1.738999</td>\n",
              "      <td>-0.434801</td>\n",
              "      <td>1</td>\n",
              "      <td>5</td>\n",
              "    </tr>\n",
              "    <tr>\n",
              "      <th>1</th>\n",
              "      <td>-1.281035</td>\n",
              "      <td>-1.738999</td>\n",
              "      <td>1.195704</td>\n",
              "      <td>1</td>\n",
              "      <td>1</td>\n",
              "    </tr>\n",
              "    <tr>\n",
              "      <th>2</th>\n",
              "      <td>-1.352802</td>\n",
              "      <td>-1.700830</td>\n",
              "      <td>-1.715913</td>\n",
              "      <td>0</td>\n",
              "      <td>5</td>\n",
              "    </tr>\n",
              "    <tr>\n",
              "      <th>3</th>\n",
              "      <td>-1.137502</td>\n",
              "      <td>-1.700830</td>\n",
              "      <td>1.040418</td>\n",
              "      <td>0</td>\n",
              "      <td>1</td>\n",
              "    </tr>\n",
              "    <tr>\n",
              "      <th>4</th>\n",
              "      <td>-0.563369</td>\n",
              "      <td>-1.662660</td>\n",
              "      <td>-0.395980</td>\n",
              "      <td>0</td>\n",
              "      <td>5</td>\n",
              "    </tr>\n",
              "  </tbody>\n",
              "</table>\n",
              "</div>"
            ],
            "text/plain": [
              "        Age  Annual Income  Spending Score  Gender  label\n",
              "0 -1.424569      -1.738999       -0.434801       1      5\n",
              "1 -1.281035      -1.738999        1.195704       1      1\n",
              "2 -1.352802      -1.700830       -1.715913       0      5\n",
              "3 -1.137502      -1.700830        1.040418       0      1\n",
              "4 -0.563369      -1.662660       -0.395980       0      5"
            ]
          },
          "metadata": {
            "tags": []
          },
          "execution_count": 51
        }
      ]
    },
    {
      "cell_type": "code",
      "metadata": {
        "id": "-tbr83yZXPvu",
        "outputId": "9ac62a40-695e-467b-e97b-5de8cb6d2a27",
        "colab": {
          "base_uri": "https://localhost:8080/",
          "height": 0
        }
      },
      "source": [
        "# Visualising Clusters for k=6\n",
        "fig = px.scatter_3d(clust_data, x='Age', y='Annual Income', z='Spending Score',color='label',symbol='Gender', size_max=18, opacity=0.7)\n",
        "\n",
        "# tight layout\n",
        "fig.update_layout(margin=dict(l=0, r=0, b=0, t=0))"
      ],
      "execution_count": 52,
      "outputs": [
        {
          "output_type": "display_data",
          "data": {
            "text/html": [
              "<html>\n",
              "<head><meta charset=\"utf-8\" /></head>\n",
              "<body>\n",
              "    <div>\n",
              "            <script src=\"https://cdnjs.cloudflare.com/ajax/libs/mathjax/2.7.5/MathJax.js?config=TeX-AMS-MML_SVG\"></script><script type=\"text/javascript\">if (window.MathJax) {MathJax.Hub.Config({SVG: {font: \"STIX-Web\"}});}</script>\n",
              "                <script type=\"text/javascript\">window.PlotlyConfig = {MathJaxConfig: 'local'};</script>\n",
              "        <script src=\"https://cdn.plot.ly/plotly-latest.min.js\"></script>    \n",
              "            <div id=\"f53264b7-86a9-405f-a753-cb8c6f334c48\" class=\"plotly-graph-div\" style=\"height:525px; width:100%;\"></div>\n",
              "            <script type=\"text/javascript\">\n",
              "                \n",
              "                    window.PLOTLYENV=window.PLOTLYENV || {};\n",
              "                    \n",
              "                if (document.getElementById(\"f53264b7-86a9-405f-a753-cb8c6f334c48\")) {\n",
              "                    Plotly.newPlot(\n",
              "                        'f53264b7-86a9-405f-a753-cb8c6f334c48',\n",
              "                        [{\"hoverlabel\": {\"namelength\": 0}, \"hovertemplate\": \"Gender=1<br>Age=%{x}<br>Annual Income=%{y}<br>Spending Score=%{z}<br>label=%{marker.color}\", \"legendgroup\": \"Gender=1\", \"marker\": {\"color\": [5, 1, 5, 5, 5, 1, 1, 5, 5, 1, 1, 1, 1, 5, 5, 1, 1, 4, 1, 4, 4, 4, 4, 4, 1, 4, 1, 1, 4, 4, 1, 4, 4, 4, 4, 4, 1, 4, 1, 4, 1, 4, 1, 4, 4, 4, 4, 4, 1, 1, 2, 3, 2, 3, 2, 3, 2, 3, 2, 3, 2, 3, 2, 3, 2, 3, 2, 3, 3, 3, 3, 3, 2, 3, 2, 3, 2, 3, 2, 3, 2, 3, 2, 2, 3, 2, 3, 2], \"coloraxis\": \"coloraxis\", \"opacity\": 0.7, \"symbol\": \"circle\"}, \"mode\": \"markers\", \"name\": \"Gender=1\", \"scene\": \"scene\", \"showlegend\": true, \"type\": \"scatter3d\", \"x\": [-1.4245687900521393, -1.2810354107017978, 1.804932245330544, 2.0202323143560563, -0.13276837589906598, -1.209268721026627, -1.3528021003769686, 0.9437319692284951, -0.2763017552494075, -0.9939686520011148, -0.5633685139500905, -0.706901893300432, -0.2763017552494075, 1.517865486629861, 1.0154986589036659, -1.49633547972731, -1.0657353416762856, 0.6566652105278122, -0.41983513459974897, 1.4460987969546903, 0.5848985208526415, 2.163765693706398, 1.0154986589036659, 2.2355323833815683, -1.4245687900521393, 1.7331655556553733, -1.49633547972731, -1.4245687900521393, 2.2355323833815683, 1.4460987969546903, -0.9222019623259441, 0.08253169312644625, 1.3025654176043489, -0.061001686223895235, 2.0202323143560563, 0.6566652105278122, -1.49633547972731, 0.6566652105278122, -1.0657353416762856, 0.6566652105278122, -1.3528021003769686, 2.0202323143560563, -0.9222019623259441, 0.728431900202983, 1.0872653485788366, 2.091999004031227, 1.9484656246808856, 1.8766989350057148, -1.4245687900521393, -0.8504352726507735, 0.010765003451275509, 0.2978317621519585, 0.08253169312644625, 1.4460987969546903, -0.061001686223895235, 0.5848985208526415, 0.010765003451275509, -1.3528021003769686, -0.49160182427491966, -1.4245687900521393, -0.49160182427491966, -0.9939686520011148, -0.7786685829756027, 0.6566652105278122, -0.3480684449245782, 0.2978317621519585, 0.010765003451275509, -0.13276837589906598, -0.3480684449245782, -1.4245687900521393, 0.8001985898781537, 0.22606507247678773, -0.49160182427491966, 0.08253169312644625, -0.7786685829756027, -0.20453506557423673, -0.20453506557423673, 1.3743321072795196, -0.8504352726507735, 1.4460987969546903, -0.2763017552494075, 0.5131318311774707, -0.6351352036252612, -0.7786685829756027, -0.41983513459974897, -0.49160182427491966, -0.49160182427491966, -0.6351352036252612], \"y\": [-1.7389991930659485, -1.7389991930659485, -1.5863214763788591, -1.5863214763788591, -1.5481520472070869, -1.5481520472070869, -1.5099826180353144, -1.4336437596917697, -1.3954743305199975, -1.3954743305199975, -1.357304901348225, -1.2427966138329078, -1.2427966138329078, -1.1664577554893631, -1.0519494679740462, -1.0519494679740462, -0.8611023221151844, -0.8229328929434121, -0.7084246054280949, -0.6702551762563226, -0.6702551762563226, -0.6320857470845502, -0.5557468887410055, -0.5557468887410055, -0.5557468887410055, -0.4794080303974609, -0.4794080303974609, -0.4794080303974609, -0.44123860122568853, -0.2503914553668267, -0.2503914553668267, -0.2503914553668267, -0.2503914553668267, -0.2503914553668267, -0.2503914553668267, -0.2503914553668267, -0.05954430950796496, -0.021374880336192604, -0.021374880336192604, 0.01679454883557975, 0.01679454883557975, 0.0549639780073521, 0.0549639780073521, 0.0549639780073521, 0.09313340717912445, 0.09313340717912445, 0.09313340717912445, 0.09313340717912445, 0.13130283635089682, 0.24581112386621387, 0.3221499822097586, 0.3984888405533033, 0.3984888405533033, 0.3984888405533033, 0.3984888405533033, 0.3984888405533033, 0.3984888405533033, 0.474827698896848, 0.474827698896848, 0.5129971280686204, 0.5511665572403928, 0.6275054155839375, 0.6275054155839375, 0.6275054155839375, 0.6656748447557098, 0.6656748447557098, 0.6656748447557098, 0.6656748447557098, 0.6656748447557098, 0.7801831322710269, 0.9328608489581163, 0.9710302781298886, 1.009199707301661, 1.009199707301661, 1.009199707301661, 1.009199707301661, 1.009199707301661, 1.0473691364734332, 1.0473691364734332, 1.238216282332295, 1.238216282332295, 1.429063428191157, 1.4672328573629292, 1.543571715706474, 2.0016048657677423, 2.4978074450007828, 2.9176711658902788, 2.9176711658902788], \"z\": [-0.43480147996914814, 1.195704069915157, -1.832377665584267, -1.405340497757425, -1.444162058468956, 1.118060948492095, 0.6133806592421909, -0.823017087084459, -0.5900877228152724, 0.8851315842229084, 0.8851315842229084, 1.234525630626688, 0.4192728556845355, -1.7935561048727358, -1.7935561048727358, 1.622741237741999, 1.622741237741999, -0.5512661621037414, 0.38045129497300445, 0.38045129497300445, -0.357158358546086, -0.16305055498843063, -0.16305055498843063, 0.22516505212688012, 0.18634349141534906, 0.03105724856922475, 0.34162973426147336, 0.34162973426147336, 0.18634349141534906, -0.12422899427689955, 0.14752193070381797, -0.08540743356536848, 0.03105724856922475, 0.18634349141534906, -0.357158358546086, -0.16305055498843063, -0.357158358546086, -0.046585872853837404, 0.06987880928075582, -0.31833679783455493, -0.046585872853837404, 0.34162973426147336, 0.18634349141534906, 0.22516505212688012, -0.16305055498843063, -0.27951523712302384, -0.08540743356536848, 0.06987880928075582, -0.16305055498843063, 0.22516505212688012, 1.5839196770304678, -0.5900877228152724, 1.7392059198765921, -1.5218051798920182, 0.9627747056459706, -1.5994483013150804, 0.9627747056459706, -1.7547345441612048, 0.8851315842229084, -1.5606267406035494, 1.66156279845353, -1.4829836191804873, 1.8168490412996543, -0.5512661621037414, 1.5450981163189368, -1.288875815622832, 1.4674549948958746, -1.9100207870073291, -1.9100207870073291, -1.7547345441612048, -0.9394817692190521, -1.1724111334882386, 0.49691597710759766, -1.444162058468956, 0.9627747056459706, -1.5606267406035494, 1.622741237741999, -1.3665189370458939, 0.7298453413767841, -1.405340497757425, 1.5450981163189368, -1.3665189370458939, 1.8168490412996543, 0.691023780665253, -1.6382698620266116, 0.9239531449344395, -1.2500542549113007, 1.2733471913382193]}, {\"hoverlabel\": {\"namelength\": 0}, \"hovertemplate\": \"Gender=0<br>Age=%{x}<br>Annual Income=%{y}<br>Spending Score=%{z}<br>label=%{marker.color}\", \"legendgroup\": \"Gender=0\", \"marker\": {\"color\": [5, 1, 5, 1, 5, 1, 1, 1, 5, 1, 5, 1, 5, 5, 5, 5, 1, 1, 5, 1, 5, 1, 5, 1, 4, 1, 5, 1, 4, 1, 1, 1, 4, 1, 4, 4, 1, 4, 4, 4, 4, 1, 4, 4, 4, 4, 1, 4, 4, 1, 4, 1, 4, 4, 4, 4, 4, 4, 1, 1, 4, 1, 4, 1, 4, 1, 1, 4, 4, 4, 4, 4, 4, 1, 2, 1, 2, 2, 3, 2, 3, 1, 2, 2, 3, 3, 2, 3, 2, 2, 2, 3, 2, 2, 2, 2, 3, 3, 2, 3, 2, 2, 3, 3, 3, 2, 3, 2, 2, 3, 2, 3], \"coloraxis\": \"coloraxis\", \"opacity\": 0.7, \"symbol\": \"diamond\"}, \"mode\": \"markers\", \"name\": \"Gender=0\", \"scene\": \"scene\", \"showlegend\": true, \"type\": \"scatter3d\", \"x\": [-1.3528021003769686, -1.1375020313514563, -0.5633685139500905, -1.209268721026627, -0.2763017552494075, -1.1375020313514563, -0.6351352036252612, -0.2763017552494075, 1.3743321072795196, -1.0657353416762856, -0.2763017552494075, -0.2763017552494075, 0.5131318311774707, 1.0872653485788366, 0.44136514150229994, 0.08253169312644625, -1.1375020313514563, -1.2810354107017978, 0.728431900202983, -1.2810354107017978, 0.22606507247678773, -0.6351352036252612, -0.20453506557423673, -1.3528021003769686, 1.8766989350057148, -0.5633685139500905, 0.728431900202983, -1.0657353416762856, 0.8001985898781537, -0.8504352726507735, -0.706901893300432, -0.5633685139500905, 0.728431900202983, -0.5633685139500905, 0.8001985898781537, 0.8719652795533244, -0.8504352726507735, 2.0202323143560563, 1.0872653485788366, 0.2978317621519585, 2.091999004031227, -0.49160182427491966, 0.5848985208526415, 1.517865486629861, 1.517865486629861, 0.44136514150229994, -1.1375020313514563, 0.728431900202983, 0.5131318311774707, -1.2810354107017978, 1.1590320382540074, -1.209268721026627, -0.3480684449245782, 0.8001985898781537, 2.091999004031227, 0.08253169312644625, -0.49160182427491966, 0.5848985208526415, -0.8504352726507735, -1.1375020313514563, 0.728431900202983, -1.2810354107017978, 1.9484656246808856, -1.4245687900521393, -0.061001686223895235, -1.49633547972731, -1.4245687900521393, 1.7331655556553733, 0.728431900202983, 0.8719652795533244, 0.8001985898781537, -0.061001686223895235, 0.08253169312644625, -1.1375020313514563, -0.5633685139500905, -0.9939686520011148, -0.5633685139500905, -0.706901893300432, 0.36959845182712925, -0.2763017552494075, 1.3025654176043489, -0.7786685829756027, -0.49160182427491966, -0.49160182427491966, -0.3480684449245782, 0.36959845182712925, -0.061001686223895235, 0.5848985208526415, -0.8504352726507735, -0.6351352036252612, -0.6351352036252612, 1.230798727929178, -0.706901893300432, -0.5633685139500905, -0.20453506557423673, -0.41983513459974897, -0.20453506557423673, 0.9437319692284951, -0.6351352036252612, -0.13276837589906598, -0.49160182427491966, -0.706901893300432, 0.154298382801617, 1.0872653485788366, 0.154298382801617, -0.20453506557423673, -0.3480684449245782, -0.49160182427491966, -0.061001686223895235, 0.5848985208526415, -0.2763017552494075, 0.44136514150229994], \"y\": [-1.7008297638941763, -1.7008297638941763, -1.6626603347224038, -1.6626603347224038, -1.6244909055506316, -1.6244909055506316, -1.5863214763788591, -1.5863214763788591, -1.5481520472070869, -1.5481520472070869, -1.5099826180353144, -1.4336437596917697, -1.357304901348225, -1.2427966138329078, -1.2427966138329078, -1.2046271846611356, -1.2046271846611356, -1.1664577554893631, -1.0519494679740462, -1.0519494679740462, -1.0137800388022737, -1.0137800388022737, -0.8992717512869568, -0.8992717512869568, -0.8611023221151844, -0.8229328929434121, -0.8229328929434121, -0.8229328929434121, -0.7847634637716397, -0.7847634637716397, -0.7847634637716397, -0.7847634637716397, -0.7084246054280949, -0.6702551762563226, -0.6702551762563226, -0.6320857470845502, -0.5557468887410055, -0.5175774595692332, -0.5175774595692332, -0.4794080303974609, -0.4794080303974609, -0.4794080303974609, -0.44123860122568853, -0.4030691720539161, -0.4030691720539161, -0.2503914553668267, -0.2503914553668267, -0.2503914553668267, -0.2503914553668267, -0.2503914553668267, -0.13588316785150967, -0.13588316785150967, -0.09771373867973732, -0.09771373867973732, -0.05954430950796496, -0.021374880336192604, -0.021374880336192604, -0.021374880336192604, -0.021374880336192604, 0.0549639780073521, 0.0549639780073521, 0.0549639780073521, 0.09313340717912445, 0.09313340717912445, 0.13130283635089682, 0.16947226552266917, 0.16947226552266917, 0.16947226552266917, 0.16947226552266917, 0.24581112386621387, 0.24581112386621387, 0.24581112386621387, 0.3221499822097586, 0.36031941138153095, 0.36031941138153095, 0.43665826972507565, 0.43665826972507565, 0.474827698896848, 0.474827698896848, 0.5129971280686204, 0.5511665572403928, 0.5893359864121651, 0.5893359864121651, 0.6275054155839375, 0.6656748447557098, 0.6656748447557098, 0.6656748447557098, 0.6656748447557098, 0.6656748447557098, 0.6656748447557098, 0.6656748447557098, 0.7038442739274822, 0.7038442739274822, 0.7801831322710269, 0.9328608489581163, 0.9710302781298886, 1.009199707301661, 1.0473691364734332, 1.0473691364734332, 1.3908939990193845, 1.3908939990193845, 1.429063428191157, 1.4672328573629292, 1.543571715706474, 1.6199105740500186, 1.6199105740500186, 1.6199105740500186, 1.6199105740500186, 2.0016048657677423, 2.2687908699701484, 2.2687908699701484, 2.4978074450007828], \"z\": [-1.7159129834496736, 1.0404178270690327, -0.3959799192576171, 1.0015962663575015, -1.7159129834496736, 1.700384359165061, 0.8463100235113773, 1.8944921627227165, -1.3665189370458939, 1.0404178270690327, -0.5900877228152724, 1.8556706020111853, -1.7547345441612048, -1.405340497757425, -0.7065524049498657, -0.7453739656613968, 1.4286334341843434, 0.8851315842229084, -1.405340497757425, 1.195704069915157, -1.288875815622832, 0.8851315842229084, -0.9394817692190521, 0.9627747056459706, -0.5900877228152724, 0.4192728556845355, -0.86183864779599, 0.5745590985306598, 0.18634349141534906, -0.12422899427689955, -0.31833679783455493, -0.31833679783455493, 0.06987880928075582, 0.14752193070381797, -0.20187211569996172, -0.007764312142306325, 0.03105724856922475, 0.06987880928075582, 0.34162973426147336, -0.007764312142306325, -0.08540743356536848, -0.12422899427689955, -0.31833679783455493, -0.046585872853837404, 0.22516505212688012, 0.1087003699922869, 0.06987880928075582, -0.31833679783455493, -0.24069367641149278, 0.2639866128384112, 0.30280817354994227, 0.18634349141534906, 0.38045129497300445, -0.16305055498843063, 0.18634349141534906, -0.3959799192576171, -0.31833679783455493, -0.12422899427689955, -0.007764312142306325, -0.357158358546086, -0.08540743356536848, -0.31833679783455493, -0.007764312142306325, 0.14752193070381797, -0.31833679783455493, -0.08540743356536848, -0.007764312142306325, -0.27951523712302384, 0.34162973426147336, -0.27951523712302384, 0.2639866128384112, -0.3959799192576171, 0.30280817354994227, -0.823017087084459, 1.0404178270690327, -0.6289092835268035, 0.8074884627998463, 1.4674549948958746, -1.6770914227381426, 0.8463100235113773, -1.7547345441612048, -0.3959799192576171, 1.4286334341843434, 0.9239531449344395, -1.0947680120651764, -1.1724111334882386, 1.0015962663575015, -1.327697376334363, 1.5062765556074056, 1.0792393877805637, 0.8851315842229084, -0.5900877228152724, 1.2733471913382193, 1.66156279845353, 0.9627747056459706, 1.7392059198765921, -0.900660208507521, -1.444162058468956, 1.3898118734728124, -0.7065524049498657, 1.3898118734728124, 1.4674549948958746, -0.43480147996914814, -1.0171248906421142, -1.288875815622832, 1.3509903127612812, -1.0559464513536454, 0.7298453413767841, 1.5839196770304678, -1.327697376334363, 1.118060948492095, -0.86183864779599]}],\n",
              "                        {\"coloraxis\": {\"colorbar\": {\"title\": {\"text\": \"label\"}}, \"colorscale\": [[0.0, \"#0d0887\"], [0.1111111111111111, \"#46039f\"], [0.2222222222222222, \"#7201a8\"], [0.3333333333333333, \"#9c179e\"], [0.4444444444444444, \"#bd3786\"], [0.5555555555555556, \"#d8576b\"], [0.6666666666666666, \"#ed7953\"], [0.7777777777777778, \"#fb9f3a\"], [0.8888888888888888, \"#fdca26\"], [1.0, \"#f0f921\"]]}, \"legend\": {\"tracegroupgap\": 0}, \"margin\": {\"b\": 0, \"l\": 0, \"r\": 0, \"t\": 0}, \"scene\": {\"domain\": {\"x\": [0.0, 1.0], \"y\": [0.0, 1.0]}, \"xaxis\": {\"title\": {\"text\": \"Age\"}}, \"yaxis\": {\"title\": {\"text\": \"Annual Income\"}}, \"zaxis\": {\"title\": {\"text\": \"Spending Score\"}}}, \"template\": {\"data\": {\"bar\": [{\"error_x\": {\"color\": \"#2a3f5f\"}, \"error_y\": {\"color\": \"#2a3f5f\"}, \"marker\": {\"line\": {\"color\": \"#E5ECF6\", \"width\": 0.5}}, \"type\": \"bar\"}], \"barpolar\": [{\"marker\": {\"line\": {\"color\": \"#E5ECF6\", \"width\": 0.5}}, \"type\": \"barpolar\"}], \"carpet\": [{\"aaxis\": {\"endlinecolor\": \"#2a3f5f\", \"gridcolor\": \"white\", \"linecolor\": \"white\", \"minorgridcolor\": \"white\", \"startlinecolor\": \"#2a3f5f\"}, \"baxis\": {\"endlinecolor\": \"#2a3f5f\", \"gridcolor\": \"white\", \"linecolor\": \"white\", \"minorgridcolor\": \"white\", \"startlinecolor\": \"#2a3f5f\"}, \"type\": \"carpet\"}], \"choropleth\": [{\"colorbar\": {\"outlinewidth\": 0, \"ticks\": \"\"}, \"type\": \"choropleth\"}], \"contour\": [{\"colorbar\": {\"outlinewidth\": 0, \"ticks\": \"\"}, \"colorscale\": [[0.0, \"#0d0887\"], [0.1111111111111111, \"#46039f\"], [0.2222222222222222, \"#7201a8\"], [0.3333333333333333, \"#9c179e\"], [0.4444444444444444, \"#bd3786\"], [0.5555555555555556, \"#d8576b\"], [0.6666666666666666, \"#ed7953\"], [0.7777777777777778, \"#fb9f3a\"], [0.8888888888888888, \"#fdca26\"], [1.0, \"#f0f921\"]], \"type\": \"contour\"}], \"contourcarpet\": [{\"colorbar\": {\"outlinewidth\": 0, \"ticks\": \"\"}, \"type\": \"contourcarpet\"}], \"heatmap\": [{\"colorbar\": {\"outlinewidth\": 0, \"ticks\": \"\"}, \"colorscale\": [[0.0, \"#0d0887\"], [0.1111111111111111, \"#46039f\"], [0.2222222222222222, \"#7201a8\"], [0.3333333333333333, \"#9c179e\"], [0.4444444444444444, \"#bd3786\"], [0.5555555555555556, \"#d8576b\"], [0.6666666666666666, \"#ed7953\"], [0.7777777777777778, \"#fb9f3a\"], [0.8888888888888888, \"#fdca26\"], [1.0, \"#f0f921\"]], \"type\": \"heatmap\"}], \"heatmapgl\": [{\"colorbar\": {\"outlinewidth\": 0, \"ticks\": \"\"}, \"colorscale\": [[0.0, \"#0d0887\"], [0.1111111111111111, \"#46039f\"], [0.2222222222222222, \"#7201a8\"], [0.3333333333333333, \"#9c179e\"], [0.4444444444444444, \"#bd3786\"], [0.5555555555555556, \"#d8576b\"], [0.6666666666666666, \"#ed7953\"], [0.7777777777777778, \"#fb9f3a\"], [0.8888888888888888, \"#fdca26\"], [1.0, \"#f0f921\"]], \"type\": \"heatmapgl\"}], \"histogram\": [{\"marker\": {\"colorbar\": {\"outlinewidth\": 0, \"ticks\": \"\"}}, \"type\": \"histogram\"}], \"histogram2d\": [{\"colorbar\": {\"outlinewidth\": 0, \"ticks\": \"\"}, \"colorscale\": [[0.0, \"#0d0887\"], [0.1111111111111111, \"#46039f\"], [0.2222222222222222, \"#7201a8\"], [0.3333333333333333, \"#9c179e\"], [0.4444444444444444, \"#bd3786\"], [0.5555555555555556, \"#d8576b\"], [0.6666666666666666, \"#ed7953\"], [0.7777777777777778, \"#fb9f3a\"], [0.8888888888888888, \"#fdca26\"], [1.0, \"#f0f921\"]], \"type\": \"histogram2d\"}], \"histogram2dcontour\": [{\"colorbar\": {\"outlinewidth\": 0, \"ticks\": \"\"}, \"colorscale\": [[0.0, \"#0d0887\"], [0.1111111111111111, \"#46039f\"], [0.2222222222222222, \"#7201a8\"], [0.3333333333333333, \"#9c179e\"], [0.4444444444444444, \"#bd3786\"], [0.5555555555555556, \"#d8576b\"], [0.6666666666666666, \"#ed7953\"], [0.7777777777777778, \"#fb9f3a\"], [0.8888888888888888, \"#fdca26\"], [1.0, \"#f0f921\"]], \"type\": \"histogram2dcontour\"}], \"mesh3d\": [{\"colorbar\": {\"outlinewidth\": 0, \"ticks\": \"\"}, \"type\": \"mesh3d\"}], \"parcoords\": [{\"line\": {\"colorbar\": {\"outlinewidth\": 0, \"ticks\": \"\"}}, \"type\": \"parcoords\"}], \"pie\": [{\"automargin\": true, \"type\": \"pie\"}], \"scatter\": [{\"marker\": {\"colorbar\": {\"outlinewidth\": 0, \"ticks\": \"\"}}, \"type\": \"scatter\"}], \"scatter3d\": [{\"line\": {\"colorbar\": {\"outlinewidth\": 0, \"ticks\": \"\"}}, \"marker\": {\"colorbar\": {\"outlinewidth\": 0, \"ticks\": \"\"}}, \"type\": \"scatter3d\"}], \"scattercarpet\": [{\"marker\": {\"colorbar\": {\"outlinewidth\": 0, \"ticks\": \"\"}}, \"type\": \"scattercarpet\"}], \"scattergeo\": [{\"marker\": {\"colorbar\": {\"outlinewidth\": 0, \"ticks\": \"\"}}, \"type\": \"scattergeo\"}], \"scattergl\": [{\"marker\": {\"colorbar\": {\"outlinewidth\": 0, \"ticks\": \"\"}}, \"type\": \"scattergl\"}], \"scattermapbox\": [{\"marker\": {\"colorbar\": {\"outlinewidth\": 0, \"ticks\": \"\"}}, \"type\": \"scattermapbox\"}], \"scatterpolar\": [{\"marker\": {\"colorbar\": {\"outlinewidth\": 0, \"ticks\": \"\"}}, \"type\": \"scatterpolar\"}], \"scatterpolargl\": [{\"marker\": {\"colorbar\": {\"outlinewidth\": 0, \"ticks\": \"\"}}, \"type\": \"scatterpolargl\"}], \"scatterternary\": [{\"marker\": {\"colorbar\": {\"outlinewidth\": 0, \"ticks\": \"\"}}, \"type\": \"scatterternary\"}], \"surface\": [{\"colorbar\": {\"outlinewidth\": 0, \"ticks\": \"\"}, \"colorscale\": [[0.0, \"#0d0887\"], [0.1111111111111111, \"#46039f\"], [0.2222222222222222, \"#7201a8\"], [0.3333333333333333, \"#9c179e\"], [0.4444444444444444, \"#bd3786\"], [0.5555555555555556, \"#d8576b\"], [0.6666666666666666, \"#ed7953\"], [0.7777777777777778, \"#fb9f3a\"], [0.8888888888888888, \"#fdca26\"], [1.0, \"#f0f921\"]], \"type\": \"surface\"}], \"table\": [{\"cells\": {\"fill\": {\"color\": \"#EBF0F8\"}, \"line\": {\"color\": \"white\"}}, \"header\": {\"fill\": {\"color\": \"#C8D4E3\"}, \"line\": {\"color\": \"white\"}}, \"type\": \"table\"}]}, \"layout\": {\"annotationdefaults\": {\"arrowcolor\": \"#2a3f5f\", \"arrowhead\": 0, \"arrowwidth\": 1}, \"coloraxis\": {\"colorbar\": {\"outlinewidth\": 0, \"ticks\": \"\"}}, \"colorscale\": {\"diverging\": [[0, \"#8e0152\"], [0.1, \"#c51b7d\"], [0.2, \"#de77ae\"], [0.3, \"#f1b6da\"], [0.4, \"#fde0ef\"], [0.5, \"#f7f7f7\"], [0.6, \"#e6f5d0\"], [0.7, \"#b8e186\"], [0.8, \"#7fbc41\"], [0.9, \"#4d9221\"], [1, \"#276419\"]], \"sequential\": [[0.0, \"#0d0887\"], [0.1111111111111111, \"#46039f\"], [0.2222222222222222, \"#7201a8\"], [0.3333333333333333, \"#9c179e\"], [0.4444444444444444, \"#bd3786\"], [0.5555555555555556, \"#d8576b\"], [0.6666666666666666, \"#ed7953\"], [0.7777777777777778, \"#fb9f3a\"], [0.8888888888888888, \"#fdca26\"], [1.0, \"#f0f921\"]], \"sequentialminus\": [[0.0, \"#0d0887\"], [0.1111111111111111, \"#46039f\"], [0.2222222222222222, \"#7201a8\"], [0.3333333333333333, \"#9c179e\"], [0.4444444444444444, \"#bd3786\"], [0.5555555555555556, \"#d8576b\"], [0.6666666666666666, \"#ed7953\"], [0.7777777777777778, \"#fb9f3a\"], [0.8888888888888888, \"#fdca26\"], [1.0, \"#f0f921\"]]}, \"colorway\": [\"#636efa\", \"#EF553B\", \"#00cc96\", \"#ab63fa\", \"#FFA15A\", \"#19d3f3\", \"#FF6692\", \"#B6E880\", \"#FF97FF\", \"#FECB52\"], \"font\": {\"color\": \"#2a3f5f\"}, \"geo\": {\"bgcolor\": \"white\", \"lakecolor\": \"white\", \"landcolor\": \"#E5ECF6\", \"showlakes\": true, \"showland\": true, \"subunitcolor\": \"white\"}, \"hoverlabel\": {\"align\": \"left\"}, \"hovermode\": \"closest\", \"mapbox\": {\"style\": \"light\"}, \"paper_bgcolor\": \"white\", \"plot_bgcolor\": \"#E5ECF6\", \"polar\": {\"angularaxis\": {\"gridcolor\": \"white\", \"linecolor\": \"white\", \"ticks\": \"\"}, \"bgcolor\": \"#E5ECF6\", \"radialaxis\": {\"gridcolor\": \"white\", \"linecolor\": \"white\", \"ticks\": \"\"}}, \"scene\": {\"xaxis\": {\"backgroundcolor\": \"#E5ECF6\", \"gridcolor\": \"white\", \"gridwidth\": 2, \"linecolor\": \"white\", \"showbackground\": true, \"ticks\": \"\", \"zerolinecolor\": \"white\"}, \"yaxis\": {\"backgroundcolor\": \"#E5ECF6\", \"gridcolor\": \"white\", \"gridwidth\": 2, \"linecolor\": \"white\", \"showbackground\": true, \"ticks\": \"\", \"zerolinecolor\": \"white\"}, \"zaxis\": {\"backgroundcolor\": \"#E5ECF6\", \"gridcolor\": \"white\", \"gridwidth\": 2, \"linecolor\": \"white\", \"showbackground\": true, \"ticks\": \"\", \"zerolinecolor\": \"white\"}}, \"shapedefaults\": {\"line\": {\"color\": \"#2a3f5f\"}}, \"ternary\": {\"aaxis\": {\"gridcolor\": \"white\", \"linecolor\": \"white\", \"ticks\": \"\"}, \"baxis\": {\"gridcolor\": \"white\", \"linecolor\": \"white\", \"ticks\": \"\"}, \"bgcolor\": \"#E5ECF6\", \"caxis\": {\"gridcolor\": \"white\", \"linecolor\": \"white\", \"ticks\": \"\"}}, \"title\": {\"x\": 0.05}, \"xaxis\": {\"automargin\": true, \"gridcolor\": \"white\", \"linecolor\": \"white\", \"ticks\": \"\", \"title\": {\"standoff\": 15}, \"zerolinecolor\": \"white\", \"zerolinewidth\": 2}, \"yaxis\": {\"automargin\": true, \"gridcolor\": \"white\", \"linecolor\": \"white\", \"ticks\": \"\", \"title\": {\"standoff\": 15}, \"zerolinecolor\": \"white\", \"zerolinewidth\": 2}}}},\n",
              "                        {\"responsive\": true}\n",
              "                    ).then(function(){\n",
              "                            \n",
              "var gd = document.getElementById('f53264b7-86a9-405f-a753-cb8c6f334c48');\n",
              "var x = new MutationObserver(function (mutations, observer) {{\n",
              "        var display = window.getComputedStyle(gd).display;\n",
              "        if (!display || display === 'none') {{\n",
              "            console.log([gd, 'removed!']);\n",
              "            Plotly.purge(gd);\n",
              "            observer.disconnect();\n",
              "        }}\n",
              "}});\n",
              "\n",
              "// Listen for the removal of the full notebook cells\n",
              "var notebookContainer = gd.closest('#notebook-container');\n",
              "if (notebookContainer) {{\n",
              "    x.observe(notebookContainer, {childList: true});\n",
              "}}\n",
              "\n",
              "// Listen for the clearing of the current output cell\n",
              "var outputEl = gd.closest('.output');\n",
              "if (outputEl) {{\n",
              "    x.observe(outputEl, {childList: true});\n",
              "}}\n",
              "\n",
              "                        })\n",
              "                };\n",
              "                \n",
              "            </script>\n",
              "        </div>\n",
              "</body>\n",
              "</html>"
            ]
          },
          "metadata": {
            "tags": []
          }
        }
      ]
    },
    {
      "cell_type": "markdown",
      "metadata": {
        "id": "FBh7lEn3hdBL"
      },
      "source": [
        "### **Cluster Quality Comparation**"
      ]
    },
    {
      "cell_type": "code",
      "metadata": {
        "id": "o4wHVJqxew67",
        "outputId": "a8651fa6-9d3e-4e66-d629-cd12fc2bbdde",
        "colab": {
          "base_uri": "https://localhost:8080/"
        }
      },
      "source": [
        "# Comparing Cluster Quality\n",
        "print(\"________K-MEANS_________\")\n",
        "print(\"SC =\", max_sc_kmeans)\n",
        "print(\"CH Score=\", max_ch_kmeans)\n",
        "print(\"DB Score =\", max_db_kmeans)\n",
        "print(\"Final k =\", max_k_kmeans)\n",
        "print(\"________Ward_________\")\n",
        "print(\"SC =\", max_sc_ward)\n",
        "print(\"CH Score=\", max_ch_ward)\n",
        "print(\"DB Score =\", max_db_ward)\n",
        "print(\"Final k =\", max_k_ward)\n",
        "print(\"________Single_________\")\n",
        "print(\"SC =\", max_sc_single)\n",
        "print(\"CH Score=\", max_ch_single)\n",
        "print(\"DB Score =\", max_db_single)\n",
        "print(\"Final k =\", max_k_single)\n",
        "print(\"________Complete_________\")\n",
        "print(\"SC =\", max_sc_complete)\n",
        "print(\"CH Score=\", max_ch_complete)\n",
        "print(\"DB Score =\", max_db_complete)\n",
        "print(\"Final k =\", max_k_complete)\n",
        "print(\"________Centroid_________\")\n",
        "print(\"SC =\", max_sc_centroid)\n",
        "print(\"CH Score=\", max_ch_centroid)\n",
        "print(\"DB Score =\", max_db_centroid)\n",
        "print(\"Final k =\", max_k_centroid)\n",
        "print(\"________Average_________\")\n",
        "print(\"SC =\", max_sc_average)\n",
        "print(\"CH Score=\", max_ch_average)\n",
        "print(\"DB Score =\", max_db_average)\n",
        "print(\"Final k =\", max_k_average)"
      ],
      "execution_count": 53,
      "outputs": [
        {
          "output_type": "stream",
          "text": [
            "________K-MEANS_________\n",
            "SC = 0.356485834425401\n",
            "CH Score= 99.6548785110883\n",
            "DB Score = 1.0050904211940697\n",
            "Final k = 6\n",
            "________Ward_________\n",
            "SC = 0.3504439354681972\n",
            "CH Score= 95.2576612909977\n",
            "DB Score = 1.0086149926438526\n",
            "Final k = 6\n",
            "________Single_________\n",
            "SC = 0.23042519588412858\n",
            "CH Score= 2.4389146297438806\n",
            "DB Score = 0.6036769210648909\n",
            "Final k = 2\n",
            "________Complete_________\n",
            "SC = 0.3404764937897312\n",
            "CH Score= 92.99085717114225\n",
            "DB Score = 1.0341672928753236\n",
            "Final k = 5\n",
            "________Centroid_________\n",
            "SC = 0.3233780244557681\n",
            "CH Score= 72.10709000068678\n",
            "DB Score = 0.8497644223770475\n",
            "Final k = 9\n",
            "________Average_________\n",
            "SC = 0.35123598270150214\n",
            "CH Score= 92.01302949365007\n",
            "DB Score = 1.0767859421266297\n",
            "Final k = 5\n"
          ],
          "name": "stdout"
        }
      ]
    },
    {
      "cell_type": "markdown",
      "metadata": {
        "id": "cc0QipQHeqh0"
      },
      "source": [
        "### **Conclusion**"
      ]
    },
    {
      "cell_type": "markdown",
      "metadata": {
        "id": "Z7M5AdvEh2sj"
      },
      "source": [
        "Berdasarkan 2 metode klasterisasi diatas dapat dilihat bahwa metode klasterisasi dengan menggunakan k-means menghasilkan silhoutte coefficient yang paling baik yaitu pada k=6 pada data mall customer."
      ]
    },
    {
      "cell_type": "code",
      "metadata": {
        "id": "cueuOrufqyln"
      },
      "source": [
        "clust_data = clust_data.drop(columns='label')\n",
        "kmeans = KMeans(n_clusters=max_k_kmeans, init='k-means++', max_iter=10, n_init=10, random_state=0)\n",
        "cluster = kmeans.fit_predict(clust_data)\n",
        "clust_data[\"label\"] = kmeans.labels_"
      ],
      "execution_count": 54,
      "outputs": []
    },
    {
      "cell_type": "markdown",
      "metadata": {
        "id": "qbm-PImVfTMH"
      },
      "source": [
        "#### **Visualisasi Hasil**"
      ]
    },
    {
      "cell_type": "code",
      "metadata": {
        "id": "ahxGR_rUffqc",
        "outputId": "411feb62-cc36-4fae-eff0-7b1327f0fe0e",
        "colab": {
          "base_uri": "https://localhost:8080/",
          "height": 194
        }
      },
      "source": [
        "x = clust_data[['Age','Annual Income','Spending Score']].values\n",
        "x_scaled = zscaler.inverse_transform(x)\n",
        "clust_data[['Age','Annual Income','Spending Score']] = pd.DataFrame(x_scaled,columns=['Age',\n",
        "                                                'Annual Income', \n",
        "                                                'Spending Score'])\n",
        "clust_data.head()"
      ],
      "execution_count": 55,
      "outputs": [
        {
          "output_type": "execute_result",
          "data": {
            "text/html": [
              "<div>\n",
              "<style scoped>\n",
              "    .dataframe tbody tr th:only-of-type {\n",
              "        vertical-align: middle;\n",
              "    }\n",
              "\n",
              "    .dataframe tbody tr th {\n",
              "        vertical-align: top;\n",
              "    }\n",
              "\n",
              "    .dataframe thead th {\n",
              "        text-align: right;\n",
              "    }\n",
              "</style>\n",
              "<table border=\"1\" class=\"dataframe\">\n",
              "  <thead>\n",
              "    <tr style=\"text-align: right;\">\n",
              "      <th></th>\n",
              "      <th>Age</th>\n",
              "      <th>Annual Income</th>\n",
              "      <th>Spending Score</th>\n",
              "      <th>Gender</th>\n",
              "      <th>label</th>\n",
              "    </tr>\n",
              "  </thead>\n",
              "  <tbody>\n",
              "    <tr>\n",
              "      <th>0</th>\n",
              "      <td>19.0</td>\n",
              "      <td>15.0</td>\n",
              "      <td>39.0</td>\n",
              "      <td>1</td>\n",
              "      <td>3</td>\n",
              "    </tr>\n",
              "    <tr>\n",
              "      <th>1</th>\n",
              "      <td>21.0</td>\n",
              "      <td>15.0</td>\n",
              "      <td>81.0</td>\n",
              "      <td>1</td>\n",
              "      <td>3</td>\n",
              "    </tr>\n",
              "    <tr>\n",
              "      <th>2</th>\n",
              "      <td>20.0</td>\n",
              "      <td>16.0</td>\n",
              "      <td>6.0</td>\n",
              "      <td>0</td>\n",
              "      <td>4</td>\n",
              "    </tr>\n",
              "    <tr>\n",
              "      <th>3</th>\n",
              "      <td>23.0</td>\n",
              "      <td>16.0</td>\n",
              "      <td>77.0</td>\n",
              "      <td>0</td>\n",
              "      <td>3</td>\n",
              "    </tr>\n",
              "    <tr>\n",
              "      <th>4</th>\n",
              "      <td>31.0</td>\n",
              "      <td>17.0</td>\n",
              "      <td>40.0</td>\n",
              "      <td>0</td>\n",
              "      <td>4</td>\n",
              "    </tr>\n",
              "  </tbody>\n",
              "</table>\n",
              "</div>"
            ],
            "text/plain": [
              "    Age  Annual Income  Spending Score  Gender  label\n",
              "0  19.0           15.0            39.0       1      3\n",
              "1  21.0           15.0            81.0       1      3\n",
              "2  20.0           16.0             6.0       0      4\n",
              "3  23.0           16.0            77.0       0      3\n",
              "4  31.0           17.0            40.0       0      4"
            ]
          },
          "metadata": {
            "tags": []
          },
          "execution_count": 55
        }
      ]
    },
    {
      "cell_type": "code",
      "metadata": {
        "id": "TJzBF5d1jpoA",
        "outputId": "236b7656-3a7a-43d7-d47a-167315aec1cd",
        "colab": {
          "base_uri": "https://localhost:8080/",
          "height": 194
        }
      },
      "source": [
        "clust_data['Gender'] = lb_make.inverse_transform(clust_data['Gender'])\n",
        "clust_data.head()"
      ],
      "execution_count": 56,
      "outputs": [
        {
          "output_type": "execute_result",
          "data": {
            "text/html": [
              "<div>\n",
              "<style scoped>\n",
              "    .dataframe tbody tr th:only-of-type {\n",
              "        vertical-align: middle;\n",
              "    }\n",
              "\n",
              "    .dataframe tbody tr th {\n",
              "        vertical-align: top;\n",
              "    }\n",
              "\n",
              "    .dataframe thead th {\n",
              "        text-align: right;\n",
              "    }\n",
              "</style>\n",
              "<table border=\"1\" class=\"dataframe\">\n",
              "  <thead>\n",
              "    <tr style=\"text-align: right;\">\n",
              "      <th></th>\n",
              "      <th>Age</th>\n",
              "      <th>Annual Income</th>\n",
              "      <th>Spending Score</th>\n",
              "      <th>Gender</th>\n",
              "      <th>label</th>\n",
              "    </tr>\n",
              "  </thead>\n",
              "  <tbody>\n",
              "    <tr>\n",
              "      <th>0</th>\n",
              "      <td>19.0</td>\n",
              "      <td>15.0</td>\n",
              "      <td>39.0</td>\n",
              "      <td>Male</td>\n",
              "      <td>3</td>\n",
              "    </tr>\n",
              "    <tr>\n",
              "      <th>1</th>\n",
              "      <td>21.0</td>\n",
              "      <td>15.0</td>\n",
              "      <td>81.0</td>\n",
              "      <td>Male</td>\n",
              "      <td>3</td>\n",
              "    </tr>\n",
              "    <tr>\n",
              "      <th>2</th>\n",
              "      <td>20.0</td>\n",
              "      <td>16.0</td>\n",
              "      <td>6.0</td>\n",
              "      <td>Female</td>\n",
              "      <td>4</td>\n",
              "    </tr>\n",
              "    <tr>\n",
              "      <th>3</th>\n",
              "      <td>23.0</td>\n",
              "      <td>16.0</td>\n",
              "      <td>77.0</td>\n",
              "      <td>Female</td>\n",
              "      <td>3</td>\n",
              "    </tr>\n",
              "    <tr>\n",
              "      <th>4</th>\n",
              "      <td>31.0</td>\n",
              "      <td>17.0</td>\n",
              "      <td>40.0</td>\n",
              "      <td>Female</td>\n",
              "      <td>4</td>\n",
              "    </tr>\n",
              "  </tbody>\n",
              "</table>\n",
              "</div>"
            ],
            "text/plain": [
              "    Age  Annual Income  Spending Score  Gender  label\n",
              "0  19.0           15.0            39.0    Male      3\n",
              "1  21.0           15.0            81.0    Male      3\n",
              "2  20.0           16.0             6.0  Female      4\n",
              "3  23.0           16.0            77.0  Female      3\n",
              "4  31.0           17.0            40.0  Female      4"
            ]
          },
          "metadata": {
            "tags": []
          },
          "execution_count": 56
        }
      ]
    },
    {
      "cell_type": "code",
      "metadata": {
        "id": "IUCKaIkbc9W7",
        "outputId": "fa3e503d-47a8-43aa-bae8-78033d68b179",
        "colab": {
          "base_uri": "https://localhost:8080/",
          "height": 0
        }
      },
      "source": [
        "# Visualising Clusters for k=6\n",
        "fig = px.scatter_3d(clust_data, x='Age', y='Annual Income', z='Spending Score',color='label', symbol='Gender',size_max=18, opacity=0.7)\n",
        "\n",
        "# tight layout\n",
        "fig.update_layout(margin=dict(l=0, r=0, b=0, t=0))"
      ],
      "execution_count": 57,
      "outputs": [
        {
          "output_type": "display_data",
          "data": {
            "text/html": [
              "<html>\n",
              "<head><meta charset=\"utf-8\" /></head>\n",
              "<body>\n",
              "    <div>\n",
              "            <script src=\"https://cdnjs.cloudflare.com/ajax/libs/mathjax/2.7.5/MathJax.js?config=TeX-AMS-MML_SVG\"></script><script type=\"text/javascript\">if (window.MathJax) {MathJax.Hub.Config({SVG: {font: \"STIX-Web\"}});}</script>\n",
              "                <script type=\"text/javascript\">window.PlotlyConfig = {MathJaxConfig: 'local'};</script>\n",
              "        <script src=\"https://cdn.plot.ly/plotly-latest.min.js\"></script>    \n",
              "            <div id=\"55775a11-716d-446b-8d12-9464497de71e\" class=\"plotly-graph-div\" style=\"height:525px; width:100%;\"></div>\n",
              "            <script type=\"text/javascript\">\n",
              "                \n",
              "                    window.PLOTLYENV=window.PLOTLYENV || {};\n",
              "                    \n",
              "                if (document.getElementById(\"55775a11-716d-446b-8d12-9464497de71e\")) {\n",
              "                    Plotly.newPlot(\n",
              "                        '55775a11-716d-446b-8d12-9464497de71e',\n",
              "                        [{\"hoverlabel\": {\"namelength\": 0}, \"hovertemplate\": \"Gender=Male<br>Age=%{x}<br>Annual Income=%{y}<br>Spending Score=%{z}<br>label=%{marker.color}\", \"legendgroup\": \"Gender=Male\", \"marker\": {\"color\": [3, 3, 4, 4, 4, 3, 3, 4, 4, 3, 3, 3, 3, 4, 4, 3, 3, 4, 5, 0, 0, 0, 0, 0, 5, 0, 5, 5, 0, 0, 5, 5, 0, 5, 0, 0, 5, 0, 5, 0, 5, 0, 5, 0, 0, 0, 0, 0, 5, 5, 1, 2, 1, 2, 1, 2, 1, 2, 1, 2, 1, 2, 1, 2, 1, 2, 1, 2, 2, 2, 2, 2, 1, 2, 1, 2, 1, 2, 1, 2, 1, 2, 1, 1, 2, 1, 2, 1], \"coloraxis\": \"coloraxis\", \"opacity\": 0.7, \"symbol\": \"circle\"}, \"mode\": \"markers\", \"name\": \"Gender=Male\", \"scene\": \"scene\", \"showlegend\": true, \"type\": \"scatter3d\", \"x\": [19.0, 21.0, 64.0, 67.0, 37.0, 22.0, 20.0, 52.0, 35.0, 25.0, 31.0, 29.0, 35.0, 60.0, 53.0, 18.0, 24.0, 48.0, 33.0, 59.0, 47.0, 69.0, 53.0, 70.0, 19.0, 63.0, 18.0, 19.0, 70.0, 59.0, 26.0, 40.0, 57.0, 38.0, 67.0, 48.0, 18.0, 48.0, 24.0, 48.0, 20.0, 67.0, 26.0, 49.0, 54.0, 68.0, 66.0, 65.0, 19.0, 27.0, 39.0, 43.0, 40.0, 59.0, 38.0, 47.0, 39.0, 20.0, 32.0, 19.0, 32.0, 25.0, 28.0, 48.0, 34.0, 43.0, 39.0, 37.0, 34.0, 19.0, 50.0, 42.0, 32.0, 40.0, 28.0, 36.0, 36.0, 58.0, 27.0, 59.0, 35.0, 46.0, 30.0, 28.0, 33.0, 32.0, 32.0, 30.0], \"y\": [15.0, 15.0, 19.0, 19.0, 20.0, 20.0, 21.0, 23.0, 24.0, 24.0, 25.0, 28.0, 28.0, 30.000000000000004, 33.0, 33.0, 38.0, 39.0, 42.0, 43.0, 43.0, 44.0, 46.0, 46.0, 46.0, 48.0, 48.0, 48.0, 49.0, 54.0, 54.0, 54.0, 54.0, 54.0, 54.0, 54.0, 59.0, 60.0, 60.0, 61.0, 61.0, 62.0, 62.0, 62.0, 63.0, 63.0, 63.0, 63.0, 64.0, 67.0, 69.0, 71.0, 71.0, 71.0, 71.0, 71.0, 71.0, 73.0, 73.0, 74.0, 75.0, 77.0, 77.0, 77.0, 78.0, 78.0, 78.0, 78.0, 78.0, 81.0, 85.0, 86.0, 87.0, 87.0, 87.0, 87.0, 87.0, 88.0, 88.0, 93.0, 93.0, 98.0, 99.0, 101.0, 113.0, 126.0, 137.0, 137.0], \"z\": [39.0, 81.0, 3.0, 14.0, 13.0, 79.0, 66.0, 29.0, 35.0, 73.0, 73.0, 82.0, 61.0, 4.0, 4.0, 92.0, 92.0, 36.0, 60.0, 60.0, 41.0, 46.0, 46.0, 56.0, 55.0, 51.0, 59.0, 59.0, 55.0, 47.0, 54.0, 48.0, 51.0, 55.0, 41.0, 46.0, 41.0, 49.0, 52.0, 42.0, 49.0, 59.0, 55.0, 56.0, 46.0, 43.0, 48.0, 52.0, 46.0, 56.0, 91.0, 35.0, 95.0, 11.0, 75.0, 9.0, 75.0, 5.0, 73.0, 10.0, 93.0, 12.0, 97.0, 36.0, 90.0, 17.0, 88.0, 1.0, 1.0, 5.0, 26.0, 20.0, 63.0, 13.0, 75.0, 10.0, 92.0, 15.0, 69.0, 14.0, 90.0, 15.0, 97.0, 68.0, 8.0, 74.0, 18.0, 83.0]}, {\"hoverlabel\": {\"namelength\": 0}, \"hovertemplate\": \"Gender=Female<br>Age=%{x}<br>Annual Income=%{y}<br>Spending Score=%{z}<br>label=%{marker.color}\", \"legendgroup\": \"Gender=Female\", \"marker\": {\"color\": [4, 3, 4, 3, 4, 3, 3, 3, 4, 3, 4, 3, 4, 4, 4, 4, 3, 3, 4, 3, 4, 3, 4, 3, 0, 5, 4, 3, 0, 5, 5, 5, 0, 5, 0, 0, 5, 0, 0, 0, 0, 5, 0, 0, 0, 0, 5, 0, 0, 5, 0, 5, 5, 0, 0, 5, 5, 0, 5, 5, 0, 5, 0, 5, 5, 5, 5, 0, 0, 0, 0, 5, 5, 5, 1, 5, 1, 1, 2, 1, 2, 5, 1, 1, 2, 2, 1, 2, 1, 1, 1, 0, 1, 1, 1, 1, 2, 2, 1, 2, 1, 1, 2, 2, 2, 1, 2, 1, 1, 2, 1, 2], \"coloraxis\": \"coloraxis\", \"opacity\": 0.7, \"symbol\": \"diamond\"}, \"mode\": \"markers\", \"name\": \"Gender=Female\", \"scene\": \"scene\", \"showlegend\": true, \"type\": \"scatter3d\", \"x\": [20.0, 23.0, 31.0, 22.0, 35.0, 23.0, 30.0, 35.0, 58.0, 24.0, 35.0, 35.0, 46.0, 54.0, 45.0, 40.0, 23.0, 21.0, 49.0, 21.0, 42.0, 30.0, 36.0, 20.0, 65.0, 31.0, 49.0, 24.0, 50.0, 27.0, 29.0, 31.0, 49.0, 31.0, 50.0, 51.0, 27.0, 67.0, 54.0, 43.0, 68.0, 32.0, 47.0, 60.0, 60.0, 45.0, 23.0, 49.0, 46.0, 21.0, 55.0, 22.0, 34.0, 50.0, 68.0, 40.0, 32.0, 47.0, 27.0, 23.0, 49.0, 21.0, 66.0, 19.0, 38.0, 18.0, 19.0, 63.0, 49.0, 51.0, 50.0, 38.0, 40.0, 23.0, 31.0, 25.0, 31.0, 29.0, 44.0, 35.0, 57.0, 28.0, 32.0, 32.0, 34.0, 44.0, 38.0, 47.0, 27.0, 30.0, 30.0, 56.0, 29.0, 31.0, 36.0, 33.0, 36.0, 52.0, 30.0, 37.0, 32.0, 29.0, 41.0, 54.0, 41.0, 36.0, 34.0, 32.0, 38.0, 47.0, 35.0, 45.0], \"y\": [16.0, 16.0, 17.0, 17.0, 18.0, 18.0, 19.0, 19.0, 20.0, 20.0, 21.0, 23.0, 25.0, 28.0, 28.0, 29.0, 29.0, 30.000000000000004, 33.0, 33.0, 34.0, 34.0, 37.0, 37.0, 38.0, 39.0, 39.0, 39.0, 40.0, 40.0, 40.0, 40.0, 42.0, 43.0, 43.0, 44.0, 46.0, 47.0, 47.0, 48.0, 48.0, 48.0, 49.0, 50.0, 50.0, 54.0, 54.0, 54.0, 54.0, 54.0, 57.0, 57.0, 58.0, 58.0, 59.0, 60.0, 60.0, 60.0, 60.0, 62.0, 62.0, 62.0, 63.0, 63.0, 64.0, 65.0, 65.0, 65.0, 65.0, 67.0, 67.0, 67.0, 69.0, 70.0, 70.0, 72.0, 72.0, 73.0, 73.0, 74.0, 75.0, 76.0, 76.0, 77.0, 78.0, 78.0, 78.0, 78.0, 78.0, 78.0, 78.0, 79.0, 79.0, 81.0, 85.0, 86.0, 87.0, 88.0, 88.0, 97.0, 97.0, 98.0, 99.0, 101.0, 103.0, 103.0, 103.0, 103.0, 113.0, 120.0, 120.0, 126.0], \"z\": [6.0, 77.0, 40.0, 76.0, 6.0, 94.0, 72.0, 99.0, 15.0, 77.0, 35.0, 98.0, 5.0, 14.0, 32.0, 31.0, 87.0, 73.0, 14.0, 81.0, 17.0, 73.0, 26.0, 75.0, 35.0, 61.0, 28.0, 65.0, 55.0, 47.0, 42.0, 42.0, 52.0, 54.0, 45.0, 50.0, 51.0, 52.0, 59.0, 50.0, 48.0, 47.0, 42.0, 49.0, 56.0, 53.0, 52.0, 42.0, 44.0, 57.0, 58.0, 55.0, 60.0, 46.0, 55.0, 40.0, 42.0, 47.0, 50.0, 41.0, 48.0, 42.0, 50.0, 54.0, 42.0, 48.0, 50.0, 43.0, 59.0, 43.0, 57.0, 40.0, 58.0, 29.0, 77.0, 34.0, 71.0, 88.0, 7.0, 72.0, 5.0, 40.0, 87.0, 74.0, 22.000000000000004, 20.0, 76.0, 16.0, 89.0, 78.0, 73.0, 35.0, 83.0, 93.0, 75.0, 95.0, 27.0, 13.0, 86.0, 32.0, 86.0, 88.0, 39.0, 24.000000000000004, 17.0, 85.0, 23.0, 69.0, 91.0, 16.0, 79.0, 28.0]}],\n",
              "                        {\"coloraxis\": {\"colorbar\": {\"title\": {\"text\": \"label\"}}, \"colorscale\": [[0.0, \"#0d0887\"], [0.1111111111111111, \"#46039f\"], [0.2222222222222222, \"#7201a8\"], [0.3333333333333333, \"#9c179e\"], [0.4444444444444444, \"#bd3786\"], [0.5555555555555556, \"#d8576b\"], [0.6666666666666666, \"#ed7953\"], [0.7777777777777778, \"#fb9f3a\"], [0.8888888888888888, \"#fdca26\"], [1.0, \"#f0f921\"]]}, \"legend\": {\"tracegroupgap\": 0}, \"margin\": {\"b\": 0, \"l\": 0, \"r\": 0, \"t\": 0}, \"scene\": {\"domain\": {\"x\": [0.0, 1.0], \"y\": [0.0, 1.0]}, \"xaxis\": {\"title\": {\"text\": \"Age\"}}, \"yaxis\": {\"title\": {\"text\": \"Annual Income\"}}, \"zaxis\": {\"title\": {\"text\": \"Spending Score\"}}}, \"template\": {\"data\": {\"bar\": [{\"error_x\": {\"color\": \"#2a3f5f\"}, \"error_y\": {\"color\": \"#2a3f5f\"}, \"marker\": {\"line\": {\"color\": \"#E5ECF6\", \"width\": 0.5}}, \"type\": \"bar\"}], \"barpolar\": [{\"marker\": {\"line\": {\"color\": \"#E5ECF6\", \"width\": 0.5}}, \"type\": \"barpolar\"}], \"carpet\": [{\"aaxis\": {\"endlinecolor\": \"#2a3f5f\", \"gridcolor\": \"white\", \"linecolor\": \"white\", \"minorgridcolor\": \"white\", \"startlinecolor\": \"#2a3f5f\"}, \"baxis\": {\"endlinecolor\": \"#2a3f5f\", \"gridcolor\": \"white\", \"linecolor\": \"white\", \"minorgridcolor\": \"white\", \"startlinecolor\": \"#2a3f5f\"}, \"type\": \"carpet\"}], \"choropleth\": [{\"colorbar\": {\"outlinewidth\": 0, \"ticks\": \"\"}, \"type\": \"choropleth\"}], \"contour\": [{\"colorbar\": {\"outlinewidth\": 0, \"ticks\": \"\"}, \"colorscale\": [[0.0, \"#0d0887\"], [0.1111111111111111, \"#46039f\"], [0.2222222222222222, \"#7201a8\"], [0.3333333333333333, \"#9c179e\"], [0.4444444444444444, \"#bd3786\"], [0.5555555555555556, \"#d8576b\"], [0.6666666666666666, \"#ed7953\"], [0.7777777777777778, \"#fb9f3a\"], [0.8888888888888888, \"#fdca26\"], [1.0, \"#f0f921\"]], \"type\": \"contour\"}], \"contourcarpet\": [{\"colorbar\": {\"outlinewidth\": 0, \"ticks\": \"\"}, \"type\": \"contourcarpet\"}], \"heatmap\": [{\"colorbar\": {\"outlinewidth\": 0, \"ticks\": \"\"}, \"colorscale\": [[0.0, \"#0d0887\"], [0.1111111111111111, \"#46039f\"], [0.2222222222222222, \"#7201a8\"], [0.3333333333333333, \"#9c179e\"], [0.4444444444444444, \"#bd3786\"], [0.5555555555555556, \"#d8576b\"], [0.6666666666666666, \"#ed7953\"], [0.7777777777777778, \"#fb9f3a\"], [0.8888888888888888, \"#fdca26\"], [1.0, \"#f0f921\"]], \"type\": \"heatmap\"}], \"heatmapgl\": [{\"colorbar\": {\"outlinewidth\": 0, \"ticks\": \"\"}, \"colorscale\": [[0.0, \"#0d0887\"], [0.1111111111111111, \"#46039f\"], [0.2222222222222222, \"#7201a8\"], [0.3333333333333333, \"#9c179e\"], [0.4444444444444444, \"#bd3786\"], [0.5555555555555556, \"#d8576b\"], [0.6666666666666666, \"#ed7953\"], [0.7777777777777778, \"#fb9f3a\"], [0.8888888888888888, \"#fdca26\"], [1.0, \"#f0f921\"]], \"type\": \"heatmapgl\"}], \"histogram\": [{\"marker\": {\"colorbar\": {\"outlinewidth\": 0, \"ticks\": \"\"}}, \"type\": \"histogram\"}], \"histogram2d\": [{\"colorbar\": {\"outlinewidth\": 0, \"ticks\": \"\"}, \"colorscale\": [[0.0, \"#0d0887\"], [0.1111111111111111, \"#46039f\"], [0.2222222222222222, \"#7201a8\"], [0.3333333333333333, \"#9c179e\"], [0.4444444444444444, \"#bd3786\"], [0.5555555555555556, \"#d8576b\"], [0.6666666666666666, \"#ed7953\"], [0.7777777777777778, \"#fb9f3a\"], [0.8888888888888888, \"#fdca26\"], [1.0, \"#f0f921\"]], \"type\": \"histogram2d\"}], \"histogram2dcontour\": [{\"colorbar\": {\"outlinewidth\": 0, \"ticks\": \"\"}, \"colorscale\": [[0.0, \"#0d0887\"], [0.1111111111111111, \"#46039f\"], [0.2222222222222222, \"#7201a8\"], [0.3333333333333333, \"#9c179e\"], [0.4444444444444444, \"#bd3786\"], [0.5555555555555556, \"#d8576b\"], [0.6666666666666666, \"#ed7953\"], [0.7777777777777778, \"#fb9f3a\"], [0.8888888888888888, \"#fdca26\"], [1.0, \"#f0f921\"]], \"type\": \"histogram2dcontour\"}], \"mesh3d\": [{\"colorbar\": {\"outlinewidth\": 0, \"ticks\": \"\"}, \"type\": \"mesh3d\"}], \"parcoords\": [{\"line\": {\"colorbar\": {\"outlinewidth\": 0, \"ticks\": \"\"}}, \"type\": \"parcoords\"}], \"pie\": [{\"automargin\": true, \"type\": \"pie\"}], \"scatter\": [{\"marker\": {\"colorbar\": {\"outlinewidth\": 0, \"ticks\": \"\"}}, \"type\": \"scatter\"}], \"scatter3d\": [{\"line\": {\"colorbar\": {\"outlinewidth\": 0, \"ticks\": \"\"}}, \"marker\": {\"colorbar\": {\"outlinewidth\": 0, \"ticks\": \"\"}}, \"type\": \"scatter3d\"}], \"scattercarpet\": [{\"marker\": {\"colorbar\": {\"outlinewidth\": 0, \"ticks\": \"\"}}, \"type\": \"scattercarpet\"}], \"scattergeo\": [{\"marker\": {\"colorbar\": {\"outlinewidth\": 0, \"ticks\": \"\"}}, \"type\": \"scattergeo\"}], \"scattergl\": [{\"marker\": {\"colorbar\": {\"outlinewidth\": 0, \"ticks\": \"\"}}, \"type\": \"scattergl\"}], \"scattermapbox\": [{\"marker\": {\"colorbar\": {\"outlinewidth\": 0, \"ticks\": \"\"}}, \"type\": \"scattermapbox\"}], \"scatterpolar\": [{\"marker\": {\"colorbar\": {\"outlinewidth\": 0, \"ticks\": \"\"}}, \"type\": \"scatterpolar\"}], \"scatterpolargl\": [{\"marker\": {\"colorbar\": {\"outlinewidth\": 0, \"ticks\": \"\"}}, \"type\": \"scatterpolargl\"}], \"scatterternary\": [{\"marker\": {\"colorbar\": {\"outlinewidth\": 0, \"ticks\": \"\"}}, \"type\": \"scatterternary\"}], \"surface\": [{\"colorbar\": {\"outlinewidth\": 0, \"ticks\": \"\"}, \"colorscale\": [[0.0, \"#0d0887\"], [0.1111111111111111, \"#46039f\"], [0.2222222222222222, \"#7201a8\"], [0.3333333333333333, \"#9c179e\"], [0.4444444444444444, \"#bd3786\"], [0.5555555555555556, \"#d8576b\"], [0.6666666666666666, \"#ed7953\"], [0.7777777777777778, \"#fb9f3a\"], [0.8888888888888888, \"#fdca26\"], [1.0, \"#f0f921\"]], \"type\": \"surface\"}], \"table\": [{\"cells\": {\"fill\": {\"color\": \"#EBF0F8\"}, \"line\": {\"color\": \"white\"}}, \"header\": {\"fill\": {\"color\": \"#C8D4E3\"}, \"line\": {\"color\": \"white\"}}, \"type\": \"table\"}]}, \"layout\": {\"annotationdefaults\": {\"arrowcolor\": \"#2a3f5f\", \"arrowhead\": 0, \"arrowwidth\": 1}, \"coloraxis\": {\"colorbar\": {\"outlinewidth\": 0, \"ticks\": \"\"}}, \"colorscale\": {\"diverging\": [[0, \"#8e0152\"], [0.1, \"#c51b7d\"], [0.2, \"#de77ae\"], [0.3, \"#f1b6da\"], [0.4, \"#fde0ef\"], [0.5, \"#f7f7f7\"], [0.6, \"#e6f5d0\"], [0.7, \"#b8e186\"], [0.8, \"#7fbc41\"], [0.9, \"#4d9221\"], [1, \"#276419\"]], \"sequential\": [[0.0, \"#0d0887\"], [0.1111111111111111, \"#46039f\"], [0.2222222222222222, \"#7201a8\"], [0.3333333333333333, \"#9c179e\"], [0.4444444444444444, \"#bd3786\"], [0.5555555555555556, \"#d8576b\"], [0.6666666666666666, \"#ed7953\"], [0.7777777777777778, \"#fb9f3a\"], [0.8888888888888888, \"#fdca26\"], [1.0, \"#f0f921\"]], \"sequentialminus\": [[0.0, \"#0d0887\"], [0.1111111111111111, \"#46039f\"], [0.2222222222222222, \"#7201a8\"], [0.3333333333333333, \"#9c179e\"], [0.4444444444444444, \"#bd3786\"], [0.5555555555555556, \"#d8576b\"], [0.6666666666666666, \"#ed7953\"], [0.7777777777777778, \"#fb9f3a\"], [0.8888888888888888, \"#fdca26\"], [1.0, \"#f0f921\"]]}, \"colorway\": [\"#636efa\", \"#EF553B\", \"#00cc96\", \"#ab63fa\", \"#FFA15A\", \"#19d3f3\", \"#FF6692\", \"#B6E880\", \"#FF97FF\", \"#FECB52\"], \"font\": {\"color\": \"#2a3f5f\"}, \"geo\": {\"bgcolor\": \"white\", \"lakecolor\": \"white\", \"landcolor\": \"#E5ECF6\", \"showlakes\": true, \"showland\": true, \"subunitcolor\": \"white\"}, \"hoverlabel\": {\"align\": \"left\"}, \"hovermode\": \"closest\", \"mapbox\": {\"style\": \"light\"}, \"paper_bgcolor\": \"white\", \"plot_bgcolor\": \"#E5ECF6\", \"polar\": {\"angularaxis\": {\"gridcolor\": \"white\", \"linecolor\": \"white\", \"ticks\": \"\"}, \"bgcolor\": \"#E5ECF6\", \"radialaxis\": {\"gridcolor\": \"white\", \"linecolor\": \"white\", \"ticks\": \"\"}}, \"scene\": {\"xaxis\": {\"backgroundcolor\": \"#E5ECF6\", \"gridcolor\": \"white\", \"gridwidth\": 2, \"linecolor\": \"white\", \"showbackground\": true, \"ticks\": \"\", \"zerolinecolor\": \"white\"}, \"yaxis\": {\"backgroundcolor\": \"#E5ECF6\", \"gridcolor\": \"white\", \"gridwidth\": 2, \"linecolor\": \"white\", \"showbackground\": true, \"ticks\": \"\", \"zerolinecolor\": \"white\"}, \"zaxis\": {\"backgroundcolor\": \"#E5ECF6\", \"gridcolor\": \"white\", \"gridwidth\": 2, \"linecolor\": \"white\", \"showbackground\": true, \"ticks\": \"\", \"zerolinecolor\": \"white\"}}, \"shapedefaults\": {\"line\": {\"color\": \"#2a3f5f\"}}, \"ternary\": {\"aaxis\": {\"gridcolor\": \"white\", \"linecolor\": \"white\", \"ticks\": \"\"}, \"baxis\": {\"gridcolor\": \"white\", \"linecolor\": \"white\", \"ticks\": \"\"}, \"bgcolor\": \"#E5ECF6\", \"caxis\": {\"gridcolor\": \"white\", \"linecolor\": \"white\", \"ticks\": \"\"}}, \"title\": {\"x\": 0.05}, \"xaxis\": {\"automargin\": true, \"gridcolor\": \"white\", \"linecolor\": \"white\", \"ticks\": \"\", \"title\": {\"standoff\": 15}, \"zerolinecolor\": \"white\", \"zerolinewidth\": 2}, \"yaxis\": {\"automargin\": true, \"gridcolor\": \"white\", \"linecolor\": \"white\", \"ticks\": \"\", \"title\": {\"standoff\": 15}, \"zerolinecolor\": \"white\", \"zerolinewidth\": 2}}}},\n",
              "                        {\"responsive\": true}\n",
              "                    ).then(function(){\n",
              "                            \n",
              "var gd = document.getElementById('55775a11-716d-446b-8d12-9464497de71e');\n",
              "var x = new MutationObserver(function (mutations, observer) {{\n",
              "        var display = window.getComputedStyle(gd).display;\n",
              "        if (!display || display === 'none') {{\n",
              "            console.log([gd, 'removed!']);\n",
              "            Plotly.purge(gd);\n",
              "            observer.disconnect();\n",
              "        }}\n",
              "}});\n",
              "\n",
              "// Listen for the removal of the full notebook cells\n",
              "var notebookContainer = gd.closest('#notebook-container');\n",
              "if (notebookContainer) {{\n",
              "    x.observe(notebookContainer, {childList: true});\n",
              "}}\n",
              "\n",
              "// Listen for the clearing of the current output cell\n",
              "var outputEl = gd.closest('.output');\n",
              "if (outputEl) {{\n",
              "    x.observe(outputEl, {childList: true});\n",
              "}}\n",
              "\n",
              "                        })\n",
              "                };\n",
              "                \n",
              "            </script>\n",
              "        </div>\n",
              "</body>\n",
              "</html>"
            ]
          },
          "metadata": {
            "tags": []
          }
        }
      ]
    },
    {
      "cell_type": "code",
      "metadata": {
        "id": "2BPF49NGeKS0",
        "outputId": "1faf87eb-472c-4bf5-c0fc-082b8f513d95",
        "colab": {
          "base_uri": "https://localhost:8080/",
          "height": 457
        }
      },
      "source": [
        "print(clust_data['label'].value_counts())\n",
        "print('\\n')\n",
        "sns.countplot(x='label', data=clust_data)"
      ],
      "execution_count": 58,
      "outputs": [
        {
          "output_type": "stream",
          "text": [
            "0    45\n",
            "1    39\n",
            "5    38\n",
            "2    34\n",
            "3    23\n",
            "4    21\n",
            "Name: label, dtype: int64\n",
            "\n",
            "\n"
          ],
          "name": "stdout"
        },
        {
          "output_type": "execute_result",
          "data": {
            "text/plain": [
              "<matplotlib.axes._subplots.AxesSubplot at 0x7f561cc5afd0>"
            ]
          },
          "metadata": {
            "tags": []
          },
          "execution_count": 58
        },
        {
          "output_type": "display_data",
          "data": {
            "image/png": "[encoded data removed]",
            "text/plain": [
              "<Figure size 432x288 with 1 Axes>"
            ]
          },
          "metadata": {
            "tags": [],
            "needs_background": "light"
          }
        }
      ]
    },
    {
      "cell_type": "code",
      "metadata": {
        "id": "7Mi5gGRrnT-e",
        "outputId": "f1ddfb2d-af32-4466-e348-3be9178ab6ff",
        "colab": {
          "base_uri": "https://localhost:8080/",
          "height": 279
        }
      },
      "source": [
        "ax = sns.countplot(x=\"label\", hue=\"Gender\", data=clust_data)"
      ],
      "execution_count": 59,
      "outputs": [
        {
          "output_type": "display_data",
          "data": {
            "image/png": "[encoded data removed]",
            "text/plain": [
              "<Figure size 432x288 with 1 Axes>"
            ]
          },
          "metadata": {
            "tags": [],
            "needs_background": "light"
          }
        }
      ]
    },
    {
      "cell_type": "code",
      "metadata": {
        "id": "APscyRCMgf8H",
        "outputId": "1c66255a-05bc-4537-b9cc-21fdfaca2a70",
        "colab": {
          "base_uri": "https://localhost:8080/",
          "height": 542
        }
      },
      "source": [
        "fig = px.scatter(clust_data, x=\"Age\", y=\"label\",color=\"Gender\")\n",
        "fig.show()"
      ],
      "execution_count": 60,
      "outputs": [
        {
          "output_type": "display_data",
          "data": {
            "text/html": [
              "<html>\n",
              "<head><meta charset=\"utf-8\" /></head>\n",
              "<body>\n",
              "    <div>\n",
              "            <script src=\"https://cdnjs.cloudflare.com/ajax/libs/mathjax/2.7.5/MathJax.js?config=TeX-AMS-MML_SVG\"></script><script type=\"text/javascript\">if (window.MathJax) {MathJax.Hub.Config({SVG: {font: \"STIX-Web\"}});}</script>\n",
              "                <script type=\"text/javascript\">window.PlotlyConfig = {MathJaxConfig: 'local'};</script>\n",
              "        <script src=\"https://cdn.plot.ly/plotly-latest.min.js\"></script>    \n",
              "            <div id=\"a56f68d4-ecd6-4344-8577-b598ef4cba21\" class=\"plotly-graph-div\" style=\"height:525px; width:100%;\"></div>\n",
              "            <script type=\"text/javascript\">\n",
              "                \n",
              "                    window.PLOTLYENV=window.PLOTLYENV || {};\n",
              "                    \n",
              "                if (document.getElementById(\"a56f68d4-ecd6-4344-8577-b598ef4cba21\")) {\n",
              "                    Plotly.newPlot(\n",
              "                        'a56f68d4-ecd6-4344-8577-b598ef4cba21',\n",
              "                        [{\"hoverlabel\": {\"namelength\": 0}, \"hovertemplate\": \"Gender=Male<br>Age=%{x}<br>label=%{y}\", \"legendgroup\": \"Gender=Male\", \"marker\": {\"color\": \"#636efa\", \"symbol\": \"circle\"}, \"mode\": \"markers\", \"name\": \"Gender=Male\", \"showlegend\": true, \"type\": \"scatter\", \"x\": [19.0, 21.0, 64.0, 67.0, 37.0, 22.0, 20.0, 52.0, 35.0, 25.0, 31.0, 29.0, 35.0, 60.0, 53.0, 18.0, 24.0, 48.0, 33.0, 59.0, 47.0, 69.0, 53.0, 70.0, 19.0, 63.0, 18.0, 19.0, 70.0, 59.0, 26.0, 40.0, 57.0, 38.0, 67.0, 48.0, 18.0, 48.0, 24.0, 48.0, 20.0, 67.0, 26.0, 49.0, 54.0, 68.0, 66.0, 65.0, 19.0, 27.0, 39.0, 43.0, 40.0, 59.0, 38.0, 47.0, 39.0, 20.0, 32.0, 19.0, 32.0, 25.0, 28.0, 48.0, 34.0, 43.0, 39.0, 37.0, 34.0, 19.0, 50.0, 42.0, 32.0, 40.0, 28.0, 36.0, 36.0, 58.0, 27.0, 59.0, 35.0, 46.0, 30.0, 28.0, 33.0, 32.0, 32.0, 30.0], \"xaxis\": \"x\", \"y\": [3, 3, 4, 4, 4, 3, 3, 4, 4, 3, 3, 3, 3, 4, 4, 3, 3, 4, 5, 0, 0, 0, 0, 0, 5, 0, 5, 5, 0, 0, 5, 5, 0, 5, 0, 0, 5, 0, 5, 0, 5, 0, 5, 0, 0, 0, 0, 0, 5, 5, 1, 2, 1, 2, 1, 2, 1, 2, 1, 2, 1, 2, 1, 2, 1, 2, 1, 2, 2, 2, 2, 2, 1, 2, 1, 2, 1, 2, 1, 2, 1, 2, 1, 1, 2, 1, 2, 1], \"yaxis\": \"y\"}, {\"hoverlabel\": {\"namelength\": 0}, \"hovertemplate\": \"Gender=Female<br>Age=%{x}<br>label=%{y}\", \"legendgroup\": \"Gender=Female\", \"marker\": {\"color\": \"#EF553B\", \"symbol\": \"circle\"}, \"mode\": \"markers\", \"name\": \"Gender=Female\", \"showlegend\": true, \"type\": \"scatter\", \"x\": [20.0, 23.0, 31.0, 22.0, 35.0, 23.0, 30.0, 35.0, 58.0, 24.0, 35.0, 35.0, 46.0, 54.0, 45.0, 40.0, 23.0, 21.0, 49.0, 21.0, 42.0, 30.0, 36.0, 20.0, 65.0, 31.0, 49.0, 24.0, 50.0, 27.0, 29.0, 31.0, 49.0, 31.0, 50.0, 51.0, 27.0, 67.0, 54.0, 43.0, 68.0, 32.0, 47.0, 60.0, 60.0, 45.0, 23.0, 49.0, 46.0, 21.0, 55.0, 22.0, 34.0, 50.0, 68.0, 40.0, 32.0, 47.0, 27.0, 23.0, 49.0, 21.0, 66.0, 19.0, 38.0, 18.0, 19.0, 63.0, 49.0, 51.0, 50.0, 38.0, 40.0, 23.0, 31.0, 25.0, 31.0, 29.0, 44.0, 35.0, 57.0, 28.0, 32.0, 32.0, 34.0, 44.0, 38.0, 47.0, 27.0, 30.0, 30.0, 56.0, 29.0, 31.0, 36.0, 33.0, 36.0, 52.0, 30.0, 37.0, 32.0, 29.0, 41.0, 54.0, 41.0, 36.0, 34.0, 32.0, 38.0, 47.0, 35.0, 45.0], \"xaxis\": \"x\", \"y\": [4, 3, 4, 3, 4, 3, 3, 3, 4, 3, 4, 3, 4, 4, 4, 4, 3, 3, 4, 3, 4, 3, 4, 3, 0, 5, 4, 3, 0, 5, 5, 5, 0, 5, 0, 0, 5, 0, 0, 0, 0, 5, 0, 0, 0, 0, 5, 0, 0, 5, 0, 5, 5, 0, 0, 5, 5, 0, 5, 5, 0, 5, 0, 5, 5, 5, 5, 0, 0, 0, 0, 5, 5, 5, 1, 5, 1, 1, 2, 1, 2, 5, 1, 1, 2, 2, 1, 2, 1, 1, 1, 0, 1, 1, 1, 1, 2, 2, 1, 2, 1, 1, 2, 2, 2, 1, 2, 1, 1, 2, 1, 2], \"yaxis\": \"y\"}],\n",
              "                        {\"legend\": {\"tracegroupgap\": 0}, \"margin\": {\"t\": 60}, \"template\": {\"data\": {\"bar\": [{\"error_x\": {\"color\": \"#2a3f5f\"}, \"error_y\": {\"color\": \"#2a3f5f\"}, \"marker\": {\"line\": {\"color\": \"#E5ECF6\", \"width\": 0.5}}, \"type\": \"bar\"}], \"barpolar\": [{\"marker\": {\"line\": {\"color\": \"#E5ECF6\", \"width\": 0.5}}, \"type\": \"barpolar\"}], \"carpet\": [{\"aaxis\": {\"endlinecolor\": \"#2a3f5f\", \"gridcolor\": \"white\", \"linecolor\": \"white\", \"minorgridcolor\": \"white\", \"startlinecolor\": \"#2a3f5f\"}, \"baxis\": {\"endlinecolor\": \"#2a3f5f\", \"gridcolor\": \"white\", \"linecolor\": \"white\", \"minorgridcolor\": \"white\", \"startlinecolor\": \"#2a3f5f\"}, \"type\": \"carpet\"}], \"choropleth\": [{\"colorbar\": {\"outlinewidth\": 0, \"ticks\": \"\"}, \"type\": \"choropleth\"}], \"contour\": [{\"colorbar\": {\"outlinewidth\": 0, \"ticks\": \"\"}, \"colorscale\": [[0.0, \"#0d0887\"], [0.1111111111111111, \"#46039f\"], [0.2222222222222222, \"#7201a8\"], [0.3333333333333333, \"#9c179e\"], [0.4444444444444444, \"#bd3786\"], [0.5555555555555556, \"#d8576b\"], [0.6666666666666666, \"#ed7953\"], [0.7777777777777778, \"#fb9f3a\"], [0.8888888888888888, \"#fdca26\"], [1.0, \"#f0f921\"]], \"type\": \"contour\"}], \"contourcarpet\": [{\"colorbar\": {\"outlinewidth\": 0, \"ticks\": \"\"}, \"type\": \"contourcarpet\"}], \"heatmap\": [{\"colorbar\": {\"outlinewidth\": 0, \"ticks\": \"\"}, \"colorscale\": [[0.0, \"#0d0887\"], [0.1111111111111111, \"#46039f\"], [0.2222222222222222, \"#7201a8\"], [0.3333333333333333, \"#9c179e\"], [0.4444444444444444, \"#bd3786\"], [0.5555555555555556, \"#d8576b\"], [0.6666666666666666, \"#ed7953\"], [0.7777777777777778, \"#fb9f3a\"], [0.8888888888888888, \"#fdca26\"], [1.0, \"#f0f921\"]], \"type\": \"heatmap\"}], \"heatmapgl\": [{\"colorbar\": {\"outlinewidth\": 0, \"ticks\": \"\"}, \"colorscale\": [[0.0, \"#0d0887\"], [0.1111111111111111, \"#46039f\"], [0.2222222222222222, \"#7201a8\"], [0.3333333333333333, \"#9c179e\"], [0.4444444444444444, \"#bd3786\"], [0.5555555555555556, \"#d8576b\"], [0.6666666666666666, \"#ed7953\"], [0.7777777777777778, \"#fb9f3a\"], [0.8888888888888888, \"#fdca26\"], [1.0, \"#f0f921\"]], \"type\": \"heatmapgl\"}], \"histogram\": [{\"marker\": {\"colorbar\": {\"outlinewidth\": 0, \"ticks\": \"\"}}, \"type\": \"histogram\"}], \"histogram2d\": [{\"colorbar\": {\"outlinewidth\": 0, \"ticks\": \"\"}, \"colorscale\": [[0.0, \"#0d0887\"], [0.1111111111111111, \"#46039f\"], [0.2222222222222222, \"#7201a8\"], [0.3333333333333333, \"#9c179e\"], [0.4444444444444444, \"#bd3786\"], [0.5555555555555556, \"#d8576b\"], [0.6666666666666666, \"#ed7953\"], [0.7777777777777778, \"#fb9f3a\"], [0.8888888888888888, \"#fdca26\"], [1.0, \"#f0f921\"]], \"type\": \"histogram2d\"}], \"histogram2dcontour\": [{\"colorbar\": {\"outlinewidth\": 0, \"ticks\": \"\"}, \"colorscale\": [[0.0, \"#0d0887\"], [0.1111111111111111, \"#46039f\"], [0.2222222222222222, \"#7201a8\"], [0.3333333333333333, \"#9c179e\"], [0.4444444444444444, \"#bd3786\"], [0.5555555555555556, \"#d8576b\"], [0.6666666666666666, \"#ed7953\"], [0.7777777777777778, \"#fb9f3a\"], [0.8888888888888888, \"#fdca26\"], [1.0, \"#f0f921\"]], \"type\": \"histogram2dcontour\"}], \"mesh3d\": [{\"colorbar\": {\"outlinewidth\": 0, \"ticks\": \"\"}, \"type\": \"mesh3d\"}], \"parcoords\": [{\"line\": {\"colorbar\": {\"outlinewidth\": 0, \"ticks\": \"\"}}, \"type\": \"parcoords\"}], \"pie\": [{\"automargin\": true, \"type\": \"pie\"}], \"scatter\": [{\"marker\": {\"colorbar\": {\"outlinewidth\": 0, \"ticks\": \"\"}}, \"type\": \"scatter\"}], \"scatter3d\": [{\"line\": {\"colorbar\": {\"outlinewidth\": 0, \"ticks\": \"\"}}, \"marker\": {\"colorbar\": {\"outlinewidth\": 0, \"ticks\": \"\"}}, \"type\": \"scatter3d\"}], \"scattercarpet\": [{\"marker\": {\"colorbar\": {\"outlinewidth\": 0, \"ticks\": \"\"}}, \"type\": \"scattercarpet\"}], \"scattergeo\": [{\"marker\": {\"colorbar\": {\"outlinewidth\": 0, \"ticks\": \"\"}}, \"type\": \"scattergeo\"}], \"scattergl\": [{\"marker\": {\"colorbar\": {\"outlinewidth\": 0, \"ticks\": \"\"}}, \"type\": \"scattergl\"}], \"scattermapbox\": [{\"marker\": {\"colorbar\": {\"outlinewidth\": 0, \"ticks\": \"\"}}, \"type\": \"scattermapbox\"}], \"scatterpolar\": [{\"marker\": {\"colorbar\": {\"outlinewidth\": 0, \"ticks\": \"\"}}, \"type\": \"scatterpolar\"}], \"scatterpolargl\": [{\"marker\": {\"colorbar\": {\"outlinewidth\": 0, \"ticks\": \"\"}}, \"type\": \"scatterpolargl\"}], \"scatterternary\": [{\"marker\": {\"colorbar\": {\"outlinewidth\": 0, \"ticks\": \"\"}}, \"type\": \"scatterternary\"}], \"surface\": [{\"colorbar\": {\"outlinewidth\": 0, \"ticks\": \"\"}, \"colorscale\": [[0.0, \"#0d0887\"], [0.1111111111111111, \"#46039f\"], [0.2222222222222222, \"#7201a8\"], [0.3333333333333333, \"#9c179e\"], [0.4444444444444444, \"#bd3786\"], [0.5555555555555556, \"#d8576b\"], [0.6666666666666666, \"#ed7953\"], [0.7777777777777778, \"#fb9f3a\"], [0.8888888888888888, \"#fdca26\"], [1.0, \"#f0f921\"]], \"type\": \"surface\"}], \"table\": [{\"cells\": {\"fill\": {\"color\": \"#EBF0F8\"}, \"line\": {\"color\": \"white\"}}, \"header\": {\"fill\": {\"color\": \"#C8D4E3\"}, \"line\": {\"color\": \"white\"}}, \"type\": \"table\"}]}, \"layout\": {\"annotationdefaults\": {\"arrowcolor\": \"#2a3f5f\", \"arrowhead\": 0, \"arrowwidth\": 1}, \"coloraxis\": {\"colorbar\": {\"outlinewidth\": 0, \"ticks\": \"\"}}, \"colorscale\": {\"diverging\": [[0, \"#8e0152\"], [0.1, \"#c51b7d\"], [0.2, \"#de77ae\"], [0.3, \"#f1b6da\"], [0.4, \"#fde0ef\"], [0.5, \"#f7f7f7\"], [0.6, \"#e6f5d0\"], [0.7, \"#b8e186\"], [0.8, \"#7fbc41\"], [0.9, \"#4d9221\"], [1, \"#276419\"]], \"sequential\": [[0.0, \"#0d0887\"], [0.1111111111111111, \"#46039f\"], [0.2222222222222222, \"#7201a8\"], [0.3333333333333333, \"#9c179e\"], [0.4444444444444444, \"#bd3786\"], [0.5555555555555556, \"#d8576b\"], [0.6666666666666666, \"#ed7953\"], [0.7777777777777778, \"#fb9f3a\"], [0.8888888888888888, \"#fdca26\"], [1.0, \"#f0f921\"]], \"sequentialminus\": [[0.0, \"#0d0887\"], [0.1111111111111111, \"#46039f\"], [0.2222222222222222, \"#7201a8\"], [0.3333333333333333, \"#9c179e\"], [0.4444444444444444, \"#bd3786\"], [0.5555555555555556, \"#d8576b\"], [0.6666666666666666, \"#ed7953\"], [0.7777777777777778, \"#fb9f3a\"], [0.8888888888888888, \"#fdca26\"], [1.0, \"#f0f921\"]]}, \"colorway\": [\"#636efa\", \"#EF553B\", \"#00cc96\", \"#ab63fa\", \"#FFA15A\", \"#19d3f3\", \"#FF6692\", \"#B6E880\", \"#FF97FF\", \"#FECB52\"], \"font\": {\"color\": \"#2a3f5f\"}, \"geo\": {\"bgcolor\": \"white\", \"lakecolor\": \"white\", \"landcolor\": \"#E5ECF6\", \"showlakes\": true, \"showland\": true, \"subunitcolor\": \"white\"}, \"hoverlabel\": {\"align\": \"left\"}, \"hovermode\": \"closest\", \"mapbox\": {\"style\": \"light\"}, \"paper_bgcolor\": \"white\", \"plot_bgcolor\": \"#E5ECF6\", \"polar\": {\"angularaxis\": {\"gridcolor\": \"white\", \"linecolor\": \"white\", \"ticks\": \"\"}, \"bgcolor\": \"#E5ECF6\", \"radialaxis\": {\"gridcolor\": \"white\", \"linecolor\": \"white\", \"ticks\": \"\"}}, \"scene\": {\"xaxis\": {\"backgroundcolor\": \"#E5ECF6\", \"gridcolor\": \"white\", \"gridwidth\": 2, \"linecolor\": \"white\", \"showbackground\": true, \"ticks\": \"\", \"zerolinecolor\": \"white\"}, \"yaxis\": {\"backgroundcolor\": \"#E5ECF6\", \"gridcolor\": \"white\", \"gridwidth\": 2, \"linecolor\": \"white\", \"showbackground\": true, \"ticks\": \"\", \"zerolinecolor\": \"white\"}, \"zaxis\": {\"backgroundcolor\": \"#E5ECF6\", \"gridcolor\": \"white\", \"gridwidth\": 2, \"linecolor\": \"white\", \"showbackground\": true, \"ticks\": \"\", \"zerolinecolor\": \"white\"}}, \"shapedefaults\": {\"line\": {\"color\": \"#2a3f5f\"}}, \"ternary\": {\"aaxis\": {\"gridcolor\": \"white\", \"linecolor\": \"white\", \"ticks\": \"\"}, \"baxis\": {\"gridcolor\": \"white\", \"linecolor\": \"white\", \"ticks\": \"\"}, \"bgcolor\": \"#E5ECF6\", \"caxis\": {\"gridcolor\": \"white\", \"linecolor\": \"white\", \"ticks\": \"\"}}, \"title\": {\"x\": 0.05}, \"xaxis\": {\"automargin\": true, \"gridcolor\": \"white\", \"linecolor\": \"white\", \"ticks\": \"\", \"title\": {\"standoff\": 15}, \"zerolinecolor\": \"white\", \"zerolinewidth\": 2}, \"yaxis\": {\"automargin\": true, \"gridcolor\": \"white\", \"linecolor\": \"white\", \"ticks\": \"\", \"title\": {\"standoff\": 15}, \"zerolinecolor\": \"white\", \"zerolinewidth\": 2}}}, \"xaxis\": {\"anchor\": \"y\", \"domain\": [0.0, 1.0], \"title\": {\"text\": \"Age\"}}, \"yaxis\": {\"anchor\": \"x\", \"domain\": [0.0, 1.0], \"title\": {\"text\": \"label\"}}},\n",
              "                        {\"responsive\": true}\n",
              "                    ).then(function(){\n",
              "                            \n",
              "var gd = document.getElementById('a56f68d4-ecd6-4344-8577-b598ef4cba21');\n",
              "var x = new MutationObserver(function (mutations, observer) {{\n",
              "        var display = window.getComputedStyle(gd).display;\n",
              "        if (!display || display === 'none') {{\n",
              "            console.log([gd, 'removed!']);\n",
              "            Plotly.purge(gd);\n",
              "            observer.disconnect();\n",
              "        }}\n",
              "}});\n",
              "\n",
              "// Listen for the removal of the full notebook cells\n",
              "var notebookContainer = gd.closest('#notebook-container');\n",
              "if (notebookContainer) {{\n",
              "    x.observe(notebookContainer, {childList: true});\n",
              "}}\n",
              "\n",
              "// Listen for the clearing of the current output cell\n",
              "var outputEl = gd.closest('.output');\n",
              "if (outputEl) {{\n",
              "    x.observe(outputEl, {childList: true});\n",
              "}}\n",
              "\n",
              "                        })\n",
              "                };\n",
              "                \n",
              "            </script>\n",
              "        </div>\n",
              "</body>\n",
              "</html>"
            ]
          },
          "metadata": {
            "tags": []
          }
        }
      ]
    },
    {
      "cell_type": "code",
      "metadata": {
        "id": "2WYv8WY5ofYD",
        "outputId": "18f04cdd-5ba7-47c6-9c54-050b8d13d2b3",
        "colab": {
          "base_uri": "https://localhost:8080/",
          "height": 542
        }
      },
      "source": [
        "fig = px.scatter(clust_data, x=\"Annual Income\", y=\"label\",color=\"Gender\")\n",
        "fig.show()"
      ],
      "execution_count": 61,
      "outputs": [
        {
          "output_type": "display_data",
          "data": {
            "text/html": [
              "<html>\n",
              "<head><meta charset=\"utf-8\" /></head>\n",
              "<body>\n",
              "    <div>\n",
              "            <script src=\"https://cdnjs.cloudflare.com/ajax/libs/mathjax/2.7.5/MathJax.js?config=TeX-AMS-MML_SVG\"></script><script type=\"text/javascript\">if (window.MathJax) {MathJax.Hub.Config({SVG: {font: \"STIX-Web\"}});}</script>\n",
              "                <script type=\"text/javascript\">window.PlotlyConfig = {MathJaxConfig: 'local'};</script>\n",
              "        <script src=\"https://cdn.plot.ly/plotly-latest.min.js\"></script>    \n",
              "            <div id=\"5e707cd1-3174-42d7-b670-ca3c27dbcbb4\" class=\"plotly-graph-div\" style=\"height:525px; width:100%;\"></div>\n",
              "            <script type=\"text/javascript\">\n",
              "                \n",
              "                    window.PLOTLYENV=window.PLOTLYENV || {};\n",
              "                    \n",
              "                if (document.getElementById(\"5e707cd1-3174-42d7-b670-ca3c27dbcbb4\")) {\n",
              "                    Plotly.newPlot(\n",
              "                        '5e707cd1-3174-42d7-b670-ca3c27dbcbb4',\n",
              "                        [{\"hoverlabel\": {\"namelength\": 0}, \"hovertemplate\": \"Gender=Male<br>Annual Income=%{x}<br>label=%{y}\", \"legendgroup\": \"Gender=Male\", \"marker\": {\"color\": \"#636efa\", \"symbol\": \"circle\"}, \"mode\": \"markers\", \"name\": \"Gender=Male\", \"showlegend\": true, \"type\": \"scatter\", \"x\": [15.0, 15.0, 19.0, 19.0, 20.0, 20.0, 21.0, 23.0, 24.0, 24.0, 25.0, 28.0, 28.0, 30.000000000000004, 33.0, 33.0, 38.0, 39.0, 42.0, 43.0, 43.0, 44.0, 46.0, 46.0, 46.0, 48.0, 48.0, 48.0, 49.0, 54.0, 54.0, 54.0, 54.0, 54.0, 54.0, 54.0, 59.0, 60.0, 60.0, 61.0, 61.0, 62.0, 62.0, 62.0, 63.0, 63.0, 63.0, 63.0, 64.0, 67.0, 69.0, 71.0, 71.0, 71.0, 71.0, 71.0, 71.0, 73.0, 73.0, 74.0, 75.0, 77.0, 77.0, 77.0, 78.0, 78.0, 78.0, 78.0, 78.0, 81.0, 85.0, 86.0, 87.0, 87.0, 87.0, 87.0, 87.0, 88.0, 88.0, 93.0, 93.0, 98.0, 99.0, 101.0, 113.0, 126.0, 137.0, 137.0], \"xaxis\": \"x\", \"y\": [3, 3, 4, 4, 4, 3, 3, 4, 4, 3, 3, 3, 3, 4, 4, 3, 3, 4, 5, 0, 0, 0, 0, 0, 5, 0, 5, 5, 0, 0, 5, 5, 0, 5, 0, 0, 5, 0, 5, 0, 5, 0, 5, 0, 0, 0, 0, 0, 5, 5, 1, 2, 1, 2, 1, 2, 1, 2, 1, 2, 1, 2, 1, 2, 1, 2, 1, 2, 2, 2, 2, 2, 1, 2, 1, 2, 1, 2, 1, 2, 1, 2, 1, 1, 2, 1, 2, 1], \"yaxis\": \"y\"}, {\"hoverlabel\": {\"namelength\": 0}, \"hovertemplate\": \"Gender=Female<br>Annual Income=%{x}<br>label=%{y}\", \"legendgroup\": \"Gender=Female\", \"marker\": {\"color\": \"#EF553B\", \"symbol\": \"circle\"}, \"mode\": \"markers\", \"name\": \"Gender=Female\", \"showlegend\": true, \"type\": \"scatter\", \"x\": [16.0, 16.0, 17.0, 17.0, 18.0, 18.0, 19.0, 19.0, 20.0, 20.0, 21.0, 23.0, 25.0, 28.0, 28.0, 29.0, 29.0, 30.000000000000004, 33.0, 33.0, 34.0, 34.0, 37.0, 37.0, 38.0, 39.0, 39.0, 39.0, 40.0, 40.0, 40.0, 40.0, 42.0, 43.0, 43.0, 44.0, 46.0, 47.0, 47.0, 48.0, 48.0, 48.0, 49.0, 50.0, 50.0, 54.0, 54.0, 54.0, 54.0, 54.0, 57.0, 57.0, 58.0, 58.0, 59.0, 60.0, 60.0, 60.0, 60.0, 62.0, 62.0, 62.0, 63.0, 63.0, 64.0, 65.0, 65.0, 65.0, 65.0, 67.0, 67.0, 67.0, 69.0, 70.0, 70.0, 72.0, 72.0, 73.0, 73.0, 74.0, 75.0, 76.0, 76.0, 77.0, 78.0, 78.0, 78.0, 78.0, 78.0, 78.0, 78.0, 79.0, 79.0, 81.0, 85.0, 86.0, 87.0, 88.0, 88.0, 97.0, 97.0, 98.0, 99.0, 101.0, 103.0, 103.0, 103.0, 103.0, 113.0, 120.0, 120.0, 126.0], \"xaxis\": \"x\", \"y\": [4, 3, 4, 3, 4, 3, 3, 3, 4, 3, 4, 3, 4, 4, 4, 4, 3, 3, 4, 3, 4, 3, 4, 3, 0, 5, 4, 3, 0, 5, 5, 5, 0, 5, 0, 0, 5, 0, 0, 0, 0, 5, 0, 0, 0, 0, 5, 0, 0, 5, 0, 5, 5, 0, 0, 5, 5, 0, 5, 5, 0, 5, 0, 5, 5, 5, 5, 0, 0, 0, 0, 5, 5, 5, 1, 5, 1, 1, 2, 1, 2, 5, 1, 1, 2, 2, 1, 2, 1, 1, 1, 0, 1, 1, 1, 1, 2, 2, 1, 2, 1, 1, 2, 2, 2, 1, 2, 1, 1, 2, 1, 2], \"yaxis\": \"y\"}],\n",
              "                        {\"legend\": {\"tracegroupgap\": 0}, \"margin\": {\"t\": 60}, \"template\": {\"data\": {\"bar\": [{\"error_x\": {\"color\": \"#2a3f5f\"}, \"error_y\": {\"color\": \"#2a3f5f\"}, \"marker\": {\"line\": {\"color\": \"#E5ECF6\", \"width\": 0.5}}, \"type\": \"bar\"}], \"barpolar\": [{\"marker\": {\"line\": {\"color\": \"#E5ECF6\", \"width\": 0.5}}, \"type\": \"barpolar\"}], \"carpet\": [{\"aaxis\": {\"endlinecolor\": \"#2a3f5f\", \"gridcolor\": \"white\", \"linecolor\": \"white\", \"minorgridcolor\": \"white\", \"startlinecolor\": \"#2a3f5f\"}, \"baxis\": {\"endlinecolor\": \"#2a3f5f\", \"gridcolor\": \"white\", \"linecolor\": \"white\", \"minorgridcolor\": \"white\", \"startlinecolor\": \"#2a3f5f\"}, \"type\": \"carpet\"}], \"choropleth\": [{\"colorbar\": {\"outlinewidth\": 0, \"ticks\": \"\"}, \"type\": \"choropleth\"}], \"contour\": [{\"colorbar\": {\"outlinewidth\": 0, \"ticks\": \"\"}, \"colorscale\": [[0.0, \"#0d0887\"], [0.1111111111111111, \"#46039f\"], [0.2222222222222222, \"#7201a8\"], [0.3333333333333333, \"#9c179e\"], [0.4444444444444444, \"#bd3786\"], [0.5555555555555556, \"#d8576b\"], [0.6666666666666666, \"#ed7953\"], [0.7777777777777778, \"#fb9f3a\"], [0.8888888888888888, \"#fdca26\"], [1.0, \"#f0f921\"]], \"type\": \"contour\"}], \"contourcarpet\": [{\"colorbar\": {\"outlinewidth\": 0, \"ticks\": \"\"}, \"type\": \"contourcarpet\"}], \"heatmap\": [{\"colorbar\": {\"outlinewidth\": 0, \"ticks\": \"\"}, \"colorscale\": [[0.0, \"#0d0887\"], [0.1111111111111111, \"#46039f\"], [0.2222222222222222, \"#7201a8\"], [0.3333333333333333, \"#9c179e\"], [0.4444444444444444, \"#bd3786\"], [0.5555555555555556, \"#d8576b\"], [0.6666666666666666, \"#ed7953\"], [0.7777777777777778, \"#fb9f3a\"], [0.8888888888888888, \"#fdca26\"], [1.0, \"#f0f921\"]], \"type\": \"heatmap\"}], \"heatmapgl\": [{\"colorbar\": {\"outlinewidth\": 0, \"ticks\": \"\"}, \"colorscale\": [[0.0, \"#0d0887\"], [0.1111111111111111, \"#46039f\"], [0.2222222222222222, \"#7201a8\"], [0.3333333333333333, \"#9c179e\"], [0.4444444444444444, \"#bd3786\"], [0.5555555555555556, \"#d8576b\"], [0.6666666666666666, \"#ed7953\"], [0.7777777777777778, \"#fb9f3a\"], [0.8888888888888888, \"#fdca26\"], [1.0, \"#f0f921\"]], \"type\": \"heatmapgl\"}], \"histogram\": [{\"marker\": {\"colorbar\": {\"outlinewidth\": 0, \"ticks\": \"\"}}, \"type\": \"histogram\"}], \"histogram2d\": [{\"colorbar\": {\"outlinewidth\": 0, \"ticks\": \"\"}, \"colorscale\": [[0.0, \"#0d0887\"], [0.1111111111111111, \"#46039f\"], [0.2222222222222222, \"#7201a8\"], [0.3333333333333333, \"#9c179e\"], [0.4444444444444444, \"#bd3786\"], [0.5555555555555556, \"#d8576b\"], [0.6666666666666666, \"#ed7953\"], [0.7777777777777778, \"#fb9f3a\"], [0.8888888888888888, \"#fdca26\"], [1.0, \"#f0f921\"]], \"type\": \"histogram2d\"}], \"histogram2dcontour\": [{\"colorbar\": {\"outlinewidth\": 0, \"ticks\": \"\"}, \"colorscale\": [[0.0, \"#0d0887\"], [0.1111111111111111, \"#46039f\"], [0.2222222222222222, \"#7201a8\"], [0.3333333333333333, \"#9c179e\"], [0.4444444444444444, \"#bd3786\"], [0.5555555555555556, \"#d8576b\"], [0.6666666666666666, \"#ed7953\"], [0.7777777777777778, \"#fb9f3a\"], [0.8888888888888888, \"#fdca26\"], [1.0, \"#f0f921\"]], \"type\": \"histogram2dcontour\"}], \"mesh3d\": [{\"colorbar\": {\"outlinewidth\": 0, \"ticks\": \"\"}, \"type\": \"mesh3d\"}], \"parcoords\": [{\"line\": {\"colorbar\": {\"outlinewidth\": 0, \"ticks\": \"\"}}, \"type\": \"parcoords\"}], \"pie\": [{\"automargin\": true, \"type\": \"pie\"}], \"scatter\": [{\"marker\": {\"colorbar\": {\"outlinewidth\": 0, \"ticks\": \"\"}}, \"type\": \"scatter\"}], \"scatter3d\": [{\"line\": {\"colorbar\": {\"outlinewidth\": 0, \"ticks\": \"\"}}, \"marker\": {\"colorbar\": {\"outlinewidth\": 0, \"ticks\": \"\"}}, \"type\": \"scatter3d\"}], \"scattercarpet\": [{\"marker\": {\"colorbar\": {\"outlinewidth\": 0, \"ticks\": \"\"}}, \"type\": \"scattercarpet\"}], \"scattergeo\": [{\"marker\": {\"colorbar\": {\"outlinewidth\": 0, \"ticks\": \"\"}}, \"type\": \"scattergeo\"}], \"scattergl\": [{\"marker\": {\"colorbar\": {\"outlinewidth\": 0, \"ticks\": \"\"}}, \"type\": \"scattergl\"}], \"scattermapbox\": [{\"marker\": {\"colorbar\": {\"outlinewidth\": 0, \"ticks\": \"\"}}, \"type\": \"scattermapbox\"}], \"scatterpolar\": [{\"marker\": {\"colorbar\": {\"outlinewidth\": 0, \"ticks\": \"\"}}, \"type\": \"scatterpolar\"}], \"scatterpolargl\": [{\"marker\": {\"colorbar\": {\"outlinewidth\": 0, \"ticks\": \"\"}}, \"type\": \"scatterpolargl\"}], \"scatterternary\": [{\"marker\": {\"colorbar\": {\"outlinewidth\": 0, \"ticks\": \"\"}}, \"type\": \"scatterternary\"}], \"surface\": [{\"colorbar\": {\"outlinewidth\": 0, \"ticks\": \"\"}, \"colorscale\": [[0.0, \"#0d0887\"], [0.1111111111111111, \"#46039f\"], [0.2222222222222222, \"#7201a8\"], [0.3333333333333333, \"#9c179e\"], [0.4444444444444444, \"#bd3786\"], [0.5555555555555556, \"#d8576b\"], [0.6666666666666666, \"#ed7953\"], [0.7777777777777778, \"#fb9f3a\"], [0.8888888888888888, \"#fdca26\"], [1.0, \"#f0f921\"]], \"type\": \"surface\"}], \"table\": [{\"cells\": {\"fill\": {\"color\": \"#EBF0F8\"}, \"line\": {\"color\": \"white\"}}, \"header\": {\"fill\": {\"color\": \"#C8D4E3\"}, \"line\": {\"color\": \"white\"}}, \"type\": \"table\"}]}, \"layout\": {\"annotationdefaults\": {\"arrowcolor\": \"#2a3f5f\", \"arrowhead\": 0, \"arrowwidth\": 1}, \"coloraxis\": {\"colorbar\": {\"outlinewidth\": 0, \"ticks\": \"\"}}, \"colorscale\": {\"diverging\": [[0, \"#8e0152\"], [0.1, \"#c51b7d\"], [0.2, \"#de77ae\"], [0.3, \"#f1b6da\"], [0.4, \"#fde0ef\"], [0.5, \"#f7f7f7\"], [0.6, \"#e6f5d0\"], [0.7, \"#b8e186\"], [0.8, \"#7fbc41\"], [0.9, \"#4d9221\"], [1, \"#276419\"]], \"sequential\": [[0.0, \"#0d0887\"], [0.1111111111111111, \"#46039f\"], [0.2222222222222222, \"#7201a8\"], [0.3333333333333333, \"#9c179e\"], [0.4444444444444444, \"#bd3786\"], [0.5555555555555556, \"#d8576b\"], [0.6666666666666666, \"#ed7953\"], [0.7777777777777778, \"#fb9f3a\"], [0.8888888888888888, \"#fdca26\"], [1.0, \"#f0f921\"]], \"sequentialminus\": [[0.0, \"#0d0887\"], [0.1111111111111111, \"#46039f\"], [0.2222222222222222, \"#7201a8\"], [0.3333333333333333, \"#9c179e\"], [0.4444444444444444, \"#bd3786\"], [0.5555555555555556, \"#d8576b\"], [0.6666666666666666, \"#ed7953\"], [0.7777777777777778, \"#fb9f3a\"], [0.8888888888888888, \"#fdca26\"], [1.0, \"#f0f921\"]]}, \"colorway\": [\"#636efa\", \"#EF553B\", \"#00cc96\", \"#ab63fa\", \"#FFA15A\", \"#19d3f3\", \"#FF6692\", \"#B6E880\", \"#FF97FF\", \"#FECB52\"], \"font\": {\"color\": \"#2a3f5f\"}, \"geo\": {\"bgcolor\": \"white\", \"lakecolor\": \"white\", \"landcolor\": \"#E5ECF6\", \"showlakes\": true, \"showland\": true, \"subunitcolor\": \"white\"}, \"hoverlabel\": {\"align\": \"left\"}, \"hovermode\": \"closest\", \"mapbox\": {\"style\": \"light\"}, \"paper_bgcolor\": \"white\", \"plot_bgcolor\": \"#E5ECF6\", \"polar\": {\"angularaxis\": {\"gridcolor\": \"white\", \"linecolor\": \"white\", \"ticks\": \"\"}, \"bgcolor\": \"#E5ECF6\", \"radialaxis\": {\"gridcolor\": \"white\", \"linecolor\": \"white\", \"ticks\": \"\"}}, \"scene\": {\"xaxis\": {\"backgroundcolor\": \"#E5ECF6\", \"gridcolor\": \"white\", \"gridwidth\": 2, \"linecolor\": \"white\", \"showbackground\": true, \"ticks\": \"\", \"zerolinecolor\": \"white\"}, \"yaxis\": {\"backgroundcolor\": \"#E5ECF6\", \"gridcolor\": \"white\", \"gridwidth\": 2, \"linecolor\": \"white\", \"showbackground\": true, \"ticks\": \"\", \"zerolinecolor\": \"white\"}, \"zaxis\": {\"backgroundcolor\": \"#E5ECF6\", \"gridcolor\": \"white\", \"gridwidth\": 2, \"linecolor\": \"white\", \"showbackground\": true, \"ticks\": \"\", \"zerolinecolor\": \"white\"}}, \"shapedefaults\": {\"line\": {\"color\": \"#2a3f5f\"}}, \"ternary\": {\"aaxis\": {\"gridcolor\": \"white\", \"linecolor\": \"white\", \"ticks\": \"\"}, \"baxis\": {\"gridcolor\": \"white\", \"linecolor\": \"white\", \"ticks\": \"\"}, \"bgcolor\": \"#E5ECF6\", \"caxis\": {\"gridcolor\": \"white\", \"linecolor\": \"white\", \"ticks\": \"\"}}, \"title\": {\"x\": 0.05}, \"xaxis\": {\"automargin\": true, \"gridcolor\": \"white\", \"linecolor\": \"white\", \"ticks\": \"\", \"title\": {\"standoff\": 15}, \"zerolinecolor\": \"white\", \"zerolinewidth\": 2}, \"yaxis\": {\"automargin\": true, \"gridcolor\": \"white\", \"linecolor\": \"white\", \"ticks\": \"\", \"title\": {\"standoff\": 15}, \"zerolinecolor\": \"white\", \"zerolinewidth\": 2}}}, \"xaxis\": {\"anchor\": \"y\", \"domain\": [0.0, 1.0], \"title\": {\"text\": \"Annual Income\"}}, \"yaxis\": {\"anchor\": \"x\", \"domain\": [0.0, 1.0], \"title\": {\"text\": \"label\"}}},\n",
              "                        {\"responsive\": true}\n",
              "                    ).then(function(){\n",
              "                            \n",
              "var gd = document.getElementById('5e707cd1-3174-42d7-b670-ca3c27dbcbb4');\n",
              "var x = new MutationObserver(function (mutations, observer) {{\n",
              "        var display = window.getComputedStyle(gd).display;\n",
              "        if (!display || display === 'none') {{\n",
              "            console.log([gd, 'removed!']);\n",
              "            Plotly.purge(gd);\n",
              "            observer.disconnect();\n",
              "        }}\n",
              "}});\n",
              "\n",
              "// Listen for the removal of the full notebook cells\n",
              "var notebookContainer = gd.closest('#notebook-container');\n",
              "if (notebookContainer) {{\n",
              "    x.observe(notebookContainer, {childList: true});\n",
              "}}\n",
              "\n",
              "// Listen for the clearing of the current output cell\n",
              "var outputEl = gd.closest('.output');\n",
              "if (outputEl) {{\n",
              "    x.observe(outputEl, {childList: true});\n",
              "}}\n",
              "\n",
              "                        })\n",
              "                };\n",
              "                \n",
              "            </script>\n",
              "        </div>\n",
              "</body>\n",
              "</html>"
            ]
          },
          "metadata": {
            "tags": []
          }
        }
      ]
    },
    {
      "cell_type": "code",
      "metadata": {
        "id": "ocwBnp6FokIP",
        "outputId": "8ae23f4a-ed30-4aaf-9f04-5b0e8c39815a",
        "colab": {
          "base_uri": "https://localhost:8080/",
          "height": 542
        }
      },
      "source": [
        "fig = px.scatter(clust_data, x=\"Spending Score\", y=\"label\",color=\"Gender\")\n",
        "fig.show()"
      ],
      "execution_count": 62,
      "outputs": [
        {
          "output_type": "display_data",
          "data": {
            "text/html": [
              "<html>\n",
              "<head><meta charset=\"utf-8\" /></head>\n",
              "<body>\n",
              "    <div>\n",
              "            <script src=\"https://cdnjs.cloudflare.com/ajax/libs/mathjax/2.7.5/MathJax.js?config=TeX-AMS-MML_SVG\"></script><script type=\"text/javascript\">if (window.MathJax) {MathJax.Hub.Config({SVG: {font: \"STIX-Web\"}});}</script>\n",
              "                <script type=\"text/javascript\">window.PlotlyConfig = {MathJaxConfig: 'local'};</script>\n",
              "        <script src=\"https://cdn.plot.ly/plotly-latest.min.js\"></script>    \n",
              "            <div id=\"9e1451bd-348f-498b-bbe8-8cfe8265f87e\" class=\"plotly-graph-div\" style=\"height:525px; width:100%;\"></div>\n",
              "            <script type=\"text/javascript\">\n",
              "                \n",
              "                    window.PLOTLYENV=window.PLOTLYENV || {};\n",
              "                    \n",
              "                if (document.getElementById(\"9e1451bd-348f-498b-bbe8-8cfe8265f87e\")) {\n",
              "                    Plotly.newPlot(\n",
              "                        '9e1451bd-348f-498b-bbe8-8cfe8265f87e',\n",
              "                        [{\"hoverlabel\": {\"namelength\": 0}, \"hovertemplate\": \"Gender=Male<br>Spending Score=%{x}<br>label=%{y}\", \"legendgroup\": \"Gender=Male\", \"marker\": {\"color\": \"#636efa\", \"symbol\": \"circle\"}, \"mode\": \"markers\", \"name\": \"Gender=Male\", \"showlegend\": true, \"type\": \"scatter\", \"x\": [39.0, 81.0, 3.0, 14.0, 13.0, 79.0, 66.0, 29.0, 35.0, 73.0, 73.0, 82.0, 61.0, 4.0, 4.0, 92.0, 92.0, 36.0, 60.0, 60.0, 41.0, 46.0, 46.0, 56.0, 55.0, 51.0, 59.0, 59.0, 55.0, 47.0, 54.0, 48.0, 51.0, 55.0, 41.0, 46.0, 41.0, 49.0, 52.0, 42.0, 49.0, 59.0, 55.0, 56.0, 46.0, 43.0, 48.0, 52.0, 46.0, 56.0, 91.0, 35.0, 95.0, 11.0, 75.0, 9.0, 75.0, 5.0, 73.0, 10.0, 93.0, 12.0, 97.0, 36.0, 90.0, 17.0, 88.0, 1.0, 1.0, 5.0, 26.0, 20.0, 63.0, 13.0, 75.0, 10.0, 92.0, 15.0, 69.0, 14.0, 90.0, 15.0, 97.0, 68.0, 8.0, 74.0, 18.0, 83.0], \"xaxis\": \"x\", \"y\": [3, 3, 4, 4, 4, 3, 3, 4, 4, 3, 3, 3, 3, 4, 4, 3, 3, 4, 5, 0, 0, 0, 0, 0, 5, 0, 5, 5, 0, 0, 5, 5, 0, 5, 0, 0, 5, 0, 5, 0, 5, 0, 5, 0, 0, 0, 0, 0, 5, 5, 1, 2, 1, 2, 1, 2, 1, 2, 1, 2, 1, 2, 1, 2, 1, 2, 1, 2, 2, 2, 2, 2, 1, 2, 1, 2, 1, 2, 1, 2, 1, 2, 1, 1, 2, 1, 2, 1], \"yaxis\": \"y\"}, {\"hoverlabel\": {\"namelength\": 0}, \"hovertemplate\": \"Gender=Female<br>Spending Score=%{x}<br>label=%{y}\", \"legendgroup\": \"Gender=Female\", \"marker\": {\"color\": \"#EF553B\", \"symbol\": \"circle\"}, \"mode\": \"markers\", \"name\": \"Gender=Female\", \"showlegend\": true, \"type\": \"scatter\", \"x\": [6.0, 77.0, 40.0, 76.0, 6.0, 94.0, 72.0, 99.0, 15.0, 77.0, 35.0, 98.0, 5.0, 14.0, 32.0, 31.0, 87.0, 73.0, 14.0, 81.0, 17.0, 73.0, 26.0, 75.0, 35.0, 61.0, 28.0, 65.0, 55.0, 47.0, 42.0, 42.0, 52.0, 54.0, 45.0, 50.0, 51.0, 52.0, 59.0, 50.0, 48.0, 47.0, 42.0, 49.0, 56.0, 53.0, 52.0, 42.0, 44.0, 57.0, 58.0, 55.0, 60.0, 46.0, 55.0, 40.0, 42.0, 47.0, 50.0, 41.0, 48.0, 42.0, 50.0, 54.0, 42.0, 48.0, 50.0, 43.0, 59.0, 43.0, 57.0, 40.0, 58.0, 29.0, 77.0, 34.0, 71.0, 88.0, 7.0, 72.0, 5.0, 40.0, 87.0, 74.0, 22.000000000000004, 20.0, 76.0, 16.0, 89.0, 78.0, 73.0, 35.0, 83.0, 93.0, 75.0, 95.0, 27.0, 13.0, 86.0, 32.0, 86.0, 88.0, 39.0, 24.000000000000004, 17.0, 85.0, 23.0, 69.0, 91.0, 16.0, 79.0, 28.0], \"xaxis\": \"x\", \"y\": [4, 3, 4, 3, 4, 3, 3, 3, 4, 3, 4, 3, 4, 4, 4, 4, 3, 3, 4, 3, 4, 3, 4, 3, 0, 5, 4, 3, 0, 5, 5, 5, 0, 5, 0, 0, 5, 0, 0, 0, 0, 5, 0, 0, 0, 0, 5, 0, 0, 5, 0, 5, 5, 0, 0, 5, 5, 0, 5, 5, 0, 5, 0, 5, 5, 5, 5, 0, 0, 0, 0, 5, 5, 5, 1, 5, 1, 1, 2, 1, 2, 5, 1, 1, 2, 2, 1, 2, 1, 1, 1, 0, 1, 1, 1, 1, 2, 2, 1, 2, 1, 1, 2, 2, 2, 1, 2, 1, 1, 2, 1, 2], \"yaxis\": \"y\"}],\n",
              "                        {\"legend\": {\"tracegroupgap\": 0}, \"margin\": {\"t\": 60}, \"template\": {\"data\": {\"bar\": [{\"error_x\": {\"color\": \"#2a3f5f\"}, \"error_y\": {\"color\": \"#2a3f5f\"}, \"marker\": {\"line\": {\"color\": \"#E5ECF6\", \"width\": 0.5}}, \"type\": \"bar\"}], \"barpolar\": [{\"marker\": {\"line\": {\"color\": \"#E5ECF6\", \"width\": 0.5}}, \"type\": \"barpolar\"}], \"carpet\": [{\"aaxis\": {\"endlinecolor\": \"#2a3f5f\", \"gridcolor\": \"white\", \"linecolor\": \"white\", \"minorgridcolor\": \"white\", \"startlinecolor\": \"#2a3f5f\"}, \"baxis\": {\"endlinecolor\": \"#2a3f5f\", \"gridcolor\": \"white\", \"linecolor\": \"white\", \"minorgridcolor\": \"white\", \"startlinecolor\": \"#2a3f5f\"}, \"type\": \"carpet\"}], \"choropleth\": [{\"colorbar\": {\"outlinewidth\": 0, \"ticks\": \"\"}, \"type\": \"choropleth\"}], \"contour\": [{\"colorbar\": {\"outlinewidth\": 0, \"ticks\": \"\"}, \"colorscale\": [[0.0, \"#0d0887\"], [0.1111111111111111, \"#46039f\"], [0.2222222222222222, \"#7201a8\"], [0.3333333333333333, \"#9c179e\"], [0.4444444444444444, \"#bd3786\"], [0.5555555555555556, \"#d8576b\"], [0.6666666666666666, \"#ed7953\"], [0.7777777777777778, \"#fb9f3a\"], [0.8888888888888888, \"#fdca26\"], [1.0, \"#f0f921\"]], \"type\": \"contour\"}], \"contourcarpet\": [{\"colorbar\": {\"outlinewidth\": 0, \"ticks\": \"\"}, \"type\": \"contourcarpet\"}], \"heatmap\": [{\"colorbar\": {\"outlinewidth\": 0, \"ticks\": \"\"}, \"colorscale\": [[0.0, \"#0d0887\"], [0.1111111111111111, \"#46039f\"], [0.2222222222222222, \"#7201a8\"], [0.3333333333333333, \"#9c179e\"], [0.4444444444444444, \"#bd3786\"], [0.5555555555555556, \"#d8576b\"], [0.6666666666666666, \"#ed7953\"], [0.7777777777777778, \"#fb9f3a\"], [0.8888888888888888, \"#fdca26\"], [1.0, \"#f0f921\"]], \"type\": \"heatmap\"}], \"heatmapgl\": [{\"colorbar\": {\"outlinewidth\": 0, \"ticks\": \"\"}, \"colorscale\": [[0.0, \"#0d0887\"], [0.1111111111111111, \"#46039f\"], [0.2222222222222222, \"#7201a8\"], [0.3333333333333333, \"#9c179e\"], [0.4444444444444444, \"#bd3786\"], [0.5555555555555556, \"#d8576b\"], [0.6666666666666666, \"#ed7953\"], [0.7777777777777778, \"#fb9f3a\"], [0.8888888888888888, \"#fdca26\"], [1.0, \"#f0f921\"]], \"type\": \"heatmapgl\"}], \"histogram\": [{\"marker\": {\"colorbar\": {\"outlinewidth\": 0, \"ticks\": \"\"}}, \"type\": \"histogram\"}], \"histogram2d\": [{\"colorbar\": {\"outlinewidth\": 0, \"ticks\": \"\"}, \"colorscale\": [[0.0, \"#0d0887\"], [0.1111111111111111, \"#46039f\"], [0.2222222222222222, \"#7201a8\"], [0.3333333333333333, \"#9c179e\"], [0.4444444444444444, \"#bd3786\"], [0.5555555555555556, \"#d8576b\"], [0.6666666666666666, \"#ed7953\"], [0.7777777777777778, \"#fb9f3a\"], [0.8888888888888888, \"#fdca26\"], [1.0, \"#f0f921\"]], \"type\": \"histogram2d\"}], \"histogram2dcontour\": [{\"colorbar\": {\"outlinewidth\": 0, \"ticks\": \"\"}, \"colorscale\": [[0.0, \"#0d0887\"], [0.1111111111111111, \"#46039f\"], [0.2222222222222222, \"#7201a8\"], [0.3333333333333333, \"#9c179e\"], [0.4444444444444444, \"#bd3786\"], [0.5555555555555556, \"#d8576b\"], [0.6666666666666666, \"#ed7953\"], [0.7777777777777778, \"#fb9f3a\"], [0.8888888888888888, \"#fdca26\"], [1.0, \"#f0f921\"]], \"type\": \"histogram2dcontour\"}], \"mesh3d\": [{\"colorbar\": {\"outlinewidth\": 0, \"ticks\": \"\"}, \"type\": \"mesh3d\"}], \"parcoords\": [{\"line\": {\"colorbar\": {\"outlinewidth\": 0, \"ticks\": \"\"}}, \"type\": \"parcoords\"}], \"pie\": [{\"automargin\": true, \"type\": \"pie\"}], \"scatter\": [{\"marker\": {\"colorbar\": {\"outlinewidth\": 0, \"ticks\": \"\"}}, \"type\": \"scatter\"}], \"scatter3d\": [{\"line\": {\"colorbar\": {\"outlinewidth\": 0, \"ticks\": \"\"}}, \"marker\": {\"colorbar\": {\"outlinewidth\": 0, \"ticks\": \"\"}}, \"type\": \"scatter3d\"}], \"scattercarpet\": [{\"marker\": {\"colorbar\": {\"outlinewidth\": 0, \"ticks\": \"\"}}, \"type\": \"scattercarpet\"}], \"scattergeo\": [{\"marker\": {\"colorbar\": {\"outlinewidth\": 0, \"ticks\": \"\"}}, \"type\": \"scattergeo\"}], \"scattergl\": [{\"marker\": {\"colorbar\": {\"outlinewidth\": 0, \"ticks\": \"\"}}, \"type\": \"scattergl\"}], \"scattermapbox\": [{\"marker\": {\"colorbar\": {\"outlinewidth\": 0, \"ticks\": \"\"}}, \"type\": \"scattermapbox\"}], \"scatterpolar\": [{\"marker\": {\"colorbar\": {\"outlinewidth\": 0, \"ticks\": \"\"}}, \"type\": \"scatterpolar\"}], \"scatterpolargl\": [{\"marker\": {\"colorbar\": {\"outlinewidth\": 0, \"ticks\": \"\"}}, \"type\": \"scatterpolargl\"}], \"scatterternary\": [{\"marker\": {\"colorbar\": {\"outlinewidth\": 0, \"ticks\": \"\"}}, \"type\": \"scatterternary\"}], \"surface\": [{\"colorbar\": {\"outlinewidth\": 0, \"ticks\": \"\"}, \"colorscale\": [[0.0, \"#0d0887\"], [0.1111111111111111, \"#46039f\"], [0.2222222222222222, \"#7201a8\"], [0.3333333333333333, \"#9c179e\"], [0.4444444444444444, \"#bd3786\"], [0.5555555555555556, \"#d8576b\"], [0.6666666666666666, \"#ed7953\"], [0.7777777777777778, \"#fb9f3a\"], [0.8888888888888888, \"#fdca26\"], [1.0, \"#f0f921\"]], \"type\": \"surface\"}], \"table\": [{\"cells\": {\"fill\": {\"color\": \"#EBF0F8\"}, \"line\": {\"color\": \"white\"}}, \"header\": {\"fill\": {\"color\": \"#C8D4E3\"}, \"line\": {\"color\": \"white\"}}, \"type\": \"table\"}]}, \"layout\": {\"annotationdefaults\": {\"arrowcolor\": \"#2a3f5f\", \"arrowhead\": 0, \"arrowwidth\": 1}, \"coloraxis\": {\"colorbar\": {\"outlinewidth\": 0, \"ticks\": \"\"}}, \"colorscale\": {\"diverging\": [[0, \"#8e0152\"], [0.1, \"#c51b7d\"], [0.2, \"#de77ae\"], [0.3, \"#f1b6da\"], [0.4, \"#fde0ef\"], [0.5, \"#f7f7f7\"], [0.6, \"#e6f5d0\"], [0.7, \"#b8e186\"], [0.8, \"#7fbc41\"], [0.9, \"#4d9221\"], [1, \"#276419\"]], \"sequential\": [[0.0, \"#0d0887\"], [0.1111111111111111, \"#46039f\"], [0.2222222222222222, \"#7201a8\"], [0.3333333333333333, \"#9c179e\"], [0.4444444444444444, \"#bd3786\"], [0.5555555555555556, \"#d8576b\"], [0.6666666666666666, \"#ed7953\"], [0.7777777777777778, \"#fb9f3a\"], [0.8888888888888888, \"#fdca26\"], [1.0, \"#f0f921\"]], \"sequentialminus\": [[0.0, \"#0d0887\"], [0.1111111111111111, \"#46039f\"], [0.2222222222222222, \"#7201a8\"], [0.3333333333333333, \"#9c179e\"], [0.4444444444444444, \"#bd3786\"], [0.5555555555555556, \"#d8576b\"], [0.6666666666666666, \"#ed7953\"], [0.7777777777777778, \"#fb9f3a\"], [0.8888888888888888, \"#fdca26\"], [1.0, \"#f0f921\"]]}, \"colorway\": [\"#636efa\", \"#EF553B\", \"#00cc96\", \"#ab63fa\", \"#FFA15A\", \"#19d3f3\", \"#FF6692\", \"#B6E880\", \"#FF97FF\", \"#FECB52\"], \"font\": {\"color\": \"#2a3f5f\"}, \"geo\": {\"bgcolor\": \"white\", \"lakecolor\": \"white\", \"landcolor\": \"#E5ECF6\", \"showlakes\": true, \"showland\": true, \"subunitcolor\": \"white\"}, \"hoverlabel\": {\"align\": \"left\"}, \"hovermode\": \"closest\", \"mapbox\": {\"style\": \"light\"}, \"paper_bgcolor\": \"white\", \"plot_bgcolor\": \"#E5ECF6\", \"polar\": {\"angularaxis\": {\"gridcolor\": \"white\", \"linecolor\": \"white\", \"ticks\": \"\"}, \"bgcolor\": \"#E5ECF6\", \"radialaxis\": {\"gridcolor\": \"white\", \"linecolor\": \"white\", \"ticks\": \"\"}}, \"scene\": {\"xaxis\": {\"backgroundcolor\": \"#E5ECF6\", \"gridcolor\": \"white\", \"gridwidth\": 2, \"linecolor\": \"white\", \"showbackground\": true, \"ticks\": \"\", \"zerolinecolor\": \"white\"}, \"yaxis\": {\"backgroundcolor\": \"#E5ECF6\", \"gridcolor\": \"white\", \"gridwidth\": 2, \"linecolor\": \"white\", \"showbackground\": true, \"ticks\": \"\", \"zerolinecolor\": \"white\"}, \"zaxis\": {\"backgroundcolor\": \"#E5ECF6\", \"gridcolor\": \"white\", \"gridwidth\": 2, \"linecolor\": \"white\", \"showbackground\": true, \"ticks\": \"\", \"zerolinecolor\": \"white\"}}, \"shapedefaults\": {\"line\": {\"color\": \"#2a3f5f\"}}, \"ternary\": {\"aaxis\": {\"gridcolor\": \"white\", \"linecolor\": \"white\", \"ticks\": \"\"}, \"baxis\": {\"gridcolor\": \"white\", \"linecolor\": \"white\", \"ticks\": \"\"}, \"bgcolor\": \"#E5ECF6\", \"caxis\": {\"gridcolor\": \"white\", \"linecolor\": \"white\", \"ticks\": \"\"}}, \"title\": {\"x\": 0.05}, \"xaxis\": {\"automargin\": true, \"gridcolor\": \"white\", \"linecolor\": \"white\", \"ticks\": \"\", \"title\": {\"standoff\": 15}, \"zerolinecolor\": \"white\", \"zerolinewidth\": 2}, \"yaxis\": {\"automargin\": true, \"gridcolor\": \"white\", \"linecolor\": \"white\", \"ticks\": \"\", \"title\": {\"standoff\": 15}, \"zerolinecolor\": \"white\", \"zerolinewidth\": 2}}}, \"xaxis\": {\"anchor\": \"y\", \"domain\": [0.0, 1.0], \"title\": {\"text\": \"Spending Score\"}}, \"yaxis\": {\"anchor\": \"x\", \"domain\": [0.0, 1.0], \"title\": {\"text\": \"label\"}}},\n",
              "                        {\"responsive\": true}\n",
              "                    ).then(function(){\n",
              "                            \n",
              "var gd = document.getElementById('9e1451bd-348f-498b-bbe8-8cfe8265f87e');\n",
              "var x = new MutationObserver(function (mutations, observer) {{\n",
              "        var display = window.getComputedStyle(gd).display;\n",
              "        if (!display || display === 'none') {{\n",
              "            console.log([gd, 'removed!']);\n",
              "            Plotly.purge(gd);\n",
              "            observer.disconnect();\n",
              "        }}\n",
              "}});\n",
              "\n",
              "// Listen for the removal of the full notebook cells\n",
              "var notebookContainer = gd.closest('#notebook-container');\n",
              "if (notebookContainer) {{\n",
              "    x.observe(notebookContainer, {childList: true});\n",
              "}}\n",
              "\n",
              "// Listen for the clearing of the current output cell\n",
              "var outputEl = gd.closest('.output');\n",
              "if (outputEl) {{\n",
              "    x.observe(outputEl, {childList: true});\n",
              "}}\n",
              "\n",
              "                        })\n",
              "                };\n",
              "                \n",
              "            </script>\n",
              "        </div>\n",
              "</body>\n",
              "</html>"
            ]
          },
          "metadata": {
            "tags": []
          }
        }
      ]
    },
    {
      "cell_type": "markdown",
      "metadata": {
        "id": "vKKyG8tpfax4"
      },
      "source": [
        "#### **Insight**"
      ]
    },
    {
      "cell_type": "markdown",
      "metadata": {
        "id": "wMuPF890dc2F"
      },
      "source": [
        "Berdasarkan hasil klasterisasi dengan menggunakan K-Means, didapatkan **6** buah klaster dengan setiap klaster menunjukan karakteristik sebagai berikut:\n",
        "\n",
        "**Cluster 0**: Terdapat 45 objek data yang termasuk dalam klaster ini. Mayoritas pelanggan pada klaster ini berjenis kelamin wanita. Rentang usia pelanggan pada klaster ini adalah 43-70 tahun. Rentang pendapatan pertaun pelanggan pada klaster ini adalah 3800-79000 dollar. Spending Score pelanggan pada klaster ini berada pada rentang 35-60. Sehingga klaster ini dapat disimpulkan memiliki karakteristik sebagai berikut:\n",
        "\n",
        "* Female Majority\n",
        "* Adult-Senior Group Age\n",
        "* Medium Annual Income\n",
        "* Medium Spending Score\n",
        "\n",
        "**Cluster 1**: Terdapat 39 objek data yang termasuk dalam klaster ini. Mayoritas pelanggan pada klaster ini berjenis kelamin wanita. Rentang usia pelanggan pada klaster ini adalah 27-40 tahun. Rentang pendapatan pertaun pelanggan pada klaster ini adalah 6900-137000 dollar. Spending Score pelanggan pada klaster ini berada pada rentang 63-97. Sehingga klaster ini dapat disimpulkan memiliki karakteristik sebagai berikut:\n",
        "\n",
        "* Female Majority\n",
        "* Adult Group Age\n",
        "* High Annual Income\n",
        "* High Spending Score\n",
        "\n",
        "**Cluster 2**: Terdapat 38 objek data yang termasuk dalam klaster ini. Mayoritas pelanggan pada klaster ini berjenis kelamin laki-laki. Rentang usia pelanggan pada klaster ini adalah 19-59 tahun. Rentang pendapatan pertaun pelanggan pada klaster ini adalah 7100-137000 dollar. Spending Score pelanggan pada klaster ini berada pada rentang 1-39. Sehingga klaster ini dapat disimpulkan memiliki karakteristik sebagai berikut:\n",
        "\n",
        "* Male Majority\n",
        "* Youth-Adult Group Age\n",
        "* High Annual Income\n",
        "* Low Spending Score\n",
        "\n",
        "**Cluster 3**: Terdapat 34 objek data yang termasuk dalam klaster ini. Mayoritas pelanggan pada klaster ini berjenis kelamin wanita. Rentang usia pelanggan pada klaster ini adalah 18-35 tahun. Rentang pendapatan pertaun pelanggan pada klaster ini adalah 1500-39000 dollar. Spending Score pelanggan pada klaster ini berada pada rentang 39-99. Sehingga klaster ini dapat disimpulkan memiliki karakteristik sebagai berikut:\n",
        "\n",
        "* Female Majority\n",
        "* Youth-Adult Group Age\n",
        "* Low Annual Income\n",
        "* High Spending Score\n",
        "\n",
        "**Cluster 4**: Terdapat 23 objek data yang termasuk dalam klaster ini. Mayoritas pelanggan pada klaster ini berjenis kelamin wanita. Rentang usia pelanggan pada klaster ini adalah 20-67 tahun. Rentang pendapatan pertaun pelanggan pada klaster ini adalah 1600-39000 dollar. Spending Score pelanggan pada klaster ini berada pada rentang 3-40. Sehingga klaster ini dapat disimpulkan memiliki karakteristik sebagai berikut:\n",
        "\n",
        "* Female Majority\n",
        "* Youth-Senior Group Age\n",
        "* Low Annual Income\n",
        "* High Spending Score\n",
        "\n",
        "**Cluster 5**: Terdapat 21 objek data yang termasuk dalam klaster ini. Mayoritas pelanggan pada klaster ini berjenis kelamin wanita. Rentang usia pelanggan pada klaster ini adalah 18-40 tahun. Rentang pendapatan pertaun pelanggan pada klaster ini adalah 3900-76000 dollar. Spending Score pelanggan pada klaster ini berada pada rentang 29-61. Sehingga klaster ini dapat disimpulkan memiliki karakteristik sebagai berikut:\n",
        "\n",
        "* Female Majority\n",
        "* Youth-Adult Group Age\n",
        "* Medium Annual Income\n",
        "* Medium Spending Score"
      ]
    }
  ]
}